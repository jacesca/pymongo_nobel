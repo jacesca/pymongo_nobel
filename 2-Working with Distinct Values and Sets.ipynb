{
 "cells": [
  {
   "cell_type": "markdown",
   "id": "5e047240-ea06-4e5b-99b8-1853ea1f646c",
   "metadata": {},
   "source": [
    "# 2. Working with Distinct Values and Sets"
   ]
  },
  {
   "cell_type": "code",
   "execution_count": 1,
   "id": "70e76634-94b4-406c-af5d-3b2085bae430",
   "metadata": {},
   "outputs": [],
   "source": [
    "# Importing libraries\n",
    "import re\n",
    "\n",
    "from pymongo import MongoClient\n",
    "from pprint import pprint\n",
    "\n",
    "from bson.regex import Regex"
   ]
  },
  {
   "cell_type": "code",
   "execution_count": 2,
   "id": "d3790e1a-6465-471a-af21-ec5186b0610c",
   "metadata": {},
   "outputs": [],
   "source": [
    "# Instantiating the mongodb client\n",
    "client = MongoClient()\n",
    "\n",
    "# Create local \"nobel\" database on the fly\n",
    "db = client[\"nobel\"]"
   ]
  },
  {
   "cell_type": "markdown",
   "id": "f95c934c-36da-4233-8981-2e95e2214933",
   "metadata": {},
   "source": [
    "## 2.1 Survey Distinct Values"
   ]
  },
  {
   "cell_type": "code",
   "execution_count": 3,
   "id": "2ff800cc-a2b3-4376-b804-de85d69847ff",
   "metadata": {},
   "outputs": [
    {
     "name": "stdout",
     "output_type": "stream",
     "text": [
      "{'_id': ObjectId('6706d88371ea025ecc3510a4'),\n",
      " 'born': '0000-00-00',\n",
      " 'died': '0000-00-00',\n",
      " 'firstname': 'Comité international de la Croix Rouge (International Committee '\n",
      "              'of the Red Cross)',\n",
      " 'gender': 'org',\n",
      " 'id': '482',\n",
      " 'prizes': [{'affiliations': [[]],\n",
      "             'category': 'peace',\n",
      "             'share': '1',\n",
      "             'year': '1917'},\n",
      "            {'affiliations': [[]],\n",
      "             'category': 'peace',\n",
      "             'share': '1',\n",
      "             'year': '1944'},\n",
      "            {'affiliations': [[]],\n",
      "             'category': 'peace',\n",
      "             'share': '2',\n",
      "             'year': '1963'}]}\n"
     ]
    }
   ],
   "source": [
    "# Laureate with at least 3 prizes\n",
    "pprint(db.laureates.find_one({\"prizes.2\": {\"$exists\": True}}))"
   ]
  },
  {
   "cell_type": "markdown",
   "id": "81f94905-b842-49bf-93ca-6109b835c990",
   "metadata": {},
   "source": [
    "### Using .distinct()"
   ]
  },
  {
   "cell_type": "code",
   "execution_count": 4,
   "id": "752b132d-84dd-426e-be93-473da746dcb8",
   "metadata": {},
   "outputs": [
    {
     "data": {
      "text/plain": [
       "['female', 'male', 'org']"
      ]
     },
     "execution_count": 4,
     "metadata": {},
     "output_type": "execute_result"
    }
   ],
   "source": [
    "db.laureates.distinct(\"gender\")"
   ]
  },
  {
   "cell_type": "markdown",
   "id": "a45e19d4-3619-4fbb-a983-05db5fcf2548",
   "metadata": {},
   "source": [
    "### .distinct() with dot notation"
   ]
  },
  {
   "cell_type": "code",
   "execution_count": 5,
   "id": "1919855c-5eab-4187-887a-06b89576b526",
   "metadata": {},
   "outputs": [
    {
     "data": {
      "text/plain": [
       "['chemistry', 'economics', 'literature', 'medicine', 'peace', 'physics']"
      ]
     },
     "execution_count": 5,
     "metadata": {},
     "output_type": "execute_result"
    }
   ],
   "source": [
    "db.laureates.distinct(\"prizes.category\")"
   ]
  },
  {
   "cell_type": "markdown",
   "id": "9d0ff7ca-9c66-453c-ad14-5d666863bbd4",
   "metadata": {},
   "source": [
    "### Excercises"
   ]
  },
  {
   "cell_type": "code",
   "execution_count": 6,
   "id": "d987487d-8854-4407-9a09-c1db5e91170e",
   "metadata": {},
   "outputs": [
    {
     "name": "stdout",
     "output_type": "stream",
     "text": [
      "['chemistry', 'economics', 'literature', 'medicine', 'peace', 'physics']\n"
     ]
    },
    {
     "data": {
      "text/plain": [
       "True"
      ]
     },
     "execution_count": 6,
     "metadata": {},
     "output_type": "execute_result"
    }
   ],
   "source": [
    "# Are the distinct Nobel Prize categories cataloged \n",
    "# by the \"prizes\" collection, the same as those\n",
    "# cataloged by the \"laureates\"?\n",
    "print(db.prizes.distinct(\"category\"))\n",
    "set(db.laureates.distinct(\"prizes.category\")) == set(db.prizes.distinct(\"category\"))"
   ]
  },
  {
   "cell_type": "code",
   "execution_count": 7,
   "id": "4503d56c-7a67-4fd7-a459-a189f76e6f44",
   "metadata": {},
   "outputs": [
    {
     "data": {
      "text/plain": [
       "{'_id': ObjectId('6706d88371ea025ecc350d20'),\n",
       " 'year': '2018',\n",
       " 'category': 'physics',\n",
       " 'overallMotivation': '“for groundbreaking inventions in the field of laser physics”',\n",
       " 'laureates': [{'id': '960',\n",
       "   'firstname': 'Arthur',\n",
       "   'surname': 'Ashkin',\n",
       "   'motivation': '\"for the optical tweezers and their application to biological systems\"',\n",
       "   'share': '2'},\n",
       "  {'id': '961',\n",
       "   'firstname': 'Gérard',\n",
       "   'surname': 'Mourou',\n",
       "   'motivation': '\"for their method of generating high-intensity, ultra-short optical pulses\"',\n",
       "   'share': '4'},\n",
       "  {'id': '962',\n",
       "   'firstname': 'Donna',\n",
       "   'surname': 'Strickland',\n",
       "   'motivation': '\"for their method of generating high-intensity, ultra-short optical pulses\"',\n",
       "   'share': '4'}]}"
      ]
     },
     "execution_count": 7,
     "metadata": {},
     "output_type": "execute_result"
    }
   ],
   "source": [
    "db.prizes.find_one({})"
   ]
  },
  {
   "cell_type": "code",
   "execution_count": 8,
   "id": "75f7a9d0-0742-4be9-a94d-a449cb727fd7",
   "metadata": {},
   "outputs": [
    {
     "name": "stdout",
     "output_type": "stream",
     "text": [
      "{'Barbados',\n",
      " 'Czechoslovakia',\n",
      " 'East Germany',\n",
      " 'Gabon',\n",
      " 'Greece',\n",
      " 'Israel',\n",
      " 'Jamaica',\n",
      " 'Northern Rhodesia (now Zambia)',\n",
      " 'Philippines',\n",
      " 'Puerto Rico',\n",
      " 'Tunisia',\n",
      " 'USSR',\n",
      " 'Yugoslavia (now Serbia)'}\n"
     ]
    }
   ],
   "source": [
    "# Countries recorded as countries of death but not as countries of birth\n",
    "countries = (set(db.laureates.distinct('diedCountry')) \n",
    "             - set(db.laureates.distinct('bornCountry')))\n",
    "pprint(countries)"
   ]
  },
  {
   "cell_type": "code",
   "execution_count": 9,
   "id": "d3fe6ead-c554-4e00-b83c-a52726ada143",
   "metadata": {},
   "outputs": [
    {
     "name": "stdout",
     "output_type": "stream",
     "text": [
      "29\n"
     ]
    }
   ],
   "source": [
    "# The number of distinct countries of laureate affiliation for prizes\n",
    "count = len(db.laureates.distinct('prizes.affiliations.country'))\n",
    "print(count)"
   ]
  },
  {
   "cell_type": "markdown",
   "id": "3c3a59be-b04d-4854-908d-f5fb13043a8c",
   "metadata": {},
   "source": [
    "## 2.2 Distinct Values Given Filters"
   ]
  },
  {
   "cell_type": "code",
   "execution_count": 10,
   "id": "18e7454d-6d6c-4237-81b4-f205209501a0",
   "metadata": {},
   "outputs": [
    {
     "name": "stdout",
     "output_type": "stream",
     "text": [
      "{'_id': ObjectId('6706d88371ea025ecc350f7c'),\n",
      " 'born': '1936-01-10',\n",
      " 'bornCity': 'Houston, TX',\n",
      " 'bornCountry': 'USA',\n",
      " 'bornCountryCode': 'US',\n",
      " 'died': '0000-00-00',\n",
      " 'firstname': 'Robert Woodrow',\n",
      " 'gender': 'male',\n",
      " 'id': '112',\n",
      " 'prizes': [{'affiliations': [{'city': 'Holmdel, NJ',\n",
      "                               'country': 'USA',\n",
      "                               'name': 'Bell Laboratories'}],\n",
      "             'category': 'physics',\n",
      "             'motivation': '\"for their discovery of cosmic microwave '\n",
      "                           'background radiation\"',\n",
      "             'share': '4',\n",
      "             'year': '1978'}],\n",
      " 'surname': 'Wilson'}\n"
     ]
    }
   ],
   "source": [
    "# Reviewing data\n",
    "pprint(db.laureates.find_one({\"prizes.share\": \"4\"}))"
   ]
  },
  {
   "cell_type": "markdown",
   "id": "95d13ac9-b335-45f0-9fb2-d44768da11ff",
   "metadata": {},
   "source": [
    "### Finding Unique Values"
   ]
  },
  {
   "cell_type": "code",
   "execution_count": 11,
   "id": "35d70c50-eb16-44af-b2ab-f680a8864f7f",
   "metadata": {},
   "outputs": [
    {
     "data": {
      "text/plain": [
       "['chemistry', 'economics', 'literature', 'medicine', 'peace', 'physics']"
      ]
     },
     "execution_count": 11,
     "metadata": {},
     "output_type": "execute_result"
    }
   ],
   "source": [
    "# Finding unique categories\n",
    "db.laureates.distinct(\"prizes.category\")"
   ]
  },
  {
   "cell_type": "markdown",
   "id": "a6bb96b1-9824-46d3-8ab0-3eeb1e887e1c",
   "metadata": {},
   "source": [
    "### Filtering"
   ]
  },
  {
   "cell_type": "code",
   "execution_count": 12,
   "id": "c0096aa9-d9ab-4379-9cf1-389cbd4f3a15",
   "metadata": {},
   "outputs": [
    {
     "name": "stdout",
     "output_type": "stream",
     "text": [
      "66\n",
      "[{'_id': ObjectId('6706d88371ea025ecc350f7c'),\n",
      "  'born': '1936-01-10',\n",
      "  'bornCity': 'Houston, TX',\n",
      "  'bornCountry': 'USA',\n",
      "  'bornCountryCode': 'US',\n",
      "  'died': '0000-00-00',\n",
      "  'firstname': 'Robert Woodrow',\n",
      "  'gender': 'male',\n",
      "  'id': '112',\n",
      "  'prizes': [{'affiliations': [{'city': 'Holmdel, NJ',\n",
      "                                'country': 'USA',\n",
      "                                'name': 'Bell Laboratories'}],\n",
      "              'category': 'physics',\n",
      "              'motivation': '\"for their discovery of cosmic microwave '\n",
      "                            'background radiation\"',\n",
      "              'share': '4',\n",
      "              'year': '1978'}],\n",
      "  'surname': 'Wilson'},\n",
      " {'_id': ObjectId('6706d88371ea025ecc350f81'),\n",
      "  'born': '1947-07-20',\n",
      "  'bornCity': 'Frankfurt-on-the-Main',\n",
      "  'bornCountry': 'West Germany (now Germany)',\n",
      "  'bornCountryCode': 'DE',\n",
      "  'died': '0000-00-00',\n",
      "  'firstname': 'Gerd',\n",
      "  'gender': 'male',\n",
      "  'id': '128',\n",
      "  'prizes': [{'affiliations': [{'city': 'Rüschlikon',\n",
      "                                'country': 'Switzerland',\n",
      "                                'name': 'IBM Zurich Research Laboratory'}],\n",
      "              'category': 'physics',\n",
      "              'motivation': '\"for their design of the scanning tunneling '\n",
      "                            'microscope\"',\n",
      "              'share': '4',\n",
      "              'year': '1986'}],\n",
      "  'surname': 'Binnig'}]\n"
     ]
    }
   ],
   "source": [
    "share_gte_4 = list(db.laureates.find({\"prizes.share\": \"4\"}))\n",
    "print(len(share_gte_4))\n",
    "pprint(share_gte_4[:2])"
   ]
  },
  {
   "cell_type": "markdown",
   "id": "9350d098-ad0f-41bb-9499-cbf74fb24521",
   "metadata": {},
   "source": [
    "### All together: Filtering and Finding Unique Values"
   ]
  },
  {
   "cell_type": "code",
   "execution_count": 13,
   "id": "320c2262-1049-4b75-b856-7d66797c07f1",
   "metadata": {},
   "outputs": [
    {
     "data": {
      "text/plain": [
       "['chemistry', 'medicine', 'physics']"
      ]
     },
     "execution_count": 13,
     "metadata": {},
     "output_type": "execute_result"
    }
   ],
   "source": [
    "db.laureates.distinct(\n",
    "    \"prizes.category\", \n",
    "    {\"prizes.share\": '4'}\n",
    ")"
   ]
  },
  {
   "cell_type": "code",
   "execution_count": 14,
   "id": "5ed42616-5dfb-41dd-bb24-12310eca71e2",
   "metadata": {},
   "outputs": [
    {
     "data": {
      "text/plain": [
       "['chemistry', 'medicine', 'physics']"
      ]
     },
     "execution_count": 14,
     "metadata": {},
     "output_type": "execute_result"
    }
   ],
   "source": [
    "db.prizes.distinct(\n",
    "    \"category\", \n",
    "    {\"laureates.share\": \"4\"}\n",
    ")"
   ]
  },
  {
   "cell_type": "code",
   "execution_count": 15,
   "id": "66d60181-abf2-4b1b-9d41-9bb42ee9b491",
   "metadata": {},
   "outputs": [
    {
     "data": {
      "text/plain": [
       "6"
      ]
     },
     "execution_count": 15,
     "metadata": {},
     "output_type": "execute_result"
    }
   ],
   "source": [
    "# Prize categories with multi-winners\n",
    "# Laureates with more than 1 prize\n",
    "db.laureates.count_documents({\"prizes.1\": {\"$exists\": True}})"
   ]
  },
  {
   "cell_type": "code",
   "execution_count": 16,
   "id": "57e4eaa6-e03a-4631-a827-2b6e46ff037e",
   "metadata": {},
   "outputs": [
    {
     "data": {
      "text/plain": [
       "['chemistry', 'peace', 'physics']"
      ]
     },
     "execution_count": 16,
     "metadata": {},
     "output_type": "execute_result"
    }
   ],
   "source": [
    "db.laureates.distinct(\n",
    "    \"prizes.category\", \n",
    "    {\"prizes.1\": {\"$exists\": True}}\n",
    ")"
   ]
  },
  {
   "cell_type": "markdown",
   "id": "b7f874bf-b723-4938-a082-d9e0105b5643",
   "metadata": {},
   "source": [
    "### Excercises"
   ]
  },
  {
   "cell_type": "code",
   "execution_count": 17,
   "id": "78710924-8470-4c14-89b2-e77a5c978dda",
   "metadata": {},
   "outputs": [
    {
     "data": {
      "text/plain": [
       "['Australia', 'Denmark', 'USA', 'United Kingdom']"
      ]
     },
     "execution_count": 17,
     "metadata": {},
     "output_type": "execute_result"
    }
   ],
   "source": [
    "# In which countries have USA-born laureates had affiliations for their prizes?\n",
    "db.laureates.distinct(\"prizes.affiliations.country\",\n",
    "{'bornCountry': 'USA' })"
   ]
  },
  {
   "cell_type": "code",
   "execution_count": 18,
   "id": "9de91ef6-beab-4fd9-b8d4-985067afebbf",
   "metadata": {},
   "outputs": [
    {
     "name": "stdout",
     "output_type": "stream",
     "text": [
      "{'physics', 'medicine', 'peace', 'chemistry', 'economics'}\n"
     ]
    }
   ],
   "source": [
    "# Returns all prize categories shared by three or more laureates\n",
    "criteria = {'laureates.2': {\"$exists\": True}}\n",
    "triple_play_categories = set(db.prizes.distinct('category', criteria))\n",
    "print(triple_play_categories)\n",
    "\n",
    "# Confirm literature as the only category not satisfying the criteria.\n",
    "assert set(db.prizes.distinct('category')) - triple_play_categories == {'literature'}"
   ]
  },
  {
   "cell_type": "markdown",
   "id": "227e059b-6653-480a-9971-6c997f53abb9",
   "metadata": {},
   "source": [
    "## 2.3 Filter Arrays using Distinct Values\n",
    "\n",
    "### Reviewing laureates data"
   ]
  },
  {
   "cell_type": "code",
   "execution_count": 19,
   "id": "dfebca58-f4a3-4c74-a954-e0552c92c4f9",
   "metadata": {},
   "outputs": [
    {
     "name": "stdout",
     "output_type": "stream",
     "text": [
      "{'_id': ObjectId('6706d88371ea025ecc350f6e'),\n",
      " 'born': '1853-07-18',\n",
      " 'bornCity': 'Arnhem',\n",
      " 'bornCountry': 'the Netherlands',\n",
      " 'bornCountryCode': 'NL',\n",
      " 'died': '1928-02-04',\n",
      " 'diedCountry': 'the Netherlands',\n",
      " 'diedCountryCode': 'NL',\n",
      " 'firstname': 'Hendrik Antoon',\n",
      " 'gender': 'male',\n",
      " 'id': '2',\n",
      " 'prizes': [{'affiliations': [{'city': 'Leiden',\n",
      "                               'country': 'the Netherlands',\n",
      "                               'name': 'Leiden University'}],\n",
      "             'category': 'physics',\n",
      "             'motivation': '\"in recognition of the extraordinary service they '\n",
      "                           'rendered by their researches into the influence of '\n",
      "                           'magnetism upon radiation phenomena\"',\n",
      "             'share': '2',\n",
      "             'year': '1902'}],\n",
      " 'surname': 'Lorentz'}\n"
     ]
    }
   ],
   "source": [
    "pprint(db.laureates.find_one({}))"
   ]
  },
  {
   "cell_type": "markdown",
   "id": "e3bc9faa-502e-40af-b099-b55bfb9641cf",
   "metadata": {},
   "source": [
    "### Array fields and operators"
   ]
  },
  {
   "cell_type": "code",
   "execution_count": 20,
   "id": "1d5a89ee-3eb6-48ec-a9a6-f905fd0dad15",
   "metadata": {},
   "outputs": [
    {
     "data": {
      "text/plain": [
       "209"
      ]
     },
     "execution_count": 20,
     "metadata": {},
     "output_type": "execute_result"
    }
   ],
   "source": [
    "# count laureates with a prize category equal to physics\n",
    "db.laureates.count_documents({\"prizes.category\": \"physics\"})"
   ]
  },
  {
   "cell_type": "code",
   "execution_count": 21,
   "id": "0bd6610c-310f-457a-abc5-1e1bfdf9b704",
   "metadata": {},
   "outputs": [
    {
     "data": {
      "text/plain": [
       "725"
      ]
     },
     "execution_count": 21,
     "metadata": {},
     "output_type": "execute_result"
    }
   ],
   "source": [
    "# count laureates with a prize not in physics\n",
    "db.laureates.count_documents({\"prizes.category\": {\"$ne\": \"physics\"}})"
   ]
  },
  {
   "cell_type": "code",
   "execution_count": 22,
   "id": "62e57f92-ecb8-490e-ab61-89df57dce6d3",
   "metadata": {},
   "outputs": [
    {
     "data": {
      "text/plain": [
       "604"
      ]
     },
     "execution_count": 22,
     "metadata": {},
     "output_type": "execute_result"
    }
   ],
   "source": [
    "# count laureates with at least one prize in these three categories\n",
    "db.laureates.count_documents({\n",
    "    \"prizes.category\": {\n",
    "        \"$in\": [\"physics\", \"chemistry\", \"medicine\"]\n",
    "    }\n",
    "})"
   ]
  },
  {
   "cell_type": "code",
   "execution_count": 23,
   "id": "8f625497-d185-4a08-9994-dd34cd2f81aa",
   "metadata": {},
   "outputs": [
    {
     "data": {
      "text/plain": [
       "330"
      ]
     },
     "execution_count": 23,
     "metadata": {},
     "output_type": "execute_result"
    }
   ],
   "source": [
    "# count laureates with at least one prize not in these three categories\n",
    "db.laureates.count_documents({\n",
    "    \"prizes.category\": {\n",
    "        \"$nin\": [\"physics\", \"chemistry\", \"medicine\"]\n",
    "    }\n",
    "})"
   ]
  },
  {
   "cell_type": "markdown",
   "id": "dd785822-f60d-4e5d-b6fc-0ac9275e65e0",
   "metadata": {},
   "source": [
    "### Enter $elemMatch"
   ]
  },
  {
   "cell_type": "code",
   "execution_count": 24,
   "id": "0292ab4d-2a08-4d71-8e8d-964f7d4e23dc",
   "metadata": {},
   "outputs": [
    {
     "data": {
      "text/plain": [
       "0"
      ]
     },
     "execution_count": 24,
     "metadata": {},
     "output_type": "execute_result"
    }
   ],
   "source": [
    "# we want to filter on more than one field within \n",
    "# a prize subdocument? \n",
    "# Let's try something like this to count laureates who won unshared prizes in physics. \n",
    "# Hmm, that's not quite what we want. This filter prize subdocuments that have two and \n",
    "# only two fields. \n",
    "# No laureates have a prize subdocument that looks exactly like this. \n",
    "# All prize subdocuments also have a year field, for instance.\n",
    "db.laureates.count_documents({\n",
    "    \"prizes\": {\n",
    "        \"category\": \"physics\", \"share\": \"1\"\n",
    "    }\n",
    "})"
   ]
  },
  {
   "cell_type": "code",
   "execution_count": 25,
   "id": "2a344578-d153-4ae7-8b38-5eee12efea3b",
   "metadata": {},
   "outputs": [
    {
     "data": {
      "text/plain": [
       "48"
      ]
     },
     "execution_count": 25,
     "metadata": {},
     "output_type": "execute_result"
    }
   ],
   "source": [
    "# it's not quite what we want. \n",
    "# This filter matches laureate documents satisfying two conditions. \n",
    "# The first is that a prizes field has at least one subdocument with \n",
    "# a \"category\" field equal to \"physics\". The second is that that a \n",
    "# prizes field has at least one subdocument with a \"share\" field equal to \"1\".\n",
    "# The prizes that match for a laureate could be different prizes.\n",
    "db.laureates.count_documents({\n",
    "    \"prizes.category\": \"physics\", \"prizes.share\": \"1\"\n",
    "})"
   ]
  },
  {
   "cell_type": "code",
   "execution_count": 26,
   "id": "742f84af-2f8d-4bef-a737-118ff82134b1",
   "metadata": {},
   "outputs": [
    {
     "name": "stdout",
     "output_type": "stream",
     "text": [
      "{'_id': ObjectId('6706d88371ea025ecc350f6e'),\n",
      " 'born': '1853-07-18',\n",
      " 'bornCity': 'Arnhem',\n",
      " 'bornCountry': 'the Netherlands',\n",
      " 'bornCountryCode': 'NL',\n",
      " 'died': '1928-02-04',\n",
      " 'diedCountry': 'the Netherlands',\n",
      " 'diedCountryCode': 'NL',\n",
      " 'firstname': 'Hendrik Antoon',\n",
      " 'gender': 'male',\n",
      " 'id': '2',\n",
      " 'prizes': [{'affiliations': [{'city': 'Leiden',\n",
      "                               'country': 'the Netherlands',\n",
      "                               'name': 'Leiden University'}],\n",
      "             'category': 'physics',\n",
      "             'motivation': '\"in recognition of the extraordinary service they '\n",
      "                           'rendered by their researches into the influence of '\n",
      "                           'magnetism upon radiation phenomena\"',\n",
      "             'share': '2',\n",
      "             'year': '1902'}],\n",
      " 'surname': 'Lorentz'}\n"
     ]
    }
   ],
   "source": [
    "pprint(db.laureates.find_one({}))"
   ]
  },
  {
   "cell_type": "code",
   "execution_count": 27,
   "id": "69e462c8-2a2e-438d-87cd-cd2db0514f76",
   "metadata": {},
   "outputs": [
    {
     "data": {
      "text/plain": [
       "47"
      ]
     },
     "execution_count": 27,
     "metadata": {},
     "output_type": "execute_result"
    }
   ],
   "source": [
    "# Finally, we count all laureates that have at least one unshared prize in physics. \n",
    "db.laureates.count_documents({\n",
    "    \"prizes\": {\n",
    "        \"$elemMatch\": {\n",
    "            \"category\": \"physics\", \n",
    "            \"share\": \"1\"\n",
    "        }\n",
    "    }\n",
    "})"
   ]
  },
  {
   "cell_type": "code",
   "execution_count": 28,
   "id": "fd225d9e-a9ee-4240-9ec9-b33610e8f509",
   "metadata": {},
   "outputs": [
    {
     "name": "stdout",
     "output_type": "stream",
     "text": [
      "{'_id': ObjectId('6706d88371ea025ecc350f7f'),\n",
      " 'born': '1943-06-28',\n",
      " 'bornCity': 'Schroda',\n",
      " 'bornCountry': 'German-occupied Poland (now Poland)',\n",
      " 'bornCountryCode': 'PL',\n",
      " 'died': '0000-00-00',\n",
      " 'firstname': 'Klaus',\n",
      " 'gender': 'male',\n",
      " 'id': '126',\n",
      " 'prizes': [{'affiliations': [{'city': 'Stuttgart',\n",
      "                               'country': 'Federal Republic of Germany',\n",
      "                               'name': 'Max-Planck-Institut für '\n",
      "                                       'Festkörperforschung'}],\n",
      "             'category': 'physics',\n",
      "             'motivation': '\"for the discovery of the quantized Hall effect\"',\n",
      "             'share': '1',\n",
      "             'year': '1985'}],\n",
      " 'surname': 'von Klitzing'}\n"
     ]
    }
   ],
   "source": [
    "pprint(db.laureates.find_one({\n",
    "    \"prizes\": {\n",
    "        \"$elemMatch\": {\n",
    "            \"category\": \"physics\", \n",
    "            \"share\": \"1\"\n",
    "        }\n",
    "    }\n",
    "}))"
   ]
  },
  {
   "cell_type": "code",
   "execution_count": 29,
   "id": "0c28fd18-9c60-415d-8289-e32d14246e46",
   "metadata": {},
   "outputs": [
    {
     "data": {
      "text/plain": [
       "29"
      ]
     },
     "execution_count": 29,
     "metadata": {},
     "output_type": "execute_result"
    }
   ],
   "source": [
    "# Within the \"elemMatch\" operation, as with any operation, \n",
    "# we can continue to drill down. Operations can nest to make \n",
    "# finer-grained queries. Here, we extend the last filter to \n",
    "# include laureates only if they won a solo prize in physics before 1945.\n",
    "db.laureates.count_documents({\n",
    "    \"prizes\": {\n",
    "        \"$elemMatch\": {\n",
    "            \"category\": \"physics\",\n",
    "            \"share\": \"1\",\n",
    "            \"year\": {\n",
    "                \"$lt\": \"1945\"\n",
    "            },\n",
    "        }\n",
    "    }\n",
    "})"
   ]
  },
  {
   "cell_type": "code",
   "execution_count": 30,
   "id": "7a7f0e34-f786-451f-a135-32901d72d3b2",
   "metadata": {},
   "outputs": [
    {
     "name": "stdout",
     "output_type": "stream",
     "text": [
      "{'_id': ObjectId('6706d88371ea025ecc350fae'),\n",
      " 'born': '1845-03-27',\n",
      " 'bornCity': 'Lennep (now Remscheid)',\n",
      " 'bornCountry': 'Prussia (now Germany)',\n",
      " 'bornCountryCode': 'DE',\n",
      " 'died': '1923-02-10',\n",
      " 'diedCity': 'Munich',\n",
      " 'diedCountry': 'Germany',\n",
      " 'diedCountryCode': 'DE',\n",
      " 'firstname': 'Wilhelm Conrad',\n",
      " 'gender': 'male',\n",
      " 'id': '1',\n",
      " 'prizes': [{'affiliations': [{'city': 'Munich',\n",
      "                               'country': 'Germany',\n",
      "                               'name': 'Munich University'}],\n",
      "             'category': 'physics',\n",
      "             'motivation': '\"in recognition of the extraordinary services he '\n",
      "                           'has rendered by the discovery of the remarkable '\n",
      "                           'rays subsequently named after him\"',\n",
      "             'share': '1',\n",
      "             'year': '1901'}],\n",
      " 'surname': 'Röntgen'}\n"
     ]
    }
   ],
   "source": [
    "pprint(db.laureates.find_one({\n",
    "    \"prizes\": {\n",
    "        \"$elemMatch\": {\n",
    "            \"category\": \"physics\",\n",
    "            \"share\": \"1\",\n",
    "            \"year\": {\n",
    "                \"$lt\": \"1945\"\n",
    "            },\n",
    "        }\n",
    "    }\n",
    "}))"
   ]
  },
  {
   "cell_type": "markdown",
   "id": "924914a6-aa46-4120-92dc-3e5f9fbd63cf",
   "metadata": {},
   "source": [
    "### Excercises"
   ]
  },
  {
   "cell_type": "code",
   "execution_count": 31,
   "id": "8fa7133d-55e8-4154-96ee-c644ecd449cc",
   "metadata": {},
   "outputs": [
    {
     "data": {
      "text/plain": [
       "19"
      ]
     },
     "execution_count": 31,
     "metadata": {},
     "output_type": "execute_result"
    }
   ],
   "source": [
    "# number of laureates who won a shared prize in physics before 1945.\n",
    "db.laureates.count_documents({\n",
    "    \"prizes\": {\n",
    "        \"$elemMatch\": {\n",
    "            \"category\": \"physics\",\n",
    "            \"share\": {\"$ne\": \"1\"},\n",
    "            \"year\": {\"$lt\": \"1945\"}\n",
    "        }\n",
    "    }\n",
    "})"
   ]
  },
  {
   "cell_type": "code",
   "execution_count": 32,
   "id": "6f9703dd-2d32-4c34-9f4a-4665d512825d",
   "metadata": {},
   "outputs": [
    {
     "data": {
      "text/plain": [
       "(18, 143, 0.1258741258741259)"
      ]
     },
     "execution_count": 32,
     "metadata": {},
     "output_type": "execute_result"
    }
   ],
   "source": [
    "# What is the approximate ratio of the number of laureates \n",
    "# who won an unshared ({\"share\": \"1\"}) prize in physics \n",
    "# after World War II ({\"year\": {\"$gte\": \"1945\"}}) to the \n",
    "# number of laureates who won a shared prize in physics after World War II?\n",
    "count_unshared = db.laureates.count_documents({\n",
    "    \"prizes\": {\n",
    "        \"$elemMatch\": {\n",
    "            \"category\": \"physics\",\n",
    "            \"share\": \"1\",\n",
    "            \"year\": {\"$gte\": \"1945\"}\n",
    "        }\n",
    "    }\n",
    "})\n",
    "count_shared = db.laureates.count_documents({\n",
    "    \"prizes\": {\n",
    "        \"$elemMatch\": {\n",
    "            \"category\": \"physics\",\n",
    "            \"share\": {\"$ne\": \"1\"},\n",
    "            \"year\": {\"$gte\": \"1945\"}\n",
    "        }\n",
    "    }\n",
    "})\n",
    "count_unshared, count_shared, count_unshared / count_shared"
   ]
  },
  {
   "cell_type": "code",
   "execution_count": 33,
   "id": "d06edbf9-ab75-42bc-9ecb-f28187af8a17",
   "metadata": {},
   "outputs": [
    {
     "name": "stdout",
     "output_type": "stream",
     "text": [
      "1.3653846153846154\n"
     ]
    }
   ],
   "source": [
    "# What is this ratio for prize categories other than physics, chemistry, and medicine?\n",
    "unshared = {\n",
    "    \"prizes\": {\"$elemMatch\": {\n",
    "        \"category\": {\"$nin\": [\"physics\", \"chemistry\", \"medicine\"]},\n",
    "        \"share\": \"1\",\n",
    "        \"year\": {\"$gte\": \"1945\"},\n",
    "    }}}\n",
    "\n",
    "shared = {\n",
    "    \"prizes\": {\"$elemMatch\": {\n",
    "        \"category\": {\"$nin\": [\"physics\", \"chemistry\", \"medicine\"]},\n",
    "        \"share\": {\"$ne\": \"1\"},\n",
    "        \"year\": {\"$gte\": \"1945\"},\n",
    "    }}}\n",
    "\n",
    "ratio = db.laureates.count_documents(unshared) / db.laureates.count_documents(shared)\n",
    "print(ratio)"
   ]
  },
  {
   "cell_type": "code",
   "execution_count": 34,
   "id": "faf9153c-f9be-45da-a0a1-d4505799b6af",
   "metadata": {},
   "outputs": [
    {
     "name": "stdout",
     "output_type": "stream",
     "text": [
      "0.84\n"
     ]
    }
   ],
   "source": [
    "# How many organizations won prizes before 1945 versus in or after 1945?\n",
    "before = {\n",
    "    \"gender\": \"org\",\n",
    "    \"prizes.year\": {\"$lt\": \"1945\"},\n",
    "}\n",
    "\n",
    "# Save a filter for organization laureates with prizes won in or after 1945\n",
    "in_or_after = {\n",
    "    \"gender\": \"org\",\n",
    "    \"prizes.year\": {\"$gte\": \"1945\"},\n",
    "}\n",
    "\n",
    "n_before = db.laureates.count_documents(before)\n",
    "n_in_or_after = db.laureates.count_documents(in_or_after)\n",
    "ratio = n_in_or_after / (n_in_or_after + n_before)\n",
    "print(ratio)"
   ]
  },
  {
   "cell_type": "markdown",
   "id": "16df375c-c519-4d90-97f2-c6d1a47d23ce",
   "metadata": {},
   "source": [
    "## 2.4 Distinct As You Like It\n",
    "\n",
    "### Finding a substring with $regex"
   ]
  },
  {
   "cell_type": "code",
   "execution_count": 35,
   "id": "74475504-1f07-4230-9ecf-45119479f41e",
   "metadata": {},
   "outputs": [
    {
     "name": "stdout",
     "output_type": "stream",
     "text": [
      "{'_id': ObjectId('6706d88371ea025ecc350fb2'),\n",
      " 'born': '1867-11-07',\n",
      " 'bornCity': 'Warsaw',\n",
      " 'bornCountry': 'Russian Empire (now Poland)',\n",
      " 'bornCountryCode': 'PL',\n",
      " 'died': '1934-07-04',\n",
      " 'diedCity': 'Sallanches',\n",
      " 'diedCountry': 'France',\n",
      " 'diedCountryCode': 'FR',\n",
      " 'firstname': 'Marie',\n",
      " 'gender': 'female',\n",
      " 'id': '6',\n",
      " 'prizes': [{'affiliations': [[]],\n",
      "             'category': 'physics',\n",
      "             'motivation': '\"in recognition of the extraordinary services they '\n",
      "                           'have rendered by their joint researches on the '\n",
      "                           'radiation phenomena discovered by Professor Henri '\n",
      "                           'Becquerel\"',\n",
      "             'share': '4',\n",
      "             'year': '1903'},\n",
      "            {'affiliations': [{'city': 'Paris',\n",
      "                               'country': 'France',\n",
      "                               'name': 'Sorbonne University'}],\n",
      "             'category': 'chemistry',\n",
      "             'motivation': '\"in recognition of her services to the advancement '\n",
      "                           'of chemistry by the discovery of the elements '\n",
      "                           'radium and polonium, by the isolation of radium '\n",
      "                           'and the study of the nature and compounds of this '\n",
      "                           'remarkable element\"',\n",
      "             'share': '1',\n",
      "             'year': '1911'}],\n",
      " 'surname': 'Curie, née Sklodowska'}\n"
     ]
    }
   ],
   "source": [
    "# look at the laureate document for Marie\n",
    "pprint(db.laureates.find_one({\"firstname\": \"Marie\"}))"
   ]
  },
  {
   "cell_type": "code",
   "execution_count": 36,
   "id": "deba2c60-fc2f-42ac-9efe-6fc74b48757a",
   "metadata": {},
   "outputs": [
    {
     "data": {
      "text/plain": [
       "['Austria-Hungary (now Poland)',\n",
       " 'Free City of Danzig (now Poland)',\n",
       " 'German-occupied Poland (now Poland)',\n",
       " 'Germany (now Poland)',\n",
       " 'Poland',\n",
       " 'Poland (now Belarus)',\n",
       " 'Poland (now Lithuania)',\n",
       " 'Poland (now Ukraine)',\n",
       " 'Prussia (now Poland)',\n",
       " 'Russian Empire (now Poland)']"
      ]
     },
     "execution_count": 36,
     "metadata": {},
     "output_type": "execute_result"
    }
   ],
   "source": [
    "# How can we filter for values of \"bornCountry\" that contain Poland as a substring?\n",
    "db.laureates.distinct(\n",
    "    \"bornCountry\",\n",
    "    {\"bornCountry\": {\"$regex\": \"Poland\"}}\n",
    ")"
   ]
  },
  {
   "cell_type": "markdown",
   "id": "1a9cc2c6-248a-44b3-8651-9bcff1d23dc6",
   "metadata": {},
   "source": [
    "### Flag options for regular expressions"
   ]
  },
  {
   "cell_type": "code",
   "execution_count": 37,
   "id": "9dea4da2-6fb6-40c5-9476-8e9c270074d8",
   "metadata": {},
   "outputs": [
    {
     "data": {
      "text/plain": [
       "['Austria-Hungary (now Poland)',\n",
       " 'Free City of Danzig (now Poland)',\n",
       " 'German-occupied Poland (now Poland)',\n",
       " 'Germany (now Poland)',\n",
       " 'Poland',\n",
       " 'Poland (now Belarus)',\n",
       " 'Poland (now Lithuania)',\n",
       " 'Poland (now Ukraine)',\n",
       " 'Prussia (now Poland)',\n",
       " 'Russian Empire (now Poland)']"
      ]
     },
     "execution_count": 37,
     "metadata": {},
     "output_type": "execute_result"
    }
   ],
   "source": [
    "# Case sensitive\n",
    "case_sensitive = db.laureates.distinct(\n",
    "    \"bornCountry\",\n",
    "    {\"bornCountry\": {\"$regex\": \"Poland\"}}\n",
    ")\n",
    "case_sensitive"
   ]
  },
  {
   "cell_type": "code",
   "execution_count": 38,
   "id": "df77f84e-01ce-46ef-80cc-2c818ea35818",
   "metadata": {},
   "outputs": [
    {
     "data": {
      "text/plain": [
       "['Austria-Hungary (now Poland)',\n",
       " 'Free City of Danzig (now Poland)',\n",
       " 'German-occupied Poland (now Poland)',\n",
       " 'Germany (now Poland)',\n",
       " 'Poland',\n",
       " 'Poland (now Belarus)',\n",
       " 'Poland (now Lithuania)',\n",
       " 'Poland (now Ukraine)',\n",
       " 'Prussia (now Poland)',\n",
       " 'Russian Empire (now Poland)']"
      ]
     },
     "execution_count": 38,
     "metadata": {},
     "output_type": "execute_result"
    }
   ],
   "source": [
    "# the \"i\" option ensures case-insensitive matching.\n",
    "case_insensitive = db.laureates.distinct(\n",
    "    \"bornCountry\",\n",
    "    {\"bornCountry\": {\"$regex\": \"poland\", \"$options\": \"i\"}}\n",
    ")\n",
    "case_insensitive"
   ]
  },
  {
   "cell_type": "code",
   "execution_count": 39,
   "id": "aa5a2cde-62b4-42d3-9778-27d6f1ff83de",
   "metadata": {},
   "outputs": [],
   "source": [
    "assert set(case_sensitive) == set(case_insensitive)"
   ]
  },
  {
   "cell_type": "code",
   "execution_count": 40,
   "id": "d17885d2-b162-401b-a49d-21cee894a173",
   "metadata": {},
   "outputs": [
    {
     "data": {
      "text/plain": [
       "['Austria-Hungary (now Poland)',\n",
       " 'Free City of Danzig (now Poland)',\n",
       " 'German-occupied Poland (now Poland)',\n",
       " 'Germany (now Poland)',\n",
       " 'Poland',\n",
       " 'Poland (now Belarus)',\n",
       " 'Poland (now Lithuania)',\n",
       " 'Poland (now Ukraine)',\n",
       " 'Prussia (now Poland)',\n",
       " 'Russian Empire (now Poland)']"
      ]
     },
     "execution_count": 40,
     "metadata": {},
     "output_type": "execute_result"
    }
   ],
   "source": [
    "# The pymongo driver includes a bson package with a Regex class, \n",
    "# which you can import and use as shown.\n",
    "db.laureates.distinct(\n",
    "    \"bornCountry\",\n",
    "    {\"bornCountry\": Regex(\"poland\", \"i\")}\n",
    ")"
   ]
  },
  {
   "cell_type": "code",
   "execution_count": 41,
   "id": "f1a9bca5-48ee-41a5-918a-10286b70acac",
   "metadata": {},
   "outputs": [
    {
     "data": {
      "text/plain": [
       "['Austria-Hungary (now Poland)',\n",
       " 'Free City of Danzig (now Poland)',\n",
       " 'German-occupied Poland (now Poland)',\n",
       " 'Germany (now Poland)',\n",
       " 'Poland',\n",
       " 'Poland (now Belarus)',\n",
       " 'Poland (now Lithuania)',\n",
       " 'Poland (now Ukraine)',\n",
       " 'Prussia (now Poland)',\n",
       " 'Russian Empire (now Poland)']"
      ]
     },
     "execution_count": 41,
     "metadata": {},
     "output_type": "execute_result"
    }
   ],
   "source": [
    "# Finally, using native Python regular expression objects is possible. \n",
    "# I do not recommend this, though. \n",
    "# Use of the bson Regex class is more robust for MongoDB.\n",
    "db.laureates.distinct(\n",
    "    \"bornCountry\",\n",
    "    {\"bornCountry\": re.compile(\"poland\", re.I)}\n",
    ")"
   ]
  },
  {
   "cell_type": "markdown",
   "id": "53b54634-2b9a-4efb-8326-7a8dd9b4db47",
   "metadata": {},
   "source": [
    "### Beginning and ending (and escaping)"
   ]
  },
  {
   "cell_type": "code",
   "execution_count": 42,
   "id": "25650fff-e600-406f-ad01-0b54f177ab9e",
   "metadata": {},
   "outputs": [
    {
     "data": {
      "text/plain": [
       "['Poland',\n",
       " 'Poland (now Belarus)',\n",
       " 'Poland (now Lithuania)',\n",
       " 'Poland (now Ukraine)']"
      ]
     },
     "execution_count": 42,
     "metadata": {},
     "output_type": "execute_result"
    }
   ],
   "source": [
    "# To match the beginning of a field's value, \n",
    "# use the caret (^) character\n",
    "db.laureates.distinct(\n",
    "    \"bornCountry\",\n",
    "    {\"bornCountry\": Regex(\"^Poland\")}\n",
    ")"
   ]
  },
  {
   "cell_type": "code",
   "execution_count": 43,
   "id": "6765f6fd-3f6d-4ce6-b87f-2374bdb1343f",
   "metadata": {},
   "outputs": [
    {
     "data": {
      "text/plain": [
       "['Poland (now Belarus)', 'Poland (now Lithuania)', 'Poland (now Ukraine)']"
      ]
     },
     "execution_count": 43,
     "metadata": {},
     "output_type": "execute_result"
    }
   ],
   "source": [
    "# and if we want to match a literal open paren and not use this function, \n",
    "# we escape it with a backslash.\n",
    "db.laureates.distinct(\n",
    "    \"bornCountry\",\n",
    "    {\"bornCountry\": Regex(r\"^Poland \\(now\")}\n",
    ")"
   ]
  },
  {
   "cell_type": "code",
   "execution_count": 44,
   "id": "2c45c429-b188-4df1-8617-fdde4496d625",
   "metadata": {},
   "outputs": [
    {
     "data": {
      "text/plain": [
       "['Austria-Hungary (now Poland)',\n",
       " 'Free City of Danzig (now Poland)',\n",
       " 'German-occupied Poland (now Poland)',\n",
       " 'Germany (now Poland)',\n",
       " 'Prussia (now Poland)',\n",
       " 'Russian Empire (now Poland)']"
      ]
     },
     "execution_count": 44,
     "metadata": {},
     "output_type": "execute_result"
    }
   ],
   "source": [
    "# Finally, to match the end of a field's value, use the dollar $ sign.\n",
    "db.laureates.distinct(\n",
    "    \"bornCountry\",\n",
    "    {\"bornCountry\": Regex(r\"now Poland\\)$\")}\n",
    ")"
   ]
  },
  {
   "cell_type": "code",
   "execution_count": 45,
   "id": "98188f22-3ab5-4430-ae79-66873a6140de",
   "metadata": {},
   "outputs": [
    {
     "data": {
      "text/plain": [
       "9"
      ]
     },
     "execution_count": 45,
     "metadata": {},
     "output_type": "execute_result"
    }
   ],
   "source": [
    "# How many laureates in total have a first name beginning \n",
    "# with \"G\" and a surname beginning with \"S\"?\n",
    "db.laureates.count_documents({\"firstname\": Regex(r\"^G\"), \"surname\": Regex(r\"^S\")})"
   ]
  },
  {
   "cell_type": "code",
   "execution_count": 46,
   "id": "765aab83-66f1-4012-94f5-642f845ecdb8",
   "metadata": {},
   "outputs": [
    {
     "name": "stdout",
     "output_type": "stream",
     "text": [
      "{'Bavaria (now Germany)',\n",
      " 'East Friesland (now Germany)',\n",
      " 'Germany',\n",
      " 'Germany (now France)',\n",
      " 'Germany (now Poland)',\n",
      " 'Germany (now Russia)',\n",
      " 'Hesse-Kassel (now Germany)',\n",
      " 'Mecklenburg (now Germany)',\n",
      " 'Prussia (now Germany)',\n",
      " 'Schleswig (now Germany)',\n",
      " 'W&uuml;rttemberg (now Germany)',\n",
      " 'West Germany (now Germany)'}\n"
     ]
    }
   ],
   "source": [
    "# Use a regular expression object to filter for laureates with \n",
    "# \"Germany\" in their \"bornCountry\" value.\n",
    "criteria = {\"bornCountry\": Regex(\"Germany\")}\n",
    "pprint(set(db.laureates.distinct(\"bornCountry\", criteria)))"
   ]
  },
  {
   "cell_type": "code",
   "execution_count": 47,
   "id": "bb97e6b1-cd66-4304-8e95-daf2c9b64004",
   "metadata": {},
   "outputs": [
    {
     "name": "stdout",
     "output_type": "stream",
     "text": [
      "{'Germany',\n",
      " 'Germany (now France)',\n",
      " 'Germany (now Poland)',\n",
      " 'Germany (now Russia)'}\n"
     ]
    }
   ],
   "source": [
    "# Use a regular expression object to filter for laureates with a \n",
    "# \"bornCountry\" value starting with \"Germany\".\n",
    "criteria = {\"bornCountry\": Regex(r\"^Germany\")}\n",
    "pprint(set(db.laureates.distinct(\"bornCountry\", criteria)))"
   ]
  },
  {
   "cell_type": "code",
   "execution_count": 48,
   "id": "a315faa3-b338-439b-b39b-69fba7846497",
   "metadata": {},
   "outputs": [
    {
     "name": "stdout",
     "output_type": "stream",
     "text": [
      "{'Germany (now Russia)', 'Germany (now France)', 'Germany (now Poland)'}\n"
     ]
    }
   ],
   "source": [
    "# Use a regular expression object to filter for laureates born in what was at the \n",
    "# time Germany but is now another country.\n",
    "criteria = {\"bornCountry\": Regex(r\"^Germany \\(now\")}\n",
    "pprint(set(db.laureates.distinct(\"bornCountry\", criteria)))"
   ]
  },
  {
   "cell_type": "code",
   "execution_count": 49,
   "id": "ab479dba-3b90-4815-ab52-0c1758d7dbf3",
   "metadata": {},
   "outputs": [
    {
     "name": "stdout",
     "output_type": "stream",
     "text": [
      "{'Bavaria (now Germany)',\n",
      " 'East Friesland (now Germany)',\n",
      " 'Hesse-Kassel (now Germany)',\n",
      " 'Mecklenburg (now Germany)',\n",
      " 'Prussia (now Germany)',\n",
      " 'Schleswig (now Germany)',\n",
      " 'W&uuml;rttemberg (now Germany)',\n",
      " 'West Germany (now Germany)'}\n"
     ]
    }
   ],
   "source": [
    "# Use a regular expression object to filter for laureates born \n",
    "# in what is now Germany but at the time was another country.\n",
    "criteria = {\"bornCountry\": Regex(r\"now Germany\\)$\")}\n",
    "pprint(set(db.laureates.distinct(\"bornCountry\", criteria)))"
   ]
  },
  {
   "cell_type": "code",
   "execution_count": 50,
   "id": "75f83cb0-a2e3-4685-b7d7-7cb65f67bea6",
   "metadata": {},
   "outputs": [
    {
     "name": "stdout",
     "output_type": "stream",
     "text": [
      "[('William Bradford', 'Shockley'), ('John', 'Bardeen'), ('Walter Houser', 'Brattain')]\n"
     ]
    }
   ],
   "source": [
    "# Three people shared a Nobel prize \"for their researches on \n",
    "# semiconductors and their discovery of the transistor effect\". \n",
    "# We can filter on \"transistor\" as a substring of a laureate's \n",
    "# \"prizes.motivation\" field value to find these laureates.\n",
    "criteria = {\"prizes.motivation\": Regex(\"transistor\", \"i\")}\n",
    "first, last = \"firstname\", \"surname\"\n",
    "print([(laureate[first], laureate[last]) for laureate in db.laureates.find(criteria)])"
   ]
  },
  {
   "cell_type": "markdown",
   "id": "fb50415b-ac36-41d2-ae70-301919c7d390",
   "metadata": {},
   "source": [
    "---------------------------------------------"
   ]
  }
 ],
 "metadata": {
  "kernelspec": {
   "display_name": "Python 3 (ipykernel)",
   "language": "python",
   "name": "python3"
  },
  "language_info": {
   "codemirror_mode": {
    "name": "ipython",
    "version": 3
   },
   "file_extension": ".py",
   "mimetype": "text/x-python",
   "name": "python",
   "nbconvert_exporter": "python",
   "pygments_lexer": "ipython3",
   "version": "3.12.7"
  }
 },
 "nbformat": 4,
 "nbformat_minor": 5
}
