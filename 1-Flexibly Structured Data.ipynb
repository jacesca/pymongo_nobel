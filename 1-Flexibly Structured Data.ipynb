{
 "cells": [
  {
   "cell_type": "markdown",
   "id": "b823ef04-12da-4bb5-87b6-ceef599d6b34",
   "metadata": {},
   "source": [
    "# 1. Flexibly Structured Data\n",
    "This chapter is about getting a bird's-eye view of the Nobel Prize data's structure. You will relate MongoDB documents, collections, and databases to JSON and Python types. You'll then use filters, operators, and dot notation to explore substructure."
   ]
  },
  {
   "cell_type": "code",
   "execution_count": 1,
   "id": "51f4caa3-f3cf-4b09-8c98-069f940e8c39",
   "metadata": {},
   "outputs": [
    {
     "name": "stdout",
     "output_type": "stream",
     "text": [
      "\n",
      "  $ mongosh [options] [db address] [file names (ending in .js or .mongodb)]\n",
      "\n",
      "  Options:\n",
      "\n",
      "    -h, --help                                 Show this usage information\n",
      "    -f, --file [arg]                           Load the specified mongosh script\n",
      "        --host [arg]                           Server to connect to\n",
      "        --port [arg]                           Port to connect to\n",
      "        --build-info                           Show build information\n",
      "        --version                              Show version information\n",
      "        --quiet                                Silence output from the shell during the connection process\n",
      "        --shell                                Run the shell after executing files\n",
      "        --nodb                                 Don't connect to mongod on startup - no 'db address' [arg] expected\n",
      "        --norc                                 Will not run the '.mongoshrc.js' file on start up\n",
      "        --eval [arg]                           Evaluate javascript\n",
      "        --json[=canonical|relaxed]             Print result of --eval as Extended JSON, including errors\n",
      "        --retryWrites[=true|false]             Automatically retry write operations upon transient network errors (Default: true)\n",
      "\n",
      "  Authentication Options:\n",
      "\n",
      "    -u, --username [arg]                       Username for authentication\n",
      "    -p, --password [arg]                       Password for authentication\n",
      "        --authenticationDatabase [arg]         User source (defaults to dbname)\n",
      "        --authenticationMechanism [arg]        Authentication mechanism\n",
      "        --awsIamSessionToken [arg]             AWS IAM Temporary Session Token ID\n",
      "        --gssapiServiceName [arg]              Service name to use when authenticating using GSSAPI/Kerberos\n",
      "        --sspiHostnameCanonicalization [arg]   Specify the SSPI hostname canonicalization (none or forward, available on Windows)\n",
      "        --sspiRealmOverride [arg]              Specify the SSPI server realm (available on Windows)\n",
      "\n",
      "  TLS Options:\n",
      "\n",
      "        --tls                                  Use TLS for all connections\n",
      "        --tlsCertificateKeyFile [arg]          PEM certificate/key file for TLS\n",
      "        --tlsCertificateKeyFilePassword [arg]  Password for key in PEM file for TLS\n",
      "        --tlsCAFile [arg]                      Certificate Authority file for TLS\n",
      "        --tlsAllowInvalidHostnames             Allow connections to servers with non-matching hostnames\n",
      "        --tlsAllowInvalidCertificates          Allow connections to servers with invalid certificates\n",
      "        --tlsCertificateSelector [arg]         TLS Certificate in system store (Windows and macOS only)\n",
      "        --tlsCRLFile [arg]                     Specifies the .pem file that contains the Certificate Revocation List\n",
      "        --tlsDisabledProtocols [arg]           Comma separated list of TLS protocols to disable [TLS1_0,TLS1_1,TLS1_2]\n",
      "        --tlsFIPSMode                          Enable the system TLS library's FIPS mode\n",
      "\n",
      "  API version options:\n",
      "\n",
      "        --apiVersion [arg]                     Specifies the API version to connect with\n",
      "        --apiStrict                            Use strict API version mode\n",
      "        --apiDeprecationErrors                 Fail deprecated commands for the specified API version\n",
      "\n",
      "  FLE Options:\n",
      "\n",
      "        --awsAccessKeyId [arg]                 AWS Access Key for FLE Amazon KMS\n",
      "        --awsSecretAccessKey [arg]             AWS Secret Key for FLE Amazon KMS\n",
      "        --awsSessionToken [arg]                Optional AWS Session Token ID\n",
      "        --keyVaultNamespace [arg]              database.collection to store encrypted FLE parameters\n",
      "        --kmsURL [arg]                         Test parameter to override the URL of the KMS endpoint\n",
      "\n",
      "  OIDC auth options:\n",
      "\n",
      "        --oidcFlows[=auth-code,device-auth]    Supported OIDC auth flows\n",
      "        --oidcRedirectUri[=url]                Local auth code flow redirect URL [http://localhost:27097/redirect]\n",
      "        --oidcTrustedEndpoint                  Treat the cluster/database mongosh as a trusted endpoint\n",
      "        --oidcIdTokenAsAccessToken             Use ID tokens in place of access tokens for auth\n",
      "        --oidcDumpTokens[=mode]                Debug OIDC by printing tokens to mongosh's output [full|include-secrets]\n",
      "\n",
      "  DB Address Examples:\n",
      "\n",
      "        foo                                    Foo database on local machine\n",
      "        192.168.0.5/foo                        Foo database on 192.168.0.5 machine\n",
      "        192.168.0.5:9999/foo                   Foo database on 192.168.0.5 machine on port 9999\n",
      "        mongodb://192.168.0.5:9999/foo         Connection string URI can also be used\n",
      "\n",
      "  File Names:\n",
      "\n",
      "        A list of files to run. Files must end in .js and will exit after unless --shell is specified.\n",
      "\n",
      "  Examples:\n",
      "\n",
      "        Start mongosh using 'ships' database on specified connection string:\n",
      "        $ mongosh mongodb://192.168.0.5:9999/ships\n",
      "\n",
      "  For more information on usage: https://docs.mongodb.com/mongodb-shell.\n"
     ]
    }
   ],
   "source": [
    "# Testing mongosh\n",
    "!mongosh --help"
   ]
  },
  {
   "cell_type": "code",
   "execution_count": 2,
   "id": "6a4dd9c6-ecb9-4995-a170-3435c58e7136",
   "metadata": {},
   "outputs": [],
   "source": [
    "# Importing libraries\n",
    "import requests\n",
    "import json\n",
    "\n",
    "from pymongo import MongoClient\n",
    "from pprint import pprint"
   ]
  },
  {
   "cell_type": "code",
   "execution_count": 3,
   "id": "61655175-437c-49e8-a489-57bac64ebdb8",
   "metadata": {},
   "outputs": [],
   "source": [
    "# Client connects to \"localhost\" by default\n",
    "client = MongoClient()"
   ]
  },
  {
   "cell_type": "markdown",
   "id": "bbe176ac-3b38-4326-91f5-4c7324154586",
   "metadata": {},
   "source": [
    "## 1.1 Intro to MongoDB and the Nobel Prize dataset\n",
    "\n",
    "### The Nobel Prize API data(base)"
   ]
  },
  {
   "cell_type": "code",
   "execution_count": 4,
   "id": "5bf287d0-3381-4e03-93ba-b312a6f75152",
   "metadata": {},
   "outputs": [
    {
     "name": "stdout",
     "output_type": "stream",
     "text": [
      "Collection nobelPrizes added\n",
      "Collection laureates added\n"
     ]
    }
   ],
   "source": [
    "# Create local \"nobel\" database on the fly\n",
    "db = client[\"nobel\"]\n",
    "\n",
    "for collection_name in [\"nobelPrizes\", \"laureates\"]:\n",
    "    # collect the data from the API\n",
    "    url = f\"https://api.nobelprize.org/2.1/{collection_name}\"\n",
    "    response = requests.get(url, \n",
    "                            headers={'User-Agent': 'Mozilla/5.0'})\n",
    "\n",
    "    # convert the data to json\n",
    "    documents = response.json()[collection_name]\n",
    "\n",
    "    # # Create collections on the fly\n",
    "    # Current API only allows 25 at a call\n",
    "    # db[collection_name].insert_many(documents)\n",
    "    print(f'Collection {collection_name} added')"
   ]
  },
  {
   "cell_type": "code",
   "execution_count": 5,
   "id": "eff36c18-63b6-4b47-8c1c-ab1d0d218f04",
   "metadata": {},
   "outputs": [
    {
     "name": "stdout",
     "output_type": "stream",
     "text": [
      "laureates.json\n",
      "prizes.json\n"
     ]
    }
   ],
   "source": [
    "!dir data /b"
   ]
  },
  {
   "cell_type": "code",
   "execution_count": 6,
   "id": "ab566a94-a4a5-4822-8629-c06c502012b9",
   "metadata": {},
   "outputs": [
    {
     "name": "stdout",
     "output_type": "stream",
     "text": [
      "Collection prizes added\n",
      "Collection laureates added\n"
     ]
    }
   ],
   "source": [
    "# Adding data from files\n",
    "db = client[\"nobel\"]\n",
    "\n",
    "for collection_name in [\"prizes\", \"laureates\"]:\n",
    "    with open(f'data/{collection_name}.json') as f:\n",
    "        documents = json.load(f)\n",
    "\n",
    "    # Create collections on the fly\n",
    "    # db[collection_name].insert_many(documents)\n",
    "    print(f'Collection {collection_name} added')"
   ]
  },
  {
   "cell_type": "markdown",
   "id": "1cd4e454-59bf-4120-9769-0d66fc6c3a86",
   "metadata": {},
   "source": [
    "### Accessing databases and collections\n",
    "\n",
    "#### Using []"
   ]
  },
  {
   "cell_type": "code",
   "execution_count": 7,
   "id": "a35c2b31-30f3-4573-888c-74458ea06209",
   "metadata": {},
   "outputs": [],
   "source": [
    "# client is a dictionary of databases\n",
    "db = client[\"nobel\"]\n",
    "\n",
    "# database is a dictionary of collections\n",
    "prizes_collection = db[\"nobelPrizes\"]"
   ]
  },
  {
   "cell_type": "markdown",
   "id": "1e1d37b8-4032-4601-8f55-68b7ddfb81ae",
   "metadata": {},
   "source": [
    "#### Using ."
   ]
  },
  {
   "cell_type": "code",
   "execution_count": 8,
   "id": "b2f91f4c-d857-4f22-a001-88b3634d4625",
   "metadata": {},
   "outputs": [],
   "source": [
    "# databases are attributes of a client\n",
    "db = client.nobel\n",
    "\n",
    "# collections are attributes of databases\n",
    "laureates_collection = db.laureates"
   ]
  },
  {
   "cell_type": "markdown",
   "id": "3e02c707-7af0-4284-a4a5-e8e88318ec3a",
   "metadata": {},
   "source": [
    "### Count documents in a collection"
   ]
  },
  {
   "cell_type": "code",
   "execution_count": 9,
   "id": "08680def-fd76-4029-a951-b91384af71e6",
   "metadata": {},
   "outputs": [
    {
     "name": "stdout",
     "output_type": "stream",
     "text": [
      "Documents in prizes: 590\n",
      "Document in Laureates: 934\n"
     ]
    }
   ],
   "source": [
    "# Use empty document {} as a filter\n",
    "filter = {}\n",
    "\n",
    "# Count documents in a collection\n",
    "n_prizes = db.prizes.count_documents(filter)\n",
    "n_laureates = db.laureates.count_documents(filter)\n",
    "\n",
    "print('Documents in prizes:', n_prizes)\n",
    "print('Document in Laureates:', n_laureates)"
   ]
  },
  {
   "cell_type": "markdown",
   "id": "10a0c29b-ef21-4360-b465-087956bab9a0",
   "metadata": {},
   "source": [
    "### Listing databases and collections"
   ]
  },
  {
   "cell_type": "code",
   "execution_count": 10,
   "id": "15ee8a94-7629-4bae-9648-88bc5a1cf13b",
   "metadata": {},
   "outputs": [
    {
     "name": "stdout",
     "output_type": "stream",
     "text": [
      "['admin', 'config', 'local', 'nobel']\n",
      "['prizes', 'laureates']\n"
     ]
    }
   ],
   "source": [
    "# Save a list of names of the databases managed by client\n",
    "db_names = client.list_database_names()\n",
    "print(db_names)\n",
    "\n",
    "# Save a list of names of the collections managed by the \"nobel\" database\n",
    "nobel_coll_names = client.nobel.list_collection_names()\n",
    "print(nobel_coll_names)"
   ]
  },
  {
   "cell_type": "markdown",
   "id": "7d82b752-e6f4-4842-a394-0be9481ee906",
   "metadata": {},
   "source": [
    "### List fields of a document\n",
    "\n",
    "The `.find_one()` method of a collection can be used to retrieve a single document. This method accepts an optional filter argument that specifies the pattern that the document must match. You can specify no filter or an empty document filter (`{}`), in which case MongoDB will return the document that is first in the internal order of the collection.\n",
    "\n",
    "This method is useful when you want to learn the structure of documents in the collection.\n",
    "\n",
    "In Python, the returned document takes the form of a dictionary:\n",
    "```\n",
    "    sample_doc = {'id' : 12345, 'name':'Donny Winston', 'instructor': True}\n",
    "```\n",
    "\n",
    "The **keys of the dictionary** are the (root-level) \"fields\" of the document, e.g. `'id', 'name','instructor'`."
   ]
  },
  {
   "cell_type": "code",
   "execution_count": 11,
   "id": "47c21075-0b99-46b3-a011-fe69543fe73e",
   "metadata": {},
   "outputs": [
    {
     "name": "stdout",
     "output_type": "stream",
     "text": [
      "{'_id': ObjectId('6706d88371ea025ecc350d20'),\n",
      " 'category': 'physics',\n",
      " 'laureates': [{'firstname': 'Arthur',\n",
      "                'id': '960',\n",
      "                'motivation': '\"for the optical tweezers and their application '\n",
      "                              'to biological systems\"',\n",
      "                'share': '2',\n",
      "                'surname': 'Ashkin'},\n",
      "               {'firstname': 'Gérard',\n",
      "                'id': '961',\n",
      "                'motivation': '\"for their method of generating high-intensity, '\n",
      "                              'ultra-short optical pulses\"',\n",
      "                'share': '4',\n",
      "                'surname': 'Mourou'},\n",
      "               {'firstname': 'Donna',\n",
      "                'id': '962',\n",
      "                'motivation': '\"for their method of generating high-intensity, '\n",
      "                              'ultra-short optical pulses\"',\n",
      "                'share': '4',\n",
      "                'surname': 'Strickland'}],\n",
      " 'overallMotivation': '“for groundbreaking inventions in the field of laser '\n",
      "                      'physics”',\n",
      " 'year': '2018'}\n",
      "{'_id': ObjectId('6706d88371ea025ecc350f6e'),\n",
      " 'born': '1853-07-18',\n",
      " 'bornCity': 'Arnhem',\n",
      " 'bornCountry': 'the Netherlands',\n",
      " 'bornCountryCode': 'NL',\n",
      " 'died': '1928-02-04',\n",
      " 'diedCountry': 'the Netherlands',\n",
      " 'diedCountryCode': 'NL',\n",
      " 'firstname': 'Hendrik Antoon',\n",
      " 'gender': 'male',\n",
      " 'id': '2',\n",
      " 'prizes': [{'affiliations': [{'city': 'Leiden',\n",
      "                               'country': 'the Netherlands',\n",
      "                               'name': 'Leiden University'}],\n",
      "             'category': 'physics',\n",
      "             'motivation': '\"in recognition of the extraordinary service they '\n",
      "                           'rendered by their researches into the influence of '\n",
      "                           'magnetism upon radiation phenomena\"',\n",
      "             'share': '2',\n",
      "             'year': '1902'}],\n",
      " 'surname': 'Lorentz'}\n",
      "<class 'dict'>\n"
     ]
    }
   ],
   "source": [
    "# Retrieve sample prize and laureate documents\n",
    "prize = db.prizes.find_one({})\n",
    "laureate = db.laureates.find_one({})\n",
    "\n",
    "# Print the sample prize and laureate documents\n",
    "pprint(prize)\n",
    "pprint(laureate)\n",
    "print(type(laureate))"
   ]
  },
  {
   "cell_type": "code",
   "execution_count": 12,
   "id": "4c2ed3ca-815f-4ac2-903d-8f8cc1c7bf7b",
   "metadata": {},
   "outputs": [
    {
     "name": "stdout",
     "output_type": "stream",
     "text": [
      "['_id', 'year', 'category', 'overallMotivation', 'laureates']\n",
      "['_id', 'id', 'firstname', 'surname', 'born', 'died', 'bornCountry', 'bornCountryCode', 'bornCity', 'diedCountry', 'diedCountryCode', 'gender', 'prizes']\n"
     ]
    }
   ],
   "source": [
    "# Get the fields present in each type of document\n",
    "prize_fields = list(prize.keys())\n",
    "laureate_fields = list(laureate.keys())\n",
    "\n",
    "print(prize_fields)\n",
    "print(laureate_fields)"
   ]
  },
  {
   "cell_type": "markdown",
   "id": "efdc415b-5723-4cd7-b2c8-c9590a29870f",
   "metadata": {},
   "source": [
    "## 1.2 Finding documents\n",
    "\n",
    "### An example \"laureates\" document"
   ]
  },
  {
   "cell_type": "code",
   "execution_count": 13,
   "id": "efd5cbbb-62c4-4033-aa04-4f845bdb0feb",
   "metadata": {},
   "outputs": [
    {
     "name": "stdout",
     "output_type": "stream",
     "text": [
      "{'_id': ObjectId('6706d88371ea025ecc350f6e'),\n",
      " 'born': '1853-07-18',\n",
      " 'bornCity': 'Arnhem',\n",
      " 'bornCountry': 'the Netherlands',\n",
      " 'bornCountryCode': 'NL',\n",
      " 'died': '1928-02-04',\n",
      " 'diedCountry': 'the Netherlands',\n",
      " 'diedCountryCode': 'NL',\n",
      " 'firstname': 'Hendrik Antoon',\n",
      " 'gender': 'male',\n",
      " 'id': '2',\n",
      " 'prizes': [{'affiliations': [{'city': 'Leiden',\n",
      "                               'country': 'the Netherlands',\n",
      "                               'name': 'Leiden University'}],\n",
      "             'category': 'physics',\n",
      "             'motivation': '\"in recognition of the extraordinary service they '\n",
      "                           'rendered by their researches into the influence of '\n",
      "                           'magnetism upon radiation phenomena\"',\n",
      "             'share': '2',\n",
      "             'year': '1902'}],\n",
      " 'surname': 'Lorentz'}\n"
     ]
    }
   ],
   "source": [
    "laureate = db.laureates.find_one({})\n",
    "pprint(laureate)"
   ]
  },
  {
   "cell_type": "markdown",
   "id": "e4a5007f-01d4-4fa8-b364-be3867a7a2d4",
   "metadata": {},
   "source": [
    "### Filters as (sub)documents"
   ]
  },
  {
   "cell_type": "code",
   "execution_count": 14,
   "id": "4a1c106c-f1e2-4b21-a58d-f7e3b3080b68",
   "metadata": {},
   "outputs": [
    {
     "data": {
      "text/plain": [
       "1"
      ]
     },
     "execution_count": 14,
     "metadata": {},
     "output_type": "execute_result"
    }
   ],
   "source": [
    "filter_doc = {\n",
    "    'born': '1845-03-27',\n",
    "    'diedCountry': 'Germany',\n",
    "    'gender': 'male',\n",
    "    'surname': 'Röntgen'\n",
    "}\n",
    "db.laureates.count_documents(filter_doc)"
   ]
  },
  {
   "cell_type": "code",
   "execution_count": 15,
   "id": "f2a5688a-7489-4566-8ef6-5d4b93be49cb",
   "metadata": {},
   "outputs": [
    {
     "name": "stdout",
     "output_type": "stream",
     "text": [
      "{'_id': ObjectId('6706d88371ea025ecc350fae'),\n",
      " 'born': '1845-03-27',\n",
      " 'bornCity': 'Lennep (now Remscheid)',\n",
      " 'bornCountry': 'Prussia (now Germany)',\n",
      " 'bornCountryCode': 'DE',\n",
      " 'died': '1923-02-10',\n",
      " 'diedCity': 'Munich',\n",
      " 'diedCountry': 'Germany',\n",
      " 'diedCountryCode': 'DE',\n",
      " 'firstname': 'Wilhelm Conrad',\n",
      " 'gender': 'male',\n",
      " 'id': '1',\n",
      " 'prizes': [{'affiliations': [{'city': 'Munich',\n",
      "                               'country': 'Germany',\n",
      "                               'name': 'Munich University'}],\n",
      "             'category': 'physics',\n",
      "             'motivation': '\"in recognition of the extraordinary services he '\n",
      "                           'has rendered by the discovery of the remarkable '\n",
      "                           'rays subsequently named after him\"',\n",
      "             'share': '1',\n",
      "             'year': '1901'}],\n",
      " 'surname': 'Röntgen'}\n"
     ]
    }
   ],
   "source": [
    "pprint(db.laureates.find_one(filter_doc))"
   ]
  },
  {
   "cell_type": "markdown",
   "id": "c931ae3c-8967-44e4-940e-cdb04ff0ddbf",
   "metadata": {},
   "source": [
    "### Simple filters"
   ]
  },
  {
   "cell_type": "code",
   "execution_count": 16,
   "id": "05a25f79-4963-46fb-9c12-1f2d6e3ce3aa",
   "metadata": {},
   "outputs": [
    {
     "data": {
      "text/plain": [
       "51"
      ]
     },
     "execution_count": 16,
     "metadata": {},
     "output_type": "execute_result"
    }
   ],
   "source": [
    "db.laureates.count_documents({'gender': 'female'})"
   ]
  },
  {
   "cell_type": "code",
   "execution_count": 17,
   "id": "c8382659-b30c-4d77-bf19-ea093eb60aae",
   "metadata": {},
   "outputs": [
    {
     "data": {
      "text/plain": [
       "50"
      ]
     },
     "execution_count": 17,
     "metadata": {},
     "output_type": "execute_result"
    }
   ],
   "source": [
    "db.laureates.count_documents({'diedCountry': 'France'})"
   ]
  },
  {
   "cell_type": "code",
   "execution_count": 18,
   "id": "28f4d458-28f0-43e2-a132-fd033a3faf46",
   "metadata": {},
   "outputs": [
    {
     "data": {
      "text/plain": [
       "2"
      ]
     },
     "execution_count": 18,
     "metadata": {},
     "output_type": "execute_result"
    }
   ],
   "source": [
    "db.laureates.count_documents({'bornCity': 'Warsaw'})"
   ]
  },
  {
   "cell_type": "markdown",
   "id": "e997d68a-5634-466b-bab7-1f3073bf051a",
   "metadata": {},
   "source": [
    "### Composing filters"
   ]
  },
  {
   "cell_type": "code",
   "execution_count": 19,
   "id": "cff89309-a119-4b03-bc96-ce658cd58a2e",
   "metadata": {},
   "outputs": [
    {
     "data": {
      "text/plain": [
       "1"
      ]
     },
     "execution_count": 19,
     "metadata": {},
     "output_type": "execute_result"
    }
   ],
   "source": [
    "filter_doc = {\n",
    "    'gender': 'female',\n",
    "    'diedCountry': 'France',\n",
    "    'bornCity': 'Warsaw'\n",
    "}\n",
    "db.laureates.count_documents(filter_doc)"
   ]
  },
  {
   "cell_type": "code",
   "execution_count": 20,
   "id": "f6f54bae-d05f-4098-a97e-a5ce5a556c71",
   "metadata": {},
   "outputs": [
    {
     "name": "stdout",
     "output_type": "stream",
     "text": [
      "{'_id': ObjectId('6706d88371ea025ecc350fb2'),\n",
      " 'born': '1867-11-07',\n",
      " 'bornCity': 'Warsaw',\n",
      " 'bornCountry': 'Russian Empire (now Poland)',\n",
      " 'bornCountryCode': 'PL',\n",
      " 'died': '1934-07-04',\n",
      " 'diedCity': 'Sallanches',\n",
      " 'diedCountry': 'France',\n",
      " 'diedCountryCode': 'FR',\n",
      " 'firstname': 'Marie',\n",
      " 'gender': 'female',\n",
      " 'id': '6',\n",
      " 'prizes': [{'affiliations': [[]],\n",
      "             'category': 'physics',\n",
      "             'motivation': '\"in recognition of the extraordinary services they '\n",
      "                           'have rendered by their joint researches on the '\n",
      "                           'radiation phenomena discovered by Professor Henri '\n",
      "                           'Becquerel\"',\n",
      "             'share': '4',\n",
      "             'year': '1903'},\n",
      "            {'affiliations': [{'city': 'Paris',\n",
      "                               'country': 'France',\n",
      "                               'name': 'Sorbonne University'}],\n",
      "             'category': 'chemistry',\n",
      "             'motivation': '\"in recognition of her services to the advancement '\n",
      "                           'of chemistry by the discovery of the elements '\n",
      "                           'radium and polonium, by the isolation of radium '\n",
      "                           'and the study of the nature and compounds of this '\n",
      "                           'remarkable element\"',\n",
      "             'share': '1',\n",
      "             'year': '1911'}],\n",
      " 'surname': 'Curie, née Sklodowska'}\n"
     ]
    }
   ],
   "source": [
    "pprint(db.laureates.find_one(filter_doc))"
   ]
  },
  {
   "cell_type": "markdown",
   "id": "212aa087-041b-4bab-b02e-94d9a51cdc23",
   "metadata": {},
   "source": [
    "### Query operators\n",
    "#### Value in a range $in: <list>"
   ]
  },
  {
   "cell_type": "code",
   "execution_count": 21,
   "id": "a9ca7312-e013-4106-8fba-27dd7a428b46",
   "metadata": {},
   "outputs": [
    {
     "data": {
      "text/plain": [
       "259"
      ]
     },
     "execution_count": 21,
     "metadata": {},
     "output_type": "execute_result"
    }
   ],
   "source": [
    "db.laureates.count_documents({\n",
    "    'diedCountry': {\n",
    "        '$in': ['France', 'USA']\n",
    "    }\n",
    "})"
   ]
  },
  {
   "cell_type": "markdown",
   "id": "9030f612-1690-4c6b-9775-f0c228f936b2",
   "metadata": {},
   "source": [
    "#### Not equal $ne : <value>"
   ]
  },
  {
   "cell_type": "code",
   "execution_count": 22,
   "id": "68e8bd69-530c-4999-97ed-2517bcba75db",
   "metadata": {},
   "outputs": [
    {
     "data": {
      "text/plain": [
       "884"
      ]
     },
     "execution_count": 22,
     "metadata": {},
     "output_type": "execute_result"
    }
   ],
   "source": [
    "db.laureates.count_documents({\n",
    "    'diedCountry': {\n",
    "        '$ne': 'France'\n",
    "    }\n",
    "})"
   ]
  },
  {
   "cell_type": "markdown",
   "id": "f3d68b45-a171-42da-8d36-a4a0957bb168",
   "metadata": {},
   "source": [
    "#### Comparison: `> : $gt` , `≥ : $gte`, `< : $lt`, and `≤ : $lte`\n",
    "Strings are compared lexicographically"
   ]
  },
  {
   "cell_type": "code",
   "execution_count": 23,
   "id": "1a81b05a-d64c-4a03-9d4e-b25fc83a5cbe",
   "metadata": {},
   "outputs": [
    {
     "data": {
      "text/plain": [
       "455"
      ]
     },
     "execution_count": 23,
     "metadata": {},
     "output_type": "execute_result"
    }
   ],
   "source": [
    "db.laureates.count_documents({\n",
    "    'diedCountry': {\n",
    "        '$gt': 'Belgium',\n",
    "        '$lte': 'USA'\n",
    "    }\n",
    "})"
   ]
  },
  {
   "cell_type": "markdown",
   "id": "a181a968-b092-4adc-a6a2-cf003712ad20",
   "metadata": {},
   "source": [
    "### Exercises"
   ]
  },
  {
   "cell_type": "code",
   "execution_count": 24,
   "id": "93fc15b1-c6c7-408e-9b27-ac0517f223fd",
   "metadata": {},
   "outputs": [
    {
     "data": {
      "text/plain": [
       "324"
      ]
     },
     "execution_count": 24,
     "metadata": {},
     "output_type": "execute_result"
    }
   ],
   "source": [
    "# returns the number of laureates with dates of birth earlier than the year 1900\n",
    "db.laureates.count_documents({\"born\": {\"$lt\": \"1900\"}})"
   ]
  },
  {
   "cell_type": "code",
   "execution_count": 25,
   "id": "9fb1ace3-addf-42d5-87bb-cff52b9a9200",
   "metadata": {},
   "outputs": [
    {
     "data": {
      "text/plain": [
       "38"
      ]
     },
     "execution_count": 25,
     "metadata": {},
     "output_type": "execute_result"
    }
   ],
   "source": [
    "# what is the number of laureates born prior to 1800\n",
    "db.laureates.count_documents({\"born\": {\"$lte\": \"1800\"}})"
   ]
  },
  {
   "cell_type": "code",
   "execution_count": 26,
   "id": "438788d9-944c-4b04-bd29-709a8847a270",
   "metadata": {},
   "outputs": [
    {
     "data": {
      "text/plain": [
       "38"
      ]
     },
     "execution_count": 26,
     "metadata": {},
     "output_type": "execute_result"
    }
   ],
   "source": [
    "# What about prior to 1700?\n",
    "db.laureates.count_documents({\"born\": {\"$lte\": \"1700\"}})"
   ]
  },
  {
   "cell_type": "code",
   "execution_count": 27,
   "id": "ebd69369-b773-4c2d-b803-cea181bfcd25",
   "metadata": {},
   "outputs": [
    {
     "name": "stdout",
     "output_type": "stream",
     "text": [
      "1\n"
     ]
    }
   ],
   "source": [
    "# Create a filter for Germany-born laureates who died in the USA \n",
    "# and with the first name \"Albert\"\n",
    "criteria = {'diedCountry': 'USA', \n",
    "            'bornCountry': 'Germany', \n",
    "            'firstname': 'Albert'}\n",
    "\n",
    "# Save the count\n",
    "count = db.laureates.count_documents(criteria)\n",
    "print(count)"
   ]
  },
  {
   "cell_type": "code",
   "execution_count": 28,
   "id": "6513a11b-360d-481c-8196-5cc0d9a5ed7d",
   "metadata": {},
   "outputs": [
    {
     "name": "stdout",
     "output_type": "stream",
     "text": [
      "291\n"
     ]
    }
   ],
   "source": [
    "# Save a filter for laureates born in the USA, Canada, or Mexico\n",
    "criteria = { 'bornCountry': \n",
    "                { \"$in\": ['USA', 'Canada', 'Mexico']}\n",
    "             }\n",
    "\n",
    "# Count them and save the count\n",
    "count = db.laureates.count_documents(criteria)\n",
    "print(count)"
   ]
  },
  {
   "cell_type": "code",
   "execution_count": 29,
   "id": "0538cad5-93dd-4c9a-8338-5181312cfa16",
   "metadata": {},
   "outputs": [
    {
     "name": "stdout",
     "output_type": "stream",
     "text": [
      "69\n"
     ]
    }
   ],
   "source": [
    "# Save a filter for laureates who died in the USA and were not born there\n",
    "criteria = { 'diedCountry': 'USA',\n",
    "             'bornCountry': { \"$ne\": 'USA'}, \n",
    "           }\n",
    "\n",
    "# Count them\n",
    "count = db.laureates.count_documents(criteria)\n",
    "print(count)"
   ]
  },
  {
   "cell_type": "markdown",
   "id": "af01dbb9-58cb-49f1-a048-f318dd8266c7",
   "metadata": {},
   "source": [
    "## 1.3 Dot notation: reach into substructure\n",
    "\n",
    "### A functional density"
   ]
  },
  {
   "cell_type": "code",
   "execution_count": 30,
   "id": "8922e73c-54d5-45a0-9520-9d970c45a004",
   "metadata": {},
   "outputs": [
    {
     "name": "stdout",
     "output_type": "stream",
     "text": [
      "{'_id': ObjectId('6706d88371ea025ecc3510e6'),\n",
      " 'born': '1923-03-09',\n",
      " 'bornCity': 'Vienna',\n",
      " 'bornCountry': 'Austria',\n",
      " 'bornCountryCode': 'AT',\n",
      " 'died': '2016-04-19',\n",
      " 'diedCity': 'Santa Barbara, CA',\n",
      " 'diedCountry': 'USA',\n",
      " 'diedCountryCode': 'US',\n",
      " 'firstname': 'Walter',\n",
      " 'gender': 'male',\n",
      " 'id': '290',\n",
      " 'prizes': [{'affiliations': [{'city': 'Santa Barbara, CA',\n",
      "                               'country': 'USA',\n",
      "                               'name': 'University of California'}],\n",
      "             'category': 'chemistry',\n",
      "             'motivation': '\"for his development of the density-functional '\n",
      "                           'theory\"',\n",
      "             'share': '2',\n",
      "             'year': '1998'}],\n",
      " 'surname': 'Kohn'}\n"
     ]
    }
   ],
   "source": [
    "walter_kohn = db.laureates.find_one({\n",
    "    \"firstname\": \"Walter\",\n",
    "    \"surname\": \"Kohn\"\n",
    "})\n",
    "pprint(walter_kohn)"
   ]
  },
  {
   "cell_type": "code",
   "execution_count": 31,
   "id": "db858741-f35f-456e-ad02-ca6504381676",
   "metadata": {},
   "outputs": [
    {
     "data": {
      "text/plain": [
       "34"
      ]
     },
     "execution_count": 31,
     "metadata": {},
     "output_type": "execute_result"
    }
   ],
   "source": [
    "db.laureates.count_documents({\n",
    "    \"prizes.affiliations.name\": (\"University of California\")\n",
    "})"
   ]
  },
  {
   "cell_type": "code",
   "execution_count": 32,
   "id": "14c42de6-5bbf-47e8-b91b-7f6864966f5a",
   "metadata": {},
   "outputs": [
    {
     "data": {
      "text/plain": [
       "34"
      ]
     },
     "execution_count": 32,
     "metadata": {},
     "output_type": "execute_result"
    }
   ],
   "source": [
    "db.laureates.count_documents({\n",
    "    \"prizes.affiliations.name\": \"University of California\"\n",
    "})"
   ]
  },
  {
   "cell_type": "code",
   "execution_count": 33,
   "id": "ebeac156-e1ae-42cf-8f3b-ef46e3f67b6d",
   "metadata": {},
   "outputs": [
    {
     "data": {
      "text/plain": [
       "19"
      ]
     },
     "execution_count": 33,
     "metadata": {},
     "output_type": "execute_result"
    }
   ],
   "source": [
    "db.laureates.count_documents({\n",
    "    \"prizes.affiliations.city\": (\"Berkeley, CA\")\n",
    "})"
   ]
  },
  {
   "cell_type": "markdown",
   "id": "195da0aa-94af-4a52-9c62-9b00669f3830",
   "metadata": {},
   "source": [
    "### Operator `$exists`"
   ]
  },
  {
   "cell_type": "code",
   "execution_count": 34,
   "id": "8d73e5e1-6ec2-4b79-94b2-91775dac4b1a",
   "metadata": {},
   "outputs": [
    {
     "name": "stdout",
     "output_type": "stream",
     "text": [
      "{'_id': ObjectId('6706d88371ea025ecc3511bb'),\n",
      " 'born': '1932-08-17',\n",
      " 'died': '2018-08-11',\n",
      " 'diedCity': 'London',\n",
      " 'diedCountry': 'United Kingdom',\n",
      " 'diedCountryCode': 'GB',\n",
      " 'firstname': 'Sir Vidiadhar Surajprasad',\n",
      " 'gender': 'male',\n",
      " 'id': '747',\n",
      " 'prizes': [{'affiliations': [[]],\n",
      "             'category': 'literature',\n",
      "             'motivation': '\"for having united perceptive narrative and '\n",
      "                           'incorruptible scrutiny in works that compel us to '\n",
      "                           'see the presence of suppressed histories\"',\n",
      "             'share': '1',\n",
      "             'year': '2001'}],\n",
      " 'surname': 'Naipaul'}\n"
     ]
    }
   ],
   "source": [
    "# No bornCountry for Naipaul\n",
    "pprint(db.laureates.find_one({'surname': 'Naipaul'}))"
   ]
  },
  {
   "cell_type": "code",
   "execution_count": 35,
   "id": "15809e39-862e-4616-a3a8-646ef2149a62",
   "metadata": {},
   "outputs": [
    {
     "data": {
      "text/plain": [
       "33"
      ]
     },
     "execution_count": 35,
     "metadata": {},
     "output_type": "execute_result"
    }
   ],
   "source": [
    "db.laureates.count_documents({\n",
    "    \"bornCountry\": {\"$exists\": False}\n",
    "})"
   ]
  },
  {
   "cell_type": "code",
   "execution_count": 36,
   "id": "04131b0f-f2a7-45d6-a7a1-422b9fb661c9",
   "metadata": {},
   "outputs": [
    {
     "data": {
      "text/plain": [
       "934"
      ]
     },
     "execution_count": 36,
     "metadata": {},
     "output_type": "execute_result"
    }
   ],
   "source": [
    "# Total Documents\n",
    "db.laureates.count_documents({})"
   ]
  },
  {
   "cell_type": "code",
   "execution_count": 37,
   "id": "12d67b54-8a3f-4f12-8265-b82dbbda2d73",
   "metadata": {},
   "outputs": [
    {
     "data": {
      "text/plain": [
       "934"
      ]
     },
     "execution_count": 37,
     "metadata": {},
     "output_type": "execute_result"
    }
   ],
   "source": [
    "# Documents with prize data - All documents have prize data\n",
    "db.laureates.count_documents({\"prizes\": {\"$exists\": True}})"
   ]
  },
  {
   "cell_type": "code",
   "execution_count": 38,
   "id": "5ae4bc94-6148-4f5b-b19f-2b06a608f753",
   "metadata": {},
   "outputs": [
    {
     "data": {
      "text/plain": [
       "934"
      ]
     },
     "execution_count": 38,
     "metadata": {},
     "output_type": "execute_result"
    }
   ],
   "source": [
    "# Accessing the first element of prize data\n",
    "# All laureates have at least one prize\n",
    "db.laureates.count_documents({\"prizes.0\": {\"$exists\": True}})"
   ]
  },
  {
   "cell_type": "code",
   "execution_count": 39,
   "id": "7c627bb9-c9f4-4f46-9e3b-597c5b64baf4",
   "metadata": {},
   "outputs": [
    {
     "data": {
      "text/plain": [
       "6"
      ]
     },
     "execution_count": 39,
     "metadata": {},
     "output_type": "execute_result"
    }
   ],
   "source": [
    "# How many laureates have more than one prize\n",
    "db.laureates.count_documents({\"prizes.1\": {\"$exists\": True}})"
   ]
  },
  {
   "cell_type": "markdown",
   "id": "ac2f94fc-e033-421c-91a1-f885c27a97f3",
   "metadata": {},
   "source": [
    "### Exercises"
   ]
  },
  {
   "cell_type": "code",
   "execution_count": 40,
   "id": "aeeed849-aea5-499e-b921-0c2d2da49d5b",
   "metadata": {},
   "outputs": [
    {
     "data": {
      "text/plain": [
       "10"
      ]
     },
     "execution_count": 40,
     "metadata": {},
     "output_type": "execute_result"
    }
   ],
   "source": [
    "# count the number of laureates born in Austria with a prize affiliation \n",
    "# country that is not also Austria\n",
    "criteria = { \n",
    "    'bornCountry': 'Austria',\n",
    "    'prizes.affiliations.country': { \"$ne\": 'Austria'},\n",
    "}\n",
    "db.laureates.count_documents(criteria)"
   ]
  },
  {
   "cell_type": "code",
   "execution_count": 41,
   "id": "7720541b-bf32-4a5a-9a8a-dff813faad55",
   "metadata": {},
   "outputs": [
    {
     "data": {
      "text/plain": [
       "38"
      ]
     },
     "execution_count": 41,
     "metadata": {},
     "output_type": "execute_result"
    }
   ],
   "source": [
    "# When a birthdate is unknown, the \"born\" field has the value \"0000-00-00\"\n",
    "# counts the number of laureates with unknown born\n",
    "db.laureates.count_documents({\"born\": \"0000-00-00\"})"
   ]
  },
  {
   "cell_type": "code",
   "execution_count": 42,
   "id": "354096c5-6a93-44a8-bdf0-b0dd6ca18abc",
   "metadata": {},
   "outputs": [
    {
     "name": "stdout",
     "output_type": "stream",
     "text": [
      "0\n"
     ]
    }
   ],
   "source": [
    "# Filter for documents without a \"born\" field\n",
    "criteria = {'born': {\"$exists\": False}}\n",
    "count = db.laureates.count_documents(criteria)\n",
    "print(count)"
   ]
  },
  {
   "cell_type": "code",
   "execution_count": 43,
   "id": "77c735e8-c36f-4806-a39f-d86917466fd4",
   "metadata": {},
   "outputs": [
    {
     "name": "stdout",
     "output_type": "stream",
     "text": [
      "{'_id': ObjectId('6706d88371ea025ecc3510a4'),\n",
      " 'born': '0000-00-00',\n",
      " 'died': '0000-00-00',\n",
      " 'firstname': 'Comité international de la Croix Rouge (International Committee '\n",
      "              'of the Red Cross)',\n",
      " 'gender': 'org',\n",
      " 'id': '482',\n",
      " 'prizes': [{'affiliations': [[]],\n",
      "             'category': 'peace',\n",
      "             'share': '1',\n",
      "             'year': '1917'},\n",
      "            {'affiliations': [[]],\n",
      "             'category': 'peace',\n",
      "             'share': '1',\n",
      "             'year': '1944'},\n",
      "            {'affiliations': [[]],\n",
      "             'category': 'peace',\n",
      "             'share': '2',\n",
      "             'year': '1963'}]}\n"
     ]
    }
   ],
   "source": [
    "# Find a document for a laureate with at least three \n",
    "# elements in its \"prizes\" array\n",
    "criteria = {\"prizes.2\": {\"$exists\": True}}\n",
    "doc = db.laureates.find_one(criteria)\n",
    "pprint(doc)"
   ]
  },
  {
   "cell_type": "markdown",
   "id": "1329a3ca-6563-4e78-a82c-3a7e7da681f2",
   "metadata": {},
   "source": [
    "--------------------------------"
   ]
  },
  {
   "cell_type": "code",
   "execution_count": 44,
   "id": "9c6180ca-9a16-4124-bcf6-515ede620c5e",
   "metadata": {},
   "outputs": [],
   "source": [
    "# close MongoDB connection\n",
    "client.close()"
   ]
  },
  {
   "cell_type": "markdown",
   "id": "c1f54b76-75c5-4c71-ba5e-634fb86e4718",
   "metadata": {},
   "source": [
    "----------------------------------"
   ]
  }
 ],
 "metadata": {
  "kernelspec": {
   "display_name": "Python 3 (ipykernel)",
   "language": "python",
   "name": "python3"
  },
  "language_info": {
   "codemirror_mode": {
    "name": "ipython",
    "version": 3
   },
   "file_extension": ".py",
   "mimetype": "text/x-python",
   "name": "python",
   "nbconvert_exporter": "python",
   "pygments_lexer": "ipython3",
   "version": "3.12.7"
  }
 },
 "nbformat": 4,
 "nbformat_minor": 5
}
