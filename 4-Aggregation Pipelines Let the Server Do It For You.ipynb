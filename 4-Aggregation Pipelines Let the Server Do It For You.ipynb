{
 "cells": [
  {
   "cell_type": "markdown",
   "id": "0b5ad1c8-b89f-4dfc-a219-f0925565538a",
   "metadata": {},
   "source": [
    "# 4. Aggregation Pipelines: Let the Server Do It For You\n",
    "\n",
    "You've used projection, sorting, indexing, and limits to speed up data fetching. But there are still annoying performance bottlenecks in your analysis pipelines. You still need to fetch a ton of data. Thus, network bandwidth and downstream processing and memory capacity still impact performance. This chapter is about using MongoDB to perform aggregations for you on the server."
   ]
  },
  {
   "cell_type": "code",
   "execution_count": 1,
   "id": "59aba337-96a2-4d40-90f9-30014f406d12",
   "metadata": {},
   "outputs": [],
   "source": [
    "# Importing libraries\n",
    "import expectexception\n",
    "\n",
    "from pymongo import MongoClient\n",
    "from pprint import pprint\n",
    "\n",
    "from collections import OrderedDict\n",
    "from itertools import groupby\n",
    "from operator import itemgetter\n",
    "from pymongo.errors import OperationFailure"
   ]
  },
  {
   "cell_type": "code",
   "execution_count": 2,
   "id": "eb00ccc5-5d21-418a-b590-9968b2140c83",
   "metadata": {},
   "outputs": [],
   "source": [
    "# Instantiating the mongodb client\n",
    "client = MongoClient()\n",
    "\n",
    "# Create local \"nobel\" database on the fly\n",
    "db = client[\"nobel\"]"
   ]
  },
  {
   "cell_type": "markdown",
   "id": "5f49d653-38ad-48f8-bbb6-38dd195206f2",
   "metadata": {},
   "source": [
    "## 4.1 Intro to Aggregation\n",
    "\n",
    "### Queries have implicit stages"
   ]
  },
  {
   "cell_type": "code",
   "execution_count": 3,
   "id": "fc4f54aa-b94a-47bd-912f-1395606d314e",
   "metadata": {},
   "outputs": [
    {
     "name": "stdout",
     "output_type": "stream",
     "text": [
      "[{'year': '1972'}]\n",
      "[{'year': '1972'}]\n",
      "[{'year': '1975'}]\n"
     ]
    }
   ],
   "source": [
    "# Using find method\n",
    "cursor = db.laureates.find(\n",
    "    filter={\"bornCountry\": \"USA\"},\n",
    "    projection={\"prizes.year\": 1},\n",
    "    limit=3\n",
    ")\n",
    "for doc in cursor:\n",
    "    print(doc[\"prizes\"])"
   ]
  },
  {
   "cell_type": "code",
   "execution_count": 4,
   "id": "838329fb-7f20-44c1-8add-57a3842ab584",
   "metadata": {},
   "outputs": [
    {
     "name": "stdout",
     "output_type": "stream",
     "text": [
      "[{'year': '1972'}]\n",
      "[{'year': '1972'}]\n",
      "[{'year': '1975'}]\n"
     ]
    }
   ],
   "source": [
    "# Using aggregation method\n",
    "cursor = db.laureates.aggregate([\n",
    "    {\"$match\": {\"bornCountry\": \"USA\"}},\n",
    "    {\"$project\": {\"prizes.year\": 1}},\n",
    "    {\"$limit\": 3}\n",
    "])\n",
    "for doc in cursor:\n",
    "    print(doc[\"prizes\"])"
   ]
  },
  {
   "cell_type": "markdown",
   "id": "37768207-c625-4291-95e6-53789671efe2",
   "metadata": {},
   "source": [
    "### Adding sort and skip stages"
   ]
  },
  {
   "cell_type": "code",
   "execution_count": 5,
   "id": "2f595042-fdc1-4f6f-bde3-c76bf0210c78",
   "metadata": {},
   "outputs": [
    {
     "data": {
      "text/plain": [
       "[{'prizes': [{'year': '1912'}]},\n",
       " {'prizes': [{'year': '1914'}]},\n",
       " {'prizes': [{'year': '1919'}]}]"
      ]
     },
     "execution_count": 5,
     "metadata": {},
     "output_type": "execute_result"
    }
   ],
   "source": [
    "list(db.laureates.aggregate([\n",
    "    {\"$match\": {\"bornCountry\": \"USA\"}},\n",
    "    {\"$project\": {\"prizes.year\": 1, \"_id\": 0}},\n",
    "    {\"$sort\": OrderedDict([(\"prizes.year\", 1)])},\n",
    "    {\"$skip\": 1},\n",
    "    {\"$limit\": 3}\n",
    "]))"
   ]
  },
  {
   "cell_type": "markdown",
   "id": "bfd52c8e-834b-4ede-b856-1dea5e0e0e24",
   "metadata": {},
   "source": [
    "### But can I count?"
   ]
  },
  {
   "cell_type": "code",
   "execution_count": 6,
   "id": "c177d79b-42ed-43e6-9cef-987c93defd64",
   "metadata": {},
   "outputs": [
    {
     "data": {
      "text/plain": [
       "[{'n_USA-born-laureates': 269}]"
      ]
     },
     "execution_count": 6,
     "metadata": {},
     "output_type": "execute_result"
    }
   ],
   "source": [
    "# Using agregations\n",
    "list(db.laureates.aggregate([\n",
    "    {\"$match\": {\"bornCountry\": \"USA\"}},\n",
    "    {\"$count\": \"n_USA-born-laureates\"}\n",
    "]))"
   ]
  },
  {
   "cell_type": "code",
   "execution_count": 7,
   "id": "bdb2cae1-e643-412b-9196-a89dc42c7006",
   "metadata": {},
   "outputs": [
    {
     "data": {
      "text/plain": [
       "269"
      ]
     },
     "execution_count": 7,
     "metadata": {},
     "output_type": "execute_result"
    }
   ],
   "source": [
    "# Using count documents\n",
    "db.laureates.count_documents({\"bornCountry\": \"USA\"})"
   ]
  },
  {
   "cell_type": "markdown",
   "id": "60149eb7-587b-48c8-a2b7-85e97007ce54",
   "metadata": {},
   "source": [
    "### Excercises\n",
    "#### Sequencing stages"
   ]
  },
  {
   "cell_type": "code",
   "execution_count": 8,
   "id": "9673de34-72a5-4480-b690-bcf67698fdec",
   "metadata": {},
   "outputs": [],
   "source": [
    "# Here is a cursor, followed by four aggregation pipeline stages\n",
    "cursor = (db.laureates.find(projection={\"firstname\": 1, \n",
    "                                        \"prizes.year\": 1, \n",
    "                                        \"_id\": 0},\n",
    "                            filter={\"gender\": \"org\"})\n",
    "                      .limit(3)\n",
    "                      .sort(\"prizes.year\", -1))\n",
    "\n",
    "# What sequence pipeline of the above four stages can produce a \n",
    "# cursor db.laureates.aggregate(pipeline) equivalent to cursor above?\n",
    "project_stage = {\"$project\": {\"firstname\": 1, \"prizes.year\": 1, \"_id\": 0}}\n",
    "match_stage = {\"$match\": {\"gender\": \"org\"}}\n",
    "limit_stage = {\"$limit\": 3}\n",
    "sort_stage = {\"$sort\": {\"prizes.year\": -1}}\n",
    "\n",
    "cursor_agg = db.laureates.aggregate([match_stage, project_stage, sort_stage, limit_stage])\n",
    "assert list(cursor) == list(cursor_agg)"
   ]
  },
  {
   "cell_type": "markdown",
   "id": "89a22a87-f320-4b52-8f96-12d2e639625d",
   "metadata": {},
   "source": [
    "#### Aggregating a few individuals' country data"
   ]
  },
  {
   "cell_type": "code",
   "execution_count": 9,
   "id": "0bea1527-a99f-4d11-95e6-63c47e736aa5",
   "metadata": {},
   "outputs": [],
   "source": [
    "# Translate the below cursor cursor to an equivalent aggregation cursor, \n",
    "cursor = (db.laureates.find(\n",
    "    filter={\"gender\": {\"$ne\": \"org\"}},\n",
    "    projection=[\"bornCountry\", \"prizes.affiliations.country\"]\n",
    ").limit(3))\n",
    "\n",
    "pipeline = [\n",
    "    {'$match': {'gender': {\"$ne\": \"org\"}}},\n",
    "    {'$project': {'bornCountry': 1, 'prizes.affiliations.country': 1}},\n",
    "    {'$limit': 3}\n",
    "]\n",
    "cursor_agg = db.laureates.aggregate(pipeline)\n",
    "assert list(cursor) == list(cursor_agg)"
   ]
  },
  {
   "cell_type": "markdown",
   "id": "c2f0a8a2-8c85-4329-b6c7-80802a4746c8",
   "metadata": {},
   "source": [
    "#### Passing the aggregation baton to Python\n",
    "\n",
    "Construct an aggregation pipeline to collect, in reverse chronological order (i.e., descending year), prize documents for all original categories (that is, $in categories awarded in 1901). Project only the prize year and category (including document _id is fine).\n",
    "\n",
    "The aggregation cursor will be fed to Python's itertools.groupby function to group prizes by year. For each year that at least one of the original prize categories was missing, a line with all missing categories for that year will be printed."
   ]
  },
  {
   "cell_type": "code",
   "execution_count": 10,
   "id": "7c7450b8-b99d-49a4-b943-b9e6ec70a405",
   "metadata": {},
   "outputs": [
    {
     "name": "stdout",
     "output_type": "stream",
     "text": [
      "2018: literature\n",
      "1972: peace\n",
      "1967: peace\n",
      "1966: peace\n",
      "1956: peace\n",
      "1955: peace\n",
      "1948: peace\n",
      "1943: literature, peace\n",
      "1939: peace\n",
      "1935: literature\n",
      "1934: physics\n",
      "1933: chemistry\n",
      "1932: peace\n",
      "1931: physics\n",
      "1928: peace\n",
      "1925: medicine\n",
      "1924: chemistry, peace\n",
      "1923: peace\n",
      "1921: medicine\n",
      "1919: chemistry\n",
      "1918: literature, medicine, peace\n",
      "1917: chemistry, medicine\n",
      "1916: chemistry, medicine, peace, physics\n",
      "1915: medicine, peace\n",
      "1914: literature, peace\n"
     ]
    }
   ],
   "source": [
    "# Getting categories in 1901\n",
    "original_categories = set(db.prizes.distinct(\"category\", {\"year\": \"1901\"}))\n",
    "\n",
    "# Save an pipeline to collect original-category prizes\n",
    "pipeline = [\n",
    "    {'$match': {'category': {'$in': list(original_categories)}}},\n",
    "    {'$project': {'year': 1, 'category': 1}},\n",
    "    {'$sort': OrderedDict([('year', -1)])}   # To preserve the order in the dictionary\n",
    "]\n",
    "cursor = db.prizes.aggregate(pipeline)\n",
    "for key, group in groupby(cursor, key=itemgetter(\"year\")):\n",
    "    missing = original_categories - {doc[\"category\"] for doc in group}\n",
    "    if missing:\n",
    "        print(\"{year}: {missing}\".format(year=key, missing=\", \".join(sorted(missing))))"
   ]
  },
  {
   "cell_type": "markdown",
   "id": "6e75a06e-f38d-45e4-9e41-cc01fc71ebb1",
   "metadata": {},
   "source": [
    "## 4.2 Aggregation Operators and Grouping\n",
    "\n",
    "### Field paths"
   ]
  },
  {
   "cell_type": "code",
   "execution_count": 11,
   "id": "6c37dd6c-8f2f-4cae-b91e-d3896f651f3e",
   "metadata": {},
   "outputs": [
    {
     "name": "stdout",
     "output_type": "stream",
     "text": [
      "{'_id': ObjectId('6706d88371ea025ecc350f6e'),\n",
      " 'born': '1853-07-18',\n",
      " 'bornCity': 'Arnhem',\n",
      " 'bornCountry': 'the Netherlands',\n",
      " 'bornCountryCode': 'NL',\n",
      " 'died': '1928-02-04',\n",
      " 'diedCountry': 'the Netherlands',\n",
      " 'diedCountryCode': 'NL',\n",
      " 'firstname': 'Hendrik Antoon',\n",
      " 'gender': 'male',\n",
      " 'id': '2',\n",
      " 'prizes': [{'affiliations': [{'city': 'Leiden',\n",
      "                               'country': 'the Netherlands',\n",
      "                               'name': 'Leiden University'}],\n",
      "             'category': 'physics',\n",
      "             'motivation': '\"in recognition of the extraordinary service they '\n",
      "                           'rendered by their researches into the influence of '\n",
      "                           'magnetism upon radiation phenomena\"',\n",
      "             'share': '2',\n",
      "             'year': '1902'}],\n",
      " 'surname': 'Lorentz'}\n"
     ]
    }
   ],
   "source": [
    "# reviewing the collection\n",
    "pprint(db.laureates.find_one({}))"
   ]
  },
  {
   "cell_type": "code",
   "execution_count": 12,
   "id": "ef9c1af4-bb5a-4009-807e-75c8517cf21d",
   "metadata": {},
   "outputs": [
    {
     "data": {
      "text/plain": [
       "6"
      ]
     },
     "execution_count": 12,
     "metadata": {},
     "output_type": "execute_result"
    }
   ],
   "source": [
    "db.laureates.count_documents({'prizes.1': {'$exists': True}})"
   ]
  },
  {
   "cell_type": "code",
   "execution_count": 13,
   "id": "e49b4214-4e14-417e-b284-e2f793a746ba",
   "metadata": {},
   "outputs": [
    {
     "data": {
      "text/plain": [
       "{'_id': ObjectId('6706d88371ea025ecc350fab'),\n",
       " 'prizes': [{'share': '1'}, {'share': '1'}]}"
      ]
     },
     "execution_count": 13,
     "metadata": {},
     "output_type": "execute_result"
    }
   ],
   "source": [
    "# Using expression object\n",
    "db.laureates.aggregate([\n",
    "    {\"$match\": {'prizes.1': {'$exists': True}}},\n",
    "    {\"$project\": {\"prizes.share\": 1}}\n",
    "]).next()"
   ]
  },
  {
   "cell_type": "code",
   "execution_count": 14,
   "id": "96f36271-139d-4cc7-8796-02285dde3098",
   "metadata": {},
   "outputs": [
    {
     "data": {
      "text/plain": [
       "{'_id': ObjectId('6706d88371ea025ecc350fab'), 'n_prizes': 2}"
      ]
     },
     "execution_count": 14,
     "metadata": {},
     "output_type": "execute_result"
    }
   ],
   "source": [
    "# Counting prizes per laureate\n",
    "db.laureates.aggregate([\n",
    "    {\"$match\": {'prizes.1': {'$exists': True}}},\n",
    "    {\"$project\": {\"n_prizes\": {\"$size\": \"$prizes\"}}}\n",
    "]).next()"
   ]
  },
  {
   "cell_type": "code",
   "execution_count": 15,
   "id": "9526146d-fff2-4454-b54a-28152d737426",
   "metadata": {},
   "outputs": [
    {
     "data": {
      "text/plain": [
       "{'_id': ObjectId('6706d88371ea025ecc350fab'), 'prizes_share': ['1', '1']}"
      ]
     },
     "execution_count": 15,
     "metadata": {},
     "output_type": "execute_result"
    }
   ],
   "source": [
    "# Renaming prizes.share to prize_share\n",
    "db.laureates.aggregate([\n",
    "    {\"$match\": {'prizes.1': {'$exists': True}}},\n",
    "    {\"$project\": {\"prizes_share\": \"$prizes.share\"}}\n",
    "]).next()"
   ]
  },
  {
   "cell_type": "code",
   "execution_count": 16,
   "id": "cfb911cb-0417-4816-979a-5449091c7b75",
   "metadata": {},
   "outputs": [
    {
     "data": {
      "text/plain": [
       "{'_id': ObjectId('6706d88371ea025ecc350fab'),\n",
       " 'firstname': 'Linus Carl',\n",
       " 'last_name': 'Pauling'}"
      ]
     },
     "execution_count": 16,
     "metadata": {},
     "output_type": "execute_result"
    }
   ],
   "source": [
    "# Renaming surname to lastname\n",
    "db.laureates.aggregate([\n",
    "    {\"$match\": {'prizes.1': {'$exists': True}}},\n",
    "    {\"$project\": {\"last_name\": \"$surname\", \"firstname\": 1}}\n",
    "]).next()"
   ]
  },
  {
   "cell_type": "markdown",
   "id": "2e08d2cc-c01c-4858-86e2-46f2ebd76956",
   "metadata": {},
   "source": [
    "### Operator expressions"
   ]
  },
  {
   "cell_type": "code",
   "execution_count": 17,
   "id": "597fe351-d678-4f26-86c0-600d2921e5ba",
   "metadata": {},
   "outputs": [
    {
     "data": {
      "text/plain": [
       "{'_id': ObjectId('6706d88371ea025ecc350fab'), 'n_prizes': 2}"
      ]
     },
     "execution_count": 17,
     "metadata": {},
     "output_type": "execute_result"
    }
   ],
   "source": [
    "# the operator expression, which treats an operator as a function\n",
    "db.laureates.aggregate([\n",
    "    {\"$match\": {'prizes.1': {'$exists': True}}},\n",
    "    {\"$project\": {\"n_prizes\": {\"$size\": \"$prizes\"}}}\n",
    "]).next()"
   ]
  },
  {
   "cell_type": "code",
   "execution_count": 18,
   "id": "fbeb073e-de2f-4214-9e6d-4cd9734da1d2",
   "metadata": {},
   "outputs": [
    {
     "data": {
      "text/plain": [
       "{'_id': ObjectId('6706d88371ea025ecc350fab'), 'n_prizes': 2}"
      ]
     },
     "execution_count": 18,
     "metadata": {},
     "output_type": "execute_result"
    }
   ],
   "source": [
    "# We could also write the operator expression as taking \n",
    "# a list of one element, and we get the same result. \n",
    "# For convenience, when an operator only has one parameter, \n",
    "# we can omit the brackets as above.\n",
    "db.laureates.aggregate([\n",
    "    {\"$match\": {'prizes.1': {'$exists': True}}},\n",
    "    {\"$project\": {\"n_prizes\": {\"$size\": [\"$prizes\"]}}}\n",
    "]).next()"
   ]
  },
  {
   "cell_type": "markdown",
   "id": "a39331b7-1e73-44e7-9216-cc99e13f7c77",
   "metadata": {},
   "source": [
    "### Multi-parameter operator"
   ]
  },
  {
   "cell_type": "code",
   "execution_count": 19,
   "id": "dbd277ee-8c0e-4a31-b29a-680977e84723",
   "metadata": {},
   "outputs": [
    {
     "data": {
      "text/plain": [
       "{'_id': ObjectId('6706d88371ea025ecc350f6e'),\n",
       " 'prizes': [{'share': '2'}],\n",
       " 'solo_winner': False,\n",
       " 'n_prizes': 1}"
      ]
     },
     "execution_count": 19,
     "metadata": {},
     "output_type": "execute_result"
    }
   ],
   "source": [
    "# For example, here I use the dollar-in operator, \n",
    "# which takes two parameters. To get the array of \n",
    "# prize shares for a laureate, I use a field path. \n",
    "# I then project a new field, \"solo winner\", which \n",
    "# is true if and only if the array of prize shares \n",
    "# contains the string value \"1\".\n",
    "db.laureates.aggregate([\n",
    "    {\"$project\": {\"solo_winner\": {\"$in\": ['1', \"$prizes.share\"]},\n",
    "                  \"n_prizes\": {\"$size\": \"$prizes\"},\n",
    "                  \"prizes.share\": 1}}\n",
    "]).next()"
   ]
  },
  {
   "cell_type": "markdown",
   "id": "6033c602-27c8-45b7-92f5-338208df1fb5",
   "metadata": {},
   "source": [
    "### Implementing .distinct()\n",
    "\n",
    "A group stage takes an expression object that must map the underscore-id field. As for any MongoDB document, the underscore-id field must be unique. In this case, each output document will have as its id a distinct value of the bornCountry field. All bornCountry values get captured because no match stage precedes the group stage. Thus, our list comprehension collecting id values collects all distinct bornCountry values. This includes the value None, which happens when a field is not present in a document."
   ]
  },
  {
   "cell_type": "code",
   "execution_count": 20,
   "id": "d8cb7332-a604-4e24-8785-d8d767c5dd69",
   "metadata": {},
   "outputs": [
    {
     "name": "stdout",
     "output_type": "stream",
     "text": [
      "121\n",
      "121\n",
      "True\n"
     ]
    }
   ],
   "source": [
    "# Using distinct\n",
    "list_1 = set(db.laureates.distinct(\"bornCountry\"))\n",
    "print(len(list_1))  # Include None\n",
    "\n",
    "# Using $group\n",
    "list_2 = [doc[\"_id\"] \n",
    "          for doc in db.laureates.aggregate([\n",
    "             {\"$group\": {\"_id\": \"$bornCountry\"}}\n",
    "         ])]\n",
    "print(len(list_2))  # Include None\n",
    "\n",
    "print(set(list_2) == set(list_1))"
   ]
  },
  {
   "cell_type": "code",
   "execution_count": 21,
   "id": "65d19522-c422-4752-83c0-85f981bc8f46",
   "metadata": {},
   "outputs": [
    {
     "name": "stdout",
     "output_type": "stream",
     "text": [
      "['Germany (now Russia)',\n",
      " 'British India (now Bangladesh)',\n",
      " 'Nigeria',\n",
      " 'Prussia (now Russia)',\n",
      " 'Russia']\n",
      "[{'_id': None},\n",
      " {'_id': 'Argentina'},\n",
      " {'_id': 'Australia'},\n",
      " {'_id': 'Austria'},\n",
      " {'_id': 'Austria-Hungary (now Austria)'}]\n"
     ]
    }
   ],
   "source": [
    "# Reviewing the created lists\n",
    "pprint(list(list_1)[:5])\n",
    "pprint(list(db.laureates.aggregate([{\"$group\": {\"_id\": \"$bornCountry\"}}]))[:5])"
   ]
  },
  {
   "cell_type": "markdown",
   "id": "c1bc12bd-127a-482e-8f06-a6f84946fa95",
   "metadata": {},
   "source": [
    "### How many prizes have been awarded in total?"
   ]
  },
  {
   "cell_type": "code",
   "execution_count": 22,
   "id": "943e35ea-ab03-44d1-828f-f30fb41d9b9a",
   "metadata": {},
   "outputs": [
    {
     "data": {
      "text/plain": [
       "[{'_id': None, 'n_prizes_total': 941}]"
      ]
     },
     "execution_count": 22,
     "metadata": {},
     "output_type": "execute_result"
    }
   ],
   "source": [
    "# A group stage takes an expression object that must map the underscore-id field\n",
    "list(db.laureates.aggregate([\n",
    "    {\"$project\": {\"n_prizes\": {\"$size\": \"$prizes\"}}},\n",
    "    {\"$group\": {\"_id\": None, \"n_prizes_total\": {\"$sum\": \"$n_prizes\"}}}\n",
    "]))"
   ]
  },
  {
   "cell_type": "code",
   "execution_count": 23,
   "id": "7d53c196-9fc6-4a1c-86fc-1f32d4598b9b",
   "metadata": {},
   "outputs": [
    {
     "name": "stdout",
     "output_type": "stream",
     "text": [
      "\u001b[1;31m---------------------------------------------------------------------------\u001b[0m\n",
      "\u001b[1;31mOperationFailure\u001b[0m                          Traceback (most recent call last)\n",
      "Cell \u001b[1;32mIn[23], line 2\u001b[0m\n",
      "\u001b[0;32m      1\u001b[0m \u001b[38;5;66;03m# a group specification must include an _id\u001b[39;00m\n",
      "\u001b[1;32m----> 2\u001b[0m \u001b[38;5;28mlist\u001b[39m(\u001b[43mdb\u001b[49m\u001b[38;5;241;43m.\u001b[39;49m\u001b[43mlaureates\u001b[49m\u001b[38;5;241;43m.\u001b[39;49m\u001b[43maggregate\u001b[49m\u001b[43m(\u001b[49m\u001b[43m[\u001b[49m\n",
      "\u001b[0;32m      3\u001b[0m \u001b[43m    \u001b[49m\u001b[43m{\u001b[49m\u001b[38;5;124;43m\"\u001b[39;49m\u001b[38;5;124;43m$project\u001b[39;49m\u001b[38;5;124;43m\"\u001b[39;49m\u001b[43m:\u001b[49m\u001b[43m \u001b[49m\u001b[43m{\u001b[49m\u001b[38;5;124;43m\"\u001b[39;49m\u001b[38;5;124;43mn_prizes\u001b[39;49m\u001b[38;5;124;43m\"\u001b[39;49m\u001b[43m:\u001b[49m\u001b[43m \u001b[49m\u001b[43m{\u001b[49m\u001b[38;5;124;43m\"\u001b[39;49m\u001b[38;5;124;43m$size\u001b[39;49m\u001b[38;5;124;43m\"\u001b[39;49m\u001b[43m:\u001b[49m\u001b[43m \u001b[49m\u001b[38;5;124;43m\"\u001b[39;49m\u001b[38;5;124;43m$prizes\u001b[39;49m\u001b[38;5;124;43m\"\u001b[39;49m\u001b[43m}\u001b[49m\u001b[43m}\u001b[49m\u001b[43m}\u001b[49m\u001b[43m,\u001b[49m\n",
      "\u001b[0;32m      4\u001b[0m \u001b[43m    \u001b[49m\u001b[43m{\u001b[49m\u001b[38;5;124;43m\"\u001b[39;49m\u001b[38;5;124;43m$group\u001b[39;49m\u001b[38;5;124;43m\"\u001b[39;49m\u001b[43m:\u001b[49m\u001b[43m \u001b[49m\u001b[43m{\u001b[49m\u001b[38;5;124;43m\"\u001b[39;49m\u001b[38;5;124;43mn_prizes_total\u001b[39;49m\u001b[38;5;124;43m\"\u001b[39;49m\u001b[43m:\u001b[49m\u001b[43m \u001b[49m\u001b[43m{\u001b[49m\u001b[38;5;124;43m\"\u001b[39;49m\u001b[38;5;124;43m$sum\u001b[39;49m\u001b[38;5;124;43m\"\u001b[39;49m\u001b[43m:\u001b[49m\u001b[43m \u001b[49m\u001b[38;5;124;43m\"\u001b[39;49m\u001b[38;5;124;43m$n_prizes\u001b[39;49m\u001b[38;5;124;43m\"\u001b[39;49m\u001b[43m}\u001b[49m\u001b[43m}\u001b[49m\u001b[43m}\u001b[49m\n",
      "\u001b[0;32m      5\u001b[0m \u001b[43m]\u001b[49m\u001b[43m)\u001b[49m)\n",
      "\n",
      "File \u001b[1;32mC:\\ProgramData\\anaconda3\\envs\\mongo\\Lib\\site-packages\\pymongo\\collection.py:2696\u001b[0m, in \u001b[0;36mCollection.aggregate\u001b[1;34m(self, pipeline, session, let, comment, **kwargs)\u001b[0m\n",
      "\u001b[0;32m   2620\u001b[0m \u001b[38;5;250m\u001b[39m\u001b[38;5;124;03m\"\"\"Perform an aggregation using the aggregation framework on this\u001b[39;00m\n",
      "\u001b[0;32m   2621\u001b[0m \u001b[38;5;124;03mcollection.\u001b[39;00m\n",
      "\u001b[0;32m   2622\u001b[0m \n",
      "\u001b[1;32m   (...)\u001b[0m\n",
      "\u001b[0;32m   2693\u001b[0m \u001b[38;5;124;03m    https://mongodb.com/docs/manual/reference/command/aggregate\u001b[39;00m\n",
      "\u001b[0;32m   2694\u001b[0m \u001b[38;5;124;03m\"\"\"\u001b[39;00m\n",
      "\u001b[0;32m   2695\u001b[0m \u001b[38;5;28;01mwith\u001b[39;00m \u001b[38;5;28mself\u001b[39m\u001b[38;5;241m.\u001b[39m__database\u001b[38;5;241m.\u001b[39mclient\u001b[38;5;241m.\u001b[39m_tmp_session(session, close\u001b[38;5;241m=\u001b[39m\u001b[38;5;28;01mFalse\u001b[39;00m) \u001b[38;5;28;01mas\u001b[39;00m s:\n",
      "\u001b[1;32m-> 2696\u001b[0m     \u001b[38;5;28;01mreturn\u001b[39;00m \u001b[38;5;28;43mself\u001b[39;49m\u001b[38;5;241;43m.\u001b[39;49m\u001b[43m_aggregate\u001b[49m\u001b[43m(\u001b[49m\n",
      "\u001b[0;32m   2697\u001b[0m \u001b[43m        \u001b[49m\u001b[43m_CollectionAggregationCommand\u001b[49m\u001b[43m,\u001b[49m\n",
      "\u001b[0;32m   2698\u001b[0m \u001b[43m        \u001b[49m\u001b[43mpipeline\u001b[49m\u001b[43m,\u001b[49m\n",
      "\u001b[0;32m   2699\u001b[0m \u001b[43m        \u001b[49m\u001b[43mCommandCursor\u001b[49m\u001b[43m,\u001b[49m\n",
      "\u001b[0;32m   2700\u001b[0m \u001b[43m        \u001b[49m\u001b[43msession\u001b[49m\u001b[38;5;241;43m=\u001b[39;49m\u001b[43ms\u001b[49m\u001b[43m,\u001b[49m\n",
      "\u001b[0;32m   2701\u001b[0m \u001b[43m        \u001b[49m\u001b[43mexplicit_session\u001b[49m\u001b[38;5;241;43m=\u001b[39;49m\u001b[43msession\u001b[49m\u001b[43m \u001b[49m\u001b[38;5;129;43;01mis\u001b[39;49;00m\u001b[43m \u001b[49m\u001b[38;5;129;43;01mnot\u001b[39;49;00m\u001b[43m \u001b[49m\u001b[38;5;28;43;01mNone\u001b[39;49;00m\u001b[43m,\u001b[49m\n",
      "\u001b[0;32m   2702\u001b[0m \u001b[43m        \u001b[49m\u001b[43mlet\u001b[49m\u001b[38;5;241;43m=\u001b[39;49m\u001b[43mlet\u001b[49m\u001b[43m,\u001b[49m\n",
      "\u001b[0;32m   2703\u001b[0m \u001b[43m        \u001b[49m\u001b[43mcomment\u001b[49m\u001b[38;5;241;43m=\u001b[39;49m\u001b[43mcomment\u001b[49m\u001b[43m,\u001b[49m\n",
      "\u001b[0;32m   2704\u001b[0m \u001b[43m        \u001b[49m\u001b[38;5;241;43m*\u001b[39;49m\u001b[38;5;241;43m*\u001b[39;49m\u001b[43mkwargs\u001b[49m\u001b[43m,\u001b[49m\n",
      "\u001b[0;32m   2705\u001b[0m \u001b[43m    \u001b[49m\u001b[43m)\u001b[49m\n",
      "\n",
      "File \u001b[1;32mC:\\ProgramData\\anaconda3\\envs\\mongo\\Lib\\site-packages\\pymongo\\_csot.py:108\u001b[0m, in \u001b[0;36mapply.<locals>.csot_wrapper\u001b[1;34m(self, *args, **kwargs)\u001b[0m\n",
      "\u001b[0;32m    106\u001b[0m         \u001b[38;5;28;01mwith\u001b[39;00m _TimeoutContext(timeout):\n",
      "\u001b[0;32m    107\u001b[0m             \u001b[38;5;28;01mreturn\u001b[39;00m func(\u001b[38;5;28mself\u001b[39m, \u001b[38;5;241m*\u001b[39margs, \u001b[38;5;241m*\u001b[39m\u001b[38;5;241m*\u001b[39mkwargs)\n",
      "\u001b[1;32m--> 108\u001b[0m \u001b[38;5;28;01mreturn\u001b[39;00m \u001b[43mfunc\u001b[49m\u001b[43m(\u001b[49m\u001b[38;5;28;43mself\u001b[39;49m\u001b[43m,\u001b[49m\u001b[43m \u001b[49m\u001b[38;5;241;43m*\u001b[39;49m\u001b[43margs\u001b[49m\u001b[43m,\u001b[49m\u001b[43m \u001b[49m\u001b[38;5;241;43m*\u001b[39;49m\u001b[38;5;241;43m*\u001b[39;49m\u001b[43mkwargs\u001b[49m\u001b[43m)\u001b[49m\n",
      "\n",
      "File \u001b[1;32mC:\\ProgramData\\anaconda3\\envs\\mongo\\Lib\\site-packages\\pymongo\\collection.py:2604\u001b[0m, in \u001b[0;36mCollection._aggregate\u001b[1;34m(self, aggregation_command, pipeline, cursor_class, session, explicit_session, let, comment, **kwargs)\u001b[0m\n",
      "\u001b[0;32m   2593\u001b[0m     kwargs[\u001b[38;5;124m\"\u001b[39m\u001b[38;5;124mcomment\u001b[39m\u001b[38;5;124m\"\u001b[39m] \u001b[38;5;241m=\u001b[39m comment\n",
      "\u001b[0;32m   2594\u001b[0m cmd \u001b[38;5;241m=\u001b[39m aggregation_command(\n",
      "\u001b[0;32m   2595\u001b[0m     \u001b[38;5;28mself\u001b[39m,\n",
      "\u001b[0;32m   2596\u001b[0m     cursor_class,\n",
      "\u001b[1;32m   (...)\u001b[0m\n",
      "\u001b[0;32m   2601\u001b[0m     user_fields\u001b[38;5;241m=\u001b[39m{\u001b[38;5;124m\"\u001b[39m\u001b[38;5;124mcursor\u001b[39m\u001b[38;5;124m\"\u001b[39m: {\u001b[38;5;124m\"\u001b[39m\u001b[38;5;124mfirstBatch\u001b[39m\u001b[38;5;124m\"\u001b[39m: \u001b[38;5;241m1\u001b[39m}},\n",
      "\u001b[0;32m   2602\u001b[0m )\n",
      "\u001b[1;32m-> 2604\u001b[0m \u001b[38;5;28;01mreturn\u001b[39;00m \u001b[38;5;28;43mself\u001b[39;49m\u001b[38;5;241;43m.\u001b[39;49m\u001b[43m__database\u001b[49m\u001b[38;5;241;43m.\u001b[39;49m\u001b[43mclient\u001b[49m\u001b[38;5;241;43m.\u001b[39;49m\u001b[43m_retryable_read\u001b[49m\u001b[43m(\u001b[49m\n",
      "\u001b[0;32m   2605\u001b[0m \u001b[43m    \u001b[49m\u001b[43mcmd\u001b[49m\u001b[38;5;241;43m.\u001b[39;49m\u001b[43mget_cursor\u001b[49m\u001b[43m,\u001b[49m\n",
      "\u001b[0;32m   2606\u001b[0m \u001b[43m    \u001b[49m\u001b[43mcmd\u001b[49m\u001b[38;5;241;43m.\u001b[39;49m\u001b[43mget_read_preference\u001b[49m\u001b[43m(\u001b[49m\u001b[43msession\u001b[49m\u001b[43m)\u001b[49m\u001b[43m,\u001b[49m\u001b[43m  \u001b[49m\u001b[38;5;66;43;03m# type: ignore[arg-type]\u001b[39;49;00m\n",
      "\u001b[0;32m   2607\u001b[0m \u001b[43m    \u001b[49m\u001b[43msession\u001b[49m\u001b[43m,\u001b[49m\n",
      "\u001b[0;32m   2608\u001b[0m \u001b[43m    \u001b[49m\u001b[43mretryable\u001b[49m\u001b[38;5;241;43m=\u001b[39;49m\u001b[38;5;129;43;01mnot\u001b[39;49;00m\u001b[43m \u001b[49m\u001b[43mcmd\u001b[49m\u001b[38;5;241;43m.\u001b[39;49m\u001b[43m_performs_write\u001b[49m\u001b[43m,\u001b[49m\n",
      "\u001b[0;32m   2609\u001b[0m \u001b[43m    \u001b[49m\u001b[43moperation\u001b[49m\u001b[38;5;241;43m=\u001b[39;49m\u001b[43m_Op\u001b[49m\u001b[38;5;241;43m.\u001b[39;49m\u001b[43mAGGREGATE\u001b[49m\u001b[43m,\u001b[49m\n",
      "\u001b[0;32m   2610\u001b[0m \u001b[43m\u001b[49m\u001b[43m)\u001b[49m\n",
      "\n",
      "File \u001b[1;32mC:\\ProgramData\\anaconda3\\envs\\mongo\\Lib\\site-packages\\pymongo\\mongo_client.py:1540\u001b[0m, in \u001b[0;36mMongoClient._retryable_read\u001b[1;34m(self, func, read_pref, session, operation, address, retryable, operation_id)\u001b[0m\n",
      "\u001b[0;32m   1535\u001b[0m \u001b[38;5;66;03m# Ensure that the client supports retrying on reads and there is no session in\u001b[39;00m\n",
      "\u001b[0;32m   1536\u001b[0m \u001b[38;5;66;03m# transaction, otherwise, we will not support retry behavior for this call.\u001b[39;00m\n",
      "\u001b[0;32m   1537\u001b[0m retryable \u001b[38;5;241m=\u001b[39m \u001b[38;5;28mbool\u001b[39m(\n",
      "\u001b[0;32m   1538\u001b[0m     retryable \u001b[38;5;129;01mand\u001b[39;00m \u001b[38;5;28mself\u001b[39m\u001b[38;5;241m.\u001b[39moptions\u001b[38;5;241m.\u001b[39mretry_reads \u001b[38;5;129;01mand\u001b[39;00m \u001b[38;5;129;01mnot\u001b[39;00m (session \u001b[38;5;129;01mand\u001b[39;00m session\u001b[38;5;241m.\u001b[39min_transaction)\n",
      "\u001b[0;32m   1539\u001b[0m )\n",
      "\u001b[1;32m-> 1540\u001b[0m \u001b[38;5;28;01mreturn\u001b[39;00m \u001b[38;5;28;43mself\u001b[39;49m\u001b[38;5;241;43m.\u001b[39;49m\u001b[43m_retry_internal\u001b[49m\u001b[43m(\u001b[49m\n",
      "\u001b[0;32m   1541\u001b[0m \u001b[43m    \u001b[49m\u001b[43mfunc\u001b[49m\u001b[43m,\u001b[49m\n",
      "\u001b[0;32m   1542\u001b[0m \u001b[43m    \u001b[49m\u001b[43msession\u001b[49m\u001b[43m,\u001b[49m\n",
      "\u001b[0;32m   1543\u001b[0m \u001b[43m    \u001b[49m\u001b[38;5;28;43;01mNone\u001b[39;49;00m\u001b[43m,\u001b[49m\n",
      "\u001b[0;32m   1544\u001b[0m \u001b[43m    \u001b[49m\u001b[43moperation\u001b[49m\u001b[43m,\u001b[49m\n",
      "\u001b[0;32m   1545\u001b[0m \u001b[43m    \u001b[49m\u001b[43mis_read\u001b[49m\u001b[38;5;241;43m=\u001b[39;49m\u001b[38;5;28;43;01mTrue\u001b[39;49;00m\u001b[43m,\u001b[49m\n",
      "\u001b[0;32m   1546\u001b[0m \u001b[43m    \u001b[49m\u001b[43maddress\u001b[49m\u001b[38;5;241;43m=\u001b[39;49m\u001b[43maddress\u001b[49m\u001b[43m,\u001b[49m\n",
      "\u001b[0;32m   1547\u001b[0m \u001b[43m    \u001b[49m\u001b[43mread_pref\u001b[49m\u001b[38;5;241;43m=\u001b[39;49m\u001b[43mread_pref\u001b[49m\u001b[43m,\u001b[49m\n",
      "\u001b[0;32m   1548\u001b[0m \u001b[43m    \u001b[49m\u001b[43mretryable\u001b[49m\u001b[38;5;241;43m=\u001b[39;49m\u001b[43mretryable\u001b[49m\u001b[43m,\u001b[49m\n",
      "\u001b[0;32m   1549\u001b[0m \u001b[43m    \u001b[49m\u001b[43moperation_id\u001b[49m\u001b[38;5;241;43m=\u001b[39;49m\u001b[43moperation_id\u001b[49m\u001b[43m,\u001b[49m\n",
      "\u001b[0;32m   1550\u001b[0m \u001b[43m\u001b[49m\u001b[43m)\u001b[49m\n",
      "\n",
      "File \u001b[1;32mC:\\ProgramData\\anaconda3\\envs\\mongo\\Lib\\site-packages\\pymongo\\_csot.py:108\u001b[0m, in \u001b[0;36mapply.<locals>.csot_wrapper\u001b[1;34m(self, *args, **kwargs)\u001b[0m\n",
      "\u001b[0;32m    106\u001b[0m         \u001b[38;5;28;01mwith\u001b[39;00m _TimeoutContext(timeout):\n",
      "\u001b[0;32m    107\u001b[0m             \u001b[38;5;28;01mreturn\u001b[39;00m func(\u001b[38;5;28mself\u001b[39m, \u001b[38;5;241m*\u001b[39margs, \u001b[38;5;241m*\u001b[39m\u001b[38;5;241m*\u001b[39mkwargs)\n",
      "\u001b[1;32m--> 108\u001b[0m \u001b[38;5;28;01mreturn\u001b[39;00m \u001b[43mfunc\u001b[49m\u001b[43m(\u001b[49m\u001b[38;5;28;43mself\u001b[39;49m\u001b[43m,\u001b[49m\u001b[43m \u001b[49m\u001b[38;5;241;43m*\u001b[39;49m\u001b[43margs\u001b[49m\u001b[43m,\u001b[49m\u001b[43m \u001b[49m\u001b[38;5;241;43m*\u001b[39;49m\u001b[38;5;241;43m*\u001b[39;49m\u001b[43mkwargs\u001b[49m\u001b[43m)\u001b[49m\n",
      "\n",
      "File \u001b[1;32mC:\\ProgramData\\anaconda3\\envs\\mongo\\Lib\\site-packages\\pymongo\\mongo_client.py:1507\u001b[0m, in \u001b[0;36mMongoClient._retry_internal\u001b[1;34m(self, func, session, bulk, operation, is_read, address, read_pref, retryable, operation_id)\u001b[0m\n",
      "\u001b[0;32m   1470\u001b[0m \u001b[38;5;129m@_csot\u001b[39m\u001b[38;5;241m.\u001b[39mapply\n",
      "\u001b[0;32m   1471\u001b[0m \u001b[38;5;28;01mdef\u001b[39;00m \u001b[38;5;21m_retry_internal\u001b[39m(\n",
      "\u001b[0;32m   1472\u001b[0m     \u001b[38;5;28mself\u001b[39m,\n",
      "\u001b[1;32m   (...)\u001b[0m\n",
      "\u001b[0;32m   1481\u001b[0m     operation_id: Optional[\u001b[38;5;28mint\u001b[39m] \u001b[38;5;241m=\u001b[39m \u001b[38;5;28;01mNone\u001b[39;00m,\n",
      "\u001b[0;32m   1482\u001b[0m ) \u001b[38;5;241m-\u001b[39m\u001b[38;5;241m>\u001b[39m T:\n",
      "\u001b[0;32m   1483\u001b[0m \u001b[38;5;250m    \u001b[39m\u001b[38;5;124;03m\"\"\"Internal retryable helper for all client transactions.\u001b[39;00m\n",
      "\u001b[0;32m   1484\u001b[0m \n",
      "\u001b[0;32m   1485\u001b[0m \u001b[38;5;124;03m    :param func: Callback function we want to retry\u001b[39;00m\n",
      "\u001b[1;32m   (...)\u001b[0m\n",
      "\u001b[0;32m   1494\u001b[0m \u001b[38;5;124;03m    :return: Output of the calling func()\u001b[39;00m\n",
      "\u001b[0;32m   1495\u001b[0m \u001b[38;5;124;03m    \"\"\"\u001b[39;00m\n",
      "\u001b[0;32m   1496\u001b[0m     \u001b[38;5;28;01mreturn\u001b[39;00m \u001b[43m_ClientConnectionRetryable\u001b[49m\u001b[43m(\u001b[49m\n",
      "\u001b[0;32m   1497\u001b[0m \u001b[43m        \u001b[49m\u001b[43mmongo_client\u001b[49m\u001b[38;5;241;43m=\u001b[39;49m\u001b[38;5;28;43mself\u001b[39;49m\u001b[43m,\u001b[49m\n",
      "\u001b[0;32m   1498\u001b[0m \u001b[43m        \u001b[49m\u001b[43mfunc\u001b[49m\u001b[38;5;241;43m=\u001b[39;49m\u001b[43mfunc\u001b[49m\u001b[43m,\u001b[49m\n",
      "\u001b[0;32m   1499\u001b[0m \u001b[43m        \u001b[49m\u001b[43mbulk\u001b[49m\u001b[38;5;241;43m=\u001b[39;49m\u001b[43mbulk\u001b[49m\u001b[43m,\u001b[49m\n",
      "\u001b[0;32m   1500\u001b[0m \u001b[43m        \u001b[49m\u001b[43moperation\u001b[49m\u001b[38;5;241;43m=\u001b[39;49m\u001b[43moperation\u001b[49m\u001b[43m,\u001b[49m\n",
      "\u001b[0;32m   1501\u001b[0m \u001b[43m        \u001b[49m\u001b[43mis_read\u001b[49m\u001b[38;5;241;43m=\u001b[39;49m\u001b[43mis_read\u001b[49m\u001b[43m,\u001b[49m\n",
      "\u001b[0;32m   1502\u001b[0m \u001b[43m        \u001b[49m\u001b[43msession\u001b[49m\u001b[38;5;241;43m=\u001b[39;49m\u001b[43msession\u001b[49m\u001b[43m,\u001b[49m\n",
      "\u001b[0;32m   1503\u001b[0m \u001b[43m        \u001b[49m\u001b[43mread_pref\u001b[49m\u001b[38;5;241;43m=\u001b[39;49m\u001b[43mread_pref\u001b[49m\u001b[43m,\u001b[49m\n",
      "\u001b[0;32m   1504\u001b[0m \u001b[43m        \u001b[49m\u001b[43maddress\u001b[49m\u001b[38;5;241;43m=\u001b[39;49m\u001b[43maddress\u001b[49m\u001b[43m,\u001b[49m\n",
      "\u001b[0;32m   1505\u001b[0m \u001b[43m        \u001b[49m\u001b[43mretryable\u001b[49m\u001b[38;5;241;43m=\u001b[39;49m\u001b[43mretryable\u001b[49m\u001b[43m,\u001b[49m\n",
      "\u001b[0;32m   1506\u001b[0m \u001b[43m        \u001b[49m\u001b[43moperation_id\u001b[49m\u001b[38;5;241;43m=\u001b[39;49m\u001b[43moperation_id\u001b[49m\u001b[43m,\u001b[49m\n",
      "\u001b[1;32m-> 1507\u001b[0m \u001b[43m    \u001b[49m\u001b[43m)\u001b[49m\u001b[38;5;241;43m.\u001b[39;49m\u001b[43mrun\u001b[49m\u001b[43m(\u001b[49m\u001b[43m)\u001b[49m\n",
      "\n",
      "File \u001b[1;32mC:\\ProgramData\\anaconda3\\envs\\mongo\\Lib\\site-packages\\pymongo\\mongo_client.py:2353\u001b[0m, in \u001b[0;36m_ClientConnectionRetryable.run\u001b[1;34m(self)\u001b[0m\n",
      "\u001b[0;32m   2351\u001b[0m \u001b[38;5;28mself\u001b[39m\u001b[38;5;241m.\u001b[39m_check_last_error(check_csot\u001b[38;5;241m=\u001b[39m\u001b[38;5;28;01mTrue\u001b[39;00m)\n",
      "\u001b[0;32m   2352\u001b[0m \u001b[38;5;28;01mtry\u001b[39;00m:\n",
      "\u001b[1;32m-> 2353\u001b[0m     \u001b[38;5;28;01mreturn\u001b[39;00m \u001b[38;5;28;43mself\u001b[39;49m\u001b[38;5;241;43m.\u001b[39;49m\u001b[43m_read\u001b[49m\u001b[43m(\u001b[49m\u001b[43m)\u001b[49m \u001b[38;5;28;01mif\u001b[39;00m \u001b[38;5;28mself\u001b[39m\u001b[38;5;241m.\u001b[39m_is_read \u001b[38;5;28;01melse\u001b[39;00m \u001b[38;5;28mself\u001b[39m\u001b[38;5;241m.\u001b[39m_write()\n",
      "\u001b[0;32m   2354\u001b[0m \u001b[38;5;28;01mexcept\u001b[39;00m ServerSelectionTimeoutError:\n",
      "\u001b[0;32m   2355\u001b[0m     \u001b[38;5;66;03m# The application may think the write was never attempted\u001b[39;00m\n",
      "\u001b[0;32m   2356\u001b[0m     \u001b[38;5;66;03m# if we raise ServerSelectionTimeoutError on the retry\u001b[39;00m\n",
      "\u001b[0;32m   2357\u001b[0m     \u001b[38;5;66;03m# attempt. Raise the original exception instead.\u001b[39;00m\n",
      "\u001b[0;32m   2358\u001b[0m     \u001b[38;5;28mself\u001b[39m\u001b[38;5;241m.\u001b[39m_check_last_error()\n",
      "\n",
      "File \u001b[1;32mC:\\ProgramData\\anaconda3\\envs\\mongo\\Lib\\site-packages\\pymongo\\mongo_client.py:2491\u001b[0m, in \u001b[0;36m_ClientConnectionRetryable._read\u001b[1;34m(self)\u001b[0m\n",
      "\u001b[0;32m   2489\u001b[0m \u001b[38;5;28;01mif\u001b[39;00m \u001b[38;5;28mself\u001b[39m\u001b[38;5;241m.\u001b[39m_retrying \u001b[38;5;129;01mand\u001b[39;00m \u001b[38;5;129;01mnot\u001b[39;00m \u001b[38;5;28mself\u001b[39m\u001b[38;5;241m.\u001b[39m_retryable:\n",
      "\u001b[0;32m   2490\u001b[0m     \u001b[38;5;28mself\u001b[39m\u001b[38;5;241m.\u001b[39m_check_last_error()\n",
      "\u001b[1;32m-> 2491\u001b[0m \u001b[38;5;28;01mreturn\u001b[39;00m \u001b[38;5;28;43mself\u001b[39;49m\u001b[38;5;241;43m.\u001b[39;49m\u001b[43m_func\u001b[49m\u001b[43m(\u001b[49m\u001b[38;5;28;43mself\u001b[39;49m\u001b[38;5;241;43m.\u001b[39;49m\u001b[43m_session\u001b[49m\u001b[43m,\u001b[49m\u001b[43m \u001b[49m\u001b[38;5;28;43mself\u001b[39;49m\u001b[38;5;241;43m.\u001b[39;49m\u001b[43m_server\u001b[49m\u001b[43m,\u001b[49m\u001b[43m \u001b[49m\u001b[43mconn\u001b[49m\u001b[43m,\u001b[49m\u001b[43m \u001b[49m\u001b[43mread_pref\u001b[49m\u001b[43m)\u001b[49m\n",
      "\n",
      "File \u001b[1;32mC:\\ProgramData\\anaconda3\\envs\\mongo\\Lib\\site-packages\\pymongo\\aggregation.py:162\u001b[0m, in \u001b[0;36m_AggregationCommand.get_cursor\u001b[1;34m(self, session, server, conn, read_preference)\u001b[0m\n",
      "\u001b[0;32m    159\u001b[0m     write_concern \u001b[38;5;241m=\u001b[39m \u001b[38;5;28;01mNone\u001b[39;00m\n",
      "\u001b[0;32m    161\u001b[0m \u001b[38;5;66;03m# Run command.\u001b[39;00m\n",
      "\u001b[1;32m--> 162\u001b[0m result \u001b[38;5;241m=\u001b[39m \u001b[43mconn\u001b[49m\u001b[38;5;241;43m.\u001b[39;49m\u001b[43mcommand\u001b[49m\u001b[43m(\u001b[49m\n",
      "\u001b[0;32m    163\u001b[0m \u001b[43m    \u001b[49m\u001b[38;5;28;43mself\u001b[39;49m\u001b[38;5;241;43m.\u001b[39;49m\u001b[43m_database\u001b[49m\u001b[38;5;241;43m.\u001b[39;49m\u001b[43mname\u001b[49m\u001b[43m,\u001b[49m\n",
      "\u001b[0;32m    164\u001b[0m \u001b[43m    \u001b[49m\u001b[43mcmd\u001b[49m\u001b[43m,\u001b[49m\n",
      "\u001b[0;32m    165\u001b[0m \u001b[43m    \u001b[49m\u001b[43mread_preference\u001b[49m\u001b[43m,\u001b[49m\n",
      "\u001b[0;32m    166\u001b[0m \u001b[43m    \u001b[49m\u001b[38;5;28;43mself\u001b[39;49m\u001b[38;5;241;43m.\u001b[39;49m\u001b[43m_target\u001b[49m\u001b[38;5;241;43m.\u001b[39;49m\u001b[43mcodec_options\u001b[49m\u001b[43m,\u001b[49m\n",
      "\u001b[0;32m    167\u001b[0m \u001b[43m    \u001b[49m\u001b[43mparse_write_concern_error\u001b[49m\u001b[38;5;241;43m=\u001b[39;49m\u001b[38;5;28;43;01mTrue\u001b[39;49;00m\u001b[43m,\u001b[49m\n",
      "\u001b[0;32m    168\u001b[0m \u001b[43m    \u001b[49m\u001b[43mread_concern\u001b[49m\u001b[38;5;241;43m=\u001b[39;49m\u001b[43mread_concern\u001b[49m\u001b[43m,\u001b[49m\n",
      "\u001b[0;32m    169\u001b[0m \u001b[43m    \u001b[49m\u001b[43mwrite_concern\u001b[49m\u001b[38;5;241;43m=\u001b[39;49m\u001b[43mwrite_concern\u001b[49m\u001b[43m,\u001b[49m\n",
      "\u001b[0;32m    170\u001b[0m \u001b[43m    \u001b[49m\u001b[43mcollation\u001b[49m\u001b[38;5;241;43m=\u001b[39;49m\u001b[38;5;28;43mself\u001b[39;49m\u001b[38;5;241;43m.\u001b[39;49m\u001b[43m_collation\u001b[49m\u001b[43m,\u001b[49m\n",
      "\u001b[0;32m    171\u001b[0m \u001b[43m    \u001b[49m\u001b[43msession\u001b[49m\u001b[38;5;241;43m=\u001b[39;49m\u001b[43msession\u001b[49m\u001b[43m,\u001b[49m\n",
      "\u001b[0;32m    172\u001b[0m \u001b[43m    \u001b[49m\u001b[43mclient\u001b[49m\u001b[38;5;241;43m=\u001b[39;49m\u001b[38;5;28;43mself\u001b[39;49m\u001b[38;5;241;43m.\u001b[39;49m\u001b[43m_database\u001b[49m\u001b[38;5;241;43m.\u001b[39;49m\u001b[43mclient\u001b[49m\u001b[43m,\u001b[49m\n",
      "\u001b[0;32m    173\u001b[0m \u001b[43m    \u001b[49m\u001b[43muser_fields\u001b[49m\u001b[38;5;241;43m=\u001b[39;49m\u001b[38;5;28;43mself\u001b[39;49m\u001b[38;5;241;43m.\u001b[39;49m\u001b[43m_user_fields\u001b[49m\u001b[43m,\u001b[49m\n",
      "\u001b[0;32m    174\u001b[0m \u001b[43m\u001b[49m\u001b[43m)\u001b[49m\n",
      "\u001b[0;32m    176\u001b[0m \u001b[38;5;28;01mif\u001b[39;00m \u001b[38;5;28mself\u001b[39m\u001b[38;5;241m.\u001b[39m_result_processor:\n",
      "\u001b[0;32m    177\u001b[0m     \u001b[38;5;28mself\u001b[39m\u001b[38;5;241m.\u001b[39m_result_processor(result, conn)\n",
      "\n",
      "File \u001b[1;32mC:\\ProgramData\\anaconda3\\envs\\mongo\\Lib\\site-packages\\pymongo\\helpers.py:342\u001b[0m, in \u001b[0;36m_handle_reauth.<locals>.inner\u001b[1;34m(*args, **kwargs)\u001b[0m\n",
      "\u001b[0;32m    339\u001b[0m \u001b[38;5;28;01mfrom\u001b[39;00m \u001b[38;5;21;01mpymongo\u001b[39;00m\u001b[38;5;21;01m.\u001b[39;00m\u001b[38;5;21;01mpool\u001b[39;00m \u001b[38;5;28;01mimport\u001b[39;00m Connection\n",
      "\u001b[0;32m    341\u001b[0m \u001b[38;5;28;01mtry\u001b[39;00m:\n",
      "\u001b[1;32m--> 342\u001b[0m     \u001b[38;5;28;01mreturn\u001b[39;00m \u001b[43mfunc\u001b[49m\u001b[43m(\u001b[49m\u001b[38;5;241;43m*\u001b[39;49m\u001b[43margs\u001b[49m\u001b[43m,\u001b[49m\u001b[43m \u001b[49m\u001b[38;5;241;43m*\u001b[39;49m\u001b[38;5;241;43m*\u001b[39;49m\u001b[43mkwargs\u001b[49m\u001b[43m)\u001b[49m\n",
      "\u001b[0;32m    343\u001b[0m \u001b[38;5;28;01mexcept\u001b[39;00m OperationFailure \u001b[38;5;28;01mas\u001b[39;00m exc:\n",
      "\u001b[0;32m    344\u001b[0m     \u001b[38;5;28;01mif\u001b[39;00m no_reauth:\n",
      "\n",
      "File \u001b[1;32mC:\\ProgramData\\anaconda3\\envs\\mongo\\Lib\\site-packages\\pymongo\\pool.py:989\u001b[0m, in \u001b[0;36mConnection.command\u001b[1;34m(self, dbname, spec, read_preference, codec_options, check, allowable_errors, read_concern, write_concern, parse_write_concern_error, collation, session, client, retryable_write, publish_events, user_fields, exhaust_allowed)\u001b[0m\n",
      "\u001b[0;32m    987\u001b[0m     \u001b[38;5;28mself\u001b[39m\u001b[38;5;241m.\u001b[39m_raise_if_not_writable(unacknowledged)\n",
      "\u001b[0;32m    988\u001b[0m \u001b[38;5;28;01mtry\u001b[39;00m:\n",
      "\u001b[1;32m--> 989\u001b[0m     \u001b[38;5;28;01mreturn\u001b[39;00m \u001b[43mcommand\u001b[49m\u001b[43m(\u001b[49m\n",
      "\u001b[0;32m    990\u001b[0m \u001b[43m        \u001b[49m\u001b[38;5;28;43mself\u001b[39;49m\u001b[43m,\u001b[49m\n",
      "\u001b[0;32m    991\u001b[0m \u001b[43m        \u001b[49m\u001b[43mdbname\u001b[49m\u001b[43m,\u001b[49m\n",
      "\u001b[0;32m    992\u001b[0m \u001b[43m        \u001b[49m\u001b[43mspec\u001b[49m\u001b[43m,\u001b[49m\n",
      "\u001b[0;32m    993\u001b[0m \u001b[43m        \u001b[49m\u001b[38;5;28;43mself\u001b[39;49m\u001b[38;5;241;43m.\u001b[39;49m\u001b[43mis_mongos\u001b[49m\u001b[43m,\u001b[49m\n",
      "\u001b[0;32m    994\u001b[0m \u001b[43m        \u001b[49m\u001b[43mread_preference\u001b[49m\u001b[43m,\u001b[49m\n",
      "\u001b[0;32m    995\u001b[0m \u001b[43m        \u001b[49m\u001b[43mcodec_options\u001b[49m\u001b[43m,\u001b[49m\n",
      "\u001b[0;32m    996\u001b[0m \u001b[43m        \u001b[49m\u001b[43msession\u001b[49m\u001b[43m,\u001b[49m\n",
      "\u001b[0;32m    997\u001b[0m \u001b[43m        \u001b[49m\u001b[43mclient\u001b[49m\u001b[43m,\u001b[49m\n",
      "\u001b[0;32m    998\u001b[0m \u001b[43m        \u001b[49m\u001b[43mcheck\u001b[49m\u001b[43m,\u001b[49m\n",
      "\u001b[0;32m    999\u001b[0m \u001b[43m        \u001b[49m\u001b[43mallowable_errors\u001b[49m\u001b[43m,\u001b[49m\n",
      "\u001b[0;32m   1000\u001b[0m \u001b[43m        \u001b[49m\u001b[38;5;28;43mself\u001b[39;49m\u001b[38;5;241;43m.\u001b[39;49m\u001b[43maddress\u001b[49m\u001b[43m,\u001b[49m\n",
      "\u001b[0;32m   1001\u001b[0m \u001b[43m        \u001b[49m\u001b[43mlisteners\u001b[49m\u001b[43m,\u001b[49m\n",
      "\u001b[0;32m   1002\u001b[0m \u001b[43m        \u001b[49m\u001b[38;5;28;43mself\u001b[39;49m\u001b[38;5;241;43m.\u001b[39;49m\u001b[43mmax_bson_size\u001b[49m\u001b[43m,\u001b[49m\n",
      "\u001b[0;32m   1003\u001b[0m \u001b[43m        \u001b[49m\u001b[43mread_concern\u001b[49m\u001b[43m,\u001b[49m\n",
      "\u001b[0;32m   1004\u001b[0m \u001b[43m        \u001b[49m\u001b[43mparse_write_concern_error\u001b[49m\u001b[38;5;241;43m=\u001b[39;49m\u001b[43mparse_write_concern_error\u001b[49m\u001b[43m,\u001b[49m\n",
      "\u001b[0;32m   1005\u001b[0m \u001b[43m        \u001b[49m\u001b[43mcollation\u001b[49m\u001b[38;5;241;43m=\u001b[39;49m\u001b[43mcollation\u001b[49m\u001b[43m,\u001b[49m\n",
      "\u001b[0;32m   1006\u001b[0m \u001b[43m        \u001b[49m\u001b[43mcompression_ctx\u001b[49m\u001b[38;5;241;43m=\u001b[39;49m\u001b[38;5;28;43mself\u001b[39;49m\u001b[38;5;241;43m.\u001b[39;49m\u001b[43mcompression_context\u001b[49m\u001b[43m,\u001b[49m\n",
      "\u001b[0;32m   1007\u001b[0m \u001b[43m        \u001b[49m\u001b[43muse_op_msg\u001b[49m\u001b[38;5;241;43m=\u001b[39;49m\u001b[38;5;28;43mself\u001b[39;49m\u001b[38;5;241;43m.\u001b[39;49m\u001b[43mop_msg_enabled\u001b[49m\u001b[43m,\u001b[49m\n",
      "\u001b[0;32m   1008\u001b[0m \u001b[43m        \u001b[49m\u001b[43munacknowledged\u001b[49m\u001b[38;5;241;43m=\u001b[39;49m\u001b[43munacknowledged\u001b[49m\u001b[43m,\u001b[49m\n",
      "\u001b[0;32m   1009\u001b[0m \u001b[43m        \u001b[49m\u001b[43muser_fields\u001b[49m\u001b[38;5;241;43m=\u001b[39;49m\u001b[43muser_fields\u001b[49m\u001b[43m,\u001b[49m\n",
      "\u001b[0;32m   1010\u001b[0m \u001b[43m        \u001b[49m\u001b[43mexhaust_allowed\u001b[49m\u001b[38;5;241;43m=\u001b[39;49m\u001b[43mexhaust_allowed\u001b[49m\u001b[43m,\u001b[49m\n",
      "\u001b[0;32m   1011\u001b[0m \u001b[43m        \u001b[49m\u001b[43mwrite_concern\u001b[49m\u001b[38;5;241;43m=\u001b[39;49m\u001b[43mwrite_concern\u001b[49m\u001b[43m,\u001b[49m\n",
      "\u001b[0;32m   1012\u001b[0m \u001b[43m    \u001b[49m\u001b[43m)\u001b[49m\n",
      "\u001b[0;32m   1013\u001b[0m \u001b[38;5;28;01mexcept\u001b[39;00m (OperationFailure, NotPrimaryError):\n",
      "\u001b[0;32m   1014\u001b[0m     \u001b[38;5;28;01mraise\u001b[39;00m\n",
      "\n",
      "File \u001b[1;32mC:\\ProgramData\\anaconda3\\envs\\mongo\\Lib\\site-packages\\pymongo\\network.py:212\u001b[0m, in \u001b[0;36mcommand\u001b[1;34m(conn, dbname, spec, is_mongos, read_preference, codec_options, session, client, check, allowable_errors, address, listeners, max_bson_size, read_concern, parse_write_concern_error, collation, compression_ctx, use_op_msg, unacknowledged, user_fields, exhaust_allowed, write_concern)\u001b[0m\n",
      "\u001b[0;32m    210\u001b[0m             client\u001b[38;5;241m.\u001b[39m_process_response(response_doc, session)\n",
      "\u001b[0;32m    211\u001b[0m         \u001b[38;5;28;01mif\u001b[39;00m check:\n",
      "\u001b[1;32m--> 212\u001b[0m             \u001b[43mhelpers\u001b[49m\u001b[38;5;241;43m.\u001b[39;49m\u001b[43m_check_command_response\u001b[49m\u001b[43m(\u001b[49m\n",
      "\u001b[0;32m    213\u001b[0m \u001b[43m                \u001b[49m\u001b[43mresponse_doc\u001b[49m\u001b[43m,\u001b[49m\n",
      "\u001b[0;32m    214\u001b[0m \u001b[43m                \u001b[49m\u001b[43mconn\u001b[49m\u001b[38;5;241;43m.\u001b[39;49m\u001b[43mmax_wire_version\u001b[49m\u001b[43m,\u001b[49m\n",
      "\u001b[0;32m    215\u001b[0m \u001b[43m                \u001b[49m\u001b[43mallowable_errors\u001b[49m\u001b[43m,\u001b[49m\n",
      "\u001b[0;32m    216\u001b[0m \u001b[43m                \u001b[49m\u001b[43mparse_write_concern_error\u001b[49m\u001b[38;5;241;43m=\u001b[39;49m\u001b[43mparse_write_concern_error\u001b[49m\u001b[43m,\u001b[49m\n",
      "\u001b[0;32m    217\u001b[0m \u001b[43m            \u001b[49m\u001b[43m)\u001b[49m\n",
      "\u001b[0;32m    218\u001b[0m \u001b[38;5;28;01mexcept\u001b[39;00m \u001b[38;5;167;01mException\u001b[39;00m \u001b[38;5;28;01mas\u001b[39;00m exc:\n",
      "\u001b[0;32m    219\u001b[0m     duration \u001b[38;5;241m=\u001b[39m datetime\u001b[38;5;241m.\u001b[39mdatetime\u001b[38;5;241m.\u001b[39mnow() \u001b[38;5;241m-\u001b[39m start\n",
      "\n",
      "File \u001b[1;32mC:\\ProgramData\\anaconda3\\envs\\mongo\\Lib\\site-packages\\pymongo\\helpers.py:248\u001b[0m, in \u001b[0;36m_check_command_response\u001b[1;34m(response, max_wire_version, allowable_errors, parse_write_concern_error)\u001b[0m\n",
      "\u001b[0;32m    245\u001b[0m \u001b[38;5;28;01melif\u001b[39;00m code \u001b[38;5;241m==\u001b[39m \u001b[38;5;241m43\u001b[39m:\n",
      "\u001b[0;32m    246\u001b[0m     \u001b[38;5;28;01mraise\u001b[39;00m CursorNotFound(errmsg, code, response, max_wire_version)\n",
      "\u001b[1;32m--> 248\u001b[0m \u001b[38;5;28;01mraise\u001b[39;00m OperationFailure(errmsg, code, response, max_wire_version)\n",
      "\n",
      "\u001b[1;31mOperationFailure\u001b[0m: a group specification must include an _id, full error: {'ok': 0.0, 'errmsg': 'a group specification must include an _id', 'code': 15955, 'codeName': 'Location15955'}\n"
     ]
    }
   ],
   "source": [
    "%%expect_exception OperationFailure   \n",
    "\n",
    "# a group specification must include an _id\n",
    "list(db.laureates.aggregate([\n",
    "    {\"$project\": {\"n_prizes\": {\"$size\": \"$prizes\"}}},\n",
    "    {\"$group\": {\"n_prizes_total\": {\"$sum\": \"$n_prizes\"}}}\n",
    "]))"
   ]
  },
  {
   "cell_type": "markdown",
   "id": "84837b4e-bf7a-4c18-a175-1622d1710d7d",
   "metadata": {},
   "source": [
    "### Excercises\n",
    "#### Field Paths and Sets"
   ]
  },
  {
   "cell_type": "code",
   "execution_count": 24,
   "id": "2e7b026e-1181-4d88-8c63-f6554ca55353",
   "metadata": {},
   "outputs": [
    {
     "name": "stdout",
     "output_type": "stream",
     "text": [
      "[False, False]\n"
     ]
    }
   ],
   "source": [
    "# Previously, we confirmed -- via a Python loop -- \n",
    "# that for each prize, either all laureates have a 1/3 share, \n",
    "# or none do. Now, let's do this via an aggregation \n",
    "# (result should be an empty list):\n",
    "for doc in db.prizes.find({}, [\"laureates.share\"]):\n",
    "    share_is_three = [laureate[\"share\"] == \"3\" \n",
    "                      for laureate in doc[\"laureates\"]]\n",
    "assert all(share_is_three) or not any(share_is_three)\n",
    "print(share_is_three)"
   ]
  },
  {
   "cell_type": "code",
   "execution_count": 25,
   "id": "a8f8a54c-4404-4691-8b28-a5a722b74b4a",
   "metadata": {},
   "outputs": [
    {
     "data": {
      "text/plain": [
       "[]"
      ]
     },
     "execution_count": 25,
     "metadata": {},
     "output_type": "execute_result"
    }
   ],
   "source": [
    "# Solution Via an aggregation\n",
    "list(db.prizes.aggregate([\n",
    "    {\"$project\": {\"allThree\": {\"$setEquals\": ['$laureates.share', ['3']]},\n",
    "                  \"noneThree\": {\"$not\": {\"$setIsSubset\": [['3'], '$laureates.share']}}}},\n",
    "    {\"$match\": {\"$nor\": [{\"allThree\": True}, {\"noneThree\": True}]}}]))"
   ]
  },
  {
   "cell_type": "code",
   "execution_count": 26,
   "id": "14328719-9776-48b1-9d9b-f80308554558",
   "metadata": {},
   "outputs": [
    {
     "data": {
      "text/plain": [
       "{'_id': ObjectId('6706d88371ea025ecc350d20'),\n",
       " 'year': '2018',\n",
       " 'category': 'physics',\n",
       " 'overallMotivation': '“for groundbreaking inventions in the field of laser physics”',\n",
       " 'laureates': [{'id': '960',\n",
       "   'firstname': 'Arthur',\n",
       "   'surname': 'Ashkin',\n",
       "   'motivation': '\"for the optical tweezers and their application to biological systems\"',\n",
       "   'share': '2'},\n",
       "  {'id': '961',\n",
       "   'firstname': 'Gérard',\n",
       "   'surname': 'Mourou',\n",
       "   'motivation': '\"for their method of generating high-intensity, ultra-short optical pulses\"',\n",
       "   'share': '4'},\n",
       "  {'id': '962',\n",
       "   'firstname': 'Donna',\n",
       "   'surname': 'Strickland',\n",
       "   'motivation': '\"for their method of generating high-intensity, ultra-short optical pulses\"',\n",
       "   'share': '4'}]}"
      ]
     },
     "execution_count": 26,
     "metadata": {},
     "output_type": "execute_result"
    }
   ],
   "source": [
    "# Reviewing the data\n",
    "db.prizes.find_one({})"
   ]
  },
  {
   "cell_type": "code",
   "execution_count": 27,
   "id": "4b57b8d1-9978-4f3d-8bf2-a368a4f88cad",
   "metadata": {},
   "outputs": [
    {
     "name": "stdout",
     "output_type": "stream",
     "text": [
      "projection: laureates.share\n",
      "{'_id': ObjectId('6706d88371ea025ecc350d20'),\n",
      " 'laureates': [{'share': '2'}, {'share': '4'}, {'share': '4'}]}\n",
      "\n",
      "Adding $setEquals ['2']\n",
      "{'_id': ObjectId('6706d88371ea025ecc350d20'),\n",
      " 'allThree': False,\n",
      " 'laureates': [{'share': '2'}, {'share': '4'}, {'share': '4'}],\n",
      " 'share_items': ['2', '4', '4']}\n",
      "\n",
      "Adding $setEquals ['2', '4', '4']\n",
      "{'_id': ObjectId('6706d88371ea025ecc350d20'),\n",
      " 'allThree': True,\n",
      " 'laureates': [{'share': '2'}, {'share': '4'}, {'share': '4'}],\n",
      " 'share_items': ['2', '4', '4']}\n",
      "\n",
      "Adding $setEquals ['2'] when there is only 2 laureates\n",
      "{'_id': ObjectId('6706d88371ea025ecc350d21'),\n",
      " 'allThree': True,\n",
      " 'laureates': [{'share': '2'}, {'share': '2'}],\n",
      " 'share_items': ['2', '2']}\n",
      "\n",
      "Adding '$setIsSubset'\n",
      "{'_id': ObjectId('6706d88371ea025ecc350d21'),\n",
      " 'allThree': True,\n",
      " 'is_subset': True,\n",
      " 'laureates': [{'share': '2'}, {'share': '2'}],\n",
      " 'share_items': ['2', '2']}\n",
      "Adding '$not'\n",
      "{'_id': ObjectId('6706d88371ea025ecc350d21'),\n",
      " 'allThree': True,\n",
      " 'is_subset': True,\n",
      " 'laureates': [{'share': '2'}, {'share': '2'}],\n",
      " 'not_is_subset': False,\n",
      " 'share_items': ['2', '2']}\n"
     ]
    }
   ],
   "source": [
    "# Building step by step in a different scenario\n",
    "print('projection: laureates.share')\n",
    "pprint(db.prizes.aggregate([{\"$project\": {'laureates.share': 1}}]).next())\n",
    "print()\n",
    "\n",
    "# $setEquals\n",
    "print(\"Adding $setEquals ['2']\")\n",
    "pprint(db.prizes.aggregate([{\n",
    "    \"$project\": {\"allThree\": {\"$setEquals\": ['$laureates.share', ['2']]},\n",
    "                 'laureates.share': 1,\n",
    "                 'share_items': '$laureates.share'}}\n",
    "]).next())\n",
    "print()\n",
    "\n",
    "print(\"Adding $setEquals ['2', '4', '4']\")\n",
    "pprint(db.prizes.aggregate([{\n",
    "    \"$project\": {\"allThree\": {\"$setEquals\": ['$laureates.share', ['2', '4', '4']]},\n",
    "                 'laureates.share': 1,\n",
    "                 'share_items': '$laureates.share'}}\n",
    "]).next())\n",
    "print()\n",
    "\n",
    "print(\"Adding $setEquals ['2'] when there is only 2 laureates\")\n",
    "pprint(db.prizes.aggregate([\n",
    "    {\"$match\": {'laureates.2': {'$exists': False}}},\n",
    "    {\"$project\": {\"allThree\": {\"$setEquals\": ['$laureates.share', ['2']]},\n",
    "                  'laureates.share': 1,\n",
    "                  'share_items': '$laureates.share'}}\n",
    "]).next())\n",
    "print()\n",
    "\n",
    "print(\"Adding '$setIsSubset'\")\n",
    "# Takes two arrays and returns true when the first array is a subset of the second\n",
    "pprint(db.prizes.aggregate([\n",
    "    {\"$match\": {'laureates.2': {'$exists': False}}},\n",
    "    {\"$project\": {\"allThree\": {\"$setEquals\": ['$laureates.share', ['2']]},\n",
    "                  'laureates.share': 1,\n",
    "                  'share_items': '$laureates.share',\n",
    "                  'is_subset': {'$setIsSubset': [['2'], '$laureates.share']}}},\n",
    "]).next())\n",
    "\n",
    "print(\"Adding '$not'\")\n",
    "pprint(db.prizes.aggregate([\n",
    "    {\"$match\": {'laureates.2': {'$exists': False}}},\n",
    "    {\"$project\": {\"allThree\": {\"$setEquals\": ['$laureates.share', ['2']]},\n",
    "                  'laureates.share': 1,\n",
    "                  'share_items': '$laureates.share',\n",
    "                  'is_subset': {'$setIsSubset': [['2'], '$laureates.share']},\n",
    "                  'not_is_subset': {'$not': {'$setIsSubset': [['2'], '$laureates.share']}}}},\n",
    "]).next())"
   ]
  },
  {
   "cell_type": "markdown",
   "id": "22b8564b-53b5-465a-a8df-38163390d8dd",
   "metadata": {},
   "source": [
    "#### Organizing prizes"
   ]
  },
  {
   "cell_type": "code",
   "execution_count": 28,
   "id": "daebda26-992e-4c35-8115-addf779b95cc",
   "metadata": {},
   "outputs": [
    {
     "name": "stdout",
     "output_type": "stream",
     "text": [
      "[{'_id': None, 'n_prizes_total': 27}]\n"
     ]
    }
   ],
   "source": [
    "# How many prizes were awarded (at least partly) to organizations?\n",
    "pipeline = [\n",
    "    {'$match': {'gender': \"org\"}},\n",
    "    {\"$project\": {\"n_prizes\": {\"$size\": '$prizes'}}},\n",
    "    {\"$group\": {\"_id\": None, \"n_prizes_total\": {\"$sum\": '$n_prizes'}}}\n",
    "]\n",
    "\n",
    "print(list(db.laureates.aggregate(pipeline)))"
   ]
  },
  {
   "cell_type": "markdown",
   "id": "60c47c43-bc2e-4f93-97e9-145271f33e39",
   "metadata": {},
   "source": [
    "#### Gap years, aggregated\n",
    "\n",
    "In a previous exercise, you collected instances of prize categories not being awarded in particular years. You implemented this using a for loop in Python. You will now implement this as an aggregation pipeline that:\n",
    "\n",
    "- Filters for original prize categories (i.e. sans economics),\n",
    "- Projects category and year,\n",
    "- Groups distinct prize categories awarded by year,\n",
    "- Projects prize categories not awarded by year,\n",
    "- Filters for years with missing prize categories, and\n",
    "- Returns a cursor of documents in reverse chronological order, one per year, each with a list of missing prize categories for that year.\n",
    "\n",
    "Remember to use field paths (precede field names with \"$\") to extract field values in expressions."
   ]
  },
  {
   "cell_type": "code",
   "execution_count": 29,
   "id": "aeac0e7e-38bf-4236-b617-8d2927aa6fc9",
   "metadata": {},
   "outputs": [
    {
     "name": "stdout",
     "output_type": "stream",
     "text": [
      "2018: literature\n",
      "1972: peace\n",
      "1967: peace\n",
      "1966: peace\n",
      "1956: peace\n",
      "1955: peace\n",
      "1948: peace\n",
      "1943: literature, peace\n",
      "1939: peace\n",
      "1935: literature\n",
      "1934: physics\n",
      "1933: chemistry\n",
      "1932: peace\n",
      "1931: physics\n",
      "1928: peace\n",
      "1925: medicine\n",
      "1924: chemistry, peace\n",
      "1923: peace\n",
      "1921: medicine\n",
      "1919: chemistry\n",
      "1918: literature, medicine, peace\n",
      "1917: chemistry, medicine\n",
      "1916: chemistry, medicine, peace, physics\n",
      "1915: medicine, peace\n",
      "1914: literature, peace\n"
     ]
    }
   ],
   "source": [
    "# Previous try\n",
    "original_categories = set(db.prizes.distinct(\"category\", {\"year\": \"1901\"}))\n",
    "pipeline = [\n",
    "    {'$match': {'category': {'$in': list(original_categories)}}},\n",
    "    {'$project': {'year': 1, 'category': 1}},\n",
    "    {'$sort': OrderedDict([('year', -1)])}   # To preserve the order in the dictionary\n",
    "]\n",
    "cursor = db.prizes.aggregate(pipeline)\n",
    "for key, group in groupby(cursor, key=itemgetter(\"year\")):\n",
    "    missing = original_categories - {doc[\"category\"] for doc in group}\n",
    "    if missing:\n",
    "        print(\"{year}: {missing}\".format(year=key, missing=\", \".join(sorted(missing))))"
   ]
  },
  {
   "cell_type": "code",
   "execution_count": 30,
   "id": "9cc3eece-b74a-44c3-a1e9-8c2fe327f7b6",
   "metadata": {},
   "outputs": [
    {
     "name": "stdout",
     "output_type": "stream",
     "text": [
      "2018: literature\n",
      "1972: peace\n",
      "1967: peace\n",
      "1966: peace\n",
      "1956: peace\n",
      "1955: peace\n",
      "1948: peace\n",
      "1943: literature, peace\n",
      "1939: peace\n",
      "1935: literature\n",
      "1934: physics\n",
      "1933: chemistry\n",
      "1932: peace\n",
      "1931: physics\n",
      "1928: peace\n",
      "1925: medicine\n",
      "1924: chemistry, peace\n",
      "1923: peace\n",
      "1921: medicine\n",
      "1919: chemistry\n",
      "1918: literature, medicine, peace\n",
      "1917: chemistry, medicine\n",
      "1916: chemistry, medicine, peace, physics\n",
      "1915: medicine, peace\n",
      "1914: literature, peace\n"
     ]
    }
   ],
   "source": [
    "# Using $group\n",
    "original_categories = sorted(set(db.prizes.distinct(\n",
    "    \"category\", \n",
    "    {\"year\": \"1901\"}\n",
    ")))\n",
    "\n",
    "pipeline = [\n",
    "    {\"$match\": {\"category\": {\"$in\": original_categories}}},\n",
    "    {\"$project\": {\"category\": 1, \n",
    "                  \"year\": 1}},\n",
    "    \n",
    "    # Collect the set of category values for each prize year.\n",
    "    {\"$group\": {\"_id\": '$year', \n",
    "                \"categories\": {\"$addToSet\": \"$category\"}}},\n",
    "    \n",
    "    # Project categories *not* awarded (i.e., that are missing this year).\n",
    "    {\"$project\": {\"missing\": {\"$setDifference\": [original_categories, \n",
    "                                                 '$categories']}}},\n",
    "    \n",
    "    # Only include years with at least one missing category\n",
    "    {\"$match\": {\"missing.0\": {\"$exists\": True}}},\n",
    "    \n",
    "    # Sort in reverse chronological order. \n",
    "    # Note that \"_id\" is a distinct year at this stage.\n",
    "    {\"$sort\": OrderedDict([(\"_id\", -1)])},\n",
    "]\n",
    "\n",
    "for doc in db.prizes.aggregate(pipeline):\n",
    "    print(\"{year}: {missing}\".format(\n",
    "        year=doc[\"_id\"],missing=\", \".join(sorted(doc[\"missing\"]))\n",
    "    ))"
   ]
  },
  {
   "cell_type": "code",
   "execution_count": 31,
   "id": "bd369590-886d-4196-b1d6-4440dace53df",
   "metadata": {},
   "outputs": [
    {
     "data": {
      "text/plain": [
       "{'_id': '2018', 'missing': ['literature']}"
      ]
     },
     "execution_count": 31,
     "metadata": {},
     "output_type": "execute_result"
    }
   ],
   "source": [
    "db.prizes.aggregate(pipeline).next()"
   ]
  },
  {
   "cell_type": "code",
   "execution_count": 32,
   "id": "25abbb06-704e-4650-831b-220b6b67f41e",
   "metadata": {},
   "outputs": [
    {
     "data": {
      "text/plain": [
       "[{'_id': '2018', 'missing': ['literature']},\n",
       " {'_id': '1972', 'missing': ['peace']},\n",
       " {'_id': '1967', 'missing': ['peace']},\n",
       " {'_id': '1966', 'missing': ['peace']},\n",
       " {'_id': '1956', 'missing': ['peace']},\n",
       " {'_id': '1955', 'missing': ['peace']},\n",
       " {'_id': '1948', 'missing': ['peace']},\n",
       " {'_id': '1943', 'missing': ['literature', 'peace']},\n",
       " {'_id': '1939', 'missing': ['peace']},\n",
       " {'_id': '1935', 'missing': ['literature']},\n",
       " {'_id': '1934', 'missing': ['physics']},\n",
       " {'_id': '1933', 'missing': ['chemistry']},\n",
       " {'_id': '1932', 'missing': ['peace']},\n",
       " {'_id': '1931', 'missing': ['physics']},\n",
       " {'_id': '1928', 'missing': ['peace']},\n",
       " {'_id': '1925', 'missing': ['medicine']},\n",
       " {'_id': '1924', 'missing': ['chemistry', 'peace']},\n",
       " {'_id': '1923', 'missing': ['peace']},\n",
       " {'_id': '1921', 'missing': ['medicine']},\n",
       " {'_id': '1919', 'missing': ['chemistry']},\n",
       " {'_id': '1918', 'missing': ['literature', 'medicine', 'peace']},\n",
       " {'_id': '1917', 'missing': ['chemistry', 'medicine']},\n",
       " {'_id': '1916', 'missing': ['chemistry', 'medicine', 'peace', 'physics']},\n",
       " {'_id': '1915', 'missing': ['medicine', 'peace']},\n",
       " {'_id': '1914', 'missing': ['literature', 'peace']}]"
      ]
     },
     "execution_count": 32,
     "metadata": {},
     "output_type": "execute_result"
    }
   ],
   "source": [
    "list(db.prizes.aggregate(pipeline))"
   ]
  },
  {
   "cell_type": "markdown",
   "id": "654992f5-0819-44a5-b1c1-bdf052b5202b",
   "metadata": {},
   "source": [
    "## 4.3 Zoom into Array Fields\n",
    "\n",
    "### Sizing and summing"
   ]
  },
  {
   "cell_type": "code",
   "execution_count": 33,
   "id": "c29aacf2-7cb0-467b-9fb8-077898742f21",
   "metadata": {},
   "outputs": [
    {
     "data": {
      "text/plain": [
       "[{'year': '2018', 'category': 'physics', 'n_laureates': 3},\n",
       " {'year': '2018', 'category': 'medicine', 'n_laureates': 2},\n",
       " {'year': '2018', 'category': 'economics', 'n_laureates': 2},\n",
       " {'year': '2017', 'category': 'peace', 'n_laureates': 1},\n",
       " {'year': '2017', 'category': 'economics', 'n_laureates': 1},\n",
       " {'year': '2016', 'category': 'chemistry', 'n_laureates': 3},\n",
       " {'year': '2016', 'category': 'literature', 'n_laureates': 1},\n",
       " {'year': '2016', 'category': 'peace', 'n_laureates': 1},\n",
       " {'year': '2016', 'category': 'economics', 'n_laureates': 2},\n",
       " {'year': '2015', 'category': 'physics', 'n_laureates': 2}]"
      ]
     },
     "execution_count": 33,
     "metadata": {},
     "output_type": "execute_result"
    }
   ],
   "source": [
    "# Sizing\n",
    "list(db.prizes.aggregate([\n",
    "    {\"$project\": {\"n_laureates\": {\"$size\": \"$laureates\"},\n",
    "                  \"year\": 1, \n",
    "                  \"category\": 1, \n",
    "                  \"_id\": 0}}\n",
    "]))[:10]"
   ]
  },
  {
   "cell_type": "code",
   "execution_count": 34,
   "id": "e60bbd27-ac1f-4fba-a463-2a838e486d0c",
   "metadata": {},
   "outputs": [
    {
     "data": {
      "text/plain": [
       "[{'_id': 'medicine', 'n_laureates': 216},\n",
       " {'_id': 'physics', 'n_laureates': 210},\n",
       " {'_id': 'chemistry', 'n_laureates': 181},\n",
       " {'_id': 'peace', 'n_laureates': 133},\n",
       " {'_id': 'literature', 'n_laureates': 114},\n",
       " {'_id': 'economics', 'n_laureates': 81}]"
      ]
     },
     "execution_count": 34,
     "metadata": {},
     "output_type": "execute_result"
    }
   ],
   "source": [
    "# Summing\n",
    "list(db.prizes.aggregate([\n",
    "    {\"$project\": {\"n_laureates\": {\"$size\": \"$laureates\"},\n",
    "                  \"category\": 1}},\n",
    "    {\"$group\": {\"_id\": \"$category\", \n",
    "                \"n_laureates\": {\"$sum\": \"$n_laureates\"}}},\n",
    "    {\"$sort\": {\"n_laureates\": -1}},\n",
    "]))"
   ]
  },
  {
   "cell_type": "markdown",
   "id": "dd915837-eddb-498c-9564-b698d2c7d2d9",
   "metadata": {},
   "source": [
    "### How to $unwind\n",
    "Deconstructs an array field from the input documents to output a document for each element. "
   ]
  },
  {
   "cell_type": "code",
   "execution_count": 35,
   "id": "2c469430-8e60-42e8-830e-f3da95ab0cae",
   "metadata": {},
   "outputs": [
    {
     "name": "stdout",
     "output_type": "stream",
     "text": [
      "[{'category': 'physics',\n",
      "  'laureates': [{'share': '2', 'surname': 'Ashkin'},\n",
      "                {'share': '4', 'surname': 'Mourou'},\n",
      "                {'share': '4', 'surname': 'Strickland'}],\n",
      "  'year': '2018'},\n",
      " {'category': 'medicine',\n",
      "  'laureates': [{'share': '2', 'surname': 'Allison'},\n",
      "                {'share': '2', 'surname': 'Honjo'}],\n",
      "  'year': '2018'},\n",
      " {'category': 'economics',\n",
      "  'laureates': [{'share': '2', 'surname': 'Nordhaus'},\n",
      "                {'share': '2', 'surname': 'Romer'}],\n",
      "  'year': '2018'}]\n"
     ]
    }
   ],
   "source": [
    "# without $unwind\n",
    "pprint(list(db.prizes.aggregate([\n",
    "    {\"$project\": {\"_id\": 0, \n",
    "                  \"year\": 1, \n",
    "                  \"category\": 1,\n",
    "                  \"laureates.surname\": 1, \n",
    "                  \"laureates.share\": 1}},\n",
    "    {\"$limit\": 3}\n",
    "])))"
   ]
  },
  {
   "cell_type": "code",
   "execution_count": 36,
   "id": "ea57b69b-9191-446c-b577-f2425c8263d6",
   "metadata": {},
   "outputs": [
    {
     "name": "stdout",
     "output_type": "stream",
     "text": [
      "[{'category': 'physics',\n",
      "  'laureates': {'share': '2', 'surname': 'Ashkin'},\n",
      "  'year': '2018'},\n",
      " {'category': 'physics',\n",
      "  'laureates': {'share': '4', 'surname': 'Mourou'},\n",
      "  'year': '2018'},\n",
      " {'category': 'physics',\n",
      "  'laureates': {'share': '4', 'surname': 'Strickland'},\n",
      "  'year': '2018'}]\n"
     ]
    }
   ],
   "source": [
    "# with $unwind\n",
    "pprint(list(db.prizes.aggregate([\n",
    "    {\"$unwind\": \"$laureates\"},\n",
    "    {\"$project\": {\"_id\": 0, \n",
    "                  \"year\": 1, \n",
    "                  \"category\": 1,\n",
    "                  \"laureates.surname\": 1, \n",
    "                  \"laureates.share\": 1}},\n",
    "    {\"$limit\": 3}\n",
    "])))"
   ]
  },
  {
   "cell_type": "markdown",
   "id": "a9fed739-5fb4-4c55-98d3-b25d3ef87488",
   "metadata": {},
   "source": [
    "### Renormalization, anyone?"
   ]
  },
  {
   "cell_type": "code",
   "execution_count": 37,
   "id": "eea41a3f-d220-4b81-8da0-a77f41b26d67",
   "metadata": {},
   "outputs": [
    {
     "name": "stdout",
     "output_type": "stream",
     "text": [
      "[{'_id': 'medicine:1968', 'laureate_ids': [['388', '389', '390']]},\n",
      " {'_id': 'medicine:1981', 'laureate_ids': [['422', '423', '424']]},\n",
      " {'_id': 'physics:1973', 'laureate_ids': [['97', '98', '99']]},\n",
      " {'_id': 'medicine:1971', 'laureate_ids': [['397']]},\n",
      " {'_id': 'peace:1901', 'laureate_ids': [['462', '463']]}]\n"
     ]
    }
   ],
   "source": [
    "# Without $unwind\n",
    "pprint(list(db.prizes.aggregate([\n",
    "    {\"$project\": {\"year\": 1, \n",
    "                  \"category\": 1, \n",
    "                  \"laureates.id\": 1}},\n",
    "    {\"$group\": {\"_id\": {\"$concat\": [\"$category\", \":\", \"$year\"]},\n",
    "                \"laureate_ids\": {\"$addToSet\": \"$laureates.id\"}}},\n",
    "    {\"$limit\": 5}\n",
    "])))"
   ]
  },
  {
   "cell_type": "code",
   "execution_count": 38,
   "id": "99d0ee1f-092d-492c-822d-b4b7ee8f19a9",
   "metadata": {},
   "outputs": [
    {
     "name": "stdout",
     "output_type": "stream",
     "text": [
      "[{'_id': 'peace:1917', 'laureate_ids': ['482']},\n",
      " {'_id': 'medicine:1986', 'laureate_ids': ['435', '434']},\n",
      " {'_id': 'medicine:1911', 'laureate_ids': ['305']},\n",
      " {'_id': 'economics:1986', 'laureate_ids': ['700']},\n",
      " {'_id': 'literature:1955', 'laureate_ids': ['626']}]\n"
     ]
    }
   ],
   "source": [
    "# With $unwind\n",
    "pprint(list(db.prizes.aggregate([\n",
    "    {\"$unwind\": \"$laureates\"},\n",
    "    {\"$project\": {\"year\": 1, \n",
    "                  \"category\": 1, \n",
    "                  \"laureates.id\": 1}},\n",
    "    {\"$group\": {\"_id\": {\"$concat\": [\"$category\", \":\", \"$year\"]},\n",
    "                \"laureate_ids\": {\"$addToSet\": \"$laureates.id\"}}},\n",
    "    {\"$limit\": 5}\n",
    "])))"
   ]
  },
  {
   "cell_type": "markdown",
   "id": "4257e5b6-1aa8-4ee7-addf-6bf426a7ae66",
   "metadata": {},
   "source": [
    "### $unwind and count 'em, one by one"
   ]
  },
  {
   "cell_type": "code",
   "execution_count": 39,
   "id": "f0a7f2d6-dad7-4f49-8f7b-cdd3484d85f5",
   "metadata": {},
   "outputs": [
    {
     "data": {
      "text/plain": [
       "[{'_id': 'medicine', 'n_laureates': 216},\n",
       " {'_id': 'physics', 'n_laureates': 210},\n",
       " {'_id': 'chemistry', 'n_laureates': 181},\n",
       " {'_id': 'peace', 'n_laureates': 133},\n",
       " {'_id': 'literature', 'n_laureates': 114},\n",
       " {'_id': 'economics', 'n_laureates': 81}]"
      ]
     },
     "execution_count": 39,
     "metadata": {},
     "output_type": "execute_result"
    }
   ],
   "source": [
    "list(db.prizes.aggregate([\n",
    "    {\"$project\": {\"n_laureates\": {\"$size\": \"$laureates\"}, \n",
    "                  \"category\": 1}},\n",
    "    {\"$group\": {\"_id\": \"$category\", \n",
    "                \"n_laureates\": {\"$sum\": \"$n_laureates\"}}},\n",
    "    {\"$sort\": {\"n_laureates\": -1}},\n",
    "]))"
   ]
  },
  {
   "cell_type": "code",
   "execution_count": 40,
   "id": "218ecabd-c15c-4c08-a4e1-e03ffc14f653",
   "metadata": {},
   "outputs": [
    {
     "data": {
      "text/plain": [
       "[{'_id': 'medicine', 'n_laureates': 216},\n",
       " {'_id': 'physics', 'n_laureates': 210},\n",
       " {'_id': 'chemistry', 'n_laureates': 181},\n",
       " {'_id': 'peace', 'n_laureates': 133},\n",
       " {'_id': 'literature', 'n_laureates': 114},\n",
       " {'_id': 'economics', 'n_laureates': 81}]"
      ]
     },
     "execution_count": 40,
     "metadata": {},
     "output_type": "execute_result"
    }
   ],
   "source": [
    "list(db.prizes.aggregate([\n",
    "    {\"$unwind\": \"$laureates\"},\n",
    "    {\"$group\": {\"_id\": \"$category\", \"n_laureates\": {\"$sum\": 1}}},\n",
    "    {\"$sort\": {\"n_laureates\": -1}},\n",
    "]))"
   ]
  },
  {
   "cell_type": "markdown",
   "id": "970051a2-e7a7-4f32-a1a8-df14ea2f4c40",
   "metadata": {},
   "source": [
    "### $lookup"
   ]
  },
  {
   "cell_type": "code",
   "execution_count": 41,
   "id": "a98ec662-376d-42a7-8522-59ab226bfc4a",
   "metadata": {},
   "outputs": [
    {
     "name": "stdout",
     "output_type": "stream",
     "text": [
      "{'_id': ObjectId('6706d88371ea025ecc350d20'),\n",
      " 'category': 'physics',\n",
      " 'laureates': [{'firstname': 'Arthur',\n",
      "                'id': '960',\n",
      "                'motivation': '\"for the optical tweezers and their application '\n",
      "                              'to biological systems\"',\n",
      "                'share': '2',\n",
      "                'surname': 'Ashkin'},\n",
      "               {'firstname': 'Gérard',\n",
      "                'id': '961',\n",
      "                'motivation': '\"for their method of generating high-intensity, '\n",
      "                              'ultra-short optical pulses\"',\n",
      "                'share': '4',\n",
      "                'surname': 'Mourou'},\n",
      "               {'firstname': 'Donna',\n",
      "                'id': '962',\n",
      "                'motivation': '\"for their method of generating high-intensity, '\n",
      "                              'ultra-short optical pulses\"',\n",
      "                'share': '4',\n",
      "                'surname': 'Strickland'}],\n",
      " 'overallMotivation': '“for groundbreaking inventions in the field of laser '\n",
      "                      'physics”',\n",
      " 'year': '2018'}\n"
     ]
    }
   ],
   "source": [
    "# Reviewing prizes\n",
    "pprint(db.prizes.find_one({}))"
   ]
  },
  {
   "cell_type": "code",
   "execution_count": 42,
   "id": "c29f2c46-f7ba-4cbf-83ec-4d6e2f54f51a",
   "metadata": {},
   "outputs": [
    {
     "name": "stdout",
     "output_type": "stream",
     "text": [
      "{'_id': ObjectId('6706d88371ea025ecc350f6e'),\n",
      " 'born': '1853-07-18',\n",
      " 'bornCity': 'Arnhem',\n",
      " 'bornCountry': 'the Netherlands',\n",
      " 'bornCountryCode': 'NL',\n",
      " 'died': '1928-02-04',\n",
      " 'diedCountry': 'the Netherlands',\n",
      " 'diedCountryCode': 'NL',\n",
      " 'firstname': 'Hendrik Antoon',\n",
      " 'gender': 'male',\n",
      " 'id': '2',\n",
      " 'prizes': [{'affiliations': [{'city': 'Leiden',\n",
      "                               'country': 'the Netherlands',\n",
      "                               'name': 'Leiden University'}],\n",
      "             'category': 'physics',\n",
      "             'motivation': '\"in recognition of the extraordinary service they '\n",
      "                           'rendered by their researches into the influence of '\n",
      "                           'magnetism upon radiation phenomena\"',\n",
      "             'share': '2',\n",
      "             'year': '1902'}],\n",
      " 'surname': 'Lorentz'}\n"
     ]
    }
   ],
   "source": [
    "# Reviewing laureates\n",
    "pprint(db.laureates.find_one({}))"
   ]
  },
  {
   "cell_type": "code",
   "execution_count": 43,
   "id": "b53f1272-da68-4ac4-bc67-29cacddbe901",
   "metadata": {},
   "outputs": [
    {
     "name": "stdout",
     "output_type": "stream",
     "text": [
      "[{'_id': None,\n",
      "  'bornCountries': ['Russian Empire (now Russia)',\n",
      "                    'France',\n",
      "                    'Russia',\n",
      "                    'Germany (now Poland)',\n",
      "                    'Russian Empire (now Belarus)',\n",
      "                    'the Netherlands',\n",
      "                    'British West Indies (now Saint Lucia)',\n",
      "                    'Hungary',\n",
      "                    'Norway',\n",
      "                    'USA',\n",
      "                    'Scotland',\n",
      "                    'Canada',\n",
      "                    'India',\n",
      "                    'Germany',\n",
      "                    'Sweden',\n",
      "                    'Cyprus',\n",
      "                    'United Kingdom',\n",
      "                    'British Mandate of Palestine (now Israel)',\n",
      "                    'Austria',\n",
      "                    'Finland',\n",
      "                    'Italy']}]\n"
     ]
    }
   ],
   "source": [
    "born1 = list(db.prizes.aggregate([\n",
    "    {\"$match\": {\"category\": \"economics\"}},\n",
    "    {\"$unwind\": \"$laureates\"},\n",
    "    {\"$lookup\": {\"from\": \"laureates\", \n",
    "                 \"foreignField\": \"id\",\n",
    "                 \"localField\": \"laureates.id\", \n",
    "                 \"as\": \"laureate_bios\"}},\n",
    "    {\"$unwind\": \"$laureate_bios\"},\n",
    "    {\"$group\": {\"_id\": None,\n",
    "                \"bornCountries\":{\"$addToSet\": \"$laureate_bios.bornCountry\"}}},\n",
    "]))\n",
    "pprint(born1)"
   ]
  },
  {
   "cell_type": "code",
   "execution_count": 44,
   "id": "433e90e7-a607-4396-871f-0f600b19b5e8",
   "metadata": {},
   "outputs": [
    {
     "name": "stdout",
     "output_type": "stream",
     "text": [
      "['Austria',\n",
      " 'British Mandate of Palestine (now Israel)',\n",
      " 'British West Indies (now Saint Lucia)',\n",
      " 'Canada',\n",
      " 'Cyprus',\n",
      " 'Finland',\n",
      " 'France',\n",
      " 'Germany',\n",
      " 'Germany (now Poland)',\n",
      " 'Hungary',\n",
      " 'India',\n",
      " 'Italy',\n",
      " 'Norway',\n",
      " 'Russia',\n",
      " 'Russian Empire (now Belarus)',\n",
      " 'Russian Empire (now Russia)',\n",
      " 'Scotland',\n",
      " 'Sweden',\n",
      " 'USA',\n",
      " 'United Kingdom',\n",
      " 'the Netherlands']\n"
     ]
    }
   ],
   "source": [
    "born2 = db.laureates.distinct(\n",
    "    \"bornCountry\", {\"prizes.category\": \"economics\"}\n",
    ")\n",
    "pprint(born2)\n",
    "assert set(born2) == set(born1[0]['bornCountries'])"
   ]
  },
  {
   "cell_type": "markdown",
   "id": "6ea48897-0836-4507-bc7d-6eb5357dd518",
   "metadata": {},
   "source": [
    "### Excercises\n",
    "\n",
    "#### Embedding aggregation expressions\n",
    "\n",
    "The `$expr` operator allows embedding of aggregation expressions in a normal query (or in a `$match` stage).\n",
    "\n",
    "**How to counts the number of laureate documents with string-valued bornCountries when passed to db.laureates.count_documents?**"
   ]
  },
  {
   "cell_type": "code",
   "execution_count": 45,
   "id": "5a8deb92-ccec-4fdd-a40c-ab7faf2df1db",
   "metadata": {},
   "outputs": [
    {
     "data": {
      "text/plain": [
       "934"
      ]
     },
     "execution_count": 45,
     "metadata": {},
     "output_type": "execute_result"
    }
   ],
   "source": [
    "db.laureates.count_documents({})"
   ]
  },
  {
   "cell_type": "code",
   "execution_count": 46,
   "id": "ac0b7681-07cb-4e5f-8323-44676dfef964",
   "metadata": {},
   "outputs": [
    {
     "data": {
      "text/plain": [
       "901"
      ]
     },
     "execution_count": 46,
     "metadata": {},
     "output_type": "execute_result"
    }
   ],
   "source": [
    "db.laureates.count_documents({\n",
    "    \"bornCountry\": {\"$in\": db.laureates.distinct(\"bornCountry\")},\n",
    "    \"bornCountry\": {'$exists': True}  # Excluding org\n",
    "})"
   ]
  },
  {
   "cell_type": "code",
   "execution_count": 47,
   "id": "f626b42d-ca95-428c-8515-82bbeb4281a0",
   "metadata": {},
   "outputs": [
    {
     "data": {
      "text/plain": [
       "901"
      ]
     },
     "execution_count": 47,
     "metadata": {},
     "output_type": "execute_result"
    }
   ],
   "source": [
    "db.laureates.count_documents({\n",
    "    \"$expr\": {\"$in\": [\"$bornCountry\",   # org doesnot have bornCountry\n",
    "                      db.laureates.distinct(\"bornCountry\")]}\n",
    "})"
   ]
  },
  {
   "cell_type": "code",
   "execution_count": 48,
   "id": "23b9af07-9df5-4c07-8b1c-ab0543c82ee5",
   "metadata": {},
   "outputs": [
    {
     "data": {
      "text/plain": [
       "901"
      ]
     },
     "execution_count": 48,
     "metadata": {},
     "output_type": "execute_result"
    }
   ],
   "source": [
    "db.laureates.count_documents({ # org doesnot have bornCountry\n",
    "    \"$expr\": {\"$eq\": [{\"$type\": \"$bornCountry\"}, \"string\"]}\n",
    "})"
   ]
  },
  {
   "cell_type": "code",
   "execution_count": 49,
   "id": "f46e69fb-bbb4-4d39-be26-f514102a2564",
   "metadata": {},
   "outputs": [
    {
     "data": {
      "text/plain": [
       "901"
      ]
     },
     "execution_count": 49,
     "metadata": {},
     "output_type": "execute_result"
    }
   ],
   "source": [
    "db.laureates.count_documents({\n",
    "    \"bornCountry\": {\"$type\": \"string\"}\n",
    "})"
   ]
  },
  {
   "cell_type": "markdown",
   "id": "49c48443-1bb3-4d11-b815-eddf86896c49",
   "metadata": {},
   "source": [
    "#### Here and elsewhere\n",
    "What proportion of laureates won a prize while affiliated with an institution in their country of birth? Build an aggregation pipeline to get the count of laureates who either did or did not win a prize with an affiliation country that is a substring of their country of birth -- for example, the prize affiliation country \"Germany\" should match the country of birth \"Prussia (now Germany)\"."
   ]
  },
  {
   "cell_type": "code",
   "execution_count": 50,
   "id": "d6ca8425-08ff-46b0-abbc-b0343bbb5f38",
   "metadata": {},
   "outputs": [
    {
     "data": {
      "text/plain": [
       "[{'_id': False, 'count': 261}, {'_id': True, 'count': 477}]"
      ]
     },
     "execution_count": 50,
     "metadata": {},
     "output_type": "execute_result"
    }
   ],
   "source": [
    "key_ac = \"prizes.affiliations.country\"\n",
    "key_bc = \"bornCountry\"\n",
    "\n",
    "pipeline = [\n",
    "    {\"$project\": {key_bc: 1, key_ac: 1}},\n",
    "\n",
    "    # Ensure a single prize affiliation country per pipeline document\n",
    "    {'$unwind': \"$prizes\"},\n",
    "    {'$unwind': \"$prizes.affiliations\"},\n",
    "\n",
    "    # Ensure values in the list of distinct values (so not empty)\n",
    "    {\"$match\": {key_ac: {'$in': db.laureates.distinct(key_ac)}}},\n",
    "    {\"$project\": {\n",
    "        \"affilCountrySameAsBorn\": {\n",
    "            \"$gte\": [\n",
    "                {\"$indexOfBytes\": [\"$\"+key_ac, \"$\"+key_bc]}, \n",
    "                0\n",
    "            ]\n",
    "        }\n",
    "    }},\n",
    "\n",
    "    # Count by \"$affilCountrySameAsBorn\" value (True or False)\n",
    "    {\"$group\": {\"_id\": \"$affilCountrySameAsBorn\",\n",
    "                \"count\": {\"$sum\": 1}}},\n",
    "]\n",
    "\n",
    "list(db.laureates.aggregate(pipeline))"
   ]
  },
  {
   "cell_type": "code",
   "execution_count": 51,
   "id": "61f91ac3-4645-46a6-9489-6c152094e5e1",
   "metadata": {},
   "outputs": [
    {
     "name": "stdout",
     "output_type": "stream",
     "text": [
      "[{'_id': ObjectId('6706d88371ea025ecc350f6e'),\n",
      "  'bornCountry': 'the Netherlands',\n",
      "  'prizes': [{'affiliations': [{'country': 'the Netherlands'}]}]},\n",
      " {'_id': ObjectId('6706d88371ea025ecc350f6f'),\n",
      "  'bornCountry': 'USA',\n",
      "  'prizes': [{'affiliations': [{'country': 'USA'}]}]},\n",
      " {'_id': ObjectId('6706d88371ea025ecc350f70'),\n",
      "  'bornCountry': 'USA',\n",
      "  'prizes': [{'affiliations': [{'country': 'USA'}]}]}]\n"
     ]
    }
   ],
   "source": [
    "# Building step by step\n",
    "# 1 - projection\n",
    "pprint(list(db.laureates.aggregate([\n",
    "    {\"$project\": {key_bc: 1, key_ac: 1}},\n",
    "    {\"$limit\": 3}\n",
    "])))"
   ]
  },
  {
   "cell_type": "code",
   "execution_count": 52,
   "id": "f30c093e-fd65-4c91-837d-0d2ab792f54e",
   "metadata": {},
   "outputs": [
    {
     "name": "stdout",
     "output_type": "stream",
     "text": [
      "[{'_id': ObjectId('6706d88371ea025ecc350f6e'),\n",
      "  'bornCountry': 'the Netherlands',\n",
      "  'prizes': {'affiliations': [{'country': 'the Netherlands'}]}},\n",
      " {'_id': ObjectId('6706d88371ea025ecc350f6f'),\n",
      "  'bornCountry': 'USA',\n",
      "  'prizes': {'affiliations': [{'country': 'USA'}]}},\n",
      " {'_id': ObjectId('6706d88371ea025ecc350f70'),\n",
      "  'bornCountry': 'USA',\n",
      "  'prizes': {'affiliations': [{'country': 'USA'}]}}]\n",
      "-----------------------------------\n",
      "[{'_id': ObjectId('6706d88371ea025ecc350f6e'),\n",
      "  'bornCountry': 'the Netherlands',\n",
      "  'prizes': {'affiliations': {'country': 'the Netherlands'}}},\n",
      " {'_id': ObjectId('6706d88371ea025ecc350f6f'),\n",
      "  'bornCountry': 'USA',\n",
      "  'prizes': {'affiliations': {'country': 'USA'}}},\n",
      " {'_id': ObjectId('6706d88371ea025ecc350f70'),\n",
      "  'bornCountry': 'USA',\n",
      "  'prizes': {'affiliations': {'country': 'USA'}}}]\n"
     ]
    }
   ],
   "source": [
    "# Building step by step\n",
    "# 2. $unwind\n",
    "pprint(list(db.laureates.aggregate([\n",
    "    {\"$project\": {key_bc: 1, key_ac: 1}},\n",
    "    {'$unwind': \"$prizes\"},\n",
    "    {\"$limit\": 3}\n",
    "])))\n",
    "print('-----------------------------------')\n",
    "pprint(list(db.laureates.aggregate([\n",
    "    {\"$project\": {key_bc: 1, key_ac: 1}},\n",
    "    {'$unwind': \"$prizes\"},\n",
    "    {'$unwind': \"$prizes.affiliations\"},\n",
    "    {\"$limit\": 3}\n",
    "])))"
   ]
  },
  {
   "cell_type": "code",
   "execution_count": 53,
   "id": "e06b3e7a-d5bd-4709-b88a-db905b11228e",
   "metadata": {},
   "outputs": [
    {
     "name": "stdout",
     "output_type": "stream",
     "text": [
      "[{'_id': ObjectId('6706d88371ea025ecc350f6e'),\n",
      "  'bornCountry': 'the Netherlands',\n",
      "  'prizes': {'affiliations': {'country': 'the Netherlands'}}},\n",
      " {'_id': ObjectId('6706d88371ea025ecc350f6f'),\n",
      "  'bornCountry': 'USA',\n",
      "  'prizes': {'affiliations': {'country': 'USA'}}},\n",
      " {'_id': ObjectId('6706d88371ea025ecc350f70'),\n",
      "  'bornCountry': 'USA',\n",
      "  'prizes': {'affiliations': {'country': 'USA'}}}]\n"
     ]
    }
   ],
   "source": [
    "# Building step by step\n",
    "# 3. $match\n",
    "pprint(list(db.laureates.aggregate([\n",
    "    {\"$project\": {key_bc: 1, key_ac: 1}},\n",
    "    {'$unwind': \"$prizes\"},\n",
    "    {'$unwind': \"$prizes.affiliations\"},\n",
    "    {\"$match\": {key_ac: {'$in': db.laureates.distinct(key_ac)}}},\n",
    "    {\"$limit\": 3}\n",
    "])))"
   ]
  },
  {
   "cell_type": "code",
   "execution_count": 54,
   "id": "50160642-1338-4f23-a680-dc1c64c11c92",
   "metadata": {},
   "outputs": [
    {
     "name": "stdout",
     "output_type": "stream",
     "text": [
      "[{'_id': ObjectId('6706d88371ea025ecc350f6e'),\n",
      "  'bornCountry': 'the Netherlands',\n",
      "  'idx_of_bytes_value': 0,\n",
      "  'prizes': {'affiliations': {'country': 'the Netherlands'}}},\n",
      " {'_id': ObjectId('6706d88371ea025ecc350f6f'),\n",
      "  'bornCountry': 'USA',\n",
      "  'idx_of_bytes_value': 0,\n",
      "  'prizes': {'affiliations': {'country': 'USA'}}},\n",
      " {'_id': ObjectId('6706d88371ea025ecc350f70'),\n",
      "  'bornCountry': 'USA',\n",
      "  'idx_of_bytes_value': 0,\n",
      "  'prizes': {'affiliations': {'country': 'USA'}}},\n",
      " {'_id': ObjectId('6706d88371ea025ecc350f71'),\n",
      "  'bornCountry': 'United Kingdom',\n",
      "  'idx_of_bytes_value': 0,\n",
      "  'prizes': {'affiliations': {'country': 'United Kingdom'}}},\n",
      " {'_id': ObjectId('6706d88371ea025ecc350f72'),\n",
      "  'bornCountry': 'United Kingdom',\n",
      "  'idx_of_bytes_value': 0,\n",
      "  'prizes': {'affiliations': {'country': 'United Kingdom'}}},\n",
      " {'_id': ObjectId('6706d88371ea025ecc350f73'),\n",
      "  'bornCountry': 'United Kingdom',\n",
      "  'idx_of_bytes_value': 0,\n",
      "  'prizes': {'affiliations': {'country': 'United Kingdom'}}},\n",
      " {'_id': ObjectId('6706d88371ea025ecc350f74'),\n",
      "  'bornCountry': 'Denmark',\n",
      "  'idx_of_bytes_value': 0,\n",
      "  'prizes': {'affiliations': {'country': 'Denmark'}}},\n",
      " {'_id': ObjectId('6706d88371ea025ecc350f75'),\n",
      "  'bornCountry': 'USA',\n",
      "  'idx_of_bytes_value': -1,\n",
      "  'prizes': {'affiliations': {'country': 'Denmark'}}}]\n"
     ]
    }
   ],
   "source": [
    "# Building step by step\n",
    "# 4. $indexOfBytes\n",
    "# Searches a string for an occurrence of a substring and \n",
    "# returns the UTF-8 byte index (zero-based) of the first occurrence. \n",
    "# If the substring is not found, returns -1.\n",
    "# $indexOfBytes has the following operator expression syntax:\n",
    "# { $indexOfBytes: [ <string expression>, <substring expression>, \n",
    "#                    <start>, <end> ] }\n",
    "pprint(list(db.laureates.aggregate([\n",
    "    {\"$project\": {key_bc: 1, key_ac: 1}},\n",
    "    {'$unwind': \"$prizes\"},\n",
    "    {'$unwind': \"$prizes.affiliations\"},\n",
    "    {\"$match\": {key_ac: {'$in': db.laureates.distinct(key_ac)}}},\n",
    "    {\"$project\": {'bornCountry': 1,\n",
    "                  'prizes': 1,\n",
    "                  'idx_of_bytes_value': {\"$indexOfBytes\": [\"$\"+key_ac, \n",
    "                                                           \"$\"+key_bc]}}},\n",
    "    {\"$limit\": 8}\n",
    "])))"
   ]
  },
  {
   "cell_type": "code",
   "execution_count": 55,
   "id": "9a99617f-8140-479a-85bc-729f4d1fcc35",
   "metadata": {},
   "outputs": [
    {
     "name": "stdout",
     "output_type": "stream",
     "text": [
      "[{'_id': ObjectId('6706d88371ea025ecc350f6e'),\n",
      "  'affilCountrySameAsBorn': True,\n",
      "  'bornCountry': 'the Netherlands',\n",
      "  'idx_of_bytes_value': 0,\n",
      "  'prizes': {'affiliations': {'country': 'the Netherlands'}}},\n",
      " {'_id': ObjectId('6706d88371ea025ecc350f6f'),\n",
      "  'affilCountrySameAsBorn': True,\n",
      "  'bornCountry': 'USA',\n",
      "  'idx_of_bytes_value': 0,\n",
      "  'prizes': {'affiliations': {'country': 'USA'}}},\n",
      " {'_id': ObjectId('6706d88371ea025ecc350f70'),\n",
      "  'affilCountrySameAsBorn': True,\n",
      "  'bornCountry': 'USA',\n",
      "  'idx_of_bytes_value': 0,\n",
      "  'prizes': {'affiliations': {'country': 'USA'}}},\n",
      " {'_id': ObjectId('6706d88371ea025ecc350f71'),\n",
      "  'affilCountrySameAsBorn': True,\n",
      "  'bornCountry': 'United Kingdom',\n",
      "  'idx_of_bytes_value': 0,\n",
      "  'prizes': {'affiliations': {'country': 'United Kingdom'}}},\n",
      " {'_id': ObjectId('6706d88371ea025ecc350f72'),\n",
      "  'affilCountrySameAsBorn': True,\n",
      "  'bornCountry': 'United Kingdom',\n",
      "  'idx_of_bytes_value': 0,\n",
      "  'prizes': {'affiliations': {'country': 'United Kingdom'}}},\n",
      " {'_id': ObjectId('6706d88371ea025ecc350f73'),\n",
      "  'affilCountrySameAsBorn': True,\n",
      "  'bornCountry': 'United Kingdom',\n",
      "  'idx_of_bytes_value': 0,\n",
      "  'prizes': {'affiliations': {'country': 'United Kingdom'}}},\n",
      " {'_id': ObjectId('6706d88371ea025ecc350f74'),\n",
      "  'affilCountrySameAsBorn': True,\n",
      "  'bornCountry': 'Denmark',\n",
      "  'idx_of_bytes_value': 0,\n",
      "  'prizes': {'affiliations': {'country': 'Denmark'}}},\n",
      " {'_id': ObjectId('6706d88371ea025ecc350f75'),\n",
      "  'affilCountrySameAsBorn': False,\n",
      "  'bornCountry': 'USA',\n",
      "  'idx_of_bytes_value': -1,\n",
      "  'prizes': {'affiliations': {'country': 'Denmark'}}}]\n"
     ]
    }
   ],
   "source": [
    "# Building step by step\n",
    "# 5. complete the $project\n",
    "pprint(list(db.laureates.aggregate([\n",
    "    {\"$project\": {key_bc: 1, key_ac: 1}},\n",
    "    {'$unwind': \"$prizes\"},\n",
    "    {'$unwind': \"$prizes.affiliations\"},\n",
    "    {\"$match\": {key_ac: {'$in': db.laureates.distinct(key_ac)}}},\n",
    "    {\"$project\": {'bornCountry': 1,\n",
    "                  'prizes': 1,\n",
    "                  'idx_of_bytes_value': {\"$indexOfBytes\": [\"$\"+key_ac, \n",
    "                                                           \"$\"+key_bc]},\n",
    "                  'affilCountrySameAsBorn': {\n",
    "                      \"$gte\": [\n",
    "                          {\"$indexOfBytes\": [\"$\"+key_ac, \"$\"+key_bc]},\n",
    "                          0\n",
    "                      ]\n",
    "                  }}},\n",
    "    {\"$limit\": 8}\n",
    "])))"
   ]
  },
  {
   "cell_type": "code",
   "execution_count": 56,
   "id": "ece62b4c-0fd6-4f97-9648-7f72df284315",
   "metadata": {},
   "outputs": [
    {
     "name": "stdout",
     "output_type": "stream",
     "text": [
      "[{'_id': False, 'count': 261}, {'_id': True, 'count': 477}]\n"
     ]
    }
   ],
   "source": [
    "# Building step by step\n",
    "# 6. $group\n",
    "pprint(list(db.laureates.aggregate([\n",
    "    {\"$project\": {key_bc: 1, key_ac: 1}},\n",
    "    {'$unwind': \"$prizes\"},\n",
    "    {'$unwind': \"$prizes.affiliations\"},\n",
    "    {\"$match\": {key_ac: {'$in': db.laureates.distinct(key_ac)}}},\n",
    "    {\"$project\": {'bornCountry': 1,\n",
    "                  'prizes': 1,\n",
    "                  'idx_of_bytes_value': {\"$indexOfBytes\": [\"$\"+key_ac, \n",
    "                                                           \"$\"+key_bc]},\n",
    "                  'affilCountrySameAsBorn': {\n",
    "                      \"$gte\": [\n",
    "                          {\"$indexOfBytes\": [\"$\"+key_ac, \"$\"+key_bc]},\n",
    "                          0\n",
    "                      ]\n",
    "                  }}},\n",
    "    {\"$group\": {\"_id\": \"$affilCountrySameAsBorn\",\n",
    "                \"count\": {\"$sum\": 1}}},\n",
    "    {\"$limit\": 8}\n",
    "])))"
   ]
  },
  {
   "cell_type": "markdown",
   "id": "e9cfd6d8-4298-4da6-9a8a-c0479053facd",
   "metadata": {},
   "source": [
    "#### Countries of birth by prize category\n",
    "\n",
    "Some prize categories have laureates hailing from a greater number of countries than do other categories. You will build an aggregation pipeline for the prizes collection to collect these numbers, using a $lookup stage to obtain laureate countries of birth."
   ]
  },
  {
   "cell_type": "code",
   "execution_count": 57,
   "id": "b1331c2a-0ccd-4631-b544-3a8cde0c117c",
   "metadata": {},
   "outputs": [
    {
     "name": "stdout",
     "output_type": "stream",
     "text": [
      "[{'_id': 'literature', 'nBornCountries': 55},\n",
      " {'_id': 'peace', 'nBornCountries': 50},\n",
      " {'_id': 'chemistry', 'nBornCountries': 48},\n",
      " {'_id': 'medicine', 'nBornCountries': 44},\n",
      " {'_id': 'physics', 'nBornCountries': 44},\n",
      " {'_id': 'economics', 'nBornCountries': 21}]\n"
     ]
    }
   ],
   "source": [
    "pipeline = [\n",
    "    # Unwind the laureates array\n",
    "    {'$unwind': \"$laureates\"},\n",
    "    {\"$lookup\": {\n",
    "        \"from\": \"laureates\", \"foreignField\": \"id\",\n",
    "        \"localField\": \"laureates.id\", \"as\": \"laureate_bios\"}},\n",
    "\n",
    "    # Unwind the new laureate_bios array\n",
    "    {\"$unwind\": '$laureate_bios'},\n",
    "    {\"$project\": {\"category\": 1,\n",
    "                  \"bornCountry\": \"$laureate_bios.bornCountry\"}},  # renaming\n",
    "\n",
    "    # Collect bornCountry values associated with each prize category\n",
    "    {\"$group\": {'_id': \"$category\",\n",
    "                \"bornCountries\": {\"$addToSet\": \"$bornCountry\"}}},\n",
    "\n",
    "    # Project out the size of each category's (set of) bornCountries\n",
    "    {\"$project\": {\"category\": 1,\n",
    "                  \"nBornCountries\": {\"$size\": '$bornCountries'}}},\n",
    "    {\"$sort\": {\"nBornCountries\": -1}},\n",
    "]\n",
    "\n",
    "pprint(list(db.prizes.aggregate(pipeline)))"
   ]
  },
  {
   "cell_type": "code",
   "execution_count": 58,
   "id": "5ed661ab-0580-43ec-94df-ab6e952e4325",
   "metadata": {},
   "outputs": [
    {
     "name": "stdout",
     "output_type": "stream",
     "text": [
      "{'_id': ObjectId('6706d88371ea025ecc350d20'),\n",
      " 'category': 'physics',\n",
      " 'laureate_bios': [{'_id': ObjectId('6706d88371ea025ecc351312'),\n",
      "                    'born': '1922-09-02',\n",
      "                    'bornCity': 'New York, NY',\n",
      "                    'bornCountry': 'USA',\n",
      "                    'bornCountryCode': 'US',\n",
      "                    'died': '0000-00-00',\n",
      "                    'firstname': 'Arthur',\n",
      "                    'gender': 'male',\n",
      "                    'id': '960',\n",
      "                    'prizes': [{'affiliations': [{'city': 'Holmdel, NJ',\n",
      "                                                  'country': 'USA',\n",
      "                                                  'name': 'Bell Laboratories'}],\n",
      "                                'category': 'physics',\n",
      "                                'motivation': '\"for the optical tweezers and '\n",
      "                                              'their application to biological '\n",
      "                                              'systems\"',\n",
      "                                'overallMotivation': '“for groundbreaking '\n",
      "                                                     'inventions in the field '\n",
      "                                                     'of laser physics”',\n",
      "                                'share': '2',\n",
      "                                'year': '2018'}],\n",
      "                    'surname': 'Ashkin'}],\n",
      " 'laureates': {'firstname': 'Arthur',\n",
      "               'id': '960',\n",
      "               'motivation': '\"for the optical tweezers and their application '\n",
      "                             'to biological systems\"',\n",
      "               'share': '2',\n",
      "               'surname': 'Ashkin'},\n",
      " 'overallMotivation': '“for groundbreaking inventions in the field of laser '\n",
      "                      'physics”',\n",
      " 'year': '2018'}\n"
     ]
    }
   ],
   "source": [
    "# Taking a look into $lookup\n",
    "pipeline = [\n",
    "    {'$unwind': \"$laureates\"},\n",
    "    {\"$lookup\": {\n",
    "        \"from\": \"laureates\", \"foreignField\": \"id\",\n",
    "        \"localField\": \"laureates.id\", \"as\": \"laureate_bios\"}},\n",
    "]\n",
    "\n",
    "pprint(list(db.prizes.aggregate(pipeline))[0])"
   ]
  },
  {
   "cell_type": "code",
   "execution_count": 59,
   "id": "4c4e1b3f-daa8-4c01-a405-77ad8e8f0f0a",
   "metadata": {},
   "outputs": [
    {
     "name": "stdout",
     "output_type": "stream",
     "text": [
      "{'_id': ObjectId('6706d88371ea025ecc350d20'),\n",
      " 'category': 'physics',\n",
      " 'laureate_bios': {'_id': ObjectId('6706d88371ea025ecc351312'),\n",
      "                   'born': '1922-09-02',\n",
      "                   'bornCity': 'New York, NY',\n",
      "                   'bornCountry': 'USA',\n",
      "                   'bornCountryCode': 'US',\n",
      "                   'died': '0000-00-00',\n",
      "                   'firstname': 'Arthur',\n",
      "                   'gender': 'male',\n",
      "                   'id': '960',\n",
      "                   'prizes': [{'affiliations': [{'city': 'Holmdel, NJ',\n",
      "                                                 'country': 'USA',\n",
      "                                                 'name': 'Bell Laboratories'}],\n",
      "                               'category': 'physics',\n",
      "                               'motivation': '\"for the optical tweezers and '\n",
      "                                             'their application to biological '\n",
      "                                             'systems\"',\n",
      "                               'overallMotivation': '“for groundbreaking '\n",
      "                                                    'inventions in the field '\n",
      "                                                    'of laser physics”',\n",
      "                               'share': '2',\n",
      "                               'year': '2018'}],\n",
      "                   'surname': 'Ashkin'},\n",
      " 'laureates': {'firstname': 'Arthur',\n",
      "               'id': '960',\n",
      "               'motivation': '\"for the optical tweezers and their application '\n",
      "                             'to biological systems\"',\n",
      "               'share': '2',\n",
      "               'surname': 'Ashkin'},\n",
      " 'overallMotivation': '“for groundbreaking inventions in the field of laser '\n",
      "                      'physics”',\n",
      " 'year': '2018'}\n"
     ]
    }
   ],
   "source": [
    "# Adding the $unwind stage\n",
    "pipeline = [\n",
    "    {'$unwind': \"$laureates\"},\n",
    "    {\"$lookup\": {\n",
    "        \"from\": \"laureates\", \"foreignField\": \"id\",\n",
    "        \"localField\": \"laureates.id\", \"as\": \"laureate_bios\"}},\n",
    "    {\"$unwind\": '$laureate_bios'},\n",
    "]\n",
    "\n",
    "pprint(list(db.prizes.aggregate(pipeline))[0])"
   ]
  },
  {
   "cell_type": "markdown",
   "id": "dbfadddd-9fc7-40f4-9c32-fb315d9a85ba",
   "metadata": {},
   "source": [
    "## 4.4 Something Extra: $addFields to Aid Analysis\n",
    "\n",
    "### A somber $project"
   ]
  },
  {
   "cell_type": "code",
   "execution_count": 60,
   "id": "b98bb83c-fe56-4797-8183-806744794e11",
   "metadata": {},
   "outputs": [
    {
     "data": {
      "text/plain": [
       "{'_id': ObjectId('6706d88371ea025ecc350f6e'),\n",
       " 'id': '2',\n",
       " 'firstname': 'Hendrik Antoon',\n",
       " 'surname': 'Lorentz',\n",
       " 'born': '1853-07-18',\n",
       " 'died': '1928-02-04',\n",
       " 'bornCountry': 'the Netherlands',\n",
       " 'bornCountryCode': 'NL',\n",
       " 'bornCity': 'Arnhem',\n",
       " 'diedCountry': 'the Netherlands',\n",
       " 'diedCountryCode': 'NL',\n",
       " 'gender': 'male',\n",
       " 'prizes': [{'year': '1902',\n",
       "   'category': 'physics',\n",
       "   'share': '2',\n",
       "   'motivation': '\"in recognition of the extraordinary service they rendered by their researches into the influence of magnetism upon radiation phenomena\"',\n",
       "   'affiliations': [{'name': 'Leiden University',\n",
       "     'city': 'Leiden',\n",
       "     'country': 'the Netherlands'}]}]}"
      ]
     },
     "execution_count": 60,
     "metadata": {},
     "output_type": "execute_result"
    }
   ],
   "source": [
    "# Reviewing laureates\n",
    "db.laureates.find_one({})"
   ]
  },
  {
   "cell_type": "code",
   "execution_count": 61,
   "id": "f6429d53-454c-40be-ae95-217c2ceaca9f",
   "metadata": {},
   "outputs": [
    {
     "name": "stdout",
     "output_type": "stream",
     "text": [
      "\u001b[1;31m---------------------------------------------------------------------------\u001b[0m\n",
      "\u001b[1;31mOperationFailure\u001b[0m                          Traceback (most recent call last)\n",
      "Cell \u001b[1;32mIn[61], line 2\u001b[0m\n",
      "\u001b[0;32m      1\u001b[0m \u001b[38;5;66;03m# Is there any missing died and born fields?\u001b[39;00m\n",
      "\u001b[1;32m----> 2\u001b[0m docs \u001b[38;5;241m=\u001b[39m \u001b[38;5;28mlist\u001b[39m(\u001b[43mdb\u001b[49m\u001b[38;5;241;43m.\u001b[39;49m\u001b[43mlaureates\u001b[49m\u001b[38;5;241;43m.\u001b[39;49m\u001b[43maggregate\u001b[49m\u001b[43m(\u001b[49m\u001b[43m[\u001b[49m\n",
      "\u001b[0;32m      3\u001b[0m \u001b[43m    \u001b[49m\u001b[43m{\u001b[49m\u001b[38;5;124;43m\"\u001b[39;49m\u001b[38;5;124;43m$project\u001b[39;49m\u001b[38;5;124;43m\"\u001b[39;49m\u001b[43m:\u001b[49m\u001b[43m \u001b[49m\u001b[43m{\u001b[49m\n",
      "\u001b[0;32m      4\u001b[0m \u001b[43m        \u001b[49m\u001b[38;5;124;43m\"\u001b[39;49m\u001b[38;5;124;43mdied\u001b[39;49m\u001b[38;5;124;43m\"\u001b[39;49m\u001b[43m:\u001b[49m\u001b[43m \u001b[49m\u001b[43m{\u001b[49m\u001b[38;5;124;43m\"\u001b[39;49m\u001b[38;5;124;43m$dateFromString\u001b[39;49m\u001b[38;5;124;43m\"\u001b[39;49m\u001b[43m:\u001b[49m\u001b[43m \u001b[49m\u001b[43m{\u001b[49m\u001b[38;5;124;43m\"\u001b[39;49m\u001b[38;5;124;43mdateString\u001b[39;49m\u001b[38;5;124;43m\"\u001b[39;49m\u001b[43m:\u001b[49m\u001b[43m \u001b[49m\u001b[38;5;124;43m\"\u001b[39;49m\u001b[38;5;124;43m$died\u001b[39;49m\u001b[38;5;124;43m\"\u001b[39;49m\u001b[43m}\u001b[49m\u001b[43m}\u001b[49m\u001b[43m,\u001b[49m\n",
      "\u001b[0;32m      5\u001b[0m \u001b[43m        \u001b[49m\u001b[38;5;124;43m\"\u001b[39;49m\u001b[38;5;124;43mborn\u001b[39;49m\u001b[38;5;124;43m\"\u001b[39;49m\u001b[43m:\u001b[49m\u001b[43m \u001b[49m\u001b[43m{\u001b[49m\u001b[38;5;124;43m\"\u001b[39;49m\u001b[38;5;124;43m$dateFromString\u001b[39;49m\u001b[38;5;124;43m\"\u001b[39;49m\u001b[43m:\u001b[49m\u001b[43m \u001b[49m\u001b[43m{\u001b[49m\u001b[38;5;124;43m\"\u001b[39;49m\u001b[38;5;124;43mdateString\u001b[39;49m\u001b[38;5;124;43m\"\u001b[39;49m\u001b[43m:\u001b[49m\u001b[43m \u001b[49m\u001b[38;5;124;43m\"\u001b[39;49m\u001b[38;5;124;43m$born\u001b[39;49m\u001b[38;5;124;43m\"\u001b[39;49m\u001b[43m}\u001b[49m\u001b[43m}\u001b[49m\n",
      "\u001b[0;32m      6\u001b[0m \u001b[43m    \u001b[49m\u001b[43m}\u001b[49m\u001b[43m}\u001b[49m\n",
      "\u001b[0;32m      7\u001b[0m \u001b[43m]\u001b[49m\u001b[43m)\u001b[49m)\n",
      "\n",
      "File \u001b[1;32mC:\\ProgramData\\anaconda3\\envs\\mongo\\Lib\\site-packages\\pymongo\\collection.py:2696\u001b[0m, in \u001b[0;36mCollection.aggregate\u001b[1;34m(self, pipeline, session, let, comment, **kwargs)\u001b[0m\n",
      "\u001b[0;32m   2620\u001b[0m \u001b[38;5;250m\u001b[39m\u001b[38;5;124;03m\"\"\"Perform an aggregation using the aggregation framework on this\u001b[39;00m\n",
      "\u001b[0;32m   2621\u001b[0m \u001b[38;5;124;03mcollection.\u001b[39;00m\n",
      "\u001b[0;32m   2622\u001b[0m \n",
      "\u001b[1;32m   (...)\u001b[0m\n",
      "\u001b[0;32m   2693\u001b[0m \u001b[38;5;124;03m    https://mongodb.com/docs/manual/reference/command/aggregate\u001b[39;00m\n",
      "\u001b[0;32m   2694\u001b[0m \u001b[38;5;124;03m\"\"\"\u001b[39;00m\n",
      "\u001b[0;32m   2695\u001b[0m \u001b[38;5;28;01mwith\u001b[39;00m \u001b[38;5;28mself\u001b[39m\u001b[38;5;241m.\u001b[39m__database\u001b[38;5;241m.\u001b[39mclient\u001b[38;5;241m.\u001b[39m_tmp_session(session, close\u001b[38;5;241m=\u001b[39m\u001b[38;5;28;01mFalse\u001b[39;00m) \u001b[38;5;28;01mas\u001b[39;00m s:\n",
      "\u001b[1;32m-> 2696\u001b[0m     \u001b[38;5;28;01mreturn\u001b[39;00m \u001b[38;5;28;43mself\u001b[39;49m\u001b[38;5;241;43m.\u001b[39;49m\u001b[43m_aggregate\u001b[49m\u001b[43m(\u001b[49m\n",
      "\u001b[0;32m   2697\u001b[0m \u001b[43m        \u001b[49m\u001b[43m_CollectionAggregationCommand\u001b[49m\u001b[43m,\u001b[49m\n",
      "\u001b[0;32m   2698\u001b[0m \u001b[43m        \u001b[49m\u001b[43mpipeline\u001b[49m\u001b[43m,\u001b[49m\n",
      "\u001b[0;32m   2699\u001b[0m \u001b[43m        \u001b[49m\u001b[43mCommandCursor\u001b[49m\u001b[43m,\u001b[49m\n",
      "\u001b[0;32m   2700\u001b[0m \u001b[43m        \u001b[49m\u001b[43msession\u001b[49m\u001b[38;5;241;43m=\u001b[39;49m\u001b[43ms\u001b[49m\u001b[43m,\u001b[49m\n",
      "\u001b[0;32m   2701\u001b[0m \u001b[43m        \u001b[49m\u001b[43mexplicit_session\u001b[49m\u001b[38;5;241;43m=\u001b[39;49m\u001b[43msession\u001b[49m\u001b[43m \u001b[49m\u001b[38;5;129;43;01mis\u001b[39;49;00m\u001b[43m \u001b[49m\u001b[38;5;129;43;01mnot\u001b[39;49;00m\u001b[43m \u001b[49m\u001b[38;5;28;43;01mNone\u001b[39;49;00m\u001b[43m,\u001b[49m\n",
      "\u001b[0;32m   2702\u001b[0m \u001b[43m        \u001b[49m\u001b[43mlet\u001b[49m\u001b[38;5;241;43m=\u001b[39;49m\u001b[43mlet\u001b[49m\u001b[43m,\u001b[49m\n",
      "\u001b[0;32m   2703\u001b[0m \u001b[43m        \u001b[49m\u001b[43mcomment\u001b[49m\u001b[38;5;241;43m=\u001b[39;49m\u001b[43mcomment\u001b[49m\u001b[43m,\u001b[49m\n",
      "\u001b[0;32m   2704\u001b[0m \u001b[43m        \u001b[49m\u001b[38;5;241;43m*\u001b[39;49m\u001b[38;5;241;43m*\u001b[39;49m\u001b[43mkwargs\u001b[49m\u001b[43m,\u001b[49m\n",
      "\u001b[0;32m   2705\u001b[0m \u001b[43m    \u001b[49m\u001b[43m)\u001b[49m\n",
      "\n",
      "File \u001b[1;32mC:\\ProgramData\\anaconda3\\envs\\mongo\\Lib\\site-packages\\pymongo\\_csot.py:108\u001b[0m, in \u001b[0;36mapply.<locals>.csot_wrapper\u001b[1;34m(self, *args, **kwargs)\u001b[0m\n",
      "\u001b[0;32m    106\u001b[0m         \u001b[38;5;28;01mwith\u001b[39;00m _TimeoutContext(timeout):\n",
      "\u001b[0;32m    107\u001b[0m             \u001b[38;5;28;01mreturn\u001b[39;00m func(\u001b[38;5;28mself\u001b[39m, \u001b[38;5;241m*\u001b[39margs, \u001b[38;5;241m*\u001b[39m\u001b[38;5;241m*\u001b[39mkwargs)\n",
      "\u001b[1;32m--> 108\u001b[0m \u001b[38;5;28;01mreturn\u001b[39;00m \u001b[43mfunc\u001b[49m\u001b[43m(\u001b[49m\u001b[38;5;28;43mself\u001b[39;49m\u001b[43m,\u001b[49m\u001b[43m \u001b[49m\u001b[38;5;241;43m*\u001b[39;49m\u001b[43margs\u001b[49m\u001b[43m,\u001b[49m\u001b[43m \u001b[49m\u001b[38;5;241;43m*\u001b[39;49m\u001b[38;5;241;43m*\u001b[39;49m\u001b[43mkwargs\u001b[49m\u001b[43m)\u001b[49m\n",
      "\n",
      "File \u001b[1;32mC:\\ProgramData\\anaconda3\\envs\\mongo\\Lib\\site-packages\\pymongo\\collection.py:2604\u001b[0m, in \u001b[0;36mCollection._aggregate\u001b[1;34m(self, aggregation_command, pipeline, cursor_class, session, explicit_session, let, comment, **kwargs)\u001b[0m\n",
      "\u001b[0;32m   2593\u001b[0m     kwargs[\u001b[38;5;124m\"\u001b[39m\u001b[38;5;124mcomment\u001b[39m\u001b[38;5;124m\"\u001b[39m] \u001b[38;5;241m=\u001b[39m comment\n",
      "\u001b[0;32m   2594\u001b[0m cmd \u001b[38;5;241m=\u001b[39m aggregation_command(\n",
      "\u001b[0;32m   2595\u001b[0m     \u001b[38;5;28mself\u001b[39m,\n",
      "\u001b[0;32m   2596\u001b[0m     cursor_class,\n",
      "\u001b[1;32m   (...)\u001b[0m\n",
      "\u001b[0;32m   2601\u001b[0m     user_fields\u001b[38;5;241m=\u001b[39m{\u001b[38;5;124m\"\u001b[39m\u001b[38;5;124mcursor\u001b[39m\u001b[38;5;124m\"\u001b[39m: {\u001b[38;5;124m\"\u001b[39m\u001b[38;5;124mfirstBatch\u001b[39m\u001b[38;5;124m\"\u001b[39m: \u001b[38;5;241m1\u001b[39m}},\n",
      "\u001b[0;32m   2602\u001b[0m )\n",
      "\u001b[1;32m-> 2604\u001b[0m \u001b[38;5;28;01mreturn\u001b[39;00m \u001b[38;5;28;43mself\u001b[39;49m\u001b[38;5;241;43m.\u001b[39;49m\u001b[43m__database\u001b[49m\u001b[38;5;241;43m.\u001b[39;49m\u001b[43mclient\u001b[49m\u001b[38;5;241;43m.\u001b[39;49m\u001b[43m_retryable_read\u001b[49m\u001b[43m(\u001b[49m\n",
      "\u001b[0;32m   2605\u001b[0m \u001b[43m    \u001b[49m\u001b[43mcmd\u001b[49m\u001b[38;5;241;43m.\u001b[39;49m\u001b[43mget_cursor\u001b[49m\u001b[43m,\u001b[49m\n",
      "\u001b[0;32m   2606\u001b[0m \u001b[43m    \u001b[49m\u001b[43mcmd\u001b[49m\u001b[38;5;241;43m.\u001b[39;49m\u001b[43mget_read_preference\u001b[49m\u001b[43m(\u001b[49m\u001b[43msession\u001b[49m\u001b[43m)\u001b[49m\u001b[43m,\u001b[49m\u001b[43m  \u001b[49m\u001b[38;5;66;43;03m# type: ignore[arg-type]\u001b[39;49;00m\n",
      "\u001b[0;32m   2607\u001b[0m \u001b[43m    \u001b[49m\u001b[43msession\u001b[49m\u001b[43m,\u001b[49m\n",
      "\u001b[0;32m   2608\u001b[0m \u001b[43m    \u001b[49m\u001b[43mretryable\u001b[49m\u001b[38;5;241;43m=\u001b[39;49m\u001b[38;5;129;43;01mnot\u001b[39;49;00m\u001b[43m \u001b[49m\u001b[43mcmd\u001b[49m\u001b[38;5;241;43m.\u001b[39;49m\u001b[43m_performs_write\u001b[49m\u001b[43m,\u001b[49m\n",
      "\u001b[0;32m   2609\u001b[0m \u001b[43m    \u001b[49m\u001b[43moperation\u001b[49m\u001b[38;5;241;43m=\u001b[39;49m\u001b[43m_Op\u001b[49m\u001b[38;5;241;43m.\u001b[39;49m\u001b[43mAGGREGATE\u001b[49m\u001b[43m,\u001b[49m\n",
      "\u001b[0;32m   2610\u001b[0m \u001b[43m\u001b[49m\u001b[43m)\u001b[49m\n",
      "\n",
      "File \u001b[1;32mC:\\ProgramData\\anaconda3\\envs\\mongo\\Lib\\site-packages\\pymongo\\mongo_client.py:1540\u001b[0m, in \u001b[0;36mMongoClient._retryable_read\u001b[1;34m(self, func, read_pref, session, operation, address, retryable, operation_id)\u001b[0m\n",
      "\u001b[0;32m   1535\u001b[0m \u001b[38;5;66;03m# Ensure that the client supports retrying on reads and there is no session in\u001b[39;00m\n",
      "\u001b[0;32m   1536\u001b[0m \u001b[38;5;66;03m# transaction, otherwise, we will not support retry behavior for this call.\u001b[39;00m\n",
      "\u001b[0;32m   1537\u001b[0m retryable \u001b[38;5;241m=\u001b[39m \u001b[38;5;28mbool\u001b[39m(\n",
      "\u001b[0;32m   1538\u001b[0m     retryable \u001b[38;5;129;01mand\u001b[39;00m \u001b[38;5;28mself\u001b[39m\u001b[38;5;241m.\u001b[39moptions\u001b[38;5;241m.\u001b[39mretry_reads \u001b[38;5;129;01mand\u001b[39;00m \u001b[38;5;129;01mnot\u001b[39;00m (session \u001b[38;5;129;01mand\u001b[39;00m session\u001b[38;5;241m.\u001b[39min_transaction)\n",
      "\u001b[0;32m   1539\u001b[0m )\n",
      "\u001b[1;32m-> 1540\u001b[0m \u001b[38;5;28;01mreturn\u001b[39;00m \u001b[38;5;28;43mself\u001b[39;49m\u001b[38;5;241;43m.\u001b[39;49m\u001b[43m_retry_internal\u001b[49m\u001b[43m(\u001b[49m\n",
      "\u001b[0;32m   1541\u001b[0m \u001b[43m    \u001b[49m\u001b[43mfunc\u001b[49m\u001b[43m,\u001b[49m\n",
      "\u001b[0;32m   1542\u001b[0m \u001b[43m    \u001b[49m\u001b[43msession\u001b[49m\u001b[43m,\u001b[49m\n",
      "\u001b[0;32m   1543\u001b[0m \u001b[43m    \u001b[49m\u001b[38;5;28;43;01mNone\u001b[39;49;00m\u001b[43m,\u001b[49m\n",
      "\u001b[0;32m   1544\u001b[0m \u001b[43m    \u001b[49m\u001b[43moperation\u001b[49m\u001b[43m,\u001b[49m\n",
      "\u001b[0;32m   1545\u001b[0m \u001b[43m    \u001b[49m\u001b[43mis_read\u001b[49m\u001b[38;5;241;43m=\u001b[39;49m\u001b[38;5;28;43;01mTrue\u001b[39;49;00m\u001b[43m,\u001b[49m\n",
      "\u001b[0;32m   1546\u001b[0m \u001b[43m    \u001b[49m\u001b[43maddress\u001b[49m\u001b[38;5;241;43m=\u001b[39;49m\u001b[43maddress\u001b[49m\u001b[43m,\u001b[49m\n",
      "\u001b[0;32m   1547\u001b[0m \u001b[43m    \u001b[49m\u001b[43mread_pref\u001b[49m\u001b[38;5;241;43m=\u001b[39;49m\u001b[43mread_pref\u001b[49m\u001b[43m,\u001b[49m\n",
      "\u001b[0;32m   1548\u001b[0m \u001b[43m    \u001b[49m\u001b[43mretryable\u001b[49m\u001b[38;5;241;43m=\u001b[39;49m\u001b[43mretryable\u001b[49m\u001b[43m,\u001b[49m\n",
      "\u001b[0;32m   1549\u001b[0m \u001b[43m    \u001b[49m\u001b[43moperation_id\u001b[49m\u001b[38;5;241;43m=\u001b[39;49m\u001b[43moperation_id\u001b[49m\u001b[43m,\u001b[49m\n",
      "\u001b[0;32m   1550\u001b[0m \u001b[43m\u001b[49m\u001b[43m)\u001b[49m\n",
      "\n",
      "File \u001b[1;32mC:\\ProgramData\\anaconda3\\envs\\mongo\\Lib\\site-packages\\pymongo\\_csot.py:108\u001b[0m, in \u001b[0;36mapply.<locals>.csot_wrapper\u001b[1;34m(self, *args, **kwargs)\u001b[0m\n",
      "\u001b[0;32m    106\u001b[0m         \u001b[38;5;28;01mwith\u001b[39;00m _TimeoutContext(timeout):\n",
      "\u001b[0;32m    107\u001b[0m             \u001b[38;5;28;01mreturn\u001b[39;00m func(\u001b[38;5;28mself\u001b[39m, \u001b[38;5;241m*\u001b[39margs, \u001b[38;5;241m*\u001b[39m\u001b[38;5;241m*\u001b[39mkwargs)\n",
      "\u001b[1;32m--> 108\u001b[0m \u001b[38;5;28;01mreturn\u001b[39;00m \u001b[43mfunc\u001b[49m\u001b[43m(\u001b[49m\u001b[38;5;28;43mself\u001b[39;49m\u001b[43m,\u001b[49m\u001b[43m \u001b[49m\u001b[38;5;241;43m*\u001b[39;49m\u001b[43margs\u001b[49m\u001b[43m,\u001b[49m\u001b[43m \u001b[49m\u001b[38;5;241;43m*\u001b[39;49m\u001b[38;5;241;43m*\u001b[39;49m\u001b[43mkwargs\u001b[49m\u001b[43m)\u001b[49m\n",
      "\n",
      "File \u001b[1;32mC:\\ProgramData\\anaconda3\\envs\\mongo\\Lib\\site-packages\\pymongo\\mongo_client.py:1507\u001b[0m, in \u001b[0;36mMongoClient._retry_internal\u001b[1;34m(self, func, session, bulk, operation, is_read, address, read_pref, retryable, operation_id)\u001b[0m\n",
      "\u001b[0;32m   1470\u001b[0m \u001b[38;5;129m@_csot\u001b[39m\u001b[38;5;241m.\u001b[39mapply\n",
      "\u001b[0;32m   1471\u001b[0m \u001b[38;5;28;01mdef\u001b[39;00m \u001b[38;5;21m_retry_internal\u001b[39m(\n",
      "\u001b[0;32m   1472\u001b[0m     \u001b[38;5;28mself\u001b[39m,\n",
      "\u001b[1;32m   (...)\u001b[0m\n",
      "\u001b[0;32m   1481\u001b[0m     operation_id: Optional[\u001b[38;5;28mint\u001b[39m] \u001b[38;5;241m=\u001b[39m \u001b[38;5;28;01mNone\u001b[39;00m,\n",
      "\u001b[0;32m   1482\u001b[0m ) \u001b[38;5;241m-\u001b[39m\u001b[38;5;241m>\u001b[39m T:\n",
      "\u001b[0;32m   1483\u001b[0m \u001b[38;5;250m    \u001b[39m\u001b[38;5;124;03m\"\"\"Internal retryable helper for all client transactions.\u001b[39;00m\n",
      "\u001b[0;32m   1484\u001b[0m \n",
      "\u001b[0;32m   1485\u001b[0m \u001b[38;5;124;03m    :param func: Callback function we want to retry\u001b[39;00m\n",
      "\u001b[1;32m   (...)\u001b[0m\n",
      "\u001b[0;32m   1494\u001b[0m \u001b[38;5;124;03m    :return: Output of the calling func()\u001b[39;00m\n",
      "\u001b[0;32m   1495\u001b[0m \u001b[38;5;124;03m    \"\"\"\u001b[39;00m\n",
      "\u001b[0;32m   1496\u001b[0m     \u001b[38;5;28;01mreturn\u001b[39;00m \u001b[43m_ClientConnectionRetryable\u001b[49m\u001b[43m(\u001b[49m\n",
      "\u001b[0;32m   1497\u001b[0m \u001b[43m        \u001b[49m\u001b[43mmongo_client\u001b[49m\u001b[38;5;241;43m=\u001b[39;49m\u001b[38;5;28;43mself\u001b[39;49m\u001b[43m,\u001b[49m\n",
      "\u001b[0;32m   1498\u001b[0m \u001b[43m        \u001b[49m\u001b[43mfunc\u001b[49m\u001b[38;5;241;43m=\u001b[39;49m\u001b[43mfunc\u001b[49m\u001b[43m,\u001b[49m\n",
      "\u001b[0;32m   1499\u001b[0m \u001b[43m        \u001b[49m\u001b[43mbulk\u001b[49m\u001b[38;5;241;43m=\u001b[39;49m\u001b[43mbulk\u001b[49m\u001b[43m,\u001b[49m\n",
      "\u001b[0;32m   1500\u001b[0m \u001b[43m        \u001b[49m\u001b[43moperation\u001b[49m\u001b[38;5;241;43m=\u001b[39;49m\u001b[43moperation\u001b[49m\u001b[43m,\u001b[49m\n",
      "\u001b[0;32m   1501\u001b[0m \u001b[43m        \u001b[49m\u001b[43mis_read\u001b[49m\u001b[38;5;241;43m=\u001b[39;49m\u001b[43mis_read\u001b[49m\u001b[43m,\u001b[49m\n",
      "\u001b[0;32m   1502\u001b[0m \u001b[43m        \u001b[49m\u001b[43msession\u001b[49m\u001b[38;5;241;43m=\u001b[39;49m\u001b[43msession\u001b[49m\u001b[43m,\u001b[49m\n",
      "\u001b[0;32m   1503\u001b[0m \u001b[43m        \u001b[49m\u001b[43mread_pref\u001b[49m\u001b[38;5;241;43m=\u001b[39;49m\u001b[43mread_pref\u001b[49m\u001b[43m,\u001b[49m\n",
      "\u001b[0;32m   1504\u001b[0m \u001b[43m        \u001b[49m\u001b[43maddress\u001b[49m\u001b[38;5;241;43m=\u001b[39;49m\u001b[43maddress\u001b[49m\u001b[43m,\u001b[49m\n",
      "\u001b[0;32m   1505\u001b[0m \u001b[43m        \u001b[49m\u001b[43mretryable\u001b[49m\u001b[38;5;241;43m=\u001b[39;49m\u001b[43mretryable\u001b[49m\u001b[43m,\u001b[49m\n",
      "\u001b[0;32m   1506\u001b[0m \u001b[43m        \u001b[49m\u001b[43moperation_id\u001b[49m\u001b[38;5;241;43m=\u001b[39;49m\u001b[43moperation_id\u001b[49m\u001b[43m,\u001b[49m\n",
      "\u001b[1;32m-> 1507\u001b[0m \u001b[43m    \u001b[49m\u001b[43m)\u001b[49m\u001b[38;5;241;43m.\u001b[39;49m\u001b[43mrun\u001b[49m\u001b[43m(\u001b[49m\u001b[43m)\u001b[49m\n",
      "\n",
      "File \u001b[1;32mC:\\ProgramData\\anaconda3\\envs\\mongo\\Lib\\site-packages\\pymongo\\mongo_client.py:2353\u001b[0m, in \u001b[0;36m_ClientConnectionRetryable.run\u001b[1;34m(self)\u001b[0m\n",
      "\u001b[0;32m   2351\u001b[0m \u001b[38;5;28mself\u001b[39m\u001b[38;5;241m.\u001b[39m_check_last_error(check_csot\u001b[38;5;241m=\u001b[39m\u001b[38;5;28;01mTrue\u001b[39;00m)\n",
      "\u001b[0;32m   2352\u001b[0m \u001b[38;5;28;01mtry\u001b[39;00m:\n",
      "\u001b[1;32m-> 2353\u001b[0m     \u001b[38;5;28;01mreturn\u001b[39;00m \u001b[38;5;28;43mself\u001b[39;49m\u001b[38;5;241;43m.\u001b[39;49m\u001b[43m_read\u001b[49m\u001b[43m(\u001b[49m\u001b[43m)\u001b[49m \u001b[38;5;28;01mif\u001b[39;00m \u001b[38;5;28mself\u001b[39m\u001b[38;5;241m.\u001b[39m_is_read \u001b[38;5;28;01melse\u001b[39;00m \u001b[38;5;28mself\u001b[39m\u001b[38;5;241m.\u001b[39m_write()\n",
      "\u001b[0;32m   2354\u001b[0m \u001b[38;5;28;01mexcept\u001b[39;00m ServerSelectionTimeoutError:\n",
      "\u001b[0;32m   2355\u001b[0m     \u001b[38;5;66;03m# The application may think the write was never attempted\u001b[39;00m\n",
      "\u001b[0;32m   2356\u001b[0m     \u001b[38;5;66;03m# if we raise ServerSelectionTimeoutError on the retry\u001b[39;00m\n",
      "\u001b[0;32m   2357\u001b[0m     \u001b[38;5;66;03m# attempt. Raise the original exception instead.\u001b[39;00m\n",
      "\u001b[0;32m   2358\u001b[0m     \u001b[38;5;28mself\u001b[39m\u001b[38;5;241m.\u001b[39m_check_last_error()\n",
      "\n",
      "File \u001b[1;32mC:\\ProgramData\\anaconda3\\envs\\mongo\\Lib\\site-packages\\pymongo\\mongo_client.py:2491\u001b[0m, in \u001b[0;36m_ClientConnectionRetryable._read\u001b[1;34m(self)\u001b[0m\n",
      "\u001b[0;32m   2489\u001b[0m \u001b[38;5;28;01mif\u001b[39;00m \u001b[38;5;28mself\u001b[39m\u001b[38;5;241m.\u001b[39m_retrying \u001b[38;5;129;01mand\u001b[39;00m \u001b[38;5;129;01mnot\u001b[39;00m \u001b[38;5;28mself\u001b[39m\u001b[38;5;241m.\u001b[39m_retryable:\n",
      "\u001b[0;32m   2490\u001b[0m     \u001b[38;5;28mself\u001b[39m\u001b[38;5;241m.\u001b[39m_check_last_error()\n",
      "\u001b[1;32m-> 2491\u001b[0m \u001b[38;5;28;01mreturn\u001b[39;00m \u001b[38;5;28;43mself\u001b[39;49m\u001b[38;5;241;43m.\u001b[39;49m\u001b[43m_func\u001b[49m\u001b[43m(\u001b[49m\u001b[38;5;28;43mself\u001b[39;49m\u001b[38;5;241;43m.\u001b[39;49m\u001b[43m_session\u001b[49m\u001b[43m,\u001b[49m\u001b[43m \u001b[49m\u001b[38;5;28;43mself\u001b[39;49m\u001b[38;5;241;43m.\u001b[39;49m\u001b[43m_server\u001b[49m\u001b[43m,\u001b[49m\u001b[43m \u001b[49m\u001b[43mconn\u001b[49m\u001b[43m,\u001b[49m\u001b[43m \u001b[49m\u001b[43mread_pref\u001b[49m\u001b[43m)\u001b[49m\n",
      "\n",
      "File \u001b[1;32mC:\\ProgramData\\anaconda3\\envs\\mongo\\Lib\\site-packages\\pymongo\\aggregation.py:162\u001b[0m, in \u001b[0;36m_AggregationCommand.get_cursor\u001b[1;34m(self, session, server, conn, read_preference)\u001b[0m\n",
      "\u001b[0;32m    159\u001b[0m     write_concern \u001b[38;5;241m=\u001b[39m \u001b[38;5;28;01mNone\u001b[39;00m\n",
      "\u001b[0;32m    161\u001b[0m \u001b[38;5;66;03m# Run command.\u001b[39;00m\n",
      "\u001b[1;32m--> 162\u001b[0m result \u001b[38;5;241m=\u001b[39m \u001b[43mconn\u001b[49m\u001b[38;5;241;43m.\u001b[39;49m\u001b[43mcommand\u001b[49m\u001b[43m(\u001b[49m\n",
      "\u001b[0;32m    163\u001b[0m \u001b[43m    \u001b[49m\u001b[38;5;28;43mself\u001b[39;49m\u001b[38;5;241;43m.\u001b[39;49m\u001b[43m_database\u001b[49m\u001b[38;5;241;43m.\u001b[39;49m\u001b[43mname\u001b[49m\u001b[43m,\u001b[49m\n",
      "\u001b[0;32m    164\u001b[0m \u001b[43m    \u001b[49m\u001b[43mcmd\u001b[49m\u001b[43m,\u001b[49m\n",
      "\u001b[0;32m    165\u001b[0m \u001b[43m    \u001b[49m\u001b[43mread_preference\u001b[49m\u001b[43m,\u001b[49m\n",
      "\u001b[0;32m    166\u001b[0m \u001b[43m    \u001b[49m\u001b[38;5;28;43mself\u001b[39;49m\u001b[38;5;241;43m.\u001b[39;49m\u001b[43m_target\u001b[49m\u001b[38;5;241;43m.\u001b[39;49m\u001b[43mcodec_options\u001b[49m\u001b[43m,\u001b[49m\n",
      "\u001b[0;32m    167\u001b[0m \u001b[43m    \u001b[49m\u001b[43mparse_write_concern_error\u001b[49m\u001b[38;5;241;43m=\u001b[39;49m\u001b[38;5;28;43;01mTrue\u001b[39;49;00m\u001b[43m,\u001b[49m\n",
      "\u001b[0;32m    168\u001b[0m \u001b[43m    \u001b[49m\u001b[43mread_concern\u001b[49m\u001b[38;5;241;43m=\u001b[39;49m\u001b[43mread_concern\u001b[49m\u001b[43m,\u001b[49m\n",
      "\u001b[0;32m    169\u001b[0m \u001b[43m    \u001b[49m\u001b[43mwrite_concern\u001b[49m\u001b[38;5;241;43m=\u001b[39;49m\u001b[43mwrite_concern\u001b[49m\u001b[43m,\u001b[49m\n",
      "\u001b[0;32m    170\u001b[0m \u001b[43m    \u001b[49m\u001b[43mcollation\u001b[49m\u001b[38;5;241;43m=\u001b[39;49m\u001b[38;5;28;43mself\u001b[39;49m\u001b[38;5;241;43m.\u001b[39;49m\u001b[43m_collation\u001b[49m\u001b[43m,\u001b[49m\n",
      "\u001b[0;32m    171\u001b[0m \u001b[43m    \u001b[49m\u001b[43msession\u001b[49m\u001b[38;5;241;43m=\u001b[39;49m\u001b[43msession\u001b[49m\u001b[43m,\u001b[49m\n",
      "\u001b[0;32m    172\u001b[0m \u001b[43m    \u001b[49m\u001b[43mclient\u001b[49m\u001b[38;5;241;43m=\u001b[39;49m\u001b[38;5;28;43mself\u001b[39;49m\u001b[38;5;241;43m.\u001b[39;49m\u001b[43m_database\u001b[49m\u001b[38;5;241;43m.\u001b[39;49m\u001b[43mclient\u001b[49m\u001b[43m,\u001b[49m\n",
      "\u001b[0;32m    173\u001b[0m \u001b[43m    \u001b[49m\u001b[43muser_fields\u001b[49m\u001b[38;5;241;43m=\u001b[39;49m\u001b[38;5;28;43mself\u001b[39;49m\u001b[38;5;241;43m.\u001b[39;49m\u001b[43m_user_fields\u001b[49m\u001b[43m,\u001b[49m\n",
      "\u001b[0;32m    174\u001b[0m \u001b[43m\u001b[49m\u001b[43m)\u001b[49m\n",
      "\u001b[0;32m    176\u001b[0m \u001b[38;5;28;01mif\u001b[39;00m \u001b[38;5;28mself\u001b[39m\u001b[38;5;241m.\u001b[39m_result_processor:\n",
      "\u001b[0;32m    177\u001b[0m     \u001b[38;5;28mself\u001b[39m\u001b[38;5;241m.\u001b[39m_result_processor(result, conn)\n",
      "\n",
      "File \u001b[1;32mC:\\ProgramData\\anaconda3\\envs\\mongo\\Lib\\site-packages\\pymongo\\helpers.py:342\u001b[0m, in \u001b[0;36m_handle_reauth.<locals>.inner\u001b[1;34m(*args, **kwargs)\u001b[0m\n",
      "\u001b[0;32m    339\u001b[0m \u001b[38;5;28;01mfrom\u001b[39;00m \u001b[38;5;21;01mpymongo\u001b[39;00m\u001b[38;5;21;01m.\u001b[39;00m\u001b[38;5;21;01mpool\u001b[39;00m \u001b[38;5;28;01mimport\u001b[39;00m Connection\n",
      "\u001b[0;32m    341\u001b[0m \u001b[38;5;28;01mtry\u001b[39;00m:\n",
      "\u001b[1;32m--> 342\u001b[0m     \u001b[38;5;28;01mreturn\u001b[39;00m \u001b[43mfunc\u001b[49m\u001b[43m(\u001b[49m\u001b[38;5;241;43m*\u001b[39;49m\u001b[43margs\u001b[49m\u001b[43m,\u001b[49m\u001b[43m \u001b[49m\u001b[38;5;241;43m*\u001b[39;49m\u001b[38;5;241;43m*\u001b[39;49m\u001b[43mkwargs\u001b[49m\u001b[43m)\u001b[49m\n",
      "\u001b[0;32m    343\u001b[0m \u001b[38;5;28;01mexcept\u001b[39;00m OperationFailure \u001b[38;5;28;01mas\u001b[39;00m exc:\n",
      "\u001b[0;32m    344\u001b[0m     \u001b[38;5;28;01mif\u001b[39;00m no_reauth:\n",
      "\n",
      "File \u001b[1;32mC:\\ProgramData\\anaconda3\\envs\\mongo\\Lib\\site-packages\\pymongo\\pool.py:989\u001b[0m, in \u001b[0;36mConnection.command\u001b[1;34m(self, dbname, spec, read_preference, codec_options, check, allowable_errors, read_concern, write_concern, parse_write_concern_error, collation, session, client, retryable_write, publish_events, user_fields, exhaust_allowed)\u001b[0m\n",
      "\u001b[0;32m    987\u001b[0m     \u001b[38;5;28mself\u001b[39m\u001b[38;5;241m.\u001b[39m_raise_if_not_writable(unacknowledged)\n",
      "\u001b[0;32m    988\u001b[0m \u001b[38;5;28;01mtry\u001b[39;00m:\n",
      "\u001b[1;32m--> 989\u001b[0m     \u001b[38;5;28;01mreturn\u001b[39;00m \u001b[43mcommand\u001b[49m\u001b[43m(\u001b[49m\n",
      "\u001b[0;32m    990\u001b[0m \u001b[43m        \u001b[49m\u001b[38;5;28;43mself\u001b[39;49m\u001b[43m,\u001b[49m\n",
      "\u001b[0;32m    991\u001b[0m \u001b[43m        \u001b[49m\u001b[43mdbname\u001b[49m\u001b[43m,\u001b[49m\n",
      "\u001b[0;32m    992\u001b[0m \u001b[43m        \u001b[49m\u001b[43mspec\u001b[49m\u001b[43m,\u001b[49m\n",
      "\u001b[0;32m    993\u001b[0m \u001b[43m        \u001b[49m\u001b[38;5;28;43mself\u001b[39;49m\u001b[38;5;241;43m.\u001b[39;49m\u001b[43mis_mongos\u001b[49m\u001b[43m,\u001b[49m\n",
      "\u001b[0;32m    994\u001b[0m \u001b[43m        \u001b[49m\u001b[43mread_preference\u001b[49m\u001b[43m,\u001b[49m\n",
      "\u001b[0;32m    995\u001b[0m \u001b[43m        \u001b[49m\u001b[43mcodec_options\u001b[49m\u001b[43m,\u001b[49m\n",
      "\u001b[0;32m    996\u001b[0m \u001b[43m        \u001b[49m\u001b[43msession\u001b[49m\u001b[43m,\u001b[49m\n",
      "\u001b[0;32m    997\u001b[0m \u001b[43m        \u001b[49m\u001b[43mclient\u001b[49m\u001b[43m,\u001b[49m\n",
      "\u001b[0;32m    998\u001b[0m \u001b[43m        \u001b[49m\u001b[43mcheck\u001b[49m\u001b[43m,\u001b[49m\n",
      "\u001b[0;32m    999\u001b[0m \u001b[43m        \u001b[49m\u001b[43mallowable_errors\u001b[49m\u001b[43m,\u001b[49m\n",
      "\u001b[0;32m   1000\u001b[0m \u001b[43m        \u001b[49m\u001b[38;5;28;43mself\u001b[39;49m\u001b[38;5;241;43m.\u001b[39;49m\u001b[43maddress\u001b[49m\u001b[43m,\u001b[49m\n",
      "\u001b[0;32m   1001\u001b[0m \u001b[43m        \u001b[49m\u001b[43mlisteners\u001b[49m\u001b[43m,\u001b[49m\n",
      "\u001b[0;32m   1002\u001b[0m \u001b[43m        \u001b[49m\u001b[38;5;28;43mself\u001b[39;49m\u001b[38;5;241;43m.\u001b[39;49m\u001b[43mmax_bson_size\u001b[49m\u001b[43m,\u001b[49m\n",
      "\u001b[0;32m   1003\u001b[0m \u001b[43m        \u001b[49m\u001b[43mread_concern\u001b[49m\u001b[43m,\u001b[49m\n",
      "\u001b[0;32m   1004\u001b[0m \u001b[43m        \u001b[49m\u001b[43mparse_write_concern_error\u001b[49m\u001b[38;5;241;43m=\u001b[39;49m\u001b[43mparse_write_concern_error\u001b[49m\u001b[43m,\u001b[49m\n",
      "\u001b[0;32m   1005\u001b[0m \u001b[43m        \u001b[49m\u001b[43mcollation\u001b[49m\u001b[38;5;241;43m=\u001b[39;49m\u001b[43mcollation\u001b[49m\u001b[43m,\u001b[49m\n",
      "\u001b[0;32m   1006\u001b[0m \u001b[43m        \u001b[49m\u001b[43mcompression_ctx\u001b[49m\u001b[38;5;241;43m=\u001b[39;49m\u001b[38;5;28;43mself\u001b[39;49m\u001b[38;5;241;43m.\u001b[39;49m\u001b[43mcompression_context\u001b[49m\u001b[43m,\u001b[49m\n",
      "\u001b[0;32m   1007\u001b[0m \u001b[43m        \u001b[49m\u001b[43muse_op_msg\u001b[49m\u001b[38;5;241;43m=\u001b[39;49m\u001b[38;5;28;43mself\u001b[39;49m\u001b[38;5;241;43m.\u001b[39;49m\u001b[43mop_msg_enabled\u001b[49m\u001b[43m,\u001b[49m\n",
      "\u001b[0;32m   1008\u001b[0m \u001b[43m        \u001b[49m\u001b[43munacknowledged\u001b[49m\u001b[38;5;241;43m=\u001b[39;49m\u001b[43munacknowledged\u001b[49m\u001b[43m,\u001b[49m\n",
      "\u001b[0;32m   1009\u001b[0m \u001b[43m        \u001b[49m\u001b[43muser_fields\u001b[49m\u001b[38;5;241;43m=\u001b[39;49m\u001b[43muser_fields\u001b[49m\u001b[43m,\u001b[49m\n",
      "\u001b[0;32m   1010\u001b[0m \u001b[43m        \u001b[49m\u001b[43mexhaust_allowed\u001b[49m\u001b[38;5;241;43m=\u001b[39;49m\u001b[43mexhaust_allowed\u001b[49m\u001b[43m,\u001b[49m\n",
      "\u001b[0;32m   1011\u001b[0m \u001b[43m        \u001b[49m\u001b[43mwrite_concern\u001b[49m\u001b[38;5;241;43m=\u001b[39;49m\u001b[43mwrite_concern\u001b[49m\u001b[43m,\u001b[49m\n",
      "\u001b[0;32m   1012\u001b[0m \u001b[43m    \u001b[49m\u001b[43m)\u001b[49m\n",
      "\u001b[0;32m   1013\u001b[0m \u001b[38;5;28;01mexcept\u001b[39;00m (OperationFailure, NotPrimaryError):\n",
      "\u001b[0;32m   1014\u001b[0m     \u001b[38;5;28;01mraise\u001b[39;00m\n",
      "\n",
      "File \u001b[1;32mC:\\ProgramData\\anaconda3\\envs\\mongo\\Lib\\site-packages\\pymongo\\network.py:212\u001b[0m, in \u001b[0;36mcommand\u001b[1;34m(conn, dbname, spec, is_mongos, read_preference, codec_options, session, client, check, allowable_errors, address, listeners, max_bson_size, read_concern, parse_write_concern_error, collation, compression_ctx, use_op_msg, unacknowledged, user_fields, exhaust_allowed, write_concern)\u001b[0m\n",
      "\u001b[0;32m    210\u001b[0m             client\u001b[38;5;241m.\u001b[39m_process_response(response_doc, session)\n",
      "\u001b[0;32m    211\u001b[0m         \u001b[38;5;28;01mif\u001b[39;00m check:\n",
      "\u001b[1;32m--> 212\u001b[0m             \u001b[43mhelpers\u001b[49m\u001b[38;5;241;43m.\u001b[39;49m\u001b[43m_check_command_response\u001b[49m\u001b[43m(\u001b[49m\n",
      "\u001b[0;32m    213\u001b[0m \u001b[43m                \u001b[49m\u001b[43mresponse_doc\u001b[49m\u001b[43m,\u001b[49m\n",
      "\u001b[0;32m    214\u001b[0m \u001b[43m                \u001b[49m\u001b[43mconn\u001b[49m\u001b[38;5;241;43m.\u001b[39;49m\u001b[43mmax_wire_version\u001b[49m\u001b[43m,\u001b[49m\n",
      "\u001b[0;32m    215\u001b[0m \u001b[43m                \u001b[49m\u001b[43mallowable_errors\u001b[49m\u001b[43m,\u001b[49m\n",
      "\u001b[0;32m    216\u001b[0m \u001b[43m                \u001b[49m\u001b[43mparse_write_concern_error\u001b[49m\u001b[38;5;241;43m=\u001b[39;49m\u001b[43mparse_write_concern_error\u001b[49m\u001b[43m,\u001b[49m\n",
      "\u001b[0;32m    217\u001b[0m \u001b[43m            \u001b[49m\u001b[43m)\u001b[49m\n",
      "\u001b[0;32m    218\u001b[0m \u001b[38;5;28;01mexcept\u001b[39;00m \u001b[38;5;167;01mException\u001b[39;00m \u001b[38;5;28;01mas\u001b[39;00m exc:\n",
      "\u001b[0;32m    219\u001b[0m     duration \u001b[38;5;241m=\u001b[39m datetime\u001b[38;5;241m.\u001b[39mdatetime\u001b[38;5;241m.\u001b[39mnow() \u001b[38;5;241m-\u001b[39m start\n",
      "\n",
      "File \u001b[1;32mC:\\ProgramData\\anaconda3\\envs\\mongo\\Lib\\site-packages\\pymongo\\helpers.py:248\u001b[0m, in \u001b[0;36m_check_command_response\u001b[1;34m(response, max_wire_version, allowable_errors, parse_write_concern_error)\u001b[0m\n",
      "\u001b[0;32m    245\u001b[0m \u001b[38;5;28;01melif\u001b[39;00m code \u001b[38;5;241m==\u001b[39m \u001b[38;5;241m43\u001b[39m:\n",
      "\u001b[0;32m    246\u001b[0m     \u001b[38;5;28;01mraise\u001b[39;00m CursorNotFound(errmsg, code, response, max_wire_version)\n",
      "\u001b[1;32m--> 248\u001b[0m \u001b[38;5;28;01mraise\u001b[39;00m OperationFailure(errmsg, code, response, max_wire_version)\n",
      "\n",
      "\u001b[1;31mOperationFailure\u001b[0m: PlanExecutor error during aggregation :: caused by :: Error parsing date string '0000-00-00'; 11: The parsed date was invalid '\u0000', full error: {'ok': 0.0, 'errmsg': \"PlanExecutor error during aggregation :: caused by :: Error parsing date string '0000-00-00'; 11: The parsed date was invalid '\\x00'\", 'code': 241, 'codeName': 'ConversionFailure'}\n"
     ]
    }
   ],
   "source": [
    "%%expect_exception OperationFailure   \n",
    "\n",
    "# Is there any missing died and born fields?\n",
    "docs = list(db.laureates.aggregate([\n",
    "    {\"$project\": {\n",
    "        \"died\": {\"$dateFromString\": {\"dateString\": \"$died\"}},\n",
    "        \"born\": {\"$dateFromString\": {\"dateString\": \"$born\"}}\n",
    "    }}\n",
    "]))"
   ]
  },
  {
   "cell_type": "code",
   "execution_count": 62,
   "id": "b1d02aa8-a1d4-4eac-9056-fbacc8b1f531",
   "metadata": {},
   "outputs": [
    {
     "data": {
      "text/plain": [
       "0"
      ]
     },
     "execution_count": 62,
     "metadata": {},
     "output_type": "execute_result"
    }
   ],
   "source": [
    "# There is no missing died and born fields\n",
    "db.laureates.count_documents({\n",
    "    '$or': [{'died': {'$exists': False}},\n",
    "            {'born': {'$exists': False}}]\n",
    "})"
   ]
  },
  {
   "cell_type": "code",
   "execution_count": 63,
   "id": "e52e535c-394b-4ebb-9b0c-ec28576f6d1a",
   "metadata": {},
   "outputs": [
    {
     "name": "stdout",
     "output_type": "stream",
     "text": [
      "Total docs: 934\n"
     ]
    },
    {
     "data": {
      "text/plain": [
       "327"
      ]
     },
     "execution_count": 63,
     "metadata": {},
     "output_type": "execute_result"
    }
   ],
   "source": [
    "# The Error says parsing date string '0000-00-00'\n",
    "print('Total docs:', db.laureates.count_documents({}))\n",
    "db.laureates.count_documents({\n",
    "    '$or': [{'died': {'$eq': '0000-00-00'}},\n",
    "            {'born': {'$eq': '0000-00-00'}}]\n",
    "})"
   ]
  },
  {
   "cell_type": "code",
   "execution_count": 64,
   "id": "ecd2c27e-1429-48a7-8c5c-78e7efa26e08",
   "metadata": {},
   "outputs": [
    {
     "name": "stdout",
     "output_type": "stream",
     "text": [
      "\u001b[1;31m---------------------------------------------------------------------------\u001b[0m\n",
      "\u001b[1;31mOperationFailure\u001b[0m                          Traceback (most recent call last)\n",
      "Cell \u001b[1;32mIn[64], line 3\u001b[0m\n",
      "\u001b[0;32m      1\u001b[0m \u001b[38;5;66;03m# Filtering dates greater than 1700\u001b[39;00m\n",
      "\u001b[0;32m      2\u001b[0m \u001b[38;5;66;03m# New error: Error parsing date string '1898-00-00'\u001b[39;00m\n",
      "\u001b[1;32m----> 3\u001b[0m docs \u001b[38;5;241m=\u001b[39m \u001b[38;5;28;43mlist\u001b[39;49m\u001b[43m(\u001b[49m\u001b[43mdb\u001b[49m\u001b[38;5;241;43m.\u001b[39;49m\u001b[43mlaureates\u001b[49m\u001b[38;5;241;43m.\u001b[39;49m\u001b[43maggregate\u001b[49m\u001b[43m(\u001b[49m\u001b[43m[\u001b[49m\n",
      "\u001b[0;32m      4\u001b[0m \u001b[43m    \u001b[49m\u001b[43m{\u001b[49m\u001b[38;5;124;43m\"\u001b[39;49m\u001b[38;5;124;43m$match\u001b[39;49m\u001b[38;5;124;43m\"\u001b[39;49m\u001b[43m:\u001b[49m\u001b[43m \u001b[49m\u001b[43m{\u001b[49m\u001b[38;5;124;43m\"\u001b[39;49m\u001b[38;5;124;43mdied\u001b[39;49m\u001b[38;5;124;43m\"\u001b[39;49m\u001b[43m:\u001b[49m\u001b[43m \u001b[49m\u001b[43m{\u001b[49m\u001b[38;5;124;43m\"\u001b[39;49m\u001b[38;5;124;43m$gt\u001b[39;49m\u001b[38;5;124;43m\"\u001b[39;49m\u001b[43m:\u001b[49m\u001b[43m \u001b[49m\u001b[38;5;124;43m\"\u001b[39;49m\u001b[38;5;124;43m1700\u001b[39;49m\u001b[38;5;124;43m\"\u001b[39;49m\u001b[43m}\u001b[49m\u001b[43m,\u001b[49m\u001b[43m \u001b[49m\n",
      "\u001b[0;32m      5\u001b[0m \u001b[43m                \u001b[49m\u001b[38;5;124;43m\"\u001b[39;49m\u001b[38;5;124;43mborn\u001b[39;49m\u001b[38;5;124;43m\"\u001b[39;49m\u001b[43m:\u001b[49m\u001b[43m \u001b[49m\u001b[43m{\u001b[49m\u001b[38;5;124;43m\"\u001b[39;49m\u001b[38;5;124;43m$gt\u001b[39;49m\u001b[38;5;124;43m\"\u001b[39;49m\u001b[43m:\u001b[49m\u001b[43m \u001b[49m\u001b[38;5;124;43m\"\u001b[39;49m\u001b[38;5;124;43m1700\u001b[39;49m\u001b[38;5;124;43m\"\u001b[39;49m\u001b[43m}\u001b[49m\u001b[43m}\u001b[49m\u001b[43m}\u001b[49m\u001b[43m,\u001b[49m\n",
      "\u001b[0;32m      6\u001b[0m \u001b[43m    \u001b[49m\u001b[43m{\u001b[49m\u001b[38;5;124;43m\"\u001b[39;49m\u001b[38;5;124;43m$project\u001b[39;49m\u001b[38;5;124;43m\"\u001b[39;49m\u001b[43m:\u001b[49m\u001b[43m \u001b[49m\u001b[43m{\u001b[49m\u001b[38;5;124;43m\"\u001b[39;49m\u001b[38;5;124;43mdied\u001b[39;49m\u001b[38;5;124;43m\"\u001b[39;49m\u001b[43m:\u001b[49m\u001b[43m \u001b[49m\u001b[43m{\u001b[49m\u001b[38;5;124;43m\"\u001b[39;49m\u001b[38;5;124;43m$dateFromString\u001b[39;49m\u001b[38;5;124;43m\"\u001b[39;49m\u001b[43m:\u001b[49m\u001b[43m \u001b[49m\u001b[43m{\u001b[49m\u001b[38;5;124;43m\"\u001b[39;49m\u001b[38;5;124;43mdateString\u001b[39;49m\u001b[38;5;124;43m\"\u001b[39;49m\u001b[43m:\u001b[49m\u001b[43m \u001b[49m\u001b[38;5;124;43m\"\u001b[39;49m\u001b[38;5;124;43m$died\u001b[39;49m\u001b[38;5;124;43m\"\u001b[39;49m\u001b[43m}\u001b[49m\u001b[43m}\u001b[49m\u001b[43m,\u001b[49m\n",
      "\u001b[0;32m      7\u001b[0m \u001b[43m                  \u001b[49m\u001b[38;5;124;43m\"\u001b[39;49m\u001b[38;5;124;43mborn\u001b[39;49m\u001b[38;5;124;43m\"\u001b[39;49m\u001b[43m:\u001b[49m\u001b[43m \u001b[49m\u001b[43m{\u001b[49m\u001b[38;5;124;43m\"\u001b[39;49m\u001b[38;5;124;43m$dateFromString\u001b[39;49m\u001b[38;5;124;43m\"\u001b[39;49m\u001b[43m:\u001b[49m\u001b[43m \u001b[49m\u001b[43m{\u001b[49m\u001b[38;5;124;43m\"\u001b[39;49m\u001b[38;5;124;43mdateString\u001b[39;49m\u001b[38;5;124;43m\"\u001b[39;49m\u001b[43m:\u001b[49m\u001b[43m \u001b[49m\u001b[38;5;124;43m\"\u001b[39;49m\u001b[38;5;124;43m$born\u001b[39;49m\u001b[38;5;124;43m\"\u001b[39;49m\u001b[43m}\u001b[49m\u001b[43m}\u001b[49m\u001b[43m}\u001b[49m\u001b[43m}\u001b[49m\n",
      "\u001b[0;32m      8\u001b[0m \u001b[43m]\u001b[49m\u001b[43m)\u001b[49m\u001b[43m)\u001b[49m\n",
      "\n",
      "File \u001b[1;32mC:\\ProgramData\\anaconda3\\envs\\mongo\\Lib\\site-packages\\pymongo\\command_cursor.py:309\u001b[0m, in \u001b[0;36mCommandCursor.next\u001b[1;34m(self)\u001b[0m\n",
      "\u001b[0;32m    307\u001b[0m \u001b[38;5;66;03m# Block until a document is returnable.\u001b[39;00m\n",
      "\u001b[0;32m    308\u001b[0m \u001b[38;5;28;01mwhile\u001b[39;00m \u001b[38;5;28mself\u001b[39m\u001b[38;5;241m.\u001b[39malive:\n",
      "\u001b[1;32m--> 309\u001b[0m     doc \u001b[38;5;241m=\u001b[39m \u001b[38;5;28;43mself\u001b[39;49m\u001b[38;5;241;43m.\u001b[39;49m\u001b[43m_try_next\u001b[49m\u001b[43m(\u001b[49m\u001b[38;5;28;43;01mTrue\u001b[39;49;00m\u001b[43m)\u001b[49m\n",
      "\u001b[0;32m    310\u001b[0m     \u001b[38;5;28;01mif\u001b[39;00m doc \u001b[38;5;129;01mis\u001b[39;00m \u001b[38;5;129;01mnot\u001b[39;00m \u001b[38;5;28;01mNone\u001b[39;00m:\n",
      "\u001b[0;32m    311\u001b[0m         \u001b[38;5;28;01mreturn\u001b[39;00m doc\n",
      "\n",
      "File \u001b[1;32mC:\\ProgramData\\anaconda3\\envs\\mongo\\Lib\\site-packages\\pymongo\\command_cursor.py:320\u001b[0m, in \u001b[0;36mCommandCursor._try_next\u001b[1;34m(self, get_more_allowed)\u001b[0m\n",
      "\u001b[0;32m    318\u001b[0m \u001b[38;5;250m\u001b[39m\u001b[38;5;124;03m\"\"\"Advance the cursor blocking for at most one getMore command.\"\"\"\u001b[39;00m\n",
      "\u001b[0;32m    319\u001b[0m \u001b[38;5;28;01mif\u001b[39;00m \u001b[38;5;129;01mnot\u001b[39;00m \u001b[38;5;28mlen\u001b[39m(\u001b[38;5;28mself\u001b[39m\u001b[38;5;241m.\u001b[39m__data) \u001b[38;5;129;01mand\u001b[39;00m \u001b[38;5;129;01mnot\u001b[39;00m \u001b[38;5;28mself\u001b[39m\u001b[38;5;241m.\u001b[39m__killed \u001b[38;5;129;01mand\u001b[39;00m get_more_allowed:\n",
      "\u001b[1;32m--> 320\u001b[0m     \u001b[38;5;28;43mself\u001b[39;49m\u001b[38;5;241;43m.\u001b[39;49m\u001b[43m_refresh\u001b[49m\u001b[43m(\u001b[49m\u001b[43m)\u001b[49m\n",
      "\u001b[0;32m    321\u001b[0m \u001b[38;5;28;01mif\u001b[39;00m \u001b[38;5;28mlen\u001b[39m(\u001b[38;5;28mself\u001b[39m\u001b[38;5;241m.\u001b[39m__data):\n",
      "\u001b[0;32m    322\u001b[0m     \u001b[38;5;28;01mreturn\u001b[39;00m \u001b[38;5;28mself\u001b[39m\u001b[38;5;241m.\u001b[39m__data\u001b[38;5;241m.\u001b[39mpopleft()\n",
      "\n",
      "File \u001b[1;32mC:\\ProgramData\\anaconda3\\envs\\mongo\\Lib\\site-packages\\pymongo\\command_cursor.py:241\u001b[0m, in \u001b[0;36mCommandCursor._refresh\u001b[1;34m(self)\u001b[0m\n",
      "\u001b[0;32m    239\u001b[0m     dbname, collname \u001b[38;5;241m=\u001b[39m \u001b[38;5;28mself\u001b[39m\u001b[38;5;241m.\u001b[39m__ns\u001b[38;5;241m.\u001b[39msplit(\u001b[38;5;124m\"\u001b[39m\u001b[38;5;124m.\u001b[39m\u001b[38;5;124m\"\u001b[39m, \u001b[38;5;241m1\u001b[39m)\n",
      "\u001b[0;32m    240\u001b[0m     read_pref \u001b[38;5;241m=\u001b[39m \u001b[38;5;28mself\u001b[39m\u001b[38;5;241m.\u001b[39m__collection\u001b[38;5;241m.\u001b[39m_read_preference_for(\u001b[38;5;28mself\u001b[39m\u001b[38;5;241m.\u001b[39msession)\n",
      "\u001b[1;32m--> 241\u001b[0m     \u001b[38;5;28;43mself\u001b[39;49m\u001b[38;5;241;43m.\u001b[39;49m\u001b[43m__send_message\u001b[49m\u001b[43m(\u001b[49m\n",
      "\u001b[0;32m    242\u001b[0m \u001b[43m        \u001b[49m\u001b[38;5;28;43mself\u001b[39;49m\u001b[38;5;241;43m.\u001b[39;49m\u001b[43m_getmore_class\u001b[49m\u001b[43m(\u001b[49m\n",
      "\u001b[0;32m    243\u001b[0m \u001b[43m            \u001b[49m\u001b[43mdbname\u001b[49m\u001b[43m,\u001b[49m\n",
      "\u001b[0;32m    244\u001b[0m \u001b[43m            \u001b[49m\u001b[43mcollname\u001b[49m\u001b[43m,\u001b[49m\n",
      "\u001b[0;32m    245\u001b[0m \u001b[43m            \u001b[49m\u001b[38;5;28;43mself\u001b[39;49m\u001b[38;5;241;43m.\u001b[39;49m\u001b[43m__batch_size\u001b[49m\u001b[43m,\u001b[49m\n",
      "\u001b[0;32m    246\u001b[0m \u001b[43m            \u001b[49m\u001b[38;5;28;43mself\u001b[39;49m\u001b[38;5;241;43m.\u001b[39;49m\u001b[43m__id\u001b[49m\u001b[43m,\u001b[49m\n",
      "\u001b[0;32m    247\u001b[0m \u001b[43m            \u001b[49m\u001b[38;5;28;43mself\u001b[39;49m\u001b[38;5;241;43m.\u001b[39;49m\u001b[43m__collection\u001b[49m\u001b[38;5;241;43m.\u001b[39;49m\u001b[43mcodec_options\u001b[49m\u001b[43m,\u001b[49m\n",
      "\u001b[0;32m    248\u001b[0m \u001b[43m            \u001b[49m\u001b[43mread_pref\u001b[49m\u001b[43m,\u001b[49m\n",
      "\u001b[0;32m    249\u001b[0m \u001b[43m            \u001b[49m\u001b[38;5;28;43mself\u001b[39;49m\u001b[38;5;241;43m.\u001b[39;49m\u001b[43m__session\u001b[49m\u001b[43m,\u001b[49m\n",
      "\u001b[0;32m    250\u001b[0m \u001b[43m            \u001b[49m\u001b[38;5;28;43mself\u001b[39;49m\u001b[38;5;241;43m.\u001b[39;49m\u001b[43m__collection\u001b[49m\u001b[38;5;241;43m.\u001b[39;49m\u001b[43mdatabase\u001b[49m\u001b[38;5;241;43m.\u001b[39;49m\u001b[43mclient\u001b[49m\u001b[43m,\u001b[49m\n",
      "\u001b[0;32m    251\u001b[0m \u001b[43m            \u001b[49m\u001b[38;5;28;43mself\u001b[39;49m\u001b[38;5;241;43m.\u001b[39;49m\u001b[43m__max_await_time_ms\u001b[49m\u001b[43m,\u001b[49m\n",
      "\u001b[0;32m    252\u001b[0m \u001b[43m            \u001b[49m\u001b[38;5;28;43mself\u001b[39;49m\u001b[38;5;241;43m.\u001b[39;49m\u001b[43m__sock_mgr\u001b[49m\u001b[43m,\u001b[49m\n",
      "\u001b[0;32m    253\u001b[0m \u001b[43m            \u001b[49m\u001b[38;5;28;43;01mFalse\u001b[39;49;00m\u001b[43m,\u001b[49m\n",
      "\u001b[0;32m    254\u001b[0m \u001b[43m            \u001b[49m\u001b[38;5;28;43mself\u001b[39;49m\u001b[38;5;241;43m.\u001b[39;49m\u001b[43m__comment\u001b[49m\u001b[43m,\u001b[49m\n",
      "\u001b[0;32m    255\u001b[0m \u001b[43m        \u001b[49m\u001b[43m)\u001b[49m\n",
      "\u001b[0;32m    256\u001b[0m \u001b[43m    \u001b[49m\u001b[43m)\u001b[49m\n",
      "\u001b[0;32m    257\u001b[0m \u001b[38;5;28;01melse\u001b[39;00m:  \u001b[38;5;66;03m# Cursor id is zero nothing else to return\u001b[39;00m\n",
      "\u001b[0;32m    258\u001b[0m     \u001b[38;5;28mself\u001b[39m\u001b[38;5;241m.\u001b[39m__die(\u001b[38;5;28;01mTrue\u001b[39;00m)\n",
      "\n",
      "File \u001b[1;32mC:\\ProgramData\\anaconda3\\envs\\mongo\\Lib\\site-packages\\pymongo\\command_cursor.py:178\u001b[0m, in \u001b[0;36mCommandCursor.__send_message\u001b[1;34m(self, operation)\u001b[0m\n",
      "\u001b[0;32m    176\u001b[0m client \u001b[38;5;241m=\u001b[39m \u001b[38;5;28mself\u001b[39m\u001b[38;5;241m.\u001b[39m__collection\u001b[38;5;241m.\u001b[39mdatabase\u001b[38;5;241m.\u001b[39mclient\n",
      "\u001b[0;32m    177\u001b[0m \u001b[38;5;28;01mtry\u001b[39;00m:\n",
      "\u001b[1;32m--> 178\u001b[0m     response \u001b[38;5;241m=\u001b[39m \u001b[43mclient\u001b[49m\u001b[38;5;241;43m.\u001b[39;49m\u001b[43m_run_operation\u001b[49m\u001b[43m(\u001b[49m\n",
      "\u001b[0;32m    179\u001b[0m \u001b[43m        \u001b[49m\u001b[43moperation\u001b[49m\u001b[43m,\u001b[49m\u001b[43m \u001b[49m\u001b[38;5;28;43mself\u001b[39;49m\u001b[38;5;241;43m.\u001b[39;49m\u001b[43m_unpack_response\u001b[49m\u001b[43m,\u001b[49m\u001b[43m \u001b[49m\u001b[43maddress\u001b[49m\u001b[38;5;241;43m=\u001b[39;49m\u001b[38;5;28;43mself\u001b[39;49m\u001b[38;5;241;43m.\u001b[39;49m\u001b[43m__address\u001b[49m\n",
      "\u001b[0;32m    180\u001b[0m \u001b[43m    \u001b[49m\u001b[43m)\u001b[49m\n",
      "\u001b[0;32m    181\u001b[0m \u001b[38;5;28;01mexcept\u001b[39;00m OperationFailure \u001b[38;5;28;01mas\u001b[39;00m exc:\n",
      "\u001b[0;32m    182\u001b[0m     \u001b[38;5;28;01mif\u001b[39;00m exc\u001b[38;5;241m.\u001b[39mcode \u001b[38;5;129;01min\u001b[39;00m _CURSOR_CLOSED_ERRORS:\n",
      "\u001b[0;32m    183\u001b[0m         \u001b[38;5;66;03m# Don't send killCursors because the cursor is already closed.\u001b[39;00m\n",
      "\n",
      "File \u001b[1;32mC:\\ProgramData\\anaconda3\\envs\\mongo\\Lib\\site-packages\\pymongo\\_csot.py:108\u001b[0m, in \u001b[0;36mapply.<locals>.csot_wrapper\u001b[1;34m(self, *args, **kwargs)\u001b[0m\n",
      "\u001b[0;32m    106\u001b[0m         \u001b[38;5;28;01mwith\u001b[39;00m _TimeoutContext(timeout):\n",
      "\u001b[0;32m    107\u001b[0m             \u001b[38;5;28;01mreturn\u001b[39;00m func(\u001b[38;5;28mself\u001b[39m, \u001b[38;5;241m*\u001b[39margs, \u001b[38;5;241m*\u001b[39m\u001b[38;5;241m*\u001b[39mkwargs)\n",
      "\u001b[1;32m--> 108\u001b[0m \u001b[38;5;28;01mreturn\u001b[39;00m \u001b[43mfunc\u001b[49m\u001b[43m(\u001b[49m\u001b[38;5;28;43mself\u001b[39;49m\u001b[43m,\u001b[49m\u001b[43m \u001b[49m\u001b[38;5;241;43m*\u001b[39;49m\u001b[43margs\u001b[49m\u001b[43m,\u001b[49m\u001b[43m \u001b[49m\u001b[38;5;241;43m*\u001b[39;49m\u001b[38;5;241;43m*\u001b[39;49m\u001b[43mkwargs\u001b[49m\u001b[43m)\u001b[49m\n",
      "\n",
      "File \u001b[1;32mC:\\ProgramData\\anaconda3\\envs\\mongo\\Lib\\site-packages\\pymongo\\mongo_client.py:1431\u001b[0m, in \u001b[0;36mMongoClient._run_operation\u001b[1;34m(self, operation, unpack_res, address)\u001b[0m\n",
      "\u001b[0;32m   1421\u001b[0m     operation\u001b[38;5;241m.\u001b[39mreset()  \u001b[38;5;66;03m# Reset op in case of retry.\u001b[39;00m\n",
      "\u001b[0;32m   1422\u001b[0m     \u001b[38;5;28;01mreturn\u001b[39;00m server\u001b[38;5;241m.\u001b[39mrun_operation(\n",
      "\u001b[0;32m   1423\u001b[0m         conn,\n",
      "\u001b[0;32m   1424\u001b[0m         operation,\n",
      "\u001b[1;32m   (...)\u001b[0m\n",
      "\u001b[0;32m   1428\u001b[0m         \u001b[38;5;28mself\u001b[39m,\n",
      "\u001b[0;32m   1429\u001b[0m     )\n",
      "\u001b[1;32m-> 1431\u001b[0m \u001b[38;5;28;01mreturn\u001b[39;00m \u001b[38;5;28;43mself\u001b[39;49m\u001b[38;5;241;43m.\u001b[39;49m\u001b[43m_retryable_read\u001b[49m\u001b[43m(\u001b[49m\n",
      "\u001b[0;32m   1432\u001b[0m \u001b[43m    \u001b[49m\u001b[43m_cmd\u001b[49m\u001b[43m,\u001b[49m\n",
      "\u001b[0;32m   1433\u001b[0m \u001b[43m    \u001b[49m\u001b[43moperation\u001b[49m\u001b[38;5;241;43m.\u001b[39;49m\u001b[43mread_preference\u001b[49m\u001b[43m,\u001b[49m\n",
      "\u001b[0;32m   1434\u001b[0m \u001b[43m    \u001b[49m\u001b[43moperation\u001b[49m\u001b[38;5;241;43m.\u001b[39;49m\u001b[43msession\u001b[49m\u001b[43m,\u001b[49m\n",
      "\u001b[0;32m   1435\u001b[0m \u001b[43m    \u001b[49m\u001b[43maddress\u001b[49m\u001b[38;5;241;43m=\u001b[39;49m\u001b[43maddress\u001b[49m\u001b[43m,\u001b[49m\n",
      "\u001b[0;32m   1436\u001b[0m \u001b[43m    \u001b[49m\u001b[43mretryable\u001b[49m\u001b[38;5;241;43m=\u001b[39;49m\u001b[38;5;28;43misinstance\u001b[39;49m\u001b[43m(\u001b[49m\u001b[43moperation\u001b[49m\u001b[43m,\u001b[49m\u001b[43m \u001b[49m\u001b[43mmessage\u001b[49m\u001b[38;5;241;43m.\u001b[39;49m\u001b[43m_Query\u001b[49m\u001b[43m)\u001b[49m\u001b[43m,\u001b[49m\n",
      "\u001b[0;32m   1437\u001b[0m \u001b[43m    \u001b[49m\u001b[43moperation\u001b[49m\u001b[38;5;241;43m=\u001b[39;49m\u001b[43moperation\u001b[49m\u001b[38;5;241;43m.\u001b[39;49m\u001b[43mname\u001b[49m\u001b[43m,\u001b[49m\n",
      "\u001b[0;32m   1438\u001b[0m \u001b[43m\u001b[49m\u001b[43m)\u001b[49m\n",
      "\n",
      "File \u001b[1;32mC:\\ProgramData\\anaconda3\\envs\\mongo\\Lib\\site-packages\\pymongo\\mongo_client.py:1540\u001b[0m, in \u001b[0;36mMongoClient._retryable_read\u001b[1;34m(self, func, read_pref, session, operation, address, retryable, operation_id)\u001b[0m\n",
      "\u001b[0;32m   1535\u001b[0m \u001b[38;5;66;03m# Ensure that the client supports retrying on reads and there is no session in\u001b[39;00m\n",
      "\u001b[0;32m   1536\u001b[0m \u001b[38;5;66;03m# transaction, otherwise, we will not support retry behavior for this call.\u001b[39;00m\n",
      "\u001b[0;32m   1537\u001b[0m retryable \u001b[38;5;241m=\u001b[39m \u001b[38;5;28mbool\u001b[39m(\n",
      "\u001b[0;32m   1538\u001b[0m     retryable \u001b[38;5;129;01mand\u001b[39;00m \u001b[38;5;28mself\u001b[39m\u001b[38;5;241m.\u001b[39moptions\u001b[38;5;241m.\u001b[39mretry_reads \u001b[38;5;129;01mand\u001b[39;00m \u001b[38;5;129;01mnot\u001b[39;00m (session \u001b[38;5;129;01mand\u001b[39;00m session\u001b[38;5;241m.\u001b[39min_transaction)\n",
      "\u001b[0;32m   1539\u001b[0m )\n",
      "\u001b[1;32m-> 1540\u001b[0m \u001b[38;5;28;01mreturn\u001b[39;00m \u001b[38;5;28;43mself\u001b[39;49m\u001b[38;5;241;43m.\u001b[39;49m\u001b[43m_retry_internal\u001b[49m\u001b[43m(\u001b[49m\n",
      "\u001b[0;32m   1541\u001b[0m \u001b[43m    \u001b[49m\u001b[43mfunc\u001b[49m\u001b[43m,\u001b[49m\n",
      "\u001b[0;32m   1542\u001b[0m \u001b[43m    \u001b[49m\u001b[43msession\u001b[49m\u001b[43m,\u001b[49m\n",
      "\u001b[0;32m   1543\u001b[0m \u001b[43m    \u001b[49m\u001b[38;5;28;43;01mNone\u001b[39;49;00m\u001b[43m,\u001b[49m\n",
      "\u001b[0;32m   1544\u001b[0m \u001b[43m    \u001b[49m\u001b[43moperation\u001b[49m\u001b[43m,\u001b[49m\n",
      "\u001b[0;32m   1545\u001b[0m \u001b[43m    \u001b[49m\u001b[43mis_read\u001b[49m\u001b[38;5;241;43m=\u001b[39;49m\u001b[38;5;28;43;01mTrue\u001b[39;49;00m\u001b[43m,\u001b[49m\n",
      "\u001b[0;32m   1546\u001b[0m \u001b[43m    \u001b[49m\u001b[43maddress\u001b[49m\u001b[38;5;241;43m=\u001b[39;49m\u001b[43maddress\u001b[49m\u001b[43m,\u001b[49m\n",
      "\u001b[0;32m   1547\u001b[0m \u001b[43m    \u001b[49m\u001b[43mread_pref\u001b[49m\u001b[38;5;241;43m=\u001b[39;49m\u001b[43mread_pref\u001b[49m\u001b[43m,\u001b[49m\n",
      "\u001b[0;32m   1548\u001b[0m \u001b[43m    \u001b[49m\u001b[43mretryable\u001b[49m\u001b[38;5;241;43m=\u001b[39;49m\u001b[43mretryable\u001b[49m\u001b[43m,\u001b[49m\n",
      "\u001b[0;32m   1549\u001b[0m \u001b[43m    \u001b[49m\u001b[43moperation_id\u001b[49m\u001b[38;5;241;43m=\u001b[39;49m\u001b[43moperation_id\u001b[49m\u001b[43m,\u001b[49m\n",
      "\u001b[0;32m   1550\u001b[0m \u001b[43m\u001b[49m\u001b[43m)\u001b[49m\n",
      "\n",
      "File \u001b[1;32mC:\\ProgramData\\anaconda3\\envs\\mongo\\Lib\\site-packages\\pymongo\\_csot.py:108\u001b[0m, in \u001b[0;36mapply.<locals>.csot_wrapper\u001b[1;34m(self, *args, **kwargs)\u001b[0m\n",
      "\u001b[0;32m    106\u001b[0m         \u001b[38;5;28;01mwith\u001b[39;00m _TimeoutContext(timeout):\n",
      "\u001b[0;32m    107\u001b[0m             \u001b[38;5;28;01mreturn\u001b[39;00m func(\u001b[38;5;28mself\u001b[39m, \u001b[38;5;241m*\u001b[39margs, \u001b[38;5;241m*\u001b[39m\u001b[38;5;241m*\u001b[39mkwargs)\n",
      "\u001b[1;32m--> 108\u001b[0m \u001b[38;5;28;01mreturn\u001b[39;00m \u001b[43mfunc\u001b[49m\u001b[43m(\u001b[49m\u001b[38;5;28;43mself\u001b[39;49m\u001b[43m,\u001b[49m\u001b[43m \u001b[49m\u001b[38;5;241;43m*\u001b[39;49m\u001b[43margs\u001b[49m\u001b[43m,\u001b[49m\u001b[43m \u001b[49m\u001b[38;5;241;43m*\u001b[39;49m\u001b[38;5;241;43m*\u001b[39;49m\u001b[43mkwargs\u001b[49m\u001b[43m)\u001b[49m\n",
      "\n",
      "File \u001b[1;32mC:\\ProgramData\\anaconda3\\envs\\mongo\\Lib\\site-packages\\pymongo\\mongo_client.py:1507\u001b[0m, in \u001b[0;36mMongoClient._retry_internal\u001b[1;34m(self, func, session, bulk, operation, is_read, address, read_pref, retryable, operation_id)\u001b[0m\n",
      "\u001b[0;32m   1470\u001b[0m \u001b[38;5;129m@_csot\u001b[39m\u001b[38;5;241m.\u001b[39mapply\n",
      "\u001b[0;32m   1471\u001b[0m \u001b[38;5;28;01mdef\u001b[39;00m \u001b[38;5;21m_retry_internal\u001b[39m(\n",
      "\u001b[0;32m   1472\u001b[0m     \u001b[38;5;28mself\u001b[39m,\n",
      "\u001b[1;32m   (...)\u001b[0m\n",
      "\u001b[0;32m   1481\u001b[0m     operation_id: Optional[\u001b[38;5;28mint\u001b[39m] \u001b[38;5;241m=\u001b[39m \u001b[38;5;28;01mNone\u001b[39;00m,\n",
      "\u001b[0;32m   1482\u001b[0m ) \u001b[38;5;241m-\u001b[39m\u001b[38;5;241m>\u001b[39m T:\n",
      "\u001b[0;32m   1483\u001b[0m \u001b[38;5;250m    \u001b[39m\u001b[38;5;124;03m\"\"\"Internal retryable helper for all client transactions.\u001b[39;00m\n",
      "\u001b[0;32m   1484\u001b[0m \n",
      "\u001b[0;32m   1485\u001b[0m \u001b[38;5;124;03m    :param func: Callback function we want to retry\u001b[39;00m\n",
      "\u001b[1;32m   (...)\u001b[0m\n",
      "\u001b[0;32m   1494\u001b[0m \u001b[38;5;124;03m    :return: Output of the calling func()\u001b[39;00m\n",
      "\u001b[0;32m   1495\u001b[0m \u001b[38;5;124;03m    \"\"\"\u001b[39;00m\n",
      "\u001b[0;32m   1496\u001b[0m     \u001b[38;5;28;01mreturn\u001b[39;00m \u001b[43m_ClientConnectionRetryable\u001b[49m\u001b[43m(\u001b[49m\n",
      "\u001b[0;32m   1497\u001b[0m \u001b[43m        \u001b[49m\u001b[43mmongo_client\u001b[49m\u001b[38;5;241;43m=\u001b[39;49m\u001b[38;5;28;43mself\u001b[39;49m\u001b[43m,\u001b[49m\n",
      "\u001b[0;32m   1498\u001b[0m \u001b[43m        \u001b[49m\u001b[43mfunc\u001b[49m\u001b[38;5;241;43m=\u001b[39;49m\u001b[43mfunc\u001b[49m\u001b[43m,\u001b[49m\n",
      "\u001b[0;32m   1499\u001b[0m \u001b[43m        \u001b[49m\u001b[43mbulk\u001b[49m\u001b[38;5;241;43m=\u001b[39;49m\u001b[43mbulk\u001b[49m\u001b[43m,\u001b[49m\n",
      "\u001b[0;32m   1500\u001b[0m \u001b[43m        \u001b[49m\u001b[43moperation\u001b[49m\u001b[38;5;241;43m=\u001b[39;49m\u001b[43moperation\u001b[49m\u001b[43m,\u001b[49m\n",
      "\u001b[0;32m   1501\u001b[0m \u001b[43m        \u001b[49m\u001b[43mis_read\u001b[49m\u001b[38;5;241;43m=\u001b[39;49m\u001b[43mis_read\u001b[49m\u001b[43m,\u001b[49m\n",
      "\u001b[0;32m   1502\u001b[0m \u001b[43m        \u001b[49m\u001b[43msession\u001b[49m\u001b[38;5;241;43m=\u001b[39;49m\u001b[43msession\u001b[49m\u001b[43m,\u001b[49m\n",
      "\u001b[0;32m   1503\u001b[0m \u001b[43m        \u001b[49m\u001b[43mread_pref\u001b[49m\u001b[38;5;241;43m=\u001b[39;49m\u001b[43mread_pref\u001b[49m\u001b[43m,\u001b[49m\n",
      "\u001b[0;32m   1504\u001b[0m \u001b[43m        \u001b[49m\u001b[43maddress\u001b[49m\u001b[38;5;241;43m=\u001b[39;49m\u001b[43maddress\u001b[49m\u001b[43m,\u001b[49m\n",
      "\u001b[0;32m   1505\u001b[0m \u001b[43m        \u001b[49m\u001b[43mretryable\u001b[49m\u001b[38;5;241;43m=\u001b[39;49m\u001b[43mretryable\u001b[49m\u001b[43m,\u001b[49m\n",
      "\u001b[0;32m   1506\u001b[0m \u001b[43m        \u001b[49m\u001b[43moperation_id\u001b[49m\u001b[38;5;241;43m=\u001b[39;49m\u001b[43moperation_id\u001b[49m\u001b[43m,\u001b[49m\n",
      "\u001b[1;32m-> 1507\u001b[0m \u001b[43m    \u001b[49m\u001b[43m)\u001b[49m\u001b[38;5;241;43m.\u001b[39;49m\u001b[43mrun\u001b[49m\u001b[43m(\u001b[49m\u001b[43m)\u001b[49m\n",
      "\n",
      "File \u001b[1;32mC:\\ProgramData\\anaconda3\\envs\\mongo\\Lib\\site-packages\\pymongo\\mongo_client.py:2353\u001b[0m, in \u001b[0;36m_ClientConnectionRetryable.run\u001b[1;34m(self)\u001b[0m\n",
      "\u001b[0;32m   2351\u001b[0m \u001b[38;5;28mself\u001b[39m\u001b[38;5;241m.\u001b[39m_check_last_error(check_csot\u001b[38;5;241m=\u001b[39m\u001b[38;5;28;01mTrue\u001b[39;00m)\n",
      "\u001b[0;32m   2352\u001b[0m \u001b[38;5;28;01mtry\u001b[39;00m:\n",
      "\u001b[1;32m-> 2353\u001b[0m     \u001b[38;5;28;01mreturn\u001b[39;00m \u001b[38;5;28;43mself\u001b[39;49m\u001b[38;5;241;43m.\u001b[39;49m\u001b[43m_read\u001b[49m\u001b[43m(\u001b[49m\u001b[43m)\u001b[49m \u001b[38;5;28;01mif\u001b[39;00m \u001b[38;5;28mself\u001b[39m\u001b[38;5;241m.\u001b[39m_is_read \u001b[38;5;28;01melse\u001b[39;00m \u001b[38;5;28mself\u001b[39m\u001b[38;5;241m.\u001b[39m_write()\n",
      "\u001b[0;32m   2354\u001b[0m \u001b[38;5;28;01mexcept\u001b[39;00m ServerSelectionTimeoutError:\n",
      "\u001b[0;32m   2355\u001b[0m     \u001b[38;5;66;03m# The application may think the write was never attempted\u001b[39;00m\n",
      "\u001b[0;32m   2356\u001b[0m     \u001b[38;5;66;03m# if we raise ServerSelectionTimeoutError on the retry\u001b[39;00m\n",
      "\u001b[0;32m   2357\u001b[0m     \u001b[38;5;66;03m# attempt. Raise the original exception instead.\u001b[39;00m\n",
      "\u001b[0;32m   2358\u001b[0m     \u001b[38;5;28mself\u001b[39m\u001b[38;5;241m.\u001b[39m_check_last_error()\n",
      "\n",
      "File \u001b[1;32mC:\\ProgramData\\anaconda3\\envs\\mongo\\Lib\\site-packages\\pymongo\\mongo_client.py:2491\u001b[0m, in \u001b[0;36m_ClientConnectionRetryable._read\u001b[1;34m(self)\u001b[0m\n",
      "\u001b[0;32m   2489\u001b[0m \u001b[38;5;28;01mif\u001b[39;00m \u001b[38;5;28mself\u001b[39m\u001b[38;5;241m.\u001b[39m_retrying \u001b[38;5;129;01mand\u001b[39;00m \u001b[38;5;129;01mnot\u001b[39;00m \u001b[38;5;28mself\u001b[39m\u001b[38;5;241m.\u001b[39m_retryable:\n",
      "\u001b[0;32m   2490\u001b[0m     \u001b[38;5;28mself\u001b[39m\u001b[38;5;241m.\u001b[39m_check_last_error()\n",
      "\u001b[1;32m-> 2491\u001b[0m \u001b[38;5;28;01mreturn\u001b[39;00m \u001b[38;5;28;43mself\u001b[39;49m\u001b[38;5;241;43m.\u001b[39;49m\u001b[43m_func\u001b[49m\u001b[43m(\u001b[49m\u001b[38;5;28;43mself\u001b[39;49m\u001b[38;5;241;43m.\u001b[39;49m\u001b[43m_session\u001b[49m\u001b[43m,\u001b[49m\u001b[43m \u001b[49m\u001b[38;5;28;43mself\u001b[39;49m\u001b[38;5;241;43m.\u001b[39;49m\u001b[43m_server\u001b[49m\u001b[43m,\u001b[49m\u001b[43m \u001b[49m\u001b[43mconn\u001b[49m\u001b[43m,\u001b[49m\u001b[43m \u001b[49m\u001b[43mread_pref\u001b[49m\u001b[43m)\u001b[49m\n",
      "\n",
      "File \u001b[1;32mC:\\ProgramData\\anaconda3\\envs\\mongo\\Lib\\site-packages\\pymongo\\mongo_client.py:1422\u001b[0m, in \u001b[0;36mMongoClient._run_operation.<locals>._cmd\u001b[1;34m(_session, server, conn, read_preference)\u001b[0m\n",
      "\u001b[0;32m   1415\u001b[0m \u001b[38;5;28;01mdef\u001b[39;00m \u001b[38;5;21m_cmd\u001b[39m(\n",
      "\u001b[0;32m   1416\u001b[0m     _session: Optional[ClientSession],\n",
      "\u001b[0;32m   1417\u001b[0m     server: Server,\n",
      "\u001b[0;32m   1418\u001b[0m     conn: Connection,\n",
      "\u001b[0;32m   1419\u001b[0m     read_preference: _ServerMode,\n",
      "\u001b[0;32m   1420\u001b[0m ) \u001b[38;5;241m-\u001b[39m\u001b[38;5;241m>\u001b[39m Response:\n",
      "\u001b[0;32m   1421\u001b[0m     operation\u001b[38;5;241m.\u001b[39mreset()  \u001b[38;5;66;03m# Reset op in case of retry.\u001b[39;00m\n",
      "\u001b[1;32m-> 1422\u001b[0m     \u001b[38;5;28;01mreturn\u001b[39;00m \u001b[43mserver\u001b[49m\u001b[38;5;241;43m.\u001b[39;49m\u001b[43mrun_operation\u001b[49m\u001b[43m(\u001b[49m\n",
      "\u001b[0;32m   1423\u001b[0m \u001b[43m        \u001b[49m\u001b[43mconn\u001b[49m\u001b[43m,\u001b[49m\n",
      "\u001b[0;32m   1424\u001b[0m \u001b[43m        \u001b[49m\u001b[43moperation\u001b[49m\u001b[43m,\u001b[49m\n",
      "\u001b[0;32m   1425\u001b[0m \u001b[43m        \u001b[49m\u001b[43mread_preference\u001b[49m\u001b[43m,\u001b[49m\n",
      "\u001b[0;32m   1426\u001b[0m \u001b[43m        \u001b[49m\u001b[38;5;28;43mself\u001b[39;49m\u001b[38;5;241;43m.\u001b[39;49m\u001b[43m_event_listeners\u001b[49m\u001b[43m,\u001b[49m\n",
      "\u001b[0;32m   1427\u001b[0m \u001b[43m        \u001b[49m\u001b[43munpack_res\u001b[49m\u001b[43m,\u001b[49m\n",
      "\u001b[0;32m   1428\u001b[0m \u001b[43m        \u001b[49m\u001b[38;5;28;43mself\u001b[39;49m\u001b[43m,\u001b[49m\n",
      "\u001b[0;32m   1429\u001b[0m \u001b[43m    \u001b[49m\u001b[43m)\u001b[49m\n",
      "\n",
      "File \u001b[1;32mC:\\ProgramData\\anaconda3\\envs\\mongo\\Lib\\site-packages\\pymongo\\helpers.py:342\u001b[0m, in \u001b[0;36m_handle_reauth.<locals>.inner\u001b[1;34m(*args, **kwargs)\u001b[0m\n",
      "\u001b[0;32m    339\u001b[0m \u001b[38;5;28;01mfrom\u001b[39;00m \u001b[38;5;21;01mpymongo\u001b[39;00m\u001b[38;5;21;01m.\u001b[39;00m\u001b[38;5;21;01mpool\u001b[39;00m \u001b[38;5;28;01mimport\u001b[39;00m Connection\n",
      "\u001b[0;32m    341\u001b[0m \u001b[38;5;28;01mtry\u001b[39;00m:\n",
      "\u001b[1;32m--> 342\u001b[0m     \u001b[38;5;28;01mreturn\u001b[39;00m \u001b[43mfunc\u001b[49m\u001b[43m(\u001b[49m\u001b[38;5;241;43m*\u001b[39;49m\u001b[43margs\u001b[49m\u001b[43m,\u001b[49m\u001b[43m \u001b[49m\u001b[38;5;241;43m*\u001b[39;49m\u001b[38;5;241;43m*\u001b[39;49m\u001b[43mkwargs\u001b[49m\u001b[43m)\u001b[49m\n",
      "\u001b[0;32m    343\u001b[0m \u001b[38;5;28;01mexcept\u001b[39;00m OperationFailure \u001b[38;5;28;01mas\u001b[39;00m exc:\n",
      "\u001b[0;32m    344\u001b[0m     \u001b[38;5;28;01mif\u001b[39;00m no_reauth:\n",
      "\n",
      "File \u001b[1;32mC:\\ProgramData\\anaconda3\\envs\\mongo\\Lib\\site-packages\\pymongo\\server.py:190\u001b[0m, in \u001b[0;36mServer.run_operation\u001b[1;34m(self, conn, operation, read_preference, listeners, unpack_res, client)\u001b[0m\n",
      "\u001b[0;32m    188\u001b[0m         first \u001b[38;5;241m=\u001b[39m docs[\u001b[38;5;241m0\u001b[39m]\n",
      "\u001b[0;32m    189\u001b[0m         operation\u001b[38;5;241m.\u001b[39mclient\u001b[38;5;241m.\u001b[39m_process_response(first, operation\u001b[38;5;241m.\u001b[39msession)\n",
      "\u001b[1;32m--> 190\u001b[0m         \u001b[43m_check_command_response\u001b[49m\u001b[43m(\u001b[49m\u001b[43mfirst\u001b[49m\u001b[43m,\u001b[49m\u001b[43m \u001b[49m\u001b[43mconn\u001b[49m\u001b[38;5;241;43m.\u001b[39;49m\u001b[43mmax_wire_version\u001b[49m\u001b[43m)\u001b[49m\n",
      "\u001b[0;32m    191\u001b[0m \u001b[38;5;28;01mexcept\u001b[39;00m \u001b[38;5;167;01mException\u001b[39;00m \u001b[38;5;28;01mas\u001b[39;00m exc:\n",
      "\u001b[0;32m    192\u001b[0m     duration \u001b[38;5;241m=\u001b[39m datetime\u001b[38;5;241m.\u001b[39mnow() \u001b[38;5;241m-\u001b[39m start\n",
      "\n",
      "File \u001b[1;32mC:\\ProgramData\\anaconda3\\envs\\mongo\\Lib\\site-packages\\pymongo\\helpers.py:248\u001b[0m, in \u001b[0;36m_check_command_response\u001b[1;34m(response, max_wire_version, allowable_errors, parse_write_concern_error)\u001b[0m\n",
      "\u001b[0;32m    245\u001b[0m \u001b[38;5;28;01melif\u001b[39;00m code \u001b[38;5;241m==\u001b[39m \u001b[38;5;241m43\u001b[39m:\n",
      "\u001b[0;32m    246\u001b[0m     \u001b[38;5;28;01mraise\u001b[39;00m CursorNotFound(errmsg, code, response, max_wire_version)\n",
      "\u001b[1;32m--> 248\u001b[0m \u001b[38;5;28;01mraise\u001b[39;00m OperationFailure(errmsg, code, response, max_wire_version)\n",
      "\n",
      "\u001b[1;31mOperationFailure\u001b[0m: Executor error during getMore :: caused by :: Error parsing date string '1898-00-00'; 11: The parsed date was invalid '\u0000', full error: {'ok': 0.0, 'errmsg': \"Executor error during getMore :: caused by :: Error parsing date string '1898-00-00'; 11: The parsed date was invalid '\\x00'\", 'code': 241, 'codeName': 'ConversionFailure'}\n"
     ]
    }
   ],
   "source": [
    "%%expect_exception OperationFailure   \n",
    "\n",
    "# Filtering dates greater than 1700\n",
    "# New error: Error parsing date string '1898-00-00'\n",
    "docs = list(db.laureates.aggregate([\n",
    "    {\"$match\": {\"died\": {\"$gt\": \"1700\"}, \n",
    "                \"born\": {\"$gt\": \"1700\"}}},\n",
    "    {\"$project\": {\"died\": {\"$dateFromString\": {\"dateString\": \"$died\"}},\n",
    "                  \"born\": {\"$dateFromString\": {\"dateString\": \"$born\"}}}}\n",
    "]))"
   ]
  },
  {
   "cell_type": "markdown",
   "id": "4d74bb53-6ebd-428d-af7f-01a65e199ba5",
   "metadata": {},
   "source": [
    "### split and cond-itionally correct (with $concat)"
   ]
  },
  {
   "cell_type": "code",
   "execution_count": 65,
   "id": "74e5ba1f-11a4-4d24-97bd-94532fa6457a",
   "metadata": {},
   "outputs": [
    {
     "name": "stdout",
     "output_type": "stream",
     "text": [
      "[{'born': datetime.datetime(1853, 7, 18, 0, 0),\n",
      "  'died': datetime.datetime(1928, 2, 4, 0, 0)},\n",
      " {'born': datetime.datetime(1918, 9, 27, 0, 0),\n",
      "  'died': datetime.datetime(1984, 10, 14, 0, 0)},\n",
      " {'born': datetime.datetime(1922, 6, 19, 0, 0),\n",
      "  'died': datetime.datetime(2009, 9, 8, 0, 0)},\n",
      " {'born': datetime.datetime(1917, 12, 9, 0, 0),\n",
      "  'died': datetime.datetime(1986, 3, 31, 0, 0)},\n",
      " {'born': datetime.datetime(1931, 3, 22, 0, 0),\n",
      "  'died': datetime.datetime(2018, 7, 18, 0, 0)}]\n"
     ]
    }
   ],
   "source": [
    "docs = list(db.laureates.aggregate([\n",
    "    {\"$match\": {\"died\": {\"$gt\": \"1700\"}, \"born\": {\"$gt\": \"1700\"}}},\n",
    "    {\"$addFields\": {\"bornArray\": {\"$split\": [\"$born\", \"-\"]},\n",
    "                    \"diedArray\": {\"$split\": [\"$died\", \"-\"]}}},\n",
    "    {\"$addFields\": {\n",
    "        \"born\": {\"$cond\": [{\"$in\": [\"00\", \"$bornArray\"]},  # condition\n",
    "                           {\"$concat\": [{\"$arrayElemAt\": [\"$bornArray\", 0]}, \n",
    "                                        \"-01-01\"]},  # if True\n",
    "                           \"$born\"]}   # if false\n",
    "    }},\n",
    "    {\"$project\": {\"died\": {\"$dateFromString\": {\"dateString\": \"$died\"}},\n",
    "                  \"born\": {\"$dateFromString\": {\"dateString\": \"$born\"}},\n",
    "                  \"_id\": 0}}\n",
    "]))\n",
    "pprint(docs[:5])"
   ]
  },
  {
   "cell_type": "markdown",
   "id": "49e4649f-60d2-4b08-913d-c38ea906e593",
   "metadata": {},
   "source": [
    "### A $bucket list\n",
    "Categorizes incoming documents into groups, called buckets, based on a specified expression and bucket boundaries and outputs a document per each bucket."
   ]
  },
  {
   "cell_type": "code",
   "execution_count": 66,
   "id": "629d23ad-ecb1-4836-a9b4-6fd2305cfa02",
   "metadata": {},
   "outputs": [
    {
     "name": "stdout",
     "output_type": "stream",
     "text": [
      "[{'born': datetime.datetime(1853, 7, 18, 0, 0),\n",
      "  'died': datetime.datetime(1928, 2, 4, 0, 0),\n",
      "  'years': 74.0},\n",
      " {'born': datetime.datetime(1918, 9, 27, 0, 0),\n",
      "  'died': datetime.datetime(1984, 10, 14, 0, 0),\n",
      "  'years': 66.0},\n",
      " {'born': datetime.datetime(1922, 6, 19, 0, 0),\n",
      "  'died': datetime.datetime(2009, 9, 8, 0, 0),\n",
      "  'years': 87.0},\n",
      " {'born': datetime.datetime(1917, 12, 9, 0, 0),\n",
      "  'died': datetime.datetime(1986, 3, 31, 0, 0),\n",
      "  'years': 68.0},\n",
      " {'born': datetime.datetime(1931, 3, 22, 0, 0),\n",
      "  'died': datetime.datetime(2018, 7, 18, 0, 0),\n",
      "  'years': 87.0}]\n"
     ]
    }
   ],
   "source": [
    "# Calculating the age\n",
    "docs = list(db.laureates.aggregate([\n",
    "    {\"$match\": {\"died\": {\"$gt\": \"1700\"}, \"born\": {\"$gt\": \"1700\"}}},\n",
    "    {\"$addFields\": {\"bornArray\": {\"$split\": [\"$born\", \"-\"]},\n",
    "                    \"diedArray\": {\"$split\": [\"$died\", \"-\"]}}},\n",
    "    {\"$addFields\": {\n",
    "        \"born\": {\"$cond\": [{\"$in\": [\"00\", \"$bornArray\"]},  # condition\n",
    "                           {\"$concat\": [{\"$arrayElemAt\": [\"$bornArray\", 0]}, \n",
    "                                        \"-01-01\"]},  # if True\n",
    "                           \"$born\"]}   # if false\n",
    "    }},\n",
    "    {\"$project\": {\"died\": {\"$dateFromString\": {\"dateString\": \"$died\"}},\n",
    "                  \"born\": {\"$dateFromString\": {\"dateString\": \"$born\"}},\n",
    "                  \"_id\": 0,\n",
    "    }},\n",
    "    {\"$project\": {\n",
    "        \"died\": 1,\n",
    "        \"born\": 1,\n",
    "        \"years\": {\n",
    "            \"$floor\": {\n",
    "                \"$divide\": [\n",
    "                    {\"$subtract\": [\"$died\", \"$born\"]},\n",
    "                    31557600000 # 1000 * 60 * 60 * 24 * 365.25\n",
    "                ]\n",
    "            }\n",
    "        }\n",
    "    }}\n",
    "]))\n",
    "\n",
    "pprint(docs[:5])"
   ]
  },
  {
   "cell_type": "code",
   "execution_count": 67,
   "id": "27fb7745-841d-4c28-a505-f90d616c8626",
   "metadata": {},
   "outputs": [
    {
     "name": "stdout",
     "output_type": "stream",
     "text": [
      "[{'_id': 30, 'count': 1},\n",
      " {'_id': 40, 'count': 6},\n",
      " {'_id': 50, 'count': 21},\n",
      " {'_id': 60, 'count': 87},\n",
      " {'_id': 70, 'count': 154},\n",
      " {'_id': 80, 'count': 221},\n",
      " {'_id': 90, 'count': 115},\n",
      " {'_id': 100, 'count': 2}]\n"
     ]
    }
   ],
   "source": [
    "# Adding $bucket\n",
    "# Calculating the age\n",
    "docs = list(db.laureates.aggregate([\n",
    "    {\"$match\": {\"died\": {\"$gt\": \"1700\"}, \"born\": {\"$gt\": \"1700\"}}},\n",
    "    {\"$addFields\": {\"bornArray\": {\"$split\": [\"$born\", \"-\"]},\n",
    "                    \"diedArray\": {\"$split\": [\"$died\", \"-\"]}}},\n",
    "    {\"$addFields\": {\n",
    "        \"born\": {\"$cond\": [{\"$in\": [\"00\", \"$bornArray\"]},  # condition\n",
    "                           {\"$concat\": [{\"$arrayElemAt\": [\"$bornArray\", 0]}, \n",
    "                                        \"-01-01\"]},  # if True\n",
    "                           \"$born\"]}   # if false\n",
    "    }},\n",
    "    {\"$project\": {\"died\": {\"$dateFromString\": {\"dateString\": \"$died\"}},\n",
    "                  \"born\": {\"$dateFromString\": {\"dateString\": \"$born\"}},\n",
    "                  \"_id\": 0,\n",
    "    }},\n",
    "    {\"$project\": {\n",
    "        \"died\": 1,\n",
    "        \"born\": 1,\n",
    "        \"years\": {\n",
    "            \"$floor\": {\n",
    "                \"$divide\": [\n",
    "                    {\"$subtract\": [\"$died\", \"$born\"]},\n",
    "                    31557600000 # 1000 * 60 * 60 * 24 * 365.25\n",
    "                ]\n",
    "            }\n",
    "        }\n",
    "    }},\n",
    "    {\"$bucket\": {\"groupBy\": \"$years\",\n",
    "                 \"boundaries\": list(range(30, 120, 10))}}\n",
    "]))\n",
    "\n",
    "pprint(docs)"
   ]
  },
  {
   "cell_type": "markdown",
   "id": "f3007a2d-3abb-48bc-a879-8861d60df04a",
   "metadata": {},
   "source": [
    "### Excercises\n",
    "#### ...it's the life in your years\n",
    "\n",
    "For the pipeline we developed in the last lesson, We want you to replace the last ($bucket) stage to get the max age and min age."
   ]
  },
  {
   "cell_type": "code",
   "execution_count": 68,
   "id": "10fee361-f0e9-480c-9237-80fbc481d320",
   "metadata": {},
   "outputs": [],
   "source": [
    "# Calculating the age\n",
    "docs = list(db.laureates.aggregate([\n",
    "    {\"$match\": {\"died\": {\"$gt\": \"1700\"}, \"born\": {\"$gt\": \"1700\"}}},\n",
    "    {\"$addFields\": {\"bornArray\": {\"$split\": [\"$born\", \"-\"]},\n",
    "                    \"diedArray\": {\"$split\": [\"$died\", \"-\"]}}},\n",
    "    {\"$addFields\": {\n",
    "        \"born\": {\"$cond\": [{\"$in\": [\"00\", \"$bornArray\"]},  # condition\n",
    "                           {\"$concat\": [{\"$arrayElemAt\": [\"$bornArray\", 0]}, \n",
    "                                        \"-01-01\"]},  # if True\n",
    "                           \"$born\"]}   # if false\n",
    "    }},\n",
    "    {\"$project\": {\"died\": {\"$dateFromString\": {\"dateString\": \"$died\"}},\n",
    "                  \"born\": {\"$dateFromString\": {\"dateString\": \"$born\"}},\n",
    "                  \"_id\": 0,\n",
    "    }},\n",
    "    {\"$project\": {\n",
    "        \"died\": 1,\n",
    "        \"born\": 1,\n",
    "        \"years\": {\n",
    "            \"$floor\": {\n",
    "                \"$divide\": [\n",
    "                    {\"$subtract\": [\"$died\", \"$born\"]},\n",
    "                    31557600000 # 1000 * 60 * 60 * 24 * 365.25\n",
    "                ]\n",
    "            }\n",
    "        }\n",
    "    }},\n",
    "    {\"$project\": {\"years\": 1, \n",
    "                  \"firstname\": 1, \n",
    "                  \"surname\": 1, \n",
    "                  \"_id\": 0}}\n",
    "]))"
   ]
  },
  {
   "cell_type": "code",
   "execution_count": 69,
   "id": "ec1502e1-d342-4727-90c4-d34d9a3e0272",
   "metadata": {},
   "outputs": [
    {
     "name": "stdout",
     "output_type": "stream",
     "text": [
      "{'years': 103.0}\n",
      "{'years': 39.0}\n"
     ]
    }
   ],
   "source": [
    "print(max(docs, key=itemgetter(\"years\")))\n",
    "print(min(docs, key=itemgetter(\"years\")))"
   ]
  },
  {
   "cell_type": "markdown",
   "id": "c32ea512-551a-4f43-8368-c33cdb784a52",
   "metadata": {},
   "source": [
    "#### How many prizes were awarded to immigrants?\n",
    "How many prizes were awarded to people who had no affiliation in their country of birth at the time of the award?"
   ]
  },
  {
   "cell_type": "code",
   "execution_count": 70,
   "id": "2c6aec1d-2eeb-4523-a624-ec33e7f2b561",
   "metadata": {},
   "outputs": [
    {
     "name": "stdout",
     "output_type": "stream",
     "text": [
      "[{'awardedElsewhere': 478}]\n"
     ]
    }
   ],
   "source": [
    "pipeline = [\n",
    "    # Limit results to people; project needed fields; unwind prizes\n",
    "    {'$match': {'gender': {\"$ne\": \"org\"}}},\n",
    "    {\"$project\": {\"bornCountry\": 1, \"prizes.affiliations.country\": 1}},\n",
    "    {\"$unwind\": \"$prizes\"},\n",
    "  \n",
    "    # Count prizes with no country-of-birth affiliation\n",
    "    {\"$addFields\": {\n",
    "        \"bornCountryInAffiliations\": {\n",
    "            \"$in\": ['$bornCountry', \"$prizes.affiliations.country\"]\n",
    "        }\n",
    "    }},\n",
    "    {'$match': {\"bornCountryInAffiliations\": False}},\n",
    "    {\"$count\": \"awardedElsewhere\"},\n",
    "]\n",
    "\n",
    "print(list(db.laureates.aggregate(pipeline)))"
   ]
  },
  {
   "cell_type": "markdown",
   "id": "c60e9500-d1e8-44dd-9dda-59ba0fea55d0",
   "metadata": {},
   "source": [
    "#### Refinement: filter out \"unaffiliated\" people\n",
    "In the previous exercise, we counted prizes awarded to people without an affiliation in their \"bornCountry\". However, hundreds of prizes were awarded to people without recorded affiliations; sure, their \"bornCountry\" is technically not the \"country\" of any of their affiliations, but there are no \"country\" values to compare against!\n",
    "\n",
    "- Construct a stage added_stage that filters for laureate \"prizes.affiliations.country\" values that are non-empty, that is, are $in a list of the distinct values that the field takes in the collection.\n",
    "- Insert this stage into the pipeline so that it filters out single prizes (not arrays) and precedes any test for membership in an array of countries. Recall that the first parameter to <list>.insert is the (zero-based) index for insertion."
   ]
  },
  {
   "cell_type": "code",
   "execution_count": 71,
   "id": "8c525d44-b17c-4f03-99e9-1b07e8004879",
   "metadata": {},
   "outputs": [
    {
     "name": "stdout",
     "output_type": "stream",
     "text": [
      "['Alsace (then Germany, now France)', 'Argentina', 'Australia', 'Austria', 'Belgium', 'Canada', 'China', 'Czechoslovakia', 'Denmark', 'Federal Republic of Germany', 'Finland', 'France', 'Germany', 'Hungary', 'India', 'Ireland', 'Israel', 'Italy', 'Japan', 'Norway', 'Portugal', 'Russia', 'Spain', 'Sweden', 'Switzerland', 'USA', 'USSR', 'United Kingdom', 'the Netherlands']\n"
     ]
    }
   ],
   "source": [
    "# Checking there is not None\n",
    "print(db.laureates.distinct('prizes.affiliations.country'))"
   ]
  },
  {
   "cell_type": "code",
   "execution_count": 72,
   "id": "2ecf6277-8d07-407e-a666-f92669550fcc",
   "metadata": {},
   "outputs": [
    {
     "name": "stdout",
     "output_type": "stream",
     "text": [
      "[{'awardedElsewhere': 252}]\n"
     ]
    }
   ],
   "source": [
    "pipeline = [\n",
    "    {\"$match\": {\"gender\": {\"$ne\": \"org\"}}},\n",
    "    {\"$project\": {\"bornCountry\": 1, \"prizes.affiliations.country\": 1}},\n",
    "    {\"$unwind\": \"$prizes\"},\n",
    "    {\"$addFields\": {\"bornCountryInAffiliations\": {\"$in\": [\"$bornCountry\", \"$prizes.affiliations.country\"]}}},\n",
    "    {\"$match\": {\"bornCountryInAffiliations\": False}},\n",
    "    {\"$count\": \"awardedElsewhere\"},\n",
    "]\n",
    "\n",
    "# Construct the additional filter stage\n",
    "added_stage = {\"$match\": {\"prizes.affiliations.country\": {\n",
    "    '$in': db.laureates.distinct(\"prizes.affiliations.country\")}}}\n",
    "\n",
    "# Insert this stage into the pipeline\n",
    "pipeline.insert(3, added_stage)\n",
    "print(list(db.laureates.aggregate(pipeline)))"
   ]
  },
  {
   "cell_type": "markdown",
   "id": "2a6de46e-44e1-4ec5-8d8a-4b5ff9973833",
   "metadata": {},
   "source": [
    "-------------------------------------"
   ]
  }
 ],
 "metadata": {
  "kernelspec": {
   "display_name": "Python 3 (ipykernel)",
   "language": "python",
   "name": "python3"
  },
  "language_info": {
   "codemirror_mode": {
    "name": "ipython",
    "version": 3
   },
   "file_extension": ".py",
   "mimetype": "text/x-python",
   "name": "python",
   "nbconvert_exporter": "python",
   "pygments_lexer": "ipython3",
   "version": "3.12.7"
  }
 },
 "nbformat": 4,
 "nbformat_minor": 5
}
