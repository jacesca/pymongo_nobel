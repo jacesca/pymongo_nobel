{
 "cells": [
  {
   "cell_type": "markdown",
   "id": "ddf5ff96-b642-41c5-b7d0-af74a75cbb67",
   "metadata": {},
   "source": [
    "# 3. Get Only What You Need, and Fast\n",
    "You can now query collections with ease and collect documents to examine and analyze with Python. But this process is sometimes slow and onerous for large collections and documents. This chapter is about various ways to speed up and simplify that process."
   ]
  },
  {
   "cell_type": "code",
   "execution_count": 60,
   "id": "dca7ae22-c468-4d39-9af6-4e5a048c9389",
   "metadata": {},
   "outputs": [],
   "source": [
    "# Importing libraries\n",
    "import expectexception\n",
    "\n",
    "from pymongo import MongoClient\n",
    "from pprint import pprint\n",
    "\n",
    "from bson.regex import Regex\n",
    "from operator import itemgetter\n",
    "from collections import Counter"
   ]
  },
  {
   "cell_type": "code",
   "execution_count": 2,
   "id": "d7f940be-c17f-4f97-92f3-eda13986aa4c",
   "metadata": {},
   "outputs": [],
   "source": [
    "# Instantiating the mongodb client\n",
    "client = MongoClient()\n",
    "\n",
    "# Create local \"nobel\" database on the fly\n",
    "db = client[\"nobel\"]"
   ]
  },
  {
   "cell_type": "markdown",
   "id": "0095b685-ca09-4571-aa4a-aaf905599bba",
   "metadata": {},
   "source": [
    "## 3.1 Projection"
   ]
  },
  {
   "cell_type": "code",
   "execution_count": 3,
   "id": "f75e22b6-b2f2-403e-ad8a-ec0e4737f1c2",
   "metadata": {},
   "outputs": [
    {
     "name": "stdout",
     "output_type": "stream",
     "text": [
      "{'_id': ObjectId('6706d88371ea025ecc350f6e'),\n",
      " 'born': '1853-07-18',\n",
      " 'bornCity': 'Arnhem',\n",
      " 'bornCountry': 'the Netherlands',\n",
      " 'bornCountryCode': 'NL',\n",
      " 'died': '1928-02-04',\n",
      " 'diedCountry': 'the Netherlands',\n",
      " 'diedCountryCode': 'NL',\n",
      " 'firstname': 'Hendrik Antoon',\n",
      " 'gender': 'male',\n",
      " 'id': '2',\n",
      " 'prizes': [{'affiliations': [{'city': 'Leiden',\n",
      "                               'country': 'the Netherlands',\n",
      "                               'name': 'Leiden University'}],\n",
      "             'category': 'physics',\n",
      "             'motivation': '\"in recognition of the extraordinary service they '\n",
      "                           'rendered by their researches into the influence of '\n",
      "                           'magnetism upon radiation phenomena\"',\n",
      "             'share': '2',\n",
      "             'year': '1902'}],\n",
      " 'surname': 'Lorentz'}\n"
     ]
    }
   ],
   "source": [
    "# Reviewing the laureates data\n",
    "pprint(db.laureates.find_one({}))"
   ]
  },
  {
   "cell_type": "markdown",
   "id": "f3a1f1a1-1d17-47e1-8677-3f2b97108e23",
   "metadata": {},
   "source": [
    "### Projection in MongoDB"
   ]
  },
  {
   "cell_type": "code",
   "execution_count": 4,
   "id": "fdecb259-0b78-4046-b913-c2cca7dd2dc9",
   "metadata": {},
   "outputs": [
    {
     "data": {
      "text/plain": [
       "pymongo.cursor.Cursor"
      ]
     },
     "execution_count": 4,
     "metadata": {},
     "output_type": "execute_result"
    }
   ],
   "source": [
    "# include only prizes.affiliations\n",
    "# exclude _id\n",
    "docs = db.laureates.find(\n",
    "    filter={},\n",
    "    projection={\"prizes.affiliations\": 1,\n",
    "                \"_id\": 0})  # To exclude it\n",
    "type(docs)"
   ]
  },
  {
   "cell_type": "code",
   "execution_count": 5,
   "id": "ddd01434-8b5d-4a30-b391-8ed3c0ff31c1",
   "metadata": {},
   "outputs": [
    {
     "data": {
      "text/plain": [
       "934"
      ]
     },
     "execution_count": 5,
     "metadata": {},
     "output_type": "execute_result"
    }
   ],
   "source": [
    "data = list(docs)\n",
    "len(data)"
   ]
  },
  {
   "cell_type": "code",
   "execution_count": 6,
   "id": "c0637d64-1e7a-4565-8731-d00b88bfcdf6",
   "metadata": {},
   "outputs": [
    {
     "name": "stdout",
     "output_type": "stream",
     "text": [
      "[{'prizes': [{'affiliations': [{'city': 'Leiden',\n",
      "                                'country': 'the Netherlands',\n",
      "                                'name': 'Leiden University'}]}]},\n",
      " {'prizes': [{'affiliations': [{'city': 'Providence, RI',\n",
      "                                'country': 'USA',\n",
      "                                'name': 'Brown University'}]}]}]\n"
     ]
    }
   ],
   "source": [
    "pprint(data[:2])"
   ]
  },
  {
   "cell_type": "code",
   "execution_count": 7,
   "id": "aff615ec-6b58-4445-b2b3-f12433b7d0cc",
   "metadata": {},
   "outputs": [
    {
     "name": "stdout",
     "output_type": "stream",
     "text": [
      "[{}, {}]\n"
     ]
    }
   ],
   "source": [
    "# This not works!\n",
    "docs = db.laureates.find(\n",
    "    filter={},\n",
    "    projection={\"affiliations\": 1,\n",
    "                \"_id\": 0})  # To exclude it\n",
    "pprint(list(docs[:2]))"
   ]
  },
  {
   "cell_type": "markdown",
   "id": "129dd2d7-29be-455b-9f20-5d95b2012bce",
   "metadata": {},
   "source": [
    "### Missing fields"
   ]
  },
  {
   "cell_type": "code",
   "execution_count": 8,
   "id": "0b6d4eea-1639-4044-8f97-4b17b0a3610d",
   "metadata": {},
   "outputs": [
    {
     "name": "stdout",
     "output_type": "stream",
     "text": [
      "[{'_id': ObjectId('6706d88371ea025ecc3510a4'),\n",
      "  'firstname': 'Comité international de la Croix Rouge (International '\n",
      "               'Committee of the Red Cross)'},\n",
      " {'_id': ObjectId('6706d88371ea025ecc3510f9'),\n",
      "  'firstname': 'Friends Service Council (The Quakers)'},\n",
      " {'_id': ObjectId('6706d88371ea025ecc3510fd'),\n",
      "  'firstname': \"United Nations Children's Fund (UNICEF)\"},\n",
      " {'_id': ObjectId('6706d88371ea025ecc3510ff'),\n",
      "  'firstname': 'International Labour Organization (I.L.O.)'},\n",
      " {'_id': ObjectId('6706d88371ea025ecc351109'),\n",
      "  'firstname': 'Amnesty International'},\n",
      " {'_id': ObjectId('6706d88371ea025ecc351113'),\n",
      "  'firstname': 'United Nations Peacekeeping Forces'},\n",
      " {'_id': ObjectId('6706d88371ea025ecc35111e'),\n",
      "  'firstname': 'Pugwash Conferences on Science and World Affairs'},\n",
      " {'_id': ObjectId('6706d88371ea025ecc351121'),\n",
      "  'firstname': 'International Campaign to Ban Landmines (ICBL)'},\n",
      " {'_id': ObjectId('6706d88371ea025ecc351125'),\n",
      "  'firstname': 'Médecins Sans Frontières'},\n",
      " {'_id': ObjectId('6706d88371ea025ecc3511e8'),\n",
      "  'firstname': 'International Atomic Energy Agency (IAEA)'},\n",
      " {'_id': ObjectId('6706d88371ea025ecc351208'),\n",
      "  'firstname': 'Institut de droit international (Institute of International '\n",
      "               'Law)'},\n",
      " {'_id': ObjectId('6706d88371ea025ecc351211'),\n",
      "  'firstname': 'Bureau international permanent de la Paix (Permanent '\n",
      "               'International Peace Bureau)'},\n",
      " {'_id': ObjectId('6706d88371ea025ecc351216'),\n",
      "  'firstname': 'Office international Nansen pour les Réfugiés (Nansen '\n",
      "               'International Office for Refugees)'},\n",
      " {'_id': ObjectId('6706d88371ea025ecc351217'),\n",
      "  'firstname': 'American Friends Service Committee (The Quakers)'},\n",
      " {'_id': ObjectId('6706d88371ea025ecc35121b'),\n",
      "  'firstname': 'Office of the United Nations High Commissioner for Refugees '\n",
      "               '(UNHCR)'},\n",
      " {'_id': ObjectId('6706d88371ea025ecc351221'),\n",
      "  'firstname': 'Ligue des Sociétés de la Croix-Rouge (League of Red Cross '\n",
      "               'Societies)'},\n",
      " {'_id': ObjectId('6706d88371ea025ecc351222'),\n",
      "  'firstname': 'International Physicians for the Prevention of Nuclear War'},\n",
      " {'_id': ObjectId('6706d88371ea025ecc351235'), 'firstname': 'Grameen Bank'},\n",
      " {'_id': ObjectId('6706d88371ea025ecc351279'),\n",
      "  'firstname': 'National Dialogue Quartet'},\n",
      " {'_id': ObjectId('6706d88371ea025ecc351286'),\n",
      "  'firstname': 'International Campaign to Abolish Nuclear Weapons (ICAN)'},\n",
      " {'_id': ObjectId('6706d88371ea025ecc3512d9'),\n",
      "  'firstname': 'United Nations (U.N.)'},\n",
      " {'_id': ObjectId('6706d88371ea025ecc3512de'),\n",
      "  'firstname': 'Intergovernmental Panel on Climate Change (IPCC)'},\n",
      " {'_id': ObjectId('6706d88371ea025ecc3512f4'),\n",
      "  'firstname': 'European Union (EU)'},\n",
      " {'_id': ObjectId('6706d88371ea025ecc351300'),\n",
      "  'firstname': 'Organisation for the Prohibition of Chemical Weapons (OPCW)'}]\n"
     ]
    }
   ],
   "source": [
    "# use \"gender\":\"org\" to select organizations\n",
    "# organizations have no bornCountry, \n",
    "docs = db.laureates.find(filter={\"gender\": \"org\"},\n",
    "                         projection=[\"bornCountry\", \"firstname\"])\n",
    "pprint(list(docs))"
   ]
  },
  {
   "cell_type": "code",
   "execution_count": 9,
   "id": "1395d09b-c4e6-4fed-84ca-66cb40c4b79a",
   "metadata": {},
   "outputs": [
    {
     "name": "stdout",
     "output_type": "stream",
     "text": [
      "[{'_id': ObjectId('6706d88371ea025ecc350f6e')},\n",
      " {'_id': ObjectId('6706d88371ea025ecc350f6f')},\n",
      " {'_id': ObjectId('6706d88371ea025ecc350f70')},\n",
      " {'_id': ObjectId('6706d88371ea025ecc350f71')},\n",
      " {'_id': ObjectId('6706d88371ea025ecc350f72')}]\n"
     ]
    }
   ],
   "source": [
    "# only projected fields that exist are returned\n",
    "#  laureates does not have `favoriteIceCreamFlavor` field\n",
    "docs = db.laureates.find({}, [\"favoriteIceCreamFlavor\"])\n",
    "pprint(list(docs)[:5])"
   ]
  },
  {
   "cell_type": "markdown",
   "id": "418be5f9-eda6-4fa1-bea7-b2d2081e8d59",
   "metadata": {},
   "source": [
    "### Simple aggregation"
   ]
  },
  {
   "cell_type": "code",
   "execution_count": 10,
   "id": "aa9f418b-0627-4596-bdd6-3c34647fa69b",
   "metadata": {},
   "outputs": [
    {
     "name": "stdout",
     "output_type": "stream",
     "text": [
      "941\n"
     ]
    }
   ],
   "source": [
    "# wrong way\n",
    "docs = db.laureates.find({}, [\"prizes\"])\n",
    "n_prizes = 0\n",
    "for doc in docs:\n",
    "    # count the number of pizes in each doc\n",
    "    n_prizes += len(doc[\"prizes\"])\n",
    "print(n_prizes)"
   ]
  },
  {
   "cell_type": "code",
   "execution_count": 11,
   "id": "3b03bc8b-0939-47ee-a44a-576a389db79f",
   "metadata": {},
   "outputs": [
    {
     "data": {
      "text/plain": [
       "941"
      ]
     },
     "execution_count": 11,
     "metadata": {},
     "output_type": "execute_result"
    }
   ],
   "source": [
    "# using comprehension\n",
    "docs = db.laureates.find({}, [\"prizes\"])\n",
    "sum([len(doc[\"prizes\"]) for doc in docs])"
   ]
  },
  {
   "cell_type": "markdown",
   "id": "bd00eaa9-b40a-4e7d-915a-be97992a5c0b",
   "metadata": {},
   "source": [
    "### Excercises\n",
    "\n",
    "#### Shares of the 1903 Prize in Physics"
   ]
  },
  {
   "cell_type": "code",
   "execution_count": 12,
   "id": "eb447294-c2b2-4d2a-a9cb-ac9d1bb2284f",
   "metadata": {},
   "outputs": [
    {
     "name": "stdout",
     "output_type": "stream",
     "text": [
      "{'_id': ObjectId('6706d88371ea025ecc350fb0'),\n",
      " 'born': '1852-12-15',\n",
      " 'bornCity': 'Paris',\n",
      " 'bornCountry': 'France',\n",
      " 'bornCountryCode': 'FR',\n",
      " 'died': '1908-08-25',\n",
      " 'diedCountry': 'France',\n",
      " 'diedCountryCode': 'FR',\n",
      " 'firstname': 'Antoine Henri',\n",
      " 'gender': 'male',\n",
      " 'id': '4',\n",
      " 'prizes': [{'affiliations': [{'city': 'Paris',\n",
      "                               'country': 'France',\n",
      "                               'name': 'École Polytechnique'}],\n",
      "             'category': 'physics',\n",
      "             'motivation': '\"in recognition of the extraordinary services he '\n",
      "                           'has rendered by his discovery of spontaneous '\n",
      "                           'radioactivity\"',\n",
      "             'share': '2',\n",
      "             'year': '1903'}],\n",
      " 'surname': 'Becquerel'}\n"
     ]
    }
   ],
   "source": [
    "# You want to examine the laureates of the 1903 prize in physics \n",
    "# and how they split the prize. Here is a query without projection:\n",
    "pprint(db.laureates.find_one({\n",
    "    \"prizes\": {\n",
    "        \"$elemMatch\": {\n",
    "            \"category\": \"physics\", \n",
    "            \"year\": \"1903\"\n",
    "        }\n",
    "    }\n",
    "}))"
   ]
  },
  {
   "cell_type": "code",
   "execution_count": 13,
   "id": "f984b7f4-3de1-4931-8a0e-b51a2a29e244",
   "metadata": {},
   "outputs": [
    {
     "name": "stdout",
     "output_type": "stream",
     "text": [
      "[{'firstname': 'Antoine Henri',\n",
      "  'prizes': [{'share': '2'}],\n",
      "  'surname': 'Becquerel'},\n",
      " {'firstname': 'Pierre', 'prizes': [{'share': '4'}], 'surname': 'Curie'},\n",
      " {'firstname': 'Marie',\n",
      "  'prizes': [{'share': '4'}, {'share': '1'}],\n",
      "  'surname': 'Curie, née Sklodowska'}]\n"
     ]
    }
   ],
   "source": [
    "# Which projection(s) will fetch ONLY the laureates' \n",
    "# full names and prize share info? I encourage you to \n",
    "# experiment with the console and re-familiarize yourself \n",
    "# with the structure of laureate collection documents.\n",
    "pprint(list(db.laureates.find(\n",
    "    filter = {\n",
    "        \"prizes\": {\n",
    "            \"$elemMatch\": {\n",
    "                \"category\": \"physics\", \n",
    "                \"year\": \"1903\"\n",
    "            }\n",
    "        }\n",
    "    },\n",
    "    projection = {\n",
    "        'firstname': 1, \n",
    "        'surname': 1, \n",
    "        'prizes.share': 1,\n",
    "        '_id': 0\n",
    "    }\n",
    ")))"
   ]
  },
  {
   "cell_type": "code",
   "execution_count": 14,
   "id": "2b221fa8-863c-40c6-a11b-c8a1f7b0e0e5",
   "metadata": {},
   "outputs": [
    {
     "name": "stdout",
     "output_type": "stream",
     "text": [
      "[{'_id': ObjectId('6706d88371ea025ecc350fb0'),\n",
      "  'firstname': 'Antoine Henri',\n",
      "  'prizes': [{'share': '2'}],\n",
      "  'surname': 'Becquerel'},\n",
      " {'_id': ObjectId('6706d88371ea025ecc350fb1'),\n",
      "  'firstname': 'Pierre',\n",
      "  'prizes': [{'share': '4'}],\n",
      "  'surname': 'Curie'},\n",
      " {'_id': ObjectId('6706d88371ea025ecc350fb2'),\n",
      "  'firstname': 'Marie',\n",
      "  'prizes': [{'share': '4'}, {'share': '1'}],\n",
      "  'surname': 'Curie, née Sklodowska'}]\n"
     ]
    }
   ],
   "source": [
    "pprint(list(db.laureates.find(\n",
    "    filter = {\n",
    "        \"prizes\": {\n",
    "            \"$elemMatch\": {\n",
    "                \"category\": \"physics\", \n",
    "                \"year\": \"1903\"\n",
    "            }\n",
    "        }\n",
    "    },\n",
    "    projection = ['firstname', 'surname', 'prizes.share']\n",
    ")))"
   ]
  },
  {
   "cell_type": "markdown",
   "id": "ddba847f-bc72-4477-a714-799e6bc3ad81",
   "metadata": {},
   "source": [
    "#### Rounding up the G.S. crew"
   ]
  },
  {
   "cell_type": "code",
   "execution_count": 15,
   "id": "1df135e4-ea40-4aa3-a33b-528867b06b4d",
   "metadata": {},
   "outputs": [
    {
     "name": "stdout",
     "output_type": "stream",
     "text": [
      "{'_id': ObjectId('6706d88371ea025ecc35104b'),\n",
      " 'born': '1894-07-09',\n",
      " 'bornCity': 'Kronshtadt',\n",
      " 'bornCountry': 'Russian Empire (now Russia)',\n",
      " 'bornCountryCode': 'RU',\n",
      " 'died': '1984-04-08',\n",
      " 'diedCity': 'Moscow',\n",
      " 'diedCountry': 'USSR (now Russia)',\n",
      " 'diedCountryCode': 'RU',\n",
      " 'firstname': 'Pyotr Leonidovich',\n",
      " 'gender': 'male',\n",
      " 'id': '110',\n",
      " 'prizes': [{'affiliations': [{'city': 'Moscow',\n",
      "                               'country': 'USSR',\n",
      "                               'name': 'Academy of Sciences'}],\n",
      "             'category': 'physics',\n",
      "             'motivation': '\"for his basic inventions and discoveries in the '\n",
      "                           'area of low-temperature physics\"',\n",
      "             'share': '2',\n",
      "             'year': '1978'}],\n",
      " 'surname': 'Kapitsa'}\n"
     ]
    }
   ],
   "source": [
    "# Get documents where the field 'name' starts with \"Py\"\n",
    "pprint(db.laureates.find_one({\"firstname\": {\"$regex\": \"^Py\"}}))"
   ]
  },
  {
   "cell_type": "code",
   "execution_count": 16,
   "id": "4641c0ad-f38b-49e0-83ae-28858d06d5f4",
   "metadata": {},
   "outputs": [
    {
     "name": "stdout",
     "output_type": "stream",
     "text": [
      "{'_id': ObjectId('6706d88371ea025ecc35108b'),\n",
      " 'born': '1903-12-19',\n",
      " 'bornCity': 'Bradford, MA',\n",
      " 'bornCountry': 'USA',\n",
      " 'bornCountryCode': 'US',\n",
      " 'died': '1996-06-06',\n",
      " 'diedCity': 'Bar Harbor, ME',\n",
      " 'diedCountry': 'USA',\n",
      " 'diedCountryCode': 'US',\n",
      " 'firstname': 'George D.',\n",
      " 'gender': 'male',\n",
      " 'id': '421',\n",
      " 'prizes': [{'affiliations': [{'city': 'Bar Harbor, ME',\n",
      "                               'country': 'USA',\n",
      "                               'name': 'Jackson Laboratory'}],\n",
      "             'category': 'medicine',\n",
      "             'motivation': '\"for their discoveries concerning genetically '\n",
      "                           'determined structures on the cell surface that '\n",
      "                           'regulate immunological reactions\"',\n",
      "             'share': '3',\n",
      "             'year': '1980'}],\n",
      " 'surname': 'Snell'}\n"
     ]
    }
   ],
   "source": [
    "# Find laureates whose first name starts with \"G\" and last name starts with \"S\"\n",
    "docs = db.laureates.find(\n",
    "       filter= {\"firstname\" : {\"$regex\" : \"^G\"},\n",
    "                \"surname\" : {\"$regex\" : \"^S\"}  })\n",
    "pprint(docs[0])"
   ]
  },
  {
   "cell_type": "code",
   "execution_count": 17,
   "id": "4e588fbf-ebd7-419a-b9a4-5579acc533dc",
   "metadata": {},
   "outputs": [
    {
     "name": "stdout",
     "output_type": "stream",
     "text": [
      "{'_id': ObjectId('6706d88371ea025ecc35108b'),\n",
      " 'born': '1903-12-19',\n",
      " 'bornCity': 'Bradford, MA',\n",
      " 'bornCountry': 'USA',\n",
      " 'bornCountryCode': 'US',\n",
      " 'died': '1996-06-06',\n",
      " 'diedCity': 'Bar Harbor, ME',\n",
      " 'diedCountry': 'USA',\n",
      " 'diedCountryCode': 'US',\n",
      " 'firstname': 'George D.',\n",
      " 'gender': 'male',\n",
      " 'id': '421',\n",
      " 'prizes': [{'affiliations': [{'city': 'Bar Harbor, ME',\n",
      "                               'country': 'USA',\n",
      "                               'name': 'Jackson Laboratory'}],\n",
      "             'category': 'medicine',\n",
      "             'motivation': '\"for their discoveries concerning genetically '\n",
      "                           'determined structures on the cell surface that '\n",
      "                           'regulate immunological reactions\"',\n",
      "             'share': '3',\n",
      "             'year': '1980'}],\n",
      " 'surname': 'Snell'}\n"
     ]
    }
   ],
   "source": [
    "docs = db.laureates.find(\n",
    "       filter= {\"firstname\" : Regex(\"^G\"),\n",
    "                \"surname\" : Regex(\"^S\")})\n",
    "pprint(docs[0])"
   ]
  },
  {
   "cell_type": "code",
   "execution_count": 18,
   "id": "032808fc-3d21-44f2-8aa6-c2f13f391c9d",
   "metadata": {},
   "outputs": [
    {
     "name": "stdout",
     "output_type": "stream",
     "text": [
      "{'firstname': 'George D.', 'surname': 'Snell'}\n"
     ]
    }
   ],
   "source": [
    "# Find laureates whose first name starts with \"G\" and last name starts with \"S\"\n",
    "# and return only the \"firstname\" and \"surname\" fields.\n",
    "docs = db.laureates.find(\n",
    "    filter = {\"firstname\" : {\"$regex\" : \"^G\"},\n",
    "              \"surname\" : {\"$regex\" : \"^S\"}  },\n",
    "\tprojection = {\"firstname\" : 1,\n",
    "                  \"surname\" : 1,\n",
    "                  \"_id\" : 0 })\n",
    "pprint(docs[0])"
   ]
  },
  {
   "cell_type": "code",
   "execution_count": 19,
   "id": "3b579566-41a4-4dea-aa4a-d0d9cc4e5483",
   "metadata": {},
   "outputs": [
    {
     "name": "stdout",
     "output_type": "stream",
     "text": [
      "['George D. Snell',\n",
      " 'Gustav Stresemann',\n",
      " 'Glenn Theodore Seaborg',\n",
      " 'George J. Stigler',\n",
      " 'George F. Smoot',\n",
      " 'George E. Smith',\n",
      " 'George P. Smith',\n",
      " 'George Bernard Shaw',\n",
      " 'Giorgos Seferis']\n"
     ]
    }
   ],
   "source": [
    "# Find laureates whose first name starts with \"G\" and last name starts with \"S\"\n",
    "# and return only the \"firstname\" and \"surname\" fields.\n",
    "# Iterate over the documents, and for each document, concatenate the first name \n",
    "# and the surname fields together with a space in between to obtain full names.\n",
    "# Use projection to select only firstname and surname\n",
    "# This not works!\n",
    "docs = db.laureates.find(\n",
    "    filter = {\"firstname\" : {\"$regex\" : \"^G\"},\n",
    "              \"surname\" : {\"$regex\" : \"^S\"}  },\n",
    "\tprojection = {\"firstname\" : 1,\n",
    "                  \"surname\" : 1,\n",
    "                  \"_id\" : 0 })\n",
    "full_names = [doc[\"firstname\"] + \" \" + doc[\"surname\"]  for doc in docs]\n",
    "pprint(full_names)"
   ]
  },
  {
   "cell_type": "markdown",
   "id": "0b68144b-1d95-4fb3-84c0-5c3c26ac6c0d",
   "metadata": {},
   "source": [
    "#### Doing our share of data validation"
   ]
  },
  {
   "cell_type": "code",
   "execution_count": 20,
   "id": "357c607c-386f-426a-ab30-4b4463551e3e",
   "metadata": {},
   "outputs": [
    {
     "name": "stdout",
     "output_type": "stream",
     "text": [
      "{'_id': ObjectId('6706d88371ea025ecc350d20'),\n",
      " 'category': 'physics',\n",
      " 'laureates': [{'firstname': 'Arthur',\n",
      "                'id': '960',\n",
      "                'motivation': '\"for the optical tweezers and their application '\n",
      "                              'to biological systems\"',\n",
      "                'share': '2',\n",
      "                'surname': 'Ashkin'},\n",
      "               {'firstname': 'Gérard',\n",
      "                'id': '961',\n",
      "                'motivation': '\"for their method of generating high-intensity, '\n",
      "                              'ultra-short optical pulses\"',\n",
      "                'share': '4',\n",
      "                'surname': 'Mourou'},\n",
      "               {'firstname': 'Donna',\n",
      "                'id': '962',\n",
      "                'motivation': '\"for their method of generating high-intensity, '\n",
      "                              'ultra-short optical pulses\"',\n",
      "                'share': '4',\n",
      "                'surname': 'Strickland'}],\n",
      " 'overallMotivation': '“for groundbreaking inventions in the field of laser '\n",
      "                      'physics”',\n",
      " 'year': '2018'}\n"
     ]
    }
   ],
   "source": [
    "# Reviewing the data\n",
    "pprint(db.prizes.find_one({}))"
   ]
  },
  {
   "cell_type": "code",
   "execution_count": 21,
   "id": "0990fed0-6f4c-4c73-b3df-f671d8758a0a",
   "metadata": {},
   "outputs": [
    {
     "name": "stdout",
     "output_type": "stream",
     "text": [
      "All documents pass the validation check!\n"
     ]
    }
   ],
   "source": [
    "# check that for each prize, all the shares of all the laureates add up to 1!\n",
    "\n",
    "prizes = db.prizes.find({}, [\"laureates.share\"])\n",
    "for prize in prizes:\n",
    "    total_share = 0\n",
    "    for laureate in prize[\"laureates\"]:\n",
    "        total_share += 1 / float(laureate['share'])\n",
    "    if total_share != 1:\n",
    "        raise Exception('Wrong Data!')\n",
    "print('All documents pass the validation check!')"
   ]
  },
  {
   "cell_type": "markdown",
   "id": "e3f89a62-6bd2-4a58-85ec-971691799b03",
   "metadata": {},
   "source": [
    "## 3.2 Sorting\n",
    "\n",
    "### Sorting post-query with Python"
   ]
  },
  {
   "cell_type": "code",
   "execution_count": 22,
   "id": "e7814fc9-7baa-4c36-9d59-394904ffb16c",
   "metadata": {},
   "outputs": [
    {
     "name": "stdout",
     "output_type": "stream",
     "text": [
      "['2018', '2015', '2014', '2012', '2011']\n"
     ]
    }
   ],
   "source": [
    "docs= list(db.prizes.find({\"category\": \"physics\"}, [\"year\"]))\n",
    "pprint([doc[\"year\"] for doc in docs][:5])"
   ]
  },
  {
   "cell_type": "code",
   "execution_count": 23,
   "id": "f61a4c02-1dbd-42bd-b4f8-eda94351a1ba",
   "metadata": {},
   "outputs": [
    {
     "name": "stdout",
     "output_type": "stream",
     "text": [
      "['1901', '1902', '1903', '1904', '1905']\n"
     ]
    }
   ],
   "source": [
    "docs = sorted(docs, key=itemgetter(\"year\"))\n",
    "pprint([doc[\"year\"] for doc in docs][:5])"
   ]
  },
  {
   "cell_type": "code",
   "execution_count": 24,
   "id": "9741d83f-b6ce-4c81-b20b-3afb2a3a9ed3",
   "metadata": {},
   "outputs": [
    {
     "name": "stdout",
     "output_type": "stream",
     "text": [
      "['2018', '2017', '2016', '2015', '2014']\n"
     ]
    }
   ],
   "source": [
    "docs = sorted(docs, key=itemgetter(\"year\"), reverse=True)\n",
    "pprint([doc[\"year\"] for doc in docs][:5])"
   ]
  },
  {
   "cell_type": "markdown",
   "id": "858ecc9c-0f0c-403f-a38b-e16fd36dc871",
   "metadata": {},
   "source": [
    "### Sorting in-query with MongoDB"
   ]
  },
  {
   "cell_type": "code",
   "execution_count": 25,
   "id": "400a2715-da84-4d06-a609-a8683b1d7ec9",
   "metadata": {},
   "outputs": [
    {
     "name": "stdout",
     "output_type": "stream",
     "text": [
      "['1901', '1902', '1903', '1904', '1905']\n"
     ]
    }
   ],
   "source": [
    "cursor = db.prizes.find({\"category\": \"physics\"}, [\"year\"],\n",
    "                        sort={\"year\": 1})\n",
    "print([doc[\"year\"] for doc in cursor][:5])"
   ]
  },
  {
   "cell_type": "code",
   "execution_count": 26,
   "id": "c88b4fe1-2c40-4744-b00f-116b27399ffc",
   "metadata": {},
   "outputs": [
    {
     "name": "stdout",
     "output_type": "stream",
     "text": [
      "['2018', '2017', '2016', '2015', '2014']\n"
     ]
    }
   ],
   "source": [
    "cursor = db.prizes.find({\"category\": \"physics\"}, [\"year\"],\n",
    "                        sort=[(\"year\", -1)])\n",
    "print([doc[\"year\"] for doc in cursor][:5])"
   ]
  },
  {
   "cell_type": "markdown",
   "id": "cf1cc496-5a67-42ac-913c-b57299d5a334",
   "metadata": {},
   "source": [
    "### Primary and secondary sorting"
   ]
  },
  {
   "cell_type": "code",
   "execution_count": 27,
   "id": "98e11962-6e4e-47a4-aa35-baa69bdb1b8c",
   "metadata": {},
   "outputs": [
    {
     "name": "stdout",
     "output_type": "stream",
     "text": [
      "1967 physics\n",
      "1967 medicine\n",
      "1967 literature\n",
      "1967 chemistry\n",
      "1968 physics\n",
      "1968 peace\n",
      "1968 medicine\n",
      "1968 literature\n",
      "1968 chemistry\n",
      "1969 physics\n",
      "1969 peace\n",
      "1969 medicine\n",
      "1969 literature\n",
      "1969 economics\n",
      "1969 chemistry\n"
     ]
    }
   ],
   "source": [
    "for doc in db.prizes.find(\n",
    "    filter={\"year\": {\"$gt\": \"1966\", \"$lt\": \"1970\"}},\n",
    "    projection=[\"category\", \"year\"],\n",
    "    sort=[(\"year\", 1), (\"category\", -1)]\n",
    "):\n",
    "    print(\"{year} {category}\".format(**doc))"
   ]
  },
  {
   "cell_type": "markdown",
   "id": "8aa1c32d-535b-4af7-8e94-b8e848add379",
   "metadata": {},
   "source": [
    "### Excercises\n",
    "\n",
    "#### What the sort?"
   ]
  },
  {
   "cell_type": "code",
   "execution_count": 28,
   "id": "79dab652-7333-4af8-b443-8dbe31547dfd",
   "metadata": {},
   "outputs": [
    {
     "name": "stdout",
     "output_type": "stream",
     "text": [
      "{'born': '1916-08-25', 'prizes': [{'year': '1954'}]}\n",
      "{'born': '1915-06-15', 'prizes': [{'year': '1954'}]}\n",
      "{'born': '1901-02-28', 'prizes': [{'year': '1954'}, {'year': '1962'}]}\n",
      "{'born': '1913-07-12', 'prizes': [{'year': '1955'}]}\n",
      "{'born': '1911-01-26', 'prizes': [{'year': '1955'}]}\n"
     ]
    }
   ],
   "source": [
    "# This block prints out the first five projections of a sorted query.\n",
    "docs = list(db.laureates.find(\n",
    "    filter={\"born\": {\"$gte\": \"1900\"}, \"prizes.year\": {\"$gte\": \"1954\"}},\n",
    "    projection={\"born\": 1, \"prizes.year\": 1, \"_id\": 0},\n",
    "    sort=[(\"prizes.year\", 1), (\"born\", -1)])    # This `{\"prizes.year\": 1, \"born\": -1}`\n",
    "                                                # does not work because dictionaries \n",
    "                                                # are not ordered in Python, so this \n",
    "                                                # will not ensure that 'prizes.year' \n",
    "                                                # gets ordered before 'born'.\n",
    ")\n",
    "for doc in docs[:5]:\n",
    "    print(doc)"
   ]
  },
  {
   "cell_type": "markdown",
   "id": "41b3c3f1-9b35-4058-968e-95af6e367cb0",
   "metadata": {},
   "source": [
    "#### What happens if key is missing in some records"
   ]
  },
  {
   "cell_type": "code",
   "execution_count": 29,
   "id": "3db3dd95-cd4b-457f-8583-7d25e065ccae",
   "metadata": {},
   "outputs": [
    {
     "name": "stdout",
     "output_type": "stream",
     "text": [
      "\u001b[1;31m---------------------------------------------------------------------------\u001b[0m\n",
      "\u001b[1;31mKeyError\u001b[0m                                  Traceback (most recent call last)\n",
      "Cell \u001b[1;32mIn[29], line 2\u001b[0m\n",
      "\u001b[0;32m      1\u001b[0m \u001b[38;5;66;03m# Sorting laureates by \"surname\"\u001b[39;00m\n",
      "\u001b[1;32m----> 2\u001b[0m sorted_laureates \u001b[38;5;241m=\u001b[39m \u001b[38;5;28;43msorted\u001b[39;49m\u001b[43m(\u001b[49m\u001b[38;5;28;43mlist\u001b[39;49m\u001b[43m(\u001b[49m\u001b[43mdb\u001b[49m\u001b[38;5;241;43m.\u001b[39;49m\u001b[43mlaureates\u001b[49m\u001b[38;5;241;43m.\u001b[39;49m\u001b[43mfind\u001b[49m\u001b[43m(\u001b[49m\u001b[38;5;28;43mfilter\u001b[39;49m\u001b[38;5;241;43m=\u001b[39;49m\u001b[43m{\u001b[49m\u001b[43m}\u001b[49m\u001b[43m)\u001b[49m\u001b[43m)\u001b[49m\u001b[43m,\u001b[49m\u001b[43m \u001b[49m\n",
      "\u001b[0;32m      3\u001b[0m \u001b[43m                          \u001b[49m\u001b[43mkey\u001b[49m\u001b[38;5;241;43m=\u001b[39;49m\u001b[43mitemgetter\u001b[49m\u001b[43m(\u001b[49m\u001b[38;5;124;43m\"\u001b[39;49m\u001b[38;5;124;43msurname\u001b[39;49m\u001b[38;5;124;43m\"\u001b[39;49m\u001b[43m)\u001b[49m\u001b[43m)\u001b[49m\n",
      "\n",
      "\u001b[1;31mKeyError\u001b[0m: 'surname'\n"
     ]
    }
   ],
   "source": [
    "%%expect_exception KeyError\n",
    "\n",
    "# Sorting laureates by \"surname\"\n",
    "sorted_laureates = sorted(list(db.laureates.find(filter={})), \n",
    "                          key=itemgetter(\"surname\"))"
   ]
  },
  {
   "cell_type": "code",
   "execution_count": 30,
   "id": "df031577-5088-4416-a1ed-88cd28b7e561",
   "metadata": {},
   "outputs": [
    {
     "data": {
      "text/plain": [
       "34"
      ]
     },
     "execution_count": 30,
     "metadata": {},
     "output_type": "execute_result"
    }
   ],
   "source": [
    "# We have 34 documents without surname\n",
    "db.laureates.count_documents(filter={\"surname\": {\"$exists\": False}})"
   ]
  },
  {
   "cell_type": "code",
   "execution_count": 31,
   "id": "1aa052cc-e334-4248-ad18-83e0a7b5e96b",
   "metadata": {},
   "outputs": [
    {
     "name": "stdout",
     "output_type": "stream",
     "text": [
      "[\"'t Hooft\",\n",
      " '(John William Strutt)',\n",
      " '(Lord Edgar Algernon Robert Gascoyne Cecil)',\n",
      " 'Abrikosov',\n",
      " 'Addams']\n"
     ]
    }
   ],
   "source": [
    "# So we need to exclude them and then sort by \"surname\"\n",
    "sorted_laureates = sorted(\n",
    "    list(db.laureates.find(filter={\"surname\": {\"$exists\": True}})), \n",
    "    key=itemgetter(\"surname\")\n",
    ")\n",
    "pprint([doc['surname'] for doc in sorted_laureates[:5]])"
   ]
  },
  {
   "cell_type": "markdown",
   "id": "762d6723-3579-411a-a107-82f4a95fbedf",
   "metadata": {},
   "source": [
    "#### Sorting together: MongoDB + Python"
   ]
  },
  {
   "cell_type": "code",
   "execution_count": 32,
   "id": "675b2288-1c69-470f-b223-8cef5b40e1b2",
   "metadata": {},
   "outputs": [
    {
     "name": "stdout",
     "output_type": "stream",
     "text": [
      "1901: Röntgen\n",
      "1902: Lorentz and Zeeman\n",
      "1903: Becquerel and Curie and Curie, née Sklodowska\n",
      "1904: (John William Strutt)\n",
      "1905: von Lenard\n",
      "1906: Thomson\n",
      "1907: Michelson\n",
      "1908: Lippmann\n",
      "1909: Braun and Marconi\n",
      "1910: van der Waals\n",
      "--------------------\n",
      "{'_id': ObjectId('6706d88371ea025ecc350f55'),\n",
      " 'laureates': [{'firstname': 'Johannes Diderik', 'surname': 'van der Waals'}],\n",
      " 'year': '1910'}\n"
     ]
    }
   ],
   "source": [
    "# Sorting together: MongoDB + Python\n",
    "# In this exercise you'll explore the prizes in the physics category.\n",
    "# We will use Python to sort laureates for one prize by last name, \n",
    "# and then MongoDB to sort prizes by year\n",
    "# sort the laureates by surname\n",
    "\n",
    "def all_laureates(prize):  \n",
    "    # sort the laureates by surname\n",
    "    sorted_laureates = sorted(prize[\"laureates\"], key=itemgetter(\"surname\"))\n",
    "    # extract surnames\n",
    "    surnames = [laureate[\"surname\"] for laureate in sorted_laureates]\n",
    "    # concatenate surnames separated with \" and \" \n",
    "    all_names = \" and \".join(surnames)    \n",
    "    return all_names\n",
    "\n",
    "# find physics prizes, project year and name, and sort by year\n",
    "docs = db.prizes.find(\n",
    "           filter= {\"category\": \"physics\"}, \n",
    "           projection= [\"year\", \"laureates.firstname\", \"laureates.surname\"], \n",
    "           sort= [(\"year\", 1)])\n",
    "\n",
    "# print the year and laureate names (from all_laureates)\n",
    "for doc in docs[:10]:\n",
    "  print(\"{year}: {names}\".format(year=doc[\"year\"], names=all_laureates(doc)))\n",
    "\n",
    "# Take a look on a doc as sample\n",
    "print('--------------------')\n",
    "pprint(doc)"
   ]
  },
  {
   "cell_type": "code",
   "execution_count": 33,
   "id": "a7020947-6fd1-4f26-a4b0-2fa4af750e20",
   "metadata": {},
   "outputs": [
    {
     "data": {
      "text/plain": [
       "{'_id': ObjectId('6706d88371ea025ecc350d20'),\n",
       " 'year': '2018',\n",
       " 'category': 'physics',\n",
       " 'overallMotivation': '“for groundbreaking inventions in the field of laser physics”',\n",
       " 'laureates': [{'id': '960',\n",
       "   'firstname': 'Arthur',\n",
       "   'surname': 'Ashkin',\n",
       "   'motivation': '\"for the optical tweezers and their application to biological systems\"',\n",
       "   'share': '2'},\n",
       "  {'id': '961',\n",
       "   'firstname': 'Gérard',\n",
       "   'surname': 'Mourou',\n",
       "   'motivation': '\"for their method of generating high-intensity, ultra-short optical pulses\"',\n",
       "   'share': '4'},\n",
       "  {'id': '962',\n",
       "   'firstname': 'Donna',\n",
       "   'surname': 'Strickland',\n",
       "   'motivation': '\"for their method of generating high-intensity, ultra-short optical pulses\"',\n",
       "   'share': '4'}]}"
      ]
     },
     "execution_count": 33,
     "metadata": {},
     "output_type": "execute_result"
    }
   ],
   "source": [
    "db.prizes.find_one({})"
   ]
  },
  {
   "cell_type": "markdown",
   "id": "c1c1d44a-b809-484e-81fc-e1cda1357229",
   "metadata": {},
   "source": [
    "#### Gap years"
   ]
  },
  {
   "cell_type": "code",
   "execution_count": 34,
   "id": "dc13c988-10c0-4a73-9185-9a34ef15b6c0",
   "metadata": {},
   "outputs": [
    {
     "name": "stdout",
     "output_type": "stream",
     "text": [
      "Original categories: ['chemistry', 'literature', 'medicine', 'peace', 'physics']\n",
      "\n",
      "{'2015': ['chemistry', 'economics', 'literature'],\n",
      " '2016': ['chemistry',\n",
      "          'economics',\n",
      "          'literature',\n",
      "          'medicine',\n",
      "          'peace',\n",
      "          'physics'],\n",
      " '2017': ['chemistry',\n",
      "          'economics',\n",
      "          'literature',\n",
      "          'medicine',\n",
      "          'peace',\n",
      "          'physics'],\n",
      " '2018': ['chemistry', 'economics', 'medicine', 'peace', 'physics']}\n"
     ]
    }
   ],
   "source": [
    "# In this exercise, you will utilize sorting by multiple \n",
    "# fields to see which categories are missing in which years.\n",
    "# original categories from 1901\n",
    "original_categories = db.prizes.distinct('category', {'year': '1901'})\n",
    "print(f'Original categories: {original_categories}\\n')\n",
    "\n",
    "# project year and category, and sort\n",
    "docs = db.prizes.find(\n",
    "    filter={},\n",
    "    projection = {'year': 1, 'category': 1, '_id': 0},\n",
    "    sort=[('year', -1), ('category', 1)]\n",
    ")\n",
    "\n",
    "#print the documents\n",
    "year_category = {}\n",
    "for doc in docs[:20]:\n",
    "    if doc['year'] in year_category:\n",
    "        year_category[doc['year']].append(doc['category'])\n",
    "    else:\n",
    "        year_category[doc['year']] = [doc['category']]\n",
    "pprint(year_category)"
   ]
  },
  {
   "cell_type": "markdown",
   "id": "1bf74cf3-ac25-44e2-b75e-c463a34d2bd8",
   "metadata": {},
   "source": [
    "## 3.3 What are indexes\n",
    "\n",
    "### Gauging performance before indexing"
   ]
  },
  {
   "cell_type": "code",
   "execution_count": 35,
   "id": "f27109e4-58e7-4932-b572-023c64a57733",
   "metadata": {},
   "outputs": [
    {
     "name": "stdout",
     "output_type": "stream",
     "text": [
      "443 μs ± 17.1 μs per loop (mean ± std. dev. of 7 runs, 1,000 loops each)\n"
     ]
    }
   ],
   "source": [
    "%%timeit\n",
    "docs = list(db.prizes.find({\"year\": \"1901\"}))"
   ]
  },
  {
   "cell_type": "code",
   "execution_count": 36,
   "id": "982021cb-6c36-4ebe-9d08-ee62696b25b9",
   "metadata": {},
   "outputs": [
    {
     "name": "stdout",
     "output_type": "stream",
     "text": [
      "2.36 ms ± 34.3 μs per loop (mean ± std. dev. of 7 runs, 100 loops each)\n"
     ]
    }
   ],
   "source": [
    "%%timeit\n",
    "docs = list(db.prizes.find({}, sort=[(\"year\", 1)]))"
   ]
  },
  {
   "cell_type": "markdown",
   "id": "e472cd10-5489-44f8-80e4-7303a4399496",
   "metadata": {},
   "source": [
    "### Adding a single-field index"
   ]
  },
  {
   "cell_type": "code",
   "execution_count": 37,
   "id": "61793e4f-7e11-4159-a60b-bc742d59c584",
   "metadata": {},
   "outputs": [
    {
     "data": {
      "text/plain": [
       "'year_1'"
      ]
     },
     "execution_count": 37,
     "metadata": {},
     "output_type": "execute_result"
    }
   ],
   "source": [
    "# index model: list of (field, direction) pairs.\n",
    "# directions: 1 (ascending) and -1 (descending)\n",
    "db.prizes.create_index([(\"year\", 1)])"
   ]
  },
  {
   "cell_type": "code",
   "execution_count": 38,
   "id": "61c2dfe8-914d-441b-9124-16d350bb3177",
   "metadata": {},
   "outputs": [
    {
     "name": "stdout",
     "output_type": "stream",
     "text": [
      "267 μs ± 13.7 μs per loop (mean ± std. dev. of 7 runs, 1,000 loops each)\n"
     ]
    }
   ],
   "source": [
    "%%timeit\n",
    "# Previously: 443 μs ± 17.1 μs\n",
    "docs = list(db.prizes.find({\"year\": \"1901\"}))"
   ]
  },
  {
   "cell_type": "code",
   "execution_count": 39,
   "id": "558dfef1-9d5f-47a2-a7ba-742dfcd07854",
   "metadata": {},
   "outputs": [
    {
     "name": "stdout",
     "output_type": "stream",
     "text": [
      "2.79 ms ± 144 μs per loop (mean ± std. dev. of 7 runs, 100 loops each)\n"
     ]
    }
   ],
   "source": [
    "%%timeit\n",
    "# Previously: 2.36 ms ± 34.3 μs\n",
    "docs = list(db.prizes.find({}, sort=[(\"year\", 1)]))"
   ]
  },
  {
   "cell_type": "markdown",
   "id": "bc747fb1-156f-4509-a06c-3d82e2fb6547",
   "metadata": {},
   "source": [
    "### Adding a compound (multiple-field) index"
   ]
  },
  {
   "cell_type": "code",
   "execution_count": 47,
   "id": "49debfca-6982-480d-b257-39606b89ef2b",
   "metadata": {},
   "outputs": [
    {
     "name": "stdout",
     "output_type": "stream",
     "text": [
      "549 μs ± 5.78 μs per loop (mean ± std. dev. of 7 runs, 1,000 loops each)\n"
     ]
    }
   ],
   "source": [
    "%%timeit\n",
    "docs = list(db.prizes.find(\n",
    "    filter={\"category\": \"economics\"},\n",
    "    projection={\"year\": 1, \"_id\": 0}\n",
    "))"
   ]
  },
  {
   "cell_type": "code",
   "execution_count": 48,
   "id": "63157a71-be57-4400-910e-813078fd17db",
   "metadata": {},
   "outputs": [
    {
     "name": "stdout",
     "output_type": "stream",
     "text": [
      "613 μs ± 29.5 μs per loop (mean ± std. dev. of 7 runs, 1,000 loops each)\n"
     ]
    }
   ],
   "source": [
    "%%timeit\n",
    "doc = db.prizes.find_one(\n",
    "    filter={\"category\": \"economics\"},\n",
    "    projection={\"year\": 1, \"_id\": 0},\n",
    "    sort=[(\"year\", 1)]\n",
    ")"
   ]
  },
  {
   "cell_type": "code",
   "execution_count": 49,
   "id": "d1fc1728-09d6-4565-885e-c7d5a8fc0f63",
   "metadata": {},
   "outputs": [
    {
     "data": {
      "text/plain": [
       "'category_1_year_1'"
      ]
     },
     "execution_count": 49,
     "metadata": {},
     "output_type": "execute_result"
    }
   ],
   "source": [
    "# creating the compound index\n",
    "db.prizes.create_index([(\"category\", 1), (\"year\", 1)])\n",
    "# db.prizes.drop_index('category_1_year_1')   # To drop it"
   ]
  },
  {
   "cell_type": "code",
   "execution_count": 50,
   "id": "6c35b21b-2b1d-4d2e-b926-4ba8b164ea23",
   "metadata": {},
   "outputs": [
    {
     "name": "stdout",
     "output_type": "stream",
     "text": [
      "316 μs ± 31.1 μs per loop (mean ± std. dev. of 7 runs, 1,000 loops each)\n"
     ]
    }
   ],
   "source": [
    "%%timeit\n",
    "\n",
    "# index \"covering\" a query with projection\n",
    "# before: 549 μs ± 5.78 μs\n",
    "docs = list(db.prizes.find(\n",
    "    filter={\"category\": \"economics\"},\n",
    "    projection={\"year\": 1, \"_id\": 0}\n",
    "))"
   ]
  },
  {
   "cell_type": "code",
   "execution_count": 51,
   "id": "63b7531c-90da-4c59-b416-b69a1ebd62fb",
   "metadata": {},
   "outputs": [
    {
     "name": "stdout",
     "output_type": "stream",
     "text": [
      "258 μs ± 18.1 μs per loop (mean ± std. dev. of 7 runs, 1,000 loops each)\n"
     ]
    }
   ],
   "source": [
    "%%timeit\n",
    "\n",
    "# index \"covering\" a query with projection and sorting\n",
    "# before: 613 μs ± 29.5 μs\n",
    "doc = db.prizes.find_one(\n",
    "    filter={\"category\": \"economics\"},\n",
    "    projection={\"year\": 1, \"_id\": 0},\n",
    "    sort=[(\"year\", 1)]\n",
    ")"
   ]
  },
  {
   "cell_type": "markdown",
   "id": "4dd4b8b3-551b-40a0-9703-0957503733e9",
   "metadata": {},
   "source": [
    "### Learn more: ask your collection and your queries"
   ]
  },
  {
   "cell_type": "code",
   "execution_count": 54,
   "id": "5177f374-a1a4-45cc-9e90-32ad9f58d4b7",
   "metadata": {},
   "outputs": [
    {
     "data": {
      "text/plain": [
       "{'_id_': {'v': 2, 'key': [('_id', 1)]}}"
      ]
     },
     "execution_count": 54,
     "metadata": {},
     "output_type": "execute_result"
    }
   ],
   "source": [
    "# This helps confirm which indexes exist for a collection.\n",
    "db.laureates.index_information() # always an index on \"_id\" field"
   ]
  },
  {
   "cell_type": "code",
   "execution_count": 56,
   "id": "3c5863b3-f4dc-46ca-953c-37f194705ecb",
   "metadata": {},
   "outputs": [
    {
     "data": {
      "text/plain": [
       "{'_id_': {'v': 2, 'key': [('_id', 1)]},\n",
       " 'year_1': {'v': 2, 'key': [('year', 1)]},\n",
       " 'category_1_year_1': {'v': 2, 'key': [('category', 1), ('year', 1)]}}"
      ]
     },
     "execution_count": 56,
     "metadata": {},
     "output_type": "execute_result"
    }
   ],
   "source": [
    "db.prizes.index_information()"
   ]
  },
  {
   "cell_type": "code",
   "execution_count": 57,
   "id": "fccece59-b765-495c-b691-223d85e7a3e1",
   "metadata": {},
   "outputs": [
    {
     "data": {
      "text/plain": [
       "{'explainVersion': '1',\n",
       " 'queryPlanner': {'namespace': 'nobel.laureates',\n",
       "  'parsedQuery': {'firstname': {'$eq': 'Marie'}},\n",
       "  'indexFilterSet': False,\n",
       "  'queryHash': '67081E99',\n",
       "  'planCacheKey': '7FD1D01D',\n",
       "  'optimizationTimeMillis': 0,\n",
       "  'maxIndexedOrSolutionsReached': False,\n",
       "  'maxIndexedAndSolutionsReached': False,\n",
       "  'maxScansToExplodeReached': False,\n",
       "  'prunedSimilarIndexes': False,\n",
       "  'winningPlan': {'isCached': False,\n",
       "   'stage': 'PROJECTION_SIMPLE',\n",
       "   'transformBy': {'bornCountry': 1, '_id': 0},\n",
       "   'inputStage': {'stage': 'COLLSCAN',\n",
       "    'filter': {'firstname': {'$eq': 'Marie'}},\n",
       "    'direction': 'forward'}},\n",
       "  'rejectedPlans': []},\n",
       " 'executionStats': {'executionSuccess': True,\n",
       "  'nReturned': 1,\n",
       "  'executionTimeMillis': 1,\n",
       "  'totalKeysExamined': 0,\n",
       "  'totalDocsExamined': 934,\n",
       "  'executionStages': {'isCached': False,\n",
       "   'stage': 'PROJECTION_SIMPLE',\n",
       "   'nReturned': 1,\n",
       "   'executionTimeMillisEstimate': 0,\n",
       "   'works': 935,\n",
       "   'advanced': 1,\n",
       "   'needTime': 933,\n",
       "   'needYield': 0,\n",
       "   'saveState': 0,\n",
       "   'restoreState': 0,\n",
       "   'isEOF': 1,\n",
       "   'transformBy': {'bornCountry': 1, '_id': 0},\n",
       "   'inputStage': {'stage': 'COLLSCAN',\n",
       "    'filter': {'firstname': {'$eq': 'Marie'}},\n",
       "    'nReturned': 1,\n",
       "    'executionTimeMillisEstimate': 0,\n",
       "    'works': 935,\n",
       "    'advanced': 1,\n",
       "    'needTime': 933,\n",
       "    'needYield': 0,\n",
       "    'saveState': 0,\n",
       "    'restoreState': 0,\n",
       "    'isEOF': 1,\n",
       "    'direction': 'forward',\n",
       "    'docsExamined': 934}},\n",
       "  'allPlansExecution': []},\n",
       " 'command': {'find': 'laureates',\n",
       "  'filter': {'firstname': 'Marie'},\n",
       "  'projection': {'bornCountry': 1, '_id': 0},\n",
       "  '$db': 'nobel'},\n",
       " 'serverInfo': {'host': 'LPTACRNTR5',\n",
       "  'port': 27017,\n",
       "  'version': '8.0.1',\n",
       "  'gitVersion': 'fcbe67d668fff5a370e2d87b9b1f74bc11bb7b94'},\n",
       " 'serverParameters': {'internalQueryFacetBufferSizeBytes': 104857600,\n",
       "  'internalQueryFacetMaxOutputDocSizeBytes': 104857600,\n",
       "  'internalLookupStageIntermediateDocumentMaxSizeBytes': 104857600,\n",
       "  'internalDocumentSourceGroupMaxMemoryBytes': 104857600,\n",
       "  'internalQueryMaxBlockingSortMemoryUsageBytes': 104857600,\n",
       "  'internalQueryProhibitBlockingMergeOnMongoS': 0,\n",
       "  'internalQueryMaxAddToSetBytes': 104857600,\n",
       "  'internalDocumentSourceSetWindowFieldsMaxMemoryBytes': 104857600,\n",
       "  'internalQueryFrameworkControl': 'trySbeRestricted',\n",
       "  'internalQueryPlannerIgnoreIndexWithCollationForRegex': 1},\n",
       " 'ok': 1.0}"
      ]
     },
     "execution_count": 57,
     "metadata": {},
     "output_type": "execute_result"
    }
   ],
   "source": [
    "# This provides output from its query plan detailing how a given query will execute.\n",
    "db.laureates.find(\n",
    "    filter={\"firstname\": \"Marie\"}, projection={\"bornCountry\": 1, \"_id\": 0}\n",
    ").explain()\n",
    "\n",
    "# ...\n",
    "# 'winningPlan': {'stage': 'PROJECTION',\n",
    "# 'transformBy': {'bornCountry': 1, '_id': 0},\n",
    "# 'inputStage': {'stage': 'COLLSCAN',\n",
    "# ..."
   ]
  },
  {
   "cell_type": "code",
   "execution_count": 58,
   "id": "50477eef-00bb-49b7-96d3-f451f69b9ffa",
   "metadata": {},
   "outputs": [
    {
     "data": {
      "text/plain": [
       "{'explainVersion': '1',\n",
       " 'queryPlanner': {'namespace': 'nobel.laureates',\n",
       "  'parsedQuery': {'firstname': {'$eq': 'Marie'}},\n",
       "  'indexFilterSet': False,\n",
       "  'queryHash': '67081E99',\n",
       "  'planCacheKey': '321AB6A0',\n",
       "  'optimizationTimeMillis': 0,\n",
       "  'maxIndexedOrSolutionsReached': False,\n",
       "  'maxIndexedAndSolutionsReached': False,\n",
       "  'maxScansToExplodeReached': False,\n",
       "  'prunedSimilarIndexes': False,\n",
       "  'winningPlan': {'isCached': False,\n",
       "   'stage': 'PROJECTION_COVERED',\n",
       "   'transformBy': {'bornCountry': 1, '_id': 0},\n",
       "   'inputStage': {'stage': 'IXSCAN',\n",
       "    'keyPattern': {'firstname': 1, 'bornCountry': 1},\n",
       "    'indexName': 'firstname_1_bornCountry_1',\n",
       "    'isMultiKey': False,\n",
       "    'multiKeyPaths': {'firstname': [], 'bornCountry': []},\n",
       "    'isUnique': False,\n",
       "    'isSparse': False,\n",
       "    'isPartial': False,\n",
       "    'indexVersion': 2,\n",
       "    'direction': 'forward',\n",
       "    'indexBounds': {'firstname': ['[\"Marie\", \"Marie\"]'],\n",
       "     'bornCountry': ['[MinKey, MaxKey]']}}},\n",
       "  'rejectedPlans': []},\n",
       " 'executionStats': {'executionSuccess': True,\n",
       "  'nReturned': 1,\n",
       "  'executionTimeMillis': 5,\n",
       "  'totalKeysExamined': 1,\n",
       "  'totalDocsExamined': 0,\n",
       "  'executionStages': {'isCached': False,\n",
       "   'stage': 'PROJECTION_COVERED',\n",
       "   'nReturned': 1,\n",
       "   'executionTimeMillisEstimate': 0,\n",
       "   'works': 2,\n",
       "   'advanced': 1,\n",
       "   'needTime': 0,\n",
       "   'needYield': 0,\n",
       "   'saveState': 0,\n",
       "   'restoreState': 0,\n",
       "   'isEOF': 1,\n",
       "   'transformBy': {'bornCountry': 1, '_id': 0},\n",
       "   'inputStage': {'stage': 'IXSCAN',\n",
       "    'nReturned': 1,\n",
       "    'executionTimeMillisEstimate': 0,\n",
       "    'works': 2,\n",
       "    'advanced': 1,\n",
       "    'needTime': 0,\n",
       "    'needYield': 0,\n",
       "    'saveState': 0,\n",
       "    'restoreState': 0,\n",
       "    'isEOF': 1,\n",
       "    'keyPattern': {'firstname': 1, 'bornCountry': 1},\n",
       "    'indexName': 'firstname_1_bornCountry_1',\n",
       "    'isMultiKey': False,\n",
       "    'multiKeyPaths': {'firstname': [], 'bornCountry': []},\n",
       "    'isUnique': False,\n",
       "    'isSparse': False,\n",
       "    'isPartial': False,\n",
       "    'indexVersion': 2,\n",
       "    'direction': 'forward',\n",
       "    'indexBounds': {'firstname': ['[\"Marie\", \"Marie\"]'],\n",
       "     'bornCountry': ['[MinKey, MaxKey]']},\n",
       "    'keysExamined': 1,\n",
       "    'seeks': 1,\n",
       "    'dupsTested': 0,\n",
       "    'dupsDropped': 0}},\n",
       "  'allPlansExecution': []},\n",
       " 'command': {'find': 'laureates',\n",
       "  'filter': {'firstname': 'Marie'},\n",
       "  'projection': {'bornCountry': 1, '_id': 0},\n",
       "  '$db': 'nobel'},\n",
       " 'serverInfo': {'host': 'LPTACRNTR5',\n",
       "  'port': 27017,\n",
       "  'version': '8.0.1',\n",
       "  'gitVersion': 'fcbe67d668fff5a370e2d87b9b1f74bc11bb7b94'},\n",
       " 'serverParameters': {'internalQueryFacetBufferSizeBytes': 104857600,\n",
       "  'internalQueryFacetMaxOutputDocSizeBytes': 104857600,\n",
       "  'internalLookupStageIntermediateDocumentMaxSizeBytes': 104857600,\n",
       "  'internalDocumentSourceGroupMaxMemoryBytes': 104857600,\n",
       "  'internalQueryMaxBlockingSortMemoryUsageBytes': 104857600,\n",
       "  'internalQueryProhibitBlockingMergeOnMongoS': 0,\n",
       "  'internalQueryMaxAddToSetBytes': 104857600,\n",
       "  'internalDocumentSourceSetWindowFieldsMaxMemoryBytes': 104857600,\n",
       "  'internalQueryFrameworkControl': 'trySbeRestricted',\n",
       "  'internalQueryPlannerIgnoreIndexWithCollationForRegex': 1},\n",
       " 'ok': 1.0}"
      ]
     },
     "execution_count": 58,
     "metadata": {},
     "output_type": "execute_result"
    }
   ],
   "source": [
    "db.laureates.create_index([(\"firstname\", 1), (\"bornCountry\", 1)])\n",
    "db.laureates.find({\"firstname\": \"Marie\"}, {\"bornCountry\": 1, \"_id\": 0}).explain()\n",
    "\n",
    "# ...\n",
    "# 'winningPlan': {'stage': 'PROJECTION',\n",
    "# 'transformBy': {'bornCountry': 1, '_id': 0},\n",
    "# 'inputStage': {'stage': 'IXSCAN',\n",
    "# 'keyPattern': {'firstname': 1, 'bornCountry': 1},\n",
    "# 'indexName': 'firstname_1_bornCountry_1',\n",
    "# ..."
   ]
  },
  {
   "cell_type": "markdown",
   "id": "3c969e2b-cc25-499c-82b9-f42c478d356b",
   "metadata": {},
   "source": [
    "### Excercises\n",
    "\n",
    "#### Recently single?"
   ]
  },
  {
   "cell_type": "code",
   "execution_count": 59,
   "id": "2f0713a1-45df-4f5b-a957-98107da8a28b",
   "metadata": {},
   "outputs": [
    {
     "name": "stdout",
     "output_type": "stream",
     "text": [
      "chemistry: 2011\n",
      "economics: 2017\n",
      "literature: 2017\n",
      "medicine: 2016\n",
      "peace: 2017\n",
      "physics: 1992\n",
      "\n"
     ]
    }
   ],
   "source": [
    "# A prize might be awarded to a single laureate or to several. \n",
    "# For each prize category, report the most recent year that \n",
    "# a single laureate -- rather than several -- received a prize \n",
    "# in that category. As part of this task, we will ensure an index \n",
    "# that speeds up finding prizes by category and then sorting \n",
    "# results by decreasing year\n",
    "\n",
    "# Specify an index model for compound sorting\n",
    "index_model = [('category', 1), ('year', -1)]\n",
    "db.prizes.create_index(index_model)\n",
    "\n",
    "# Collect the last single-laureate year for each category\n",
    "report = \"\"\n",
    "for category in sorted(db.prizes.distinct(\"category\")):\n",
    "    doc = db.prizes.find_one(\n",
    "        {'category': category, \"laureates.share\": \"1\"},\n",
    "        sort=[('year', -1)]\n",
    "    )\n",
    "    report += \"{category}: {year}\\n\".format(**doc)\n",
    "print(report)"
   ]
  },
  {
   "cell_type": "markdown",
   "id": "fcd41e0a-67f6-4665-b536-75e59263b6e8",
   "metadata": {},
   "source": [
    "#### Born and affiliated"
   ]
  },
  {
   "cell_type": "code",
   "execution_count": 62,
   "id": "41b5ad63-a02f-43b2-b671-56d5b046e2aa",
   "metadata": {},
   "outputs": [
    {
     "name": "stdout",
     "output_type": "stream",
     "text": [
      "[('USA', 241),\n",
      " ('United Kingdom', 56),\n",
      " ('France', 26),\n",
      " ('Germany', 19),\n",
      " ('Japan', 17)]\n"
     ]
    }
   ],
   "source": [
    "# Some countries are, for one or more laureates, \n",
    "# both their country of birth (\"bornCountry\") and a \n",
    "# country of affiliation for one or more of their prizes \n",
    "# (\"prizes.affiliations.country\"). We will find the five \n",
    "# countries of birth with the highest counts of such laureates.\n",
    "\n",
    "# Ensure an index on country of birth\n",
    "db.laureates.create_index([('bornCountry', 1)])\n",
    "\n",
    "# Collect a count of laureates for each country of birth\n",
    "n_born_and_affiliated = {\n",
    "    country: db.laureates.count_documents({\n",
    "        'bornCountry': country,\n",
    "        \"prizes.affiliations.country\": country\n",
    "    })\n",
    "    for country in db.laureates.distinct(\"bornCountry\")\n",
    "}\n",
    "five_most_common = Counter(n_born_and_affiliated).most_common(5)\n",
    "pprint(five_most_common)"
   ]
  },
  {
   "cell_type": "markdown",
   "id": "dd1f3d80-4c14-411b-8a76-4234ee12c5c7",
   "metadata": {},
   "source": [
    "## 3.4 Limits\n",
    "\n",
    "### Limiting our exploration"
   ]
  },
  {
   "cell_type": "code",
   "execution_count": 66,
   "id": "e5fbaa3a-6e00-4939-967d-725958f31b44",
   "metadata": {},
   "outputs": [],
   "source": [
    "for doc in db.prizes.find({}, [\"laureates.share\"]):\n",
    "    share_is_three = [laureate[\"share\"] == \"3\" \n",
    "                      for laureate in doc[\"laureates\"]]\n",
    "assert all(share_is_three) or not any(share_is_three)"
   ]
  },
  {
   "cell_type": "code",
   "execution_count": 68,
   "id": "361e0a30-f264-45e7-ba80-bf31c774fcaa",
   "metadata": {},
   "outputs": [
    {
     "data": {
      "text/plain": [
       "69"
      ]
     },
     "execution_count": 68,
     "metadata": {},
     "output_type": "execute_result"
    }
   ],
   "source": [
    "docs = list(db.prizes.find({\"laureates.share\": \"3\"}))\n",
    "len(docs)"
   ]
  },
  {
   "cell_type": "code",
   "execution_count": 70,
   "id": "31eaf1a7-38fb-44bb-b620-ec79d18d3a7f",
   "metadata": {},
   "outputs": [
    {
     "name": "stdout",
     "output_type": "stream",
     "text": [
      "2016 chemistry\n",
      "2015 chemistry\n",
      "2014 physics\n"
     ]
    }
   ],
   "source": [
    "# Using limits\n",
    "for doc in db.prizes.find({\"laureates.share\": \"3\"}, limit=3):\n",
    "    print(\"{year} {category}\".format(**doc))"
   ]
  },
  {
   "cell_type": "code",
   "execution_count": 71,
   "id": "15628f30-eec3-42a9-b049-b4e07831277d",
   "metadata": {},
   "outputs": [
    {
     "name": "stdout",
     "output_type": "stream",
     "text": [
      "2016 chemistry\n",
      "2015 chemistry\n",
      "2014 physics\n",
      "2013 chemistry\n",
      "2013 medicine\n"
     ]
    }
   ],
   "source": [
    "for doc in db.prizes.find({\"laureates.share\": \"3\"}, limit=5):\n",
    "    print(\"{year} {category}\".format(**doc))"
   ]
  },
  {
   "cell_type": "code",
   "execution_count": 73,
   "id": "298581a6-dd66-4651-92cc-01c668904305",
   "metadata": {},
   "outputs": [
    {
     "name": "stdout",
     "output_type": "stream",
     "text": [
      "{'_id': ObjectId('6706d88371ea025ecc350d33'),\n",
      " 'category': 'medicine',\n",
      " 'laureates': [{'firstname': 'James E.',\n",
      "                'id': '884',\n",
      "                'motivation': '\"for their discoveries of machinery regulating '\n",
      "                              'vesicle traffic, a major transport system in '\n",
      "                              'our cells\"',\n",
      "                'share': '3',\n",
      "                'surname': 'Rothman'},\n",
      "               {'firstname': 'Randy W.',\n",
      "                'id': '885',\n",
      "                'motivation': '\"for their discoveries of machinery regulating '\n",
      "                              'vesicle traffic, a major transport system in '\n",
      "                              'our cells\"',\n",
      "                'share': '3',\n",
      "                'surname': 'Schekman'},\n",
      "               {'firstname': 'Thomas C.',\n",
      "                'id': '886',\n",
      "                'motivation': '\"for their discoveries of machinery regulating '\n",
      "                              'vesicle traffic, a major transport system in '\n",
      "                              'our cells\"',\n",
      "                'share': '3',\n",
      "                'surname': 'Südhof'}],\n",
      " 'year': '2013'}\n"
     ]
    }
   ],
   "source": [
    "pprint(doc)"
   ]
  },
  {
   "cell_type": "markdown",
   "id": "e2e24786-2230-45d5-84ca-15f3610e9795",
   "metadata": {},
   "source": [
    "### Skips and paging through results"
   ]
  },
  {
   "cell_type": "code",
   "execution_count": 80,
   "id": "bb4d8d00-5c9e-49cf-8edd-b58201ca7876",
   "metadata": {},
   "outputs": [
    {
     "name": "stdout",
     "output_type": "stream",
     "text": [
      "2016 chemistry\n",
      "2015 chemistry\n",
      "2014 physics\n",
      "2013 chemistry\n",
      "2013 medicine\n",
      "2013 economics\n",
      "2011 peace\n",
      "2010 chemistry\n",
      "2008 chemistry\n"
     ]
    }
   ],
   "source": [
    "for doc in db.prizes.find({\"laureates.share\": \"3\"}, limit=9):\n",
    "    print(\"{year} {category}\".format(**doc))"
   ]
  },
  {
   "cell_type": "code",
   "execution_count": 84,
   "id": "ef7875e2-a292-440d-a21a-42f78e06742a",
   "metadata": {},
   "outputs": [
    {
     "name": "stdout",
     "output_type": "stream",
     "text": [
      "Page 1\n",
      "2016 chemistry\n",
      "2015 chemistry\n",
      "2014 physics\n",
      "--------------------\n",
      "Page 2\n",
      "2013 chemistry\n",
      "2013 medicine\n",
      "2013 economics\n",
      "--------------------\n",
      "Page 3\n",
      "2011 peace\n",
      "2010 chemistry\n",
      "2008 chemistry\n",
      "--------------------\n"
     ]
    }
   ],
   "source": [
    "# We can use skip for pagination\n",
    "for page in range(3):\n",
    "    print(\"Page\", page+1)\n",
    "    for doc in db.prizes.find({\"laureates.share\": \"3\"}, skip=3*page, limit=3):\n",
    "        print(\"{year} {category}\".format(**doc))\n",
    "    print(\"--------------------\")"
   ]
  },
  {
   "cell_type": "markdown",
   "id": "3dfaf1ba-1593-4a1c-a961-cc141d8d7d5f",
   "metadata": {},
   "source": [
    "### Using cursor methods for {sort, skip, limit}"
   ]
  },
  {
   "cell_type": "code",
   "execution_count": 89,
   "id": "444accff-b17b-4b24-9ba6-429ef71fda21",
   "metadata": {},
   "outputs": [
    {
     "name": "stdout",
     "output_type": "stream",
     "text": [
      "2016 chemistry\n",
      "2015 chemistry\n",
      "2014 physics\n",
      "2013 chemistry\n",
      "2013 medicine\n",
      "2013 economics\n"
     ]
    }
   ],
   "source": [
    "# No order applied\n",
    "for doc in db.prizes.find({\"laureates.share\": \"3\"}).limit(6):\n",
    "    print(\"{year} {category}\".format(**doc))"
   ]
  },
  {
   "cell_type": "code",
   "execution_count": 90,
   "id": "30739847-d81e-42a7-9baf-3a63f296a3f7",
   "metadata": {},
   "outputs": [
    {
     "name": "stdout",
     "output_type": "stream",
     "text": [
      "2013 chemistry\n",
      "2013 medicine\n",
      "2013 economics\n"
     ]
    }
   ],
   "source": [
    "# No order applied\n",
    "for doc in (db.prizes.find({\"laureates.share\": \"3\"}).skip(3).limit(3)):\n",
    "    print(\"{year} {category}\".format(**doc))"
   ]
  },
  {
   "cell_type": "code",
   "execution_count": 91,
   "id": "8eab46d3-a228-4703-b1f2-7c44d6cffa19",
   "metadata": {},
   "outputs": [
    {
     "name": "stdout",
     "output_type": "stream",
     "text": [
      "1954 medicine\n",
      "1956 physics\n",
      "1956 medicine\n"
     ]
    }
   ],
   "source": [
    "for doc in (db.prizes.find({\"laureates.share\": \"3\"})\n",
    "                     .sort([(\"year\", 1)])\n",
    "                     .skip(3)\n",
    "                     .limit(3)):\n",
    "    print(\"{year} {category}\".format(**doc))"
   ]
  },
  {
   "cell_type": "markdown",
   "id": "0ae8f7d1-5951-4b72-8862-d63b4655d72d",
   "metadata": {},
   "source": [
    "### Simpler sorts of sort"
   ]
  },
  {
   "cell_type": "code",
   "execution_count": 94,
   "id": "f77ec7df-5ed6-428c-9457-fa5041120eff",
   "metadata": {},
   "outputs": [],
   "source": [
    "cursor1 = (db.prizes.find({\"laureates.share\": \"3\"})\n",
    "                    .skip(3)\n",
    "                    .limit(3)\n",
    "                    .sort([(\"year\", 1)])) \n",
    "cursor2 = (db.prizes.find({\"laureates.share\": \"3\"})\n",
    "                    .skip(3)\n",
    "                    .limit(3)\n",
    "                    .sort([(\"year\", 1)])) \n",
    "cursor3 = (db.prizes.find({\"laureates.share\": \"3\"})\n",
    "                    .skip(3)\n",
    "                    .limit(3)\n",
    "                    .sort([(\"year\", 1)])) "
   ]
  },
  {
   "cell_type": "code",
   "execution_count": 95,
   "id": "4c5f6f43-f6a0-4675-9fb1-84df8dbcb8b6",
   "metadata": {},
   "outputs": [
    {
     "name": "stdout",
     "output_type": "stream",
     "text": [
      "1954 medicine\n",
      "1956 physics\n",
      "1956 medicine\n"
     ]
    }
   ],
   "source": [
    "docs = list(cursor1)\n",
    "assert docs == list(cursor2) == list(cursor3)\n",
    "for doc in docs:\n",
    "    print(\"{year} {category}\".format(**doc))"
   ]
  },
  {
   "cell_type": "code",
   "execution_count": 97,
   "id": "792b3570-60c9-4307-a85b-d128a063111f",
   "metadata": {},
   "outputs": [
    {
     "name": "stdout",
     "output_type": "stream",
     "text": [
      "1954 medicine\n"
     ]
    }
   ],
   "source": [
    "doc = db.prizes.find_one({\"laureates.share\": \"3\"}, \n",
    "                         skip=3, \n",
    "                         sort=[(\"year\", 1)])\n",
    "print(\"{year} {category}\".format(**doc))"
   ]
  },
  {
   "cell_type": "markdown",
   "id": "50dc9db9-6151-4c54-bf27-019a081de9fe",
   "metadata": {},
   "source": [
    "### Excercises\n",
    "\n",
    "#### Setting a new limit"
   ]
  },
  {
   "cell_type": "code",
   "execution_count": 99,
   "id": "bd4d4ff7-5386-409a-b926-5d7664446720",
   "metadata": {},
   "outputs": [
    {
     "data": {
      "text/plain": [
       "[{'year': '1969'},\n",
       " {'year': '1970'},\n",
       " {'year': '1971'},\n",
       " {'year': '1972'},\n",
       " {'year': '1973'}]"
      ]
     },
     "execution_count": 99,
     "metadata": {},
     "output_type": "execute_result"
    }
   ],
   "source": [
    "# How many documents does the following expression return?\n",
    "# 5: the second call to limit overrides the first\n",
    "# You can think of the query parameters as being updated like a dictionary in Python\n",
    "list(db.prizes.find(filter={\"category\": \"economics\"}, \n",
    "                    projection={\"year\": 1, \"_id\": 0})\n",
    "       .sort(\"year\")\n",
    "       .limit(3)\n",
    "       .limit(5))"
   ]
  },
  {
   "cell_type": "markdown",
   "id": "36e9327e-f880-41ef-9c81-ff627276d11d",
   "metadata": {},
   "source": [
    "#### The first five prizes with quarter shares"
   ]
  },
  {
   "cell_type": "code",
   "execution_count": 100,
   "id": "c1878afb-15da-4770-9b8e-d2d6a2559adb",
   "metadata": {},
   "outputs": [
    {
     "name": "stdout",
     "output_type": "stream",
     "text": [
      "[{'_id': ObjectId('6706d88371ea025ecc350f15'),\n",
      "  'category': 'physics',\n",
      "  'laureates': [{'motivation': '\"in recognition of the extraordinary services '\n",
      "                               'he has rendered by his discovery of '\n",
      "                               'spontaneous radioactivity\"'},\n",
      "                {'motivation': '\"in recognition of the extraordinary services '\n",
      "                               'they have rendered by their joint researches '\n",
      "                               'on the radiation phenomena discovered by '\n",
      "                               'Professor Henri Becquerel\"'},\n",
      "                {'motivation': '\"in recognition of the extraordinary services '\n",
      "                               'they have rendered by their joint researches '\n",
      "                               'on the radiation phenomena discovered by '\n",
      "                               'Professor Henri Becquerel\"'}],\n",
      "  'year': '1903'},\n",
      " {'_id': ObjectId('6706d88371ea025ecc350ebc'),\n",
      "  'category': 'chemistry',\n",
      "  'laureates': [{'motivation': '\"for his discovery that enzymes can be '\n",
      "                               'crystallized\"'},\n",
      "                {'motivation': '\"for their preparation of enzymes and virus '\n",
      "                               'proteins in a pure form\"'},\n",
      "                {'motivation': '\"for their preparation of enzymes and virus '\n",
      "                               'proteins in a pure form\"'}],\n",
      "  'year': '1946'},\n",
      " {'_id': ObjectId('6706d88371ea025ecc350e95'),\n",
      "  'category': 'medicine',\n",
      "  'laureates': [{'motivation': '\"for their discovery of the course of the '\n",
      "                               'catalytic conversion of glycogen\"'},\n",
      "                {'motivation': '\"for their discovery of the course of the '\n",
      "                               'catalytic conversion of glycogen\"'},\n",
      "                {'motivation': '\"for his discovery of the part played by the '\n",
      "                               'hormone of the anterior pituitary lobe in the '\n",
      "                               'metabolism of sugar\"'}],\n",
      "  'year': '1947'},\n",
      " {'_id': ObjectId('6706d88371ea025ecc350e76'),\n",
      "  'category': 'medicine',\n",
      "  'laureates': [{'motivation': '\"for their discovery that genes act by '\n",
      "                               'regulating definite chemical events\"'},\n",
      "                {'motivation': '\"for their discovery that genes act by '\n",
      "                               'regulating definite chemical events\"'},\n",
      "                {'motivation': '\"for his discoveries concerning genetic '\n",
      "                               'recombination and the organization of the '\n",
      "                               'genetic material of bacteria\"'}],\n",
      "  'year': '1958'},\n",
      " {'_id': ObjectId('6706d88371ea025ecc350e56'),\n",
      "  'category': 'physics',\n",
      "  'laureates': [{'motivation': '\"for his contributions to the theory of the '\n",
      "                               'atomic nucleus and the elementary particles, '\n",
      "                               'particularly through the discovery and '\n",
      "                               'application of fundamental symmetry '\n",
      "                               'principles\"'},\n",
      "                {'motivation': '\"for their discoveries concerning nuclear '\n",
      "                               'shell structure\"'},\n",
      "                {'motivation': '\"for their discoveries concerning nuclear '\n",
      "                               'shell structure\"'}],\n",
      "  'year': '1963'}]\n"
     ]
    }
   ],
   "source": [
    "# Find the first five prizes with one or more laureates \n",
    "# sharing 1/4 of the prize. Project our prize category, \n",
    "# year, and laureates' motivations.\n",
    "\n",
    "filter_ = {'laureates.share': '4'}\n",
    "projection = ['category', 'year', 'laureates.motivation']\n",
    "cursor = db.prizes.find(filter_, projection).sort('year').limit(5)\n",
    "pprint(list(cursor))"
   ]
  },
  {
   "cell_type": "markdown",
   "id": "e36da196-002f-47b6-a3e3-b92df56d0148",
   "metadata": {},
   "source": [
    "#### Pages of particle-prized people"
   ]
  },
  {
   "cell_type": "code",
   "execution_count": 101,
   "id": "cca5e570-47ff-47b4-9197-aacc01736575",
   "metadata": {},
   "outputs": [
    {
     "name": "stdout",
     "output_type": "stream",
     "text": [
      "[{'_id': ObjectId('6706d88371ea025ecc350fcd'),\n",
      "  'firstname': 'Charles Thomson Rees',\n",
      "  'prizes': [{'affiliations': [{'city': 'Cambridge',\n",
      "                                'country': 'United Kingdom',\n",
      "                                'name': 'University of Cambridge'}],\n",
      "              'category': 'physics',\n",
      "              'motivation': '\"for his method of making the paths of '\n",
      "                            'electrically charged particles visible by '\n",
      "                            'condensation of vapour\"',\n",
      "              'share': '2',\n",
      "              'year': '1927'}],\n",
      "  'surname': 'Wilson'},\n",
      " {'_id': ObjectId('6706d88371ea025ecc350fe3'),\n",
      "  'firstname': 'Sir John Douglas',\n",
      "  'prizes': [{'affiliations': [{'city': 'Harwell, Berkshire',\n",
      "                                'country': 'United Kingdom',\n",
      "                                'name': 'Atomic Energy Research '\n",
      "                                        'Establishment'}],\n",
      "              'category': 'physics',\n",
      "              'motivation': '\"for their pioneer work on the transmutation of '\n",
      "                            'atomic nuclei by artificially accelerated atomic '\n",
      "                            'particles\"',\n",
      "              'share': '2',\n",
      "              'year': '1951'}],\n",
      "  'surname': 'Cockcroft'},\n",
      " {'_id': ObjectId('6706d88371ea025ecc350fe4'),\n",
      "  'firstname': 'Ernest Thomas Sinton',\n",
      "  'prizes': [{'affiliations': [{'city': 'Dublin',\n",
      "                                'country': 'Ireland',\n",
      "                                'name': 'Trinity College'}],\n",
      "              'category': 'physics',\n",
      "              'motivation': '\"for their pioneer work on the transmutation of '\n",
      "                            'atomic nuclei by artificially accelerated atomic '\n",
      "                            'particles\"',\n",
      "              'share': '2',\n",
      "              'year': '1951'}],\n",
      "  'surname': 'Walton'}]\n"
     ]
    }
   ],
   "source": [
    "# Create the function get_particle_laureates that, \n",
    "# given page_number and page_size, retrieves a given \n",
    "# page of prize data on laureates who have the word \n",
    "# \"particle\"\n",
    "def get_particle_laureates(page_number=1, page_size=3):\n",
    "    if page_number < 1 or not isinstance(page_number, int):\n",
    "        raise ValueError(\"Pages are natural numbers (starting from 1).\")\n",
    "    particle_laureates = list(\n",
    "        db.laureates.find(\n",
    "            {'prizes.motivation': {'$regex': \"particle\"}},\n",
    "            [\"firstname\", \"surname\", \"prizes\"])\n",
    "        .sort([('prizes.year', 1), ('surname', 1)])\n",
    "        .skip(page_size * (page_number - 1))\n",
    "        .limit(page_size))\n",
    "    return particle_laureates\n",
    "pages = [get_particle_laureates(page_number=page) for page in range(1,9)]\n",
    "pprint(pages[0])"
   ]
  },
  {
   "cell_type": "markdown",
   "id": "7ad85359-4e85-434f-bd26-6dbb549f52b7",
   "metadata": {},
   "source": [
    "------------------------------------"
   ]
  }
 ],
 "metadata": {
  "kernelspec": {
   "display_name": "Python 3 (ipykernel)",
   "language": "python",
   "name": "python3"
  },
  "language_info": {
   "codemirror_mode": {
    "name": "ipython",
    "version": 3
   },
   "file_extension": ".py",
   "mimetype": "text/x-python",
   "name": "python",
   "nbconvert_exporter": "python",
   "pygments_lexer": "ipython3",
   "version": "3.12.7"
  }
 },
 "nbformat": 4,
 "nbformat_minor": 5
}
